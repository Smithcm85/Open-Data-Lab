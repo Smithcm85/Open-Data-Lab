{
 "cells": [
  {
   "cell_type": "markdown",
   "metadata": {},
   "source": [
    "# 1. Setup Spark Context"
   ]
  },
  {
   "cell_type": "code",
   "execution_count": 1,
   "metadata": {},
   "outputs": [],
   "source": [
    "# Loading required libraries\n",
    "\n",
    "from os import listdir\n",
    "from os.path import isfile, join\n",
    "import boto3\n",
    "import pandas as pd\n",
    "from sagemaker import get_execution_role\n",
    "from pyspark.sql.types import LongType, StringType, StructField, StructType, BooleanType, ArrayType, IntegerType"
   ]
  },
  {
   "cell_type": "code",
   "execution_count": 2,
   "metadata": {},
   "outputs": [],
   "source": [
    "# Initialize the spark environment (takes ~ 1min)\n",
    "import pyspark\n",
    "conf = pyspark.SparkConf().setAppName('odl').setMaster('local')\n",
    "sc = pyspark.SparkContext(conf=conf)\n",
    "sqlc = pyspark.sql.SQLContext(sc)"
   ]
  },
  {
   "cell_type": "code",
   "execution_count": 3,
   "metadata": {},
   "outputs": [
    {
     "data": {
      "text/html": [
       "\n",
       "        <div>\n",
       "            <p><b>SparkContext</b></p>\n",
       "\n",
       "            <p><a href=\"http://172.16.95.41:4051\">Spark UI</a></p>\n",
       "\n",
       "            <dl>\n",
       "              <dt>Version</dt>\n",
       "                <dd><code>v2.2.1</code></dd>\n",
       "              <dt>Master</dt>\n",
       "                <dd><code>local</code></dd>\n",
       "              <dt>AppName</dt>\n",
       "                <dd><code>odl</code></dd>\n",
       "            </dl>\n",
       "        </div>\n",
       "        "
      ],
      "text/plain": [
       "<SparkContext master=local appName=odl>"
      ]
     },
     "execution_count": 3,
     "metadata": {},
     "output_type": "execute_result"
    }
   ],
   "source": [
    "sc"
   ]
  },
  {
   "cell_type": "code",
   "execution_count": 4,
   "metadata": {},
   "outputs": [
    {
     "data": {
      "text/plain": [
       "<pyspark.sql.context.SQLContext at 0x7f2e80481eb8>"
      ]
     },
     "execution_count": 4,
     "metadata": {},
     "output_type": "execute_result"
    }
   ],
   "source": [
    "sqlc"
   ]
  },
  {
   "cell_type": "markdown",
   "metadata": {},
   "source": [
    "# 2. Convert Data to Parquet Format"
   ]
  },
  {
   "cell_type": "markdown",
   "metadata": {},
   "source": [
    "### * Method 1 - locally from sagemaker"
   ]
  },
  {
   "cell_type": "code",
   "execution_count": 5,
   "metadata": {},
   "outputs": [],
   "source": [
    "dataPath = \"winedata.csv\"\n",
    "df = sqlc.read.format(\"csv\")\\\n",
    "  .option(\"header\",\"true\")\\\n",
    "  .option(\"inferSchema\", \"true\")\\\n",
    "  .load(dataPath)"
   ]
  },
  {
   "cell_type": "code",
   "execution_count": 6,
   "metadata": {},
   "outputs": [
    {
     "name": "stdout",
     "output_type": "stream",
     "text": [
      "root\n",
      " |-- Alcohol: integer (nullable = true)\n",
      " |-- MalicAcid: double (nullable = true)\n",
      " |-- Ash: double (nullable = true)\n",
      " |-- AlcalinityOfAsh: double (nullable = true)\n",
      " |-- Magnesium: double (nullable = true)\n",
      " |-- TotalPhenols: integer (nullable = true)\n",
      " |-- Flavanoids: double (nullable = true)\n",
      " |-- NonFlavanoidPhenols: double (nullable = true)\n",
      " |-- Proanthocyanins: double (nullable = true)\n",
      " |-- ColorIntensity: double (nullable = true)\n",
      " |-- Hue: double (nullable = true)\n",
      " |-- ODdilutedWines: double (nullable = true)\n",
      " |-- Proline: double (nullable = true)\n",
      "\n"
     ]
    }
   ],
   "source": [
    "df.printSchema()"
   ]
  },
  {
   "cell_type": "code",
   "execution_count": 7,
   "metadata": {},
   "outputs": [],
   "source": [
    "parquetPath = '/home/ec2-user/SageMaker/kd2hr/test-parquet'\n",
    "df.write.parquet(parquetPath)"
   ]
  },
  {
   "cell_type": "code",
   "execution_count": 8,
   "metadata": {},
   "outputs": [
    {
     "data": {
      "text/plain": [
       "DataFrame[Alcohol: int, MalicAcid: double, Ash: double, AlcalinityOfAsh: double, Magnesium: double, TotalPhenols: int, Flavanoids: double, NonFlavanoidPhenols: double, Proanthocyanins: double, ColorIntensity: double, Hue: double, ODdilutedWines: double, Proline: double]"
      ]
     },
     "metadata": {},
     "output_type": "display_data"
    }
   ],
   "source": [
    "# Read from parquet\n",
    "\n",
    "data = sqlc.read.parquet(parquetPath)\n",
    "display(data)"
   ]
  },
  {
   "cell_type": "markdown",
   "metadata": {},
   "source": [
    "### * Method 2 - Read from S3 bucket"
   ]
  },
  {
   "cell_type": "code",
   "execution_count": 9,
   "metadata": {},
   "outputs": [],
   "source": [
    "# Read into spark df from s3\n",
    "role = get_execution_role()\n",
    "bucket='odl-spark19spds6003-001/kd2hr'\n",
    "data_key = 'winedata.csv'\n",
    "data_location = 's3://{}/{}'.format(bucket, data_key)"
   ]
  },
  {
   "cell_type": "code",
   "execution_count": 10,
   "metadata": {},
   "outputs": [],
   "source": [
    "df = sqlc.createDataFrame(pd.read_csv(data_location))"
   ]
  },
  {
   "cell_type": "code",
   "execution_count": 11,
   "metadata": {},
   "outputs": [
    {
     "name": "stdout",
     "output_type": "stream",
     "text": [
      "root\n",
      " |-- Alcohol: long (nullable = true)\n",
      " |-- MalicAcid: double (nullable = true)\n",
      " |-- Ash: double (nullable = true)\n",
      " |-- AlcalinityOfAsh: double (nullable = true)\n",
      " |-- Magnesium: double (nullable = true)\n",
      " |-- TotalPhenols: long (nullable = true)\n",
      " |-- Flavanoids: double (nullable = true)\n",
      " |-- NonFlavanoidPhenols: double (nullable = true)\n",
      " |-- Proanthocyanins: double (nullable = true)\n",
      " |-- ColorIntensity: double (nullable = true)\n",
      " |-- Hue: double (nullable = true)\n",
      " |-- ODdilutedWines: double (nullable = true)\n",
      " |-- Proline: double (nullable = true)\n",
      "\n"
     ]
    }
   ],
   "source": [
    "df.printSchema()"
   ]
  },
  {
   "cell_type": "code",
   "execution_count": 12,
   "metadata": {},
   "outputs": [],
   "source": [
    "parquetPath = '/home/ec2-user/SageMaker/kd2hr/tmp-pqt'\n",
    "df.write.parquet(parquetPath)"
   ]
  },
  {
   "cell_type": "code",
   "execution_count": 13,
   "metadata": {},
   "outputs": [
    {
     "data": {
      "text/plain": [
       "DataFrame[Alcohol: bigint, MalicAcid: double, Ash: double, AlcalinityOfAsh: double, Magnesium: double, TotalPhenols: bigint, Flavanoids: double, NonFlavanoidPhenols: double, Proanthocyanins: double, ColorIntensity: double, Hue: double, ODdilutedWines: double, Proline: double]"
      ]
     },
     "metadata": {},
     "output_type": "display_data"
    }
   ],
   "source": [
    "# Read from parquet\n",
    "\n",
    "data = sqlc.read.parquet(parquetPath)\n",
    "display(data)"
   ]
  },
  {
   "cell_type": "markdown",
   "metadata": {},
   "source": [
    "# 3. MLlib based Analysis"
   ]
  },
  {
   "cell_type": "code",
   "execution_count": 14,
   "metadata": {},
   "outputs": [
    {
     "name": "stdout",
     "output_type": "stream",
     "text": [
      "Pearson's r(ColorIntensity,MalicAcid) = 0.13669791176947926\n",
      "Pearson's r(ColorIntensity,Proline) = 0.519067095682523\n",
      "Pearson's r(ColorIntensity,TotalPhenols) = 0.23644060977750714\n",
      "Pearson's r(Proanthocyanins,ODdilutedWines) = -0.2626396311498339\n"
     ]
    }
   ],
   "source": [
    "print(\"Pearson's r(ColorIntensity,MalicAcid) = {}\".format(df.corr(\"ColorIntensity\", \"MalicAcid\")))\n",
    "print(\"Pearson's r(ColorIntensity,Proline) = {}\".format(df.corr(\"ColorIntensity\", \"Proline\")))\n",
    "print(\"Pearson's r(ColorIntensity,TotalPhenols) = {}\".format(df.corr(\"ColorIntensity\", \"TotalPhenols\")))\n",
    "print(\"Pearson's r(Proanthocyanins,ODdilutedWines) = {}\".format(df.corr(\"Proanthocyanins\", \"ODdilutedWines\")))"
   ]
  },
  {
   "cell_type": "code",
   "execution_count": 15,
   "metadata": {},
   "outputs": [],
   "source": [
    "from pyspark.ml import Pipeline\n",
    "from pyspark.ml.classification import RandomForestClassifier as RF\n",
    "from pyspark.ml.feature import StringIndexer, VectorIndexer, VectorAssembler, SQLTransformer\n",
    "from pyspark.ml.evaluation import MulticlassClassificationEvaluator, BinaryClassificationEvaluator\n",
    "from pyspark.ml.tuning import CrossValidator, ParamGridBuilder\n",
    "import numpy as np\n",
    "import functools\n",
    "from pyspark.ml.feature import OneHotEncoder"
   ]
  },
  {
   "cell_type": "code",
   "execution_count": 16,
   "metadata": {},
   "outputs": [],
   "source": [
    "# prepare labeled sets\n",
    "\n",
    "cols_now = ['MalicAcid',\n",
    "            'Ash',\n",
    "            'AlcalinityOfAsh',\n",
    "            'Magnesium',\n",
    "            'TotalPhenols',\n",
    "            'Flavanoids',\n",
    "            'NonFlavanoidPhenols',\n",
    "            'Proanthocyanins',\n",
    "            'ColorIntensity',\n",
    "            'Hue',\n",
    "            'ODdilutedWines',\n",
    "            'Proline']\n",
    "\n",
    "assembler_features = VectorAssembler(inputCols=cols_now, outputCol='features')\n",
    "labelIndexer = StringIndexer(inputCol='Alcohol', outputCol=\"label\")\n",
    "tmp = [assembler_features, labelIndexer]\n",
    "pipeline = Pipeline(stages=tmp)"
   ]
  },
  {
   "cell_type": "code",
   "execution_count": 17,
   "metadata": {},
   "outputs": [
    {
     "name": "stdout",
     "output_type": "stream",
     "text": [
      "Distribution of Alcohol in trainingData is:  [Row(label=0.0, count=57), Row(label=1.0, count=46), Row(label=2.0, count=41)]\n"
     ]
    }
   ],
   "source": [
    "# create train/test sets\n",
    "\n",
    "allData = pipeline.fit(df).transform(df)\n",
    "allData.cache()\n",
    "trainingData, testData = allData.randomSplit([0.8,0.2], seed=0) # need to ensure same split for each time\n",
    "print(\"Distribution of Alcohol in trainingData is: \", trainingData.groupBy(\"label\").count().take(3))"
   ]
  },
  {
   "cell_type": "code",
   "execution_count": 18,
   "metadata": {},
   "outputs": [],
   "source": [
    "# Training data set\n",
    "\n",
    "rf = RF(labelCol='label', featuresCol='features',numTrees=200)\n",
    "fit = rf.fit(trainingData)\n",
    "\n",
    "# Predicting classes\n",
    "transformed = fit.transform(testData)"
   ]
  },
  {
   "cell_type": "code",
   "execution_count": 45,
   "metadata": {},
   "outputs": [
    {
     "name": "stdout",
     "output_type": "stream",
     "text": [
      "Test Error = 0.0294118\n"
     ]
    }
   ],
   "source": [
    "# Evaluating results\n",
    "\n",
    "from pyspark.ml.evaluation import MulticlassClassificationEvaluator\n",
    "\n",
    "results = transformed.select(['probability', 'label'])\n",
    " \n",
    "# Select (prediction, true label) and compute test error\n",
    "evaluator = MulticlassClassificationEvaluator(\n",
    "    labelCol=\"label\", predictionCol=\"prediction\", metricName=\"accuracy\")\n",
    "accuracy = evaluator.evaluate(transformed)\n",
    "print(\"Test Error = %g\" % (1.0 - accuracy))"
   ]
  },
  {
   "cell_type": "markdown",
   "metadata": {},
   "source": [
    "# 4. Visualizations"
   ]
  },
  {
   "cell_type": "code",
   "execution_count": 46,
   "metadata": {},
   "outputs": [
    {
     "data": {
      "text/plain": [
       "([<matplotlib.axis.XTick at 0x7f2f2dd64588>,\n",
       "  <matplotlib.axis.XTick at 0x7f2f1c72dba8>,\n",
       "  <matplotlib.axis.XTick at 0x7f2f2d13c7f0>],\n",
       " <a list of 3 Text xticklabel objects>)"
      ]
     },
     "execution_count": 46,
     "metadata": {},
     "output_type": "execute_result"
    },
    {
     "data": {
      "image/png": "[encoded data removed]",
      "text/plain": [
       "<Figure size 432x288 with 1 Axes>"
      ]
     },
     "metadata": {},
     "output_type": "display_data"
    }
   ],
   "source": [
    "# Checking if the responses are skewed or not\n",
    "\n",
    "from matplotlib import pyplot as plt\n",
    "%matplotlib inline\n",
    " \n",
    "responses = df.groupBy('Alcohol').count().collect()\n",
    "categories = [i[0] for i in responses]\n",
    "counts = [i[1] for i in responses]\n",
    " \n",
    "index = np.array(range(len(categories)))\n",
    "plt.bar(index, counts, width=0.35, color='r')\n",
    " \n",
    "plt.ylabel('counts')\n",
    "plt.xlabel('Alcohol class')\n",
    "plt.title('Response distribution')\n",
    "plt.xticks(index , categories)"
   ]
  },
  {
   "cell_type": "code",
   "execution_count": 47,
   "metadata": {},
   "outputs": [
    {
     "name": "stderr",
     "output_type": "stream",
     "text": [
      "/home/ec2-user/anaconda3/envs/python3/lib/python3.6/site-packages/matplotlib/axes/_axes.py:6462: UserWarning: The 'normed' kwarg is deprecated, and has been replaced by the 'density' kwarg.\n",
      "  warnings.warn(\"The 'normed' kwarg is deprecated, and has been \"\n"
     ]
    },
    {
     "data": {
      "image/png": "[encoded data removed]",
      "text/plain": [
       "<Figure size 432x288 with 1 Axes>"
      ]
     },
     "metadata": {},
     "output_type": "display_data"
    },
    {
     "data": {
      "image/png": "[encoded data removed]",
      "text/plain": [
       "<Figure size 432x288 with 1 Axes>"
      ]
     },
     "metadata": {},
     "output_type": "display_data"
    },
    {
     "data": {
      "image/png": "[encoded data removed]",
      "text/plain": [
       "<Figure size 432x288 with 1 Axes>"
      ]
     },
     "metadata": {},
     "output_type": "display_data"
    }
   ],
   "source": [
    "# Plotting prediction probabilities for all 3 classes\n",
    "\n",
    "all_probs = transformed.select(\"probability\").collect()\n",
    "alc1_probs = [i[0][0] for i in all_probs]\n",
    "alc2_probs = [i[0][1] for i in all_probs]\n",
    "alc3_probs = [i[0][2] for i in all_probs]\n",
    " \n",
    "from matplotlib import pyplot as plt\n",
    "%matplotlib inline\n",
    " \n",
    "# 1\n",
    "plt.hist(alc1_probs, 50, normed=1, facecolor='green')\n",
    "plt.xlabel('predicted_values')\n",
    "plt.ylabel('Counts')\n",
    "plt.title('Probabilities for Wine Alcohol class 1')\n",
    "plt.grid(True)\n",
    "plt.show()\n",
    " \n",
    "# 2\n",
    "plt.hist(alc2_probs, 50, normed=1, facecolor='blue')\n",
    "plt.xlabel('predicted_values')\n",
    "plt.ylabel('Counts')\n",
    "plt.title('Probabilities for Wine Alcohol class 2')\n",
    "plt.grid(True)\n",
    "plt.show()\n",
    "\n",
    "# 3\n",
    "plt.hist(alc3_probs, 50, normed=1, facecolor='red')\n",
    "plt.xlabel('predicted_values')\n",
    "plt.ylabel('Counts')\n",
    "plt.title('Probabilities for Wine Alcohol class 3')\n",
    "plt.grid(True)\n",
    "plt.show()"
   ]
  }
 ],
 "metadata": {
  "kernelspec": {
   "display_name": "conda_python3",
   "language": "python",
   "name": "conda_python3"
  },
  "language_info": {
   "codemirror_mode": {
    "name": "ipython",
    "version": 3
   },
   "file_extension": ".py",
   "mimetype": "text/x-python",
   "name": "python",
   "nbconvert_exporter": "python",
   "pygments_lexer": "ipython3",
   "version": "3.6.5"
  }
 },
 "nbformat": 4,
 "nbformat_minor": 2
}
