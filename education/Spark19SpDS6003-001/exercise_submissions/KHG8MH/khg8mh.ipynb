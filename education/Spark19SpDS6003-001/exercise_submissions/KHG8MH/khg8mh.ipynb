{
 "cells": [
  {
   "cell_type": "markdown",
   "metadata": {},
   "source": [
    "### Creation of context"
   ]
  },
  {
   "cell_type": "code",
   "execution_count": 1,
   "metadata": {},
   "outputs": [],
   "source": [
    "# Initialize the spark environment\n",
    "import pyspark\n",
    "conf = pyspark.SparkConf().setAppName('odl').setMaster('local')\n",
    "sc = pyspark.SparkContext(conf=conf)\n",
    "sqlc = pyspark.sql.SQLContext(sc)\n",
    "from sagemaker import get_execution_role\n",
    "from pyspark.sql.types import LongType, StringType, StructField, StructType, BooleanType, ArrayType, IntegerType\n",
    "import pandas as pd\n",
    "import matplotlib.pyplot as plt\n",
    "import seaborn as sns"
   ]
  },
  {
   "cell_type": "markdown",
   "metadata": {},
   "source": [
    "### Preparation of data"
   ]
  },
  {
   "cell_type": "code",
   "execution_count": 2,
   "metadata": {},
   "outputs": [],
   "source": [
    "dataPath = \"admissions.csv\"\n",
    "df = sqlc.read.format(\"csv\")\\\n",
    "  .option(\"header\",\"true\")\\\n",
    "  .option(\"inferSchema\", \"true\")\\\n",
    "  .load(dataPath)\n",
    "df = df.withColumnRenamed(\"Serial No.\", \"SerialNumber\")\n",
    "df = df.withColumnRenamed(\"GRE Score\", \"GRE\")\n",
    "df = df.withColumnRenamed(\"TOEFL Score\", \"TOEFL\")\n",
    "df = df.withColumnRenamed(\"University Rating\", \"UniversityRating\")\n",
    "df = df.withColumnRenamed(\"LOR \", \"LOR\")\n",
    "df = df.withColumnRenamed(\"Chance of Admit \", \"ChanceOfAdmit\")"
   ]
  },
  {
   "cell_type": "markdown",
   "metadata": {},
   "source": [
    "Writing data into parquet:"
   ]
  },
  {
   "cell_type": "code",
   "execution_count": 4,
   "metadata": {},
   "outputs": [],
   "source": [
    "parquetPath = '/home/ec2-user/SageMaker/khg8mh/parquet_data'\n",
    "df.write.parquet(parquetPath)"
   ]
  },
  {
   "cell_type": "markdown",
   "metadata": {},
   "source": [
    "Getting data back from parquet:"
   ]
  },
  {
   "cell_type": "code",
   "execution_count": 3,
   "metadata": {},
   "outputs": [],
   "source": [
    "df = sqlc.read.parquet(parquetPath)"
   ]
  },
  {
   "cell_type": "markdown",
   "metadata": {},
   "source": [
    "### MLlib based analysis"
   ]
  },
  {
   "cell_type": "code",
   "execution_count": 4,
   "metadata": {},
   "outputs": [],
   "source": [
    "# Data pre-processing before building a model\n",
    "from pyspark.ml import Pipeline\n",
    "from pyspark.ml.feature import StringIndexer, VectorAssembler\n",
    "\n",
    "assembler = VectorAssembler(inputCols=['GRE','TOEFL','UniversityRating','SOP','LOR','CGPA','Research'], outputCol=\"features\")\n",
    "stages = [assembler]\n",
    "\n",
    "label_stringIdx = StringIndexer(inputCol=\"ChanceOfAdmit\", outputCol=\"label\")\n",
    "stages += [label_stringIdx]\n",
    "\n",
    "partialPipeline = Pipeline().setStages(stages)\n",
    "pipelineModel = partialPipeline.fit(df)\n",
    "preppedDataDF = pipelineModel.transform(df)\n",
    "\n",
    "selectedcols = [\"label\", \"features\"] + df.columns\n",
    "dataset = preppedDataDF.select(selectedcols)"
   ]
  },
  {
   "cell_type": "code",
   "execution_count": 5,
   "metadata": {},
   "outputs": [],
   "source": [
    "# train test split\n",
    "(trainingData, testData) = dataset.randomSplit([0.7, 0.3], seed=100)"
   ]
  },
  {
   "cell_type": "code",
   "execution_count": 21,
   "metadata": {},
   "outputs": [],
   "source": [
    "# Logistic regression\n",
    "from pyspark.ml.classification import LogisticRegression\n",
    "lr = LogisticRegression(labelCol=\"label\", featuresCol=\"features\", maxIter=10)\n",
    "\n",
    "# Train model with Training Data\n",
    "lrModel = lr.fit(trainingData)\n",
    "\n",
    "# Predict on testing data\n",
    "predictions = lrModel.transform(testData)"
   ]
  },
  {
   "cell_type": "code",
   "execution_count": 22,
   "metadata": {},
   "outputs": [
    {
     "data": {
      "text/plain": [
       "0.396551724137931"
      ]
     },
     "execution_count": 22,
     "metadata": {},
     "output_type": "execute_result"
    }
   ],
   "source": [
    "# Calulate area under ROC curve\n",
    "from pyspark.ml.evaluation import BinaryClassificationEvaluator\n",
    "\n",
    "# Evaluate model\n",
    "evaluator = BinaryClassificationEvaluator(rawPredictionCol=\"rawPrediction\")\n",
    "\n",
    "# Area under ROC curve\n",
    "evaluator.evaluate(predictions)"
   ]
  },
  {
   "cell_type": "markdown",
   "metadata": {},
   "source": [
    "### Visualization of results"
   ]
  },
  {
   "cell_type": "code",
   "execution_count": 23,
   "metadata": {},
   "outputs": [
    {
     "name": "stdout",
     "output_type": "stream",
     "text": [
      "+-----+--------------------+------------+---+-----+----------------+---+---+----+--------+-------------+--------------------+--------------------+----------+\n",
      "|label|            features|SerialNumber|GRE|TOEFL|UniversityRating|SOP|LOR|CGPA|Research|ChanceOfAdmit|       rawPrediction|         probability|prediction|\n",
      "+-----+--------------------+------------+---+-----+----------------+---+---+----+--------+-------------+--------------------+--------------------+----------+\n",
      "|  0.0|[303.0,100.0,2.0,...|         353|303|  100|               2|3.0|3.5|8.06|       1|         0.64|[3.30940623913666...|[0.02458952481225...|      10.0|\n",
      "|  0.0|[312.0,98.0,1.0,3...|         294|312|   98|               1|3.5|3.0|8.18|       1|         0.64|[3.76103823058983...|[0.03456527524996...|       1.0|\n",
      "|  0.0|[312.0,105.0,2.0,...|         102|312|  105|               2|2.5|3.0|8.12|       0|         0.64|[4.94235096783516...|[0.09613489056191...|       0.0|\n",
      "|  0.0|[312.0,107.0,3.0,...|          21|312|  107|               3|3.0|2.0| 7.9|       1|         0.64|[3.56547911356027...|[0.02880388171614...|       9.0|\n",
      "|  0.0|[318.0,106.0,2.0,...|          91|318|  106|               2|4.0|4.0|7.92|       1|         0.64|[3.23940068419341...|[0.02023558985572...|      10.0|\n",
      "|  1.0|[305.0,107.0,2.0,...|         182|305|  107|               2|2.5|2.5|8.42|       0|         0.71|[4.79261734108417...|[0.08654033314535...|       0.0|\n",
      "|  1.0|[305.0,112.0,3.0,...|         300|305|  112|               3|3.0|3.5|8.65|       0|         0.71|[3.99113708105326...|[0.04573571968348...|       2.0|\n",
      "|  1.0|[309.0,105.0,5.0,...|         133|309|  105|               5|3.5|3.5|8.56|       0|         0.71|[3.23496171111133...|[0.02088470923739...|       7.0|\n",
      "|  1.0|[313.0,102.0,3.0,...|         266|313|  102|               3|2.5|2.5|8.68|       0|         0.71|[4.59332951309926...|[0.07512074400274...|       0.0|\n",
      "|  1.0|[316.0,100.0,2.0,...|         138|316|  100|               2|1.5|3.0|8.16|       1|         0.71|[4.32180227843999...|[0.05264912265326...|       1.0|\n",
      "|  2.0|[306.0,105.0,2.0,...|         271|306|  105|               2|2.5|3.0|8.22|       1|         0.72|[3.65489906998885...|[0.03213403054845...|       9.0|\n",
      "|  2.0|[309.0,108.0,3.0,...|         179|309|  108|               3|2.5|3.0|8.12|       0|         0.72|[4.52636098633767...|[0.07300457780627...|       0.0|\n",
      "|  2.0|[310.0,103.0,2.0,...|         371|310|  103|               2|2.5|2.5|8.24|       0|         0.72|[4.96450149783134...|[0.09726062308316...|       0.0|\n",
      "|  2.0|[315.0,110.0,2.0,...|         202|315|  110|               2|3.5|3.0|8.46|       1|         0.72|[3.43921863234866...|[0.02427279130116...|       9.0|\n",
      "|  2.0|[316.0,105.0,3.0,...|         247|316|  105|               3|3.0|3.5|8.73|       0|         0.72|[4.25305961699361...|[0.05627139922548...|       1.0|\n",
      "|  2.0|[320.0,110.0,2.0,...|         114|320|  110|               2|4.0|3.5|8.56|       0|         0.72|[4.34820680908624...|[0.05753218883243...|       0.0|\n",
      "|  3.0|[307.0,102.0,3.0,...|         180|307|  102|               3|3.0|3.0|8.27|       0|         0.73|[4.23510652913587...|[0.06005012852220...|       0.0|\n",
      "|  3.0|[312.0,107.0,4.0,...|         335|312|  107|               4|4.5|4.0|8.65|       1|         0.73|[2.02582590482492...|[0.00450006761328...|       4.0|\n",
      "|  3.0|[319.0,105.0,3.0,...|         382|319|  105|               3|3.0|3.5|8.67|       1|         0.73|[3.23993073724815...|[0.01993804755789...|      10.0|\n",
      "|  3.0|[323.0,107.0,3.0,...|         304|323|  107|               3|3.5|3.5|8.55|       1|         0.73|[3.17795388963689...|[0.01816150434213...|      10.0|\n",
      "+-----+--------------------+------------+---+-----+----------------+---+---+----+--------+-------------+--------------------+--------------------+----------+\n",
      "only showing top 20 rows\n",
      "\n"
     ]
    }
   ],
   "source": [
    "predictions.show()"
   ]
  },
  {
   "cell_type": "code",
   "execution_count": 24,
   "metadata": {},
   "outputs": [
    {
     "data": {
      "text/plain": [
       "LogisticRegression_4af0abfdc64f806c933b"
      ]
     },
     "metadata": {},
     "output_type": "display_data"
    },
    {
     "data": {
      "text/plain": [
       "DataFrame[SerialNumber: int, GRE: int, TOEFL: int, UniversityRating: int, SOP: double, LOR: double, CGPA: double, Research: int, ChanceOfAdmit: double, features: vector, label: double]"
      ]
     },
     "metadata": {},
     "output_type": "display_data"
    },
    {
     "data": {
      "text/plain": [
       "'ROC'"
      ]
     },
     "metadata": {},
     "output_type": "display_data"
    }
   ],
   "source": [
    "# dislpay() function doesn't show output in jupyter notebook for some reason\n",
    "display(lrModel, preppedDataDF, 'ROC')"
   ]
  },
  {
   "cell_type": "code",
   "execution_count": 63,
   "metadata": {},
   "outputs": [
    {
     "name": "stderr",
     "output_type": "stream",
     "text": [
      "/home/ec2-user/anaconda3/envs/python3/lib/python3.6/site-packages/matplotlib/axes/_axes.py:6462: UserWarning: The 'normed' kwarg is deprecated, and has been replaced by the 'density' kwarg.\n",
      "  warnings.warn(\"The 'normed' kwarg is deprecated, and has been \"\n"
     ]
    },
    {
     "data": {
      "text/plain": [
       "<matplotlib.axes._subplots.AxesSubplot at 0x7f1787808358>"
      ]
     },
     "execution_count": 63,
     "metadata": {},
     "output_type": "execute_result"
    },
    {
     "data": {
      "image/png": "[encoded data removed]",
      "text/plain": [
       "<Figure size 432x288 with 1 Axes>"
      ]
     },
     "metadata": {},
     "output_type": "display_data"
    }
   ],
   "source": [
    "plot_df = df.toPandas()\n",
    "sns.distplot(plot_df.ChanceOfAdmit)"
   ]
  }
 ],
 "metadata": {
  "kernelspec": {
   "display_name": "conda_python3",
   "language": "python",
   "name": "conda_python3"
  },
  "language_info": {
   "codemirror_mode": {
    "name": "ipython",
    "version": 3
   },
   "file_extension": ".py",
   "mimetype": "text/x-python",
   "name": "python",
   "nbconvert_exporter": "python",
   "pygments_lexer": "ipython3",
   "version": "3.6.5"
  }
 },
 "nbformat": 4,
 "nbformat_minor": 2
}
