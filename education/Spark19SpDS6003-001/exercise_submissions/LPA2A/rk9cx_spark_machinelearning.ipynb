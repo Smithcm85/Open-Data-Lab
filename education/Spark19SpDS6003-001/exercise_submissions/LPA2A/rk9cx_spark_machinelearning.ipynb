{
 "cells": [
  {
   "cell_type": "markdown",
   "metadata": {},
   "source": [
    "### Name - Rakesh Ravi K U\n",
    "### Computing ID - rk9cx\n",
    "### PySpark Machine Learning Assignment 1"
   ]
  },
  {
   "cell_type": "code",
   "execution_count": 1,
   "metadata": {},
   "outputs": [],
   "source": [
    "import pyspark\n",
    "from os import listdir\n",
    "from os.path import isfile, join\n",
    "import boto3\n",
    "import pandas as pd\n",
    "from sagemaker import get_execution_role\n",
    "from pyspark.sql.types import LongType, StringType, StructField, StructType, BooleanType, ArrayType, IntegerType"
   ]
  },
  {
   "cell_type": "markdown",
   "metadata": {},
   "source": [
    "## Initializing Environment"
   ]
  },
  {
   "cell_type": "code",
   "execution_count": 2,
   "metadata": {},
   "outputs": [
    {
     "data": {
      "text/html": [
       "\n",
       "        <div>\n",
       "            <p><b>SparkContext</b></p>\n",
       "\n",
       "            <p><a href=\"http://172.16.95.41:4052\">Spark UI</a></p>\n",
       "\n",
       "            <dl>\n",
       "              <dt>Version</dt>\n",
       "                <dd><code>v2.2.1</code></dd>\n",
       "              <dt>Master</dt>\n",
       "                <dd><code>local</code></dd>\n",
       "              <dt>AppName</dt>\n",
       "                <dd><code>odl</code></dd>\n",
       "            </dl>\n",
       "        </div>\n",
       "        "
      ],
      "text/plain": [
       "<SparkContext master=local appName=odl>"
      ]
     },
     "execution_count": 2,
     "metadata": {},
     "output_type": "execute_result"
    }
   ],
   "source": [
    "conf = pyspark.SparkConf().setAppName('odl').setMaster('local')\n",
    "sc = pyspark.SparkContext(conf=conf)\n",
    "sqlc = pyspark.sql.SQLContext(sc)\n",
    "sc"
   ]
  },
  {
   "cell_type": "code",
   "execution_count": 3,
   "metadata": {
    "scrolled": true
   },
   "outputs": [
    {
     "data": {
      "text/plain": [
       "<pyspark.sql.context.SQLContext at 0x7fd99f0c2dd8>"
      ]
     },
     "execution_count": 3,
     "metadata": {},
     "output_type": "execute_result"
    }
   ],
   "source": [
    "sqlc"
   ]
  },
  {
   "cell_type": "markdown",
   "metadata": {},
   "source": [
    "## Reading Files"
   ]
  },
  {
   "cell_type": "code",
   "execution_count": 4,
   "metadata": {},
   "outputs": [],
   "source": [
    "import pandas as pd\n",
    "import chardet\n",
    "with open('data.csv', 'rb') as f:\n",
    "    result = chardet.detect(f.read())"
   ]
  },
  {
   "cell_type": "code",
   "execution_count": 5,
   "metadata": {},
   "outputs": [
    {
     "data": {
      "text/html": [
       "<div>\n",
       "<style scoped>\n",
       "    .dataframe tbody tr th:only-of-type {\n",
       "        vertical-align: middle;\n",
       "    }\n",
       "\n",
       "    .dataframe tbody tr th {\n",
       "        vertical-align: top;\n",
       "    }\n",
       "\n",
       "    .dataframe thead th {\n",
       "        text-align: right;\n",
       "    }\n",
       "</style>\n",
       "<table border=\"1\" class=\"dataframe\">\n",
       "  <thead>\n",
       "    <tr style=\"text-align: right;\">\n",
       "      <th></th>\n",
       "      <th>D</th>\n",
       "      <th>X1</th>\n",
       "      <th>X2</th>\n",
       "      <th>X3</th>\n",
       "      <th>X4</th>\n",
       "      <th>X5</th>\n",
       "      <th>X6</th>\n",
       "    </tr>\n",
       "  </thead>\n",
       "  <tbody>\n",
       "    <tr>\n",
       "      <th>0</th>\n",
       "      <td>0</td>\n",
       "      <td>3</td>\n",
       "      <td>3</td>\n",
       "      <td>3</td>\n",
       "      <td>4</td>\n",
       "      <td>2</td>\n",
       "      <td>4</td>\n",
       "    </tr>\n",
       "    <tr>\n",
       "      <th>1</th>\n",
       "      <td>0</td>\n",
       "      <td>3</td>\n",
       "      <td>2</td>\n",
       "      <td>3</td>\n",
       "      <td>5</td>\n",
       "      <td>4</td>\n",
       "      <td>3</td>\n",
       "    </tr>\n",
       "    <tr>\n",
       "      <th>2</th>\n",
       "      <td>1</td>\n",
       "      <td>5</td>\n",
       "      <td>3</td>\n",
       "      <td>3</td>\n",
       "      <td>3</td>\n",
       "      <td>3</td>\n",
       "      <td>5</td>\n",
       "    </tr>\n",
       "    <tr>\n",
       "      <th>3</th>\n",
       "      <td>0</td>\n",
       "      <td>5</td>\n",
       "      <td>4</td>\n",
       "      <td>3</td>\n",
       "      <td>3</td>\n",
       "      <td>3</td>\n",
       "      <td>5</td>\n",
       "    </tr>\n",
       "    <tr>\n",
       "      <th>4</th>\n",
       "      <td>0</td>\n",
       "      <td>5</td>\n",
       "      <td>4</td>\n",
       "      <td>3</td>\n",
       "      <td>3</td>\n",
       "      <td>3</td>\n",
       "      <td>5</td>\n",
       "    </tr>\n",
       "  </tbody>\n",
       "</table>\n",
       "</div>"
      ],
      "text/plain": [
       "   D  X1  X2  X3  X4  X5  X6\n",
       "0  0   3   3   3   4   2   4\n",
       "1  0   3   2   3   5   4   3\n",
       "2  1   5   3   3   3   3   5\n",
       "3  0   5   4   3   3   3   5\n",
       "4  0   5   4   3   3   3   5"
      ]
     },
     "execution_count": 5,
     "metadata": {},
     "output_type": "execute_result"
    }
   ],
   "source": [
    "#reading dataframe\n",
    "role = get_execution_role()\n",
    "path='/home/ec2-user/SageMaker/rk9cx/data.csv'\n",
    "pddf = pd.read_csv(path, encoding=result['encoding'])\n",
    "pddf.dropna(inplace=True)\n",
    "pddf.head()"
   ]
  },
  {
   "cell_type": "code",
   "execution_count": 6,
   "metadata": {},
   "outputs": [
    {
     "data": {
      "text/html": [
       "<div>\n",
       "<style scoped>\n",
       "    .dataframe tbody tr th:only-of-type {\n",
       "        vertical-align: middle;\n",
       "    }\n",
       "\n",
       "    .dataframe tbody tr th {\n",
       "        vertical-align: top;\n",
       "    }\n",
       "\n",
       "    .dataframe thead th {\n",
       "        text-align: right;\n",
       "    }\n",
       "</style>\n",
       "<table border=\"1\" class=\"dataframe\">\n",
       "  <thead>\n",
       "    <tr style=\"text-align: right;\">\n",
       "      <th></th>\n",
       "      <th>Decision</th>\n",
       "      <th>city_services</th>\n",
       "      <th>housing_cost</th>\n",
       "      <th>school_quality</th>\n",
       "      <th>trust_in_police</th>\n",
       "      <th>maintenance</th>\n",
       "      <th>community_events</th>\n",
       "    </tr>\n",
       "  </thead>\n",
       "  <tbody>\n",
       "    <tr>\n",
       "      <th>0</th>\n",
       "      <td>0</td>\n",
       "      <td>3</td>\n",
       "      <td>3</td>\n",
       "      <td>3</td>\n",
       "      <td>4</td>\n",
       "      <td>2</td>\n",
       "      <td>4</td>\n",
       "    </tr>\n",
       "    <tr>\n",
       "      <th>1</th>\n",
       "      <td>0</td>\n",
       "      <td>3</td>\n",
       "      <td>2</td>\n",
       "      <td>3</td>\n",
       "      <td>5</td>\n",
       "      <td>4</td>\n",
       "      <td>3</td>\n",
       "    </tr>\n",
       "    <tr>\n",
       "      <th>2</th>\n",
       "      <td>1</td>\n",
       "      <td>5</td>\n",
       "      <td>3</td>\n",
       "      <td>3</td>\n",
       "      <td>3</td>\n",
       "      <td>3</td>\n",
       "      <td>5</td>\n",
       "    </tr>\n",
       "    <tr>\n",
       "      <th>3</th>\n",
       "      <td>0</td>\n",
       "      <td>5</td>\n",
       "      <td>4</td>\n",
       "      <td>3</td>\n",
       "      <td>3</td>\n",
       "      <td>3</td>\n",
       "      <td>5</td>\n",
       "    </tr>\n",
       "    <tr>\n",
       "      <th>4</th>\n",
       "      <td>0</td>\n",
       "      <td>5</td>\n",
       "      <td>4</td>\n",
       "      <td>3</td>\n",
       "      <td>3</td>\n",
       "      <td>3</td>\n",
       "      <td>5</td>\n",
       "    </tr>\n",
       "  </tbody>\n",
       "</table>\n",
       "</div>"
      ],
      "text/plain": [
       "   Decision  city_services  housing_cost  school_quality  trust_in_police  \\\n",
       "0         0              3             3               3                4   \n",
       "1         0              3             2               3                5   \n",
       "2         1              5             3               3                3   \n",
       "3         0              5             4               3                3   \n",
       "4         0              5             4               3                3   \n",
       "\n",
       "   maintenance  community_events  \n",
       "0            2                 4  \n",
       "1            4                 3  \n",
       "2            3                 5  \n",
       "3            3                 5  \n",
       "4            3                 5  "
      ]
     },
     "execution_count": 6,
     "metadata": {},
     "output_type": "execute_result"
    }
   ],
   "source": [
    "pddf.columns = [\"Decision\",\"city_services\",\"housing_cost\",\"school_quality\",\"trust_in_police\",\n",
    "                \"maintenance\",\"community_events\"]\n",
    "pddf.head()"
   ]
  },
  {
   "cell_type": "code",
   "execution_count": 7,
   "metadata": {},
   "outputs": [
    {
     "data": {
      "text/plain": [
       "DataFrame[Decision: bigint, city_services: bigint, housing_cost: bigint, school_quality: bigint, trust_in_police: bigint, maintenance: bigint, community_events: bigint]"
      ]
     },
     "execution_count": 7,
     "metadata": {},
     "output_type": "execute_result"
    }
   ],
   "source": [
    "#creating spark dataframe\n",
    "df = sqlc.createDataFrame(pddf)\n",
    "df"
   ]
  },
  {
   "cell_type": "code",
   "execution_count": null,
   "metadata": {},
   "outputs": [],
   "source": [
    "# Write parquet to temporary location\n",
    "parquetPath = '/home/ec2-user/SageMaker/rk9cx/temp-prqt'\n",
    "df.write.parquet(parquetPath)"
   ]
  },
  {
   "cell_type": "code",
   "execution_count": 9,
   "metadata": {},
   "outputs": [
    {
     "data": {
      "text/plain": [
       "DataFrame[Decision: bigint, city_services: bigint, housing_cost: bigint, school_quality: bigint, trust_in_police: bigint, maintenance: bigint, community_events: bigint]"
      ]
     },
     "execution_count": 9,
     "metadata": {},
     "output_type": "execute_result"
    }
   ],
   "source": [
    "# Reading Parquet file back in\n",
    "df2 = sqlc.read.parquet(parquetPath)\n",
    "df2"
   ]
  },
  {
   "cell_type": "code",
   "execution_count": 10,
   "metadata": {},
   "outputs": [
    {
     "name": "stdout",
     "output_type": "stream",
     "text": [
      "root\n",
      " |-- Decision: long (nullable = true)\n",
      " |-- city_services: long (nullable = true)\n",
      " |-- housing_cost: long (nullable = true)\n",
      " |-- school_quality: long (nullable = true)\n",
      " |-- trust_in_police: long (nullable = true)\n",
      " |-- maintenance: long (nullable = true)\n",
      " |-- community_events: long (nullable = true)\n",
      "\n"
     ]
    }
   ],
   "source": [
    "#printing Schema\n",
    "df2.printSchema()"
   ]
  },
  {
   "cell_type": "code",
   "execution_count": 11,
   "metadata": {},
   "outputs": [
    {
     "data": {
      "text/plain": [
       "[Row(Decision=0, city_services=3, housing_cost=3, school_quality=3, trust_in_police=4, maintenance=2, community_events=4),\n",
       " Row(Decision=0, city_services=3, housing_cost=2, school_quality=3, trust_in_police=5, maintenance=4, community_events=3),\n",
       " Row(Decision=1, city_services=5, housing_cost=3, school_quality=3, trust_in_police=3, maintenance=3, community_events=5),\n",
       " Row(Decision=0, city_services=5, housing_cost=4, school_quality=3, trust_in_police=3, maintenance=3, community_events=5),\n",
       " Row(Decision=0, city_services=5, housing_cost=4, school_quality=3, trust_in_police=3, maintenance=3, community_events=5)]"
      ]
     },
     "execution_count": 11,
     "metadata": {},
     "output_type": "execute_result"
    }
   ],
   "source": [
    "# First five rows\n",
    "df2.take(5)"
   ]
  },
  {
   "cell_type": "markdown",
   "metadata": {},
   "source": [
    "## Exploratory Data Analysis"
   ]
  },
  {
   "cell_type": "code",
   "execution_count": 12,
   "metadata": {},
   "outputs": [
    {
     "name": "stdout",
     "output_type": "stream",
     "text": [
      "Pearson's r(Decision,city_services) = 0.3127395156019425\n",
      "Pearson's r(Decision,housing_cost) = 0.019368282262486183\n",
      "Pearson's r(Decision,school_quality) = 0.16363887368660246\n",
      "Pearson's r(Decision,trust_in_police) = 0.11335631885726657\n",
      "Pearson's r(Decision,maintenance) = 0.20668503239755812\n",
      "Pearson's r(Decision,community_events) = 0.22072863286213648\n"
     ]
    }
   ],
   "source": [
    "print(\"Pearson's r(Decision,city_services) = {}\".format(df2.corr(\"Decision\", \"city_services\")))\n",
    "print(\"Pearson's r(Decision,housing_cost) = {}\".format(df2.corr(\"Decision\", \"housing_cost\")))\n",
    "print(\"Pearson's r(Decision,school_quality) = {}\".format(df2.corr(\"Decision\", \"school_quality\")))\n",
    "print(\"Pearson's r(Decision,trust_in_police) = {}\".format(df2.corr(\"Decision\", \"trust_in_police\")))\n",
    "print(\"Pearson's r(Decision,maintenance) = {}\".format(df2.corr(\"Decision\", \"maintenance\")))\n",
    "print(\"Pearson's r(Decision,community_events) = {}\".format(df2.corr(\"Decision\", \"community_events\")))"
   ]
  },
  {
   "cell_type": "markdown",
   "metadata": {},
   "source": [
    "## Train-Test Splitting"
   ]
  },
  {
   "cell_type": "code",
   "execution_count": 13,
   "metadata": {},
   "outputs": [
    {
     "name": "stdout",
     "output_type": "stream",
     "text": [
      "training set N = 112, test set N = 31\n"
     ]
    }
   ],
   "source": [
    "# create train/test sets\n",
    "seed = 42\n",
    "(testDF, trainingDF) = df2.randomSplit((0.20, 0.80), seed=seed)\n",
    "print ('training set N = {}, test set N = {}'.format(trainingDF.count(),testDF.count()))"
   ]
  },
  {
   "cell_type": "markdown",
   "metadata": {},
   "source": [
    "## Vectorizing"
   ]
  },
  {
   "cell_type": "code",
   "execution_count": 15,
   "metadata": {},
   "outputs": [],
   "source": [
    "from pyspark.ml.linalg import Vectors, VectorUDT # nb: bad form, done for pedagogy"
   ]
  },
  {
   "cell_type": "code",
   "execution_count": 15,
   "metadata": {},
   "outputs": [
    {
     "name": "stdout",
     "output_type": "stream",
     "text": [
      "DataFrame[Decision: bigint, school_quality: vector]\n"
     ]
    }
   ],
   "source": [
    "from pyspark.ml.linalg import Vectors, VectorUDT\n",
    "\n",
    "# make a user defined function (udf)\n",
    "sqlc.registerFunction(\"oneElementVec\", lambda d: Vectors.dense([d]), returnType=VectorUDT())\n",
    "\n",
    "# vectorize the data frames\n",
    "trainingDF = trainingDF.selectExpr(\"Decision\", \"oneElementVec(school_quality) as school_quality\")\n",
    "testDF = testDF.selectExpr(\"Decision\", \"oneElementVec(school_quality) as school_quality\")\n",
    "\n",
    "print(trainingDF.orderBy(trainingDF.school_quality.desc()).limit(5))"
   ]
  },
  {
   "cell_type": "code",
   "execution_count": 16,
   "metadata": {},
   "outputs": [],
   "source": [
    "# Renaming columns for happiness\n",
    "trainingDF = trainingDF.withColumnRenamed(\"Decision\", \"label\").withColumnRenamed(\"school_quality\", \"features\")\n",
    "testDF = testDF.withColumnRenamed(\"Decision\", \"label\").withColumnRenamed(\"school_quality\", \"features\")"
   ]
  },
  {
   "cell_type": "markdown",
   "metadata": {},
   "source": [
    "## Modelling : Logistic Regression"
   ]
  },
  {
   "cell_type": "code",
   "execution_count": null,
   "metadata": {},
   "outputs": [],
   "source": [
    "from pyspark.ml.regression import LinearRegression, LinearRegressionModel\n",
    "\n",
    "lr = LinearRegression()\n",
    "lrModel = lr.fit(trainingDF)"
   ]
  },
  {
   "cell_type": "code",
   "execution_count": 17,
   "metadata": {},
   "outputs": [],
   "source": [
    "from pyspark.ml.classification import *\n",
    "\n",
    "lr = LogisticRegression()\n",
    "lrModel = lr.fit(trainingDF)"
   ]
  },
  {
   "cell_type": "code",
   "execution_count": 18,
   "metadata": {},
   "outputs": [
    {
     "data": {
      "text/plain": [
       "pyspark.ml.classification.LogisticRegressionModel"
      ]
     },
     "execution_count": 18,
     "metadata": {},
     "output_type": "execute_result"
    }
   ],
   "source": [
    "type(lrModel)"
   ]
  },
  {
   "cell_type": "code",
   "execution_count": 19,
   "metadata": {
    "scrolled": true
   },
   "outputs": [
    {
     "name": "stdout",
     "output_type": "stream",
     "text": [
      "[Row(label=1, features=DenseVector([3.0]), rawPrediction=DenseVector([-0.1699, 0.1699]), probability=DenseVector([0.4576, 0.5424]), prediction=1.0), Row(label=1, features=DenseVector([3.0]), rawPrediction=DenseVector([-0.1699, 0.1699]), probability=DenseVector([0.4576, 0.5424]), prediction=1.0), Row(label=1, features=DenseVector([2.0]), rawPrediction=DenseVector([0.1565, -0.1565]), probability=DenseVector([0.539, 0.461]), prediction=0.0), Row(label=1, features=DenseVector([3.0]), rawPrediction=DenseVector([-0.1699, 0.1699]), probability=DenseVector([0.4576, 0.5424]), prediction=1.0), Row(label=1, features=DenseVector([3.0]), rawPrediction=DenseVector([-0.1699, 0.1699]), probability=DenseVector([0.4576, 0.5424]), prediction=1.0)]\n"
     ]
    }
   ],
   "source": [
    "predictionsAndLabelsDF = lrModel.transform(testDF)\n",
    "\n",
    "print(predictionsAndLabelsDF.orderBy(predictionsAndLabelsDF.label.desc()).take(5))"
   ]
  },
  {
   "cell_type": "markdown",
   "metadata": {},
   "source": [
    "## Modelling Evaluation"
   ]
  },
  {
   "cell_type": "code",
   "execution_count": 20,
   "metadata": {},
   "outputs": [
    {
     "name": "stdout",
     "output_type": "stream",
     "text": [
      "labelCol: label column name. (default: label)\n",
      "metricName: metric name in evaluation (areaUnderROC|areaUnderPR) (default: areaUnderROC)\n",
      "rawPredictionCol: raw prediction (a.k.a. confidence) column name. (default: rawPrediction)\n"
     ]
    }
   ],
   "source": [
    "from pyspark.ml.evaluation import BinaryClassificationEvaluator\n",
    "eval = BinaryClassificationEvaluator()\n",
    "print(eval.explainParams())"
   ]
  },
  {
   "cell_type": "code",
   "execution_count": 21,
   "metadata": {},
   "outputs": [
    {
     "data": {
      "text/plain": [
       "0.6050420168067225"
      ]
     },
     "execution_count": 21,
     "metadata": {},
     "output_type": "execute_result"
    }
   ],
   "source": [
    "eval.setMetricName(\"areaUnderROC\").evaluate(predictionsAndLabelsDF)"
   ]
  },
  {
   "cell_type": "code",
   "execution_count": 22,
   "metadata": {
    "scrolled": true
   },
   "outputs": [
    {
     "data": {
      "text/plain": [
       "0.5807928630509275"
      ]
     },
     "execution_count": 22,
     "metadata": {},
     "output_type": "execute_result"
    }
   ],
   "source": [
    "eval.setMetricName(\"areaUnderPR\").evaluate(predictionsAndLabelsDF)"
   ]
  },
  {
   "cell_type": "markdown",
   "metadata": {},
   "source": [
    "## Visualization - ROC Curve"
   ]
  },
  {
   "cell_type": "code",
   "execution_count": 24,
   "metadata": {},
   "outputs": [
    {
     "data": {
      "image/png": "[encoded data removed]",
      "text/plain": [
       "<Figure size 360x360 with 1 Axes>"
      ]
     },
     "metadata": {},
     "output_type": "display_data"
    }
   ],
   "source": [
    "import matplotlib.pyplot as plt\n",
    "plt.figure(figsize=(5,5))\n",
    "plt.plot([0, 1], [0, 1], 'r--')\n",
    "plt.plot(lrModel.summary.roc.select('FPR').collect(),\n",
    "         lrModel.summary.roc.select('TPR').collect())\n",
    "plt.xlabel('FPR')\n",
    "plt.ylabel('TPR')\n",
    "plt.show()"
   ]
  },
  {
   "cell_type": "code",
   "execution_count": null,
   "metadata": {},
   "outputs": [],
   "source": []
  }
 ],
 "metadata": {
  "kernelspec": {
   "display_name": "conda_python3",
   "language": "python",
   "name": "conda_python3"
  },
  "language_info": {
   "codemirror_mode": {
    "name": "ipython",
    "version": 3
   },
   "file_extension": ".py",
   "mimetype": "text/x-python",
   "name": "python",
   "nbconvert_exporter": "python",
   "pygments_lexer": "ipython3",
   "version": "3.6.5"
  }
 },
 "nbformat": 4,
 "nbformat_minor": 2
}
