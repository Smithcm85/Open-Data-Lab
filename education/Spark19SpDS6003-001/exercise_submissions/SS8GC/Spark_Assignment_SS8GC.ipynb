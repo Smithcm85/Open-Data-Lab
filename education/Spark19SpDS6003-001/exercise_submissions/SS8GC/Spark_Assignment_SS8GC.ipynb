{
 "cells": [
  {
   "cell_type": "markdown",
   "metadata": {},
   "source": [
    "# Assignment - SS8GC\n",
    "\n",
    "## 1. Creation of context"
   ]
  },
  {
   "cell_type": "code",
   "execution_count": 1,
   "metadata": {},
   "outputs": [],
   "source": [
    "import pyspark\n",
    "from os import listdir\n",
    "from os.path import isfile, join\n",
    "import pandas as pd\n",
    "from pyspark.sql.types import LongType, StringType, StructField, StructType, BooleanType, ArrayType, IntegerType\n",
    "from pyspark.ml.classification import RandomForestClassifier, LogisticRegression\n",
    "from pyspark.ml.feature import VectorAssembler\n",
    "\n",
    "from pyspark.mllib.evaluation import BinaryClassificationMetrics as metric\n",
    "from sklearn.metrics import roc_curve, auc\n",
    "import matplotlib.pyplot as plt"
   ]
  },
  {
   "cell_type": "markdown",
   "metadata": {},
   "source": [
    "### Initialize the spark environment"
   ]
  },
  {
   "cell_type": "code",
   "execution_count": 2,
   "metadata": {},
   "outputs": [
    {
     "data": {
      "text/html": [
       "\n",
       "        <div>\n",
       "            <p><b>SparkContext</b></p>\n",
       "\n",
       "            <p><a href=\"http://172.16.95.41:4043\">Spark UI</a></p>\n",
       "\n",
       "            <dl>\n",
       "              <dt>Version</dt>\n",
       "                <dd><code>v2.2.1</code></dd>\n",
       "              <dt>Master</dt>\n",
       "                <dd><code>local</code></dd>\n",
       "              <dt>AppName</dt>\n",
       "                <dd><code>odl</code></dd>\n",
       "            </dl>\n",
       "        </div>\n",
       "        "
      ],
      "text/plain": [
       "<SparkContext master=local appName=odl>"
      ]
     },
     "execution_count": 2,
     "metadata": {},
     "output_type": "execute_result"
    }
   ],
   "source": [
    "conf = pyspark.SparkConf().setAppName('odl').setMaster('local')\n",
    "sc = pyspark.SparkContext(conf=conf)\n",
    "sqlc = pyspark.sql.SQLContext(sc)\n",
    "sc"
   ]
  },
  {
   "cell_type": "code",
   "execution_count": 3,
   "metadata": {},
   "outputs": [
    {
     "data": {
      "text/plain": [
       "<pyspark.sql.context.SQLContext at 0x7f076e81fba8>"
      ]
     },
     "execution_count": 3,
     "metadata": {},
     "output_type": "execute_result"
    }
   ],
   "source": [
    "sqlc"
   ]
  },
  {
   "cell_type": "markdown",
   "metadata": {},
   "source": [
    "### Read data"
   ]
  },
  {
   "cell_type": "code",
   "execution_count": 4,
   "metadata": {},
   "outputs": [],
   "source": [
    "dataPath = \"db.csv\"\n",
    "df = sqlc.read.format(\"csv\")\\\n",
    "  .option(\"header\",\"true\")\\\n",
    "  .option(\"inferSchema\", \"true\")\\\n",
    "  .load(dataPath)"
   ]
  },
  {
   "cell_type": "markdown",
   "metadata": {},
   "source": [
    "## 2. Preparation of data (get it into parquet)\n",
    "\n",
    "### Write parquet"
   ]
  },
  {
   "cell_type": "code",
   "execution_count": 5,
   "metadata": {},
   "outputs": [],
   "source": [
    "parquetPath = '/home/ec2-user/SageMaker/ss8gc/pqt'"
   ]
  },
  {
   "cell_type": "code",
   "execution_count": null,
   "metadata": {},
   "outputs": [],
   "source": [
    "df.write.parquet(parquetPath)"
   ]
  },
  {
   "cell_type": "markdown",
   "metadata": {},
   "source": [
    "### Write to spark dataframe from parquet"
   ]
  },
  {
   "cell_type": "code",
   "execution_count": 6,
   "metadata": {},
   "outputs": [
    {
     "data": {
      "text/plain": [
       "DataFrame[F1: double, F2: double, F3: double, F4: double, target: int]"
      ]
     },
     "metadata": {},
     "output_type": "display_data"
    }
   ],
   "source": [
    "df = sqlc.read.parquet(parquetPath)\n",
    "display(df)"
   ]
  },
  {
   "cell_type": "code",
   "execution_count": 7,
   "metadata": {},
   "outputs": [
    {
     "name": "stdout",
     "output_type": "stream",
     "text": [
      "root\n",
      " |-- F1: double (nullable = true)\n",
      " |-- F2: double (nullable = true)\n",
      " |-- F3: double (nullable = true)\n",
      " |-- F4: double (nullable = true)\n",
      " |-- target: integer (nullable = true)\n",
      "\n"
     ]
    }
   ],
   "source": [
    "df.printSchema()"
   ]
  },
  {
   "cell_type": "code",
   "execution_count": 8,
   "metadata": {},
   "outputs": [
    {
     "data": {
      "text/plain": [
       "[Row(F1=5.1, F2=3.5, F3=1.4, F4=0.2, target=0),\n",
       " Row(F1=4.9, F2=3.0, F3=1.4, F4=0.2, target=0),\n",
       " Row(F1=4.7, F2=3.2, F3=1.3, F4=0.2, target=0),\n",
       " Row(F1=4.6, F2=3.1, F3=1.5, F4=0.2, target=0),\n",
       " Row(F1=5.0, F2=3.6, F3=1.4, F4=0.2, target=0)]"
      ]
     },
     "execution_count": 8,
     "metadata": {},
     "output_type": "execute_result"
    }
   ],
   "source": [
    "df.take(5)"
   ]
  },
  {
   "cell_type": "markdown",
   "metadata": {},
   "source": [
    "## 3. MLlib based analysis"
   ]
  },
  {
   "cell_type": "code",
   "execution_count": 9,
   "metadata": {
    "scrolled": true
   },
   "outputs": [
    {
     "name": "stdout",
     "output_type": "stream",
     "text": [
      "Pearson's r(F1,F2) = -0.19764562926413792\n",
      "Pearson's r(F1,F3) = 0.8123892148022642\n",
      "Pearson's r(F1,F4) = 0.7896132797817184\n",
      "Pearson's r(F1,F3) = -0.5957609313698715\n",
      "Pearson's r(F1,F4) = -0.5601196244020626\n",
      "Pearson's r(F1,F4) = 0.9788556612553715\n"
     ]
    }
   ],
   "source": [
    "print(\"Pearson's r(F1,F2) = {}\".format(df.corr(\"F1\", \"F2\")))\n",
    "print(\"Pearson's r(F1,F3) = {}\".format(df.corr(\"F1\", \"F3\")))\n",
    "print(\"Pearson's r(F1,F4) = {}\".format(df.corr(\"F1\", \"F4\")))\n",
    "print(\"Pearson's r(F1,F3) = {}\".format(df.corr(\"F2\", \"F3\")))\n",
    "print(\"Pearson's r(F1,F4) = {}\".format(df.corr(\"F2\", \"F4\")))\n",
    "print(\"Pearson's r(F1,F4) = {}\".format(df.corr(\"F3\", \"F4\")))"
   ]
  },
  {
   "cell_type": "code",
   "execution_count": 10,
   "metadata": {},
   "outputs": [
    {
     "name": "stdout",
     "output_type": "stream",
     "text": [
      "DataFrame[F1: double, F2: double, F3: double, F4: double, target: int, features: vector]\n"
     ]
    }
   ],
   "source": [
    "assembler = VectorAssembler(\n",
    "    inputCols=['F1','F2','F3','F4'],\n",
    "    outputCol=\"features\")\n",
    "\n",
    "df = assembler.transform(df)\n",
    "print(df)\n",
    "\n",
    "# rename to make ML engine happy\n",
    "df = df.withColumnRenamed(\"target\", \"label\")"
   ]
  },
  {
   "cell_type": "code",
   "execution_count": 11,
   "metadata": {},
   "outputs": [
    {
     "name": "stdout",
     "output_type": "stream",
     "text": [
      "training set N = 78, test set N = 22\n"
     ]
    }
   ],
   "source": [
    "# create train/test sets\n",
    "seed = 42\n",
    "(testDF, trainingDF) = df.randomSplit((0.20, 0.80), seed=seed)\n",
    "print ('training set N = {}, test set N = {}'.format(trainingDF.count(),testDF.count()))"
   ]
  },
  {
   "cell_type": "code",
   "execution_count": 12,
   "metadata": {},
   "outputs": [],
   "source": [
    "lg = LogisticRegression()\n",
    "lgModel = lg.fit(trainingDF)"
   ]
  },
  {
   "cell_type": "code",
   "execution_count": 13,
   "metadata": {},
   "outputs": [
    {
     "data": {
      "text/plain": [
       "pyspark.ml.classification.LogisticRegressionModel"
      ]
     },
     "execution_count": 13,
     "metadata": {},
     "output_type": "execute_result"
    }
   ],
   "source": [
    "type(lgModel)"
   ]
  },
  {
   "cell_type": "code",
   "execution_count": 14,
   "metadata": {
    "scrolled": true
   },
   "outputs": [
    {
     "name": "stdout",
     "output_type": "stream",
     "text": [
      "[Row(F1=5.4, F2=3.0, F3=4.5, F4=1.5, label=1, features=DenseVector([5.4, 3.0, 4.5, 1.5]), rawPrediction=DenseVector([-32.4158, 32.4158]), probability=DenseVector([0.0, 1.0]), prediction=1.0), Row(F1=6.5, F2=2.8, F3=4.6, F4=1.5, label=1, features=DenseVector([6.5, 2.8, 4.6, 1.5]), rawPrediction=DenseVector([-34.9772, 34.9772]), probability=DenseVector([0.0, 1.0]), prediction=1.0), Row(F1=5.6, F2=2.5, F3=3.9, F4=1.1, label=1, features=DenseVector([5.6, 2.5, 3.9, 1.1]), rawPrediction=DenseVector([-23.7011, 23.7011]), probability=DenseVector([0.0, 1.0]), prediction=1.0), Row(F1=5.9, F2=3.2, F3=4.8, F4=1.8, label=1, features=DenseVector([5.9, 3.2, 4.8, 1.8]), rawPrediction=DenseVector([-39.311, 39.311]), probability=DenseVector([0.0, 1.0]), prediction=1.0), Row(F1=6.1, F2=3.0, F3=4.6, F4=1.4, label=1, features=DenseVector([6.1, 3.0, 4.6, 1.4]), rawPrediction=DenseVector([-30.4102, 30.4102]), probability=DenseVector([0.0, 1.0]), prediction=1.0)]\n"
     ]
    }
   ],
   "source": [
    "predictionsAndLabelsDF = lgModel.transform(testDF)\n",
    "\n",
    "print(predictionsAndLabelsDF.orderBy(predictionsAndLabelsDF.label.desc()).take(5))"
   ]
  },
  {
   "cell_type": "code",
   "execution_count": 15,
   "metadata": {},
   "outputs": [
    {
     "name": "stdout",
     "output_type": "stream",
     "text": [
      "Coefficients: \n",
      "DenseMatrix([[ -0.75843101, -12.51711851,   8.92262772,  23.67010877]])\n",
      "\n",
      "Intercept: [-1.5943039243980917]\n"
     ]
    }
   ],
   "source": [
    "print(\"Coefficients: \\n\" + str(lgModel.coefficientMatrix))\n",
    "print(\"Intercept: \" + str(lgModel.interceptVector))"
   ]
  },
  {
   "cell_type": "code",
   "execution_count": 16,
   "metadata": {
    "scrolled": true
   },
   "outputs": [
    {
     "name": "stdout",
     "output_type": "stream",
     "text": [
      "objectiveHistory:\n",
      "0.687878222497891\n",
      "0.558205815722523\n",
      "0.33454932895827805\n",
      "0.10309043529094396\n",
      "0.06117050660615464\n",
      "0.03123590590479906\n",
      "0.017347390712657812\n",
      "0.009452554928673548\n",
      "0.005158576163489127\n",
      "0.002757792612077542\n",
      "0.0014545590142545964\n",
      "0.0007606424740463528\n",
      "0.0006995341276008549\n",
      "0.00034009918450975514\n",
      "0.0001828642947892631\n",
      "9.250687176391802e-05\n",
      "4.763360130940982e-05\n",
      "2.423844855136474e-05\n",
      "1.2340084182839494e-05\n",
      "6.260725387671553e-06\n",
      "3.172404280525632e-06\n",
      "1.604876737256314e-06\n",
      "8.108368586691673e-07\n",
      "7.92268585377206e-07\n",
      "3.914644807357815e-07\n",
      "1.9889984809151806e-07\n",
      "9.939109118551883e-08\n",
      "4.9941434136000784e-08\n",
      "2.502291531500775e-08\n",
      "1.2544380832503498e-08\n",
      "6.284581310917615e-09\n",
      "+---+-------------------+\n",
      "|FPR|                TPR|\n",
      "+---+-------------------+\n",
      "|0.0|                0.0|\n",
      "|0.0|0.09302325581395349|\n",
      "|0.0|0.11627906976744186|\n",
      "|0.0|0.13953488372093023|\n",
      "|0.0|0.16279069767441862|\n",
      "|0.0|0.18604651162790697|\n",
      "|0.0|0.20930232558139536|\n",
      "|0.0|0.23255813953488372|\n",
      "|0.0| 0.2558139534883721|\n",
      "|0.0|0.27906976744186046|\n",
      "|0.0| 0.3023255813953488|\n",
      "|0.0|0.32558139534883723|\n",
      "|0.0| 0.3488372093023256|\n",
      "|0.0|0.37209302325581395|\n",
      "|0.0| 0.3953488372093023|\n",
      "|0.0| 0.4186046511627907|\n",
      "|0.0| 0.4418604651162791|\n",
      "|0.0|0.46511627906976744|\n",
      "|0.0| 0.4883720930232558|\n",
      "|0.0| 0.5116279069767442|\n",
      "+---+-------------------+\n",
      "only showing top 20 rows\n",
      "\n",
      "areaUnderROC: 1.0\n"
     ]
    }
   ],
   "source": [
    "trainingSummary = lgModel.summary\n",
    "\n",
    "# Obtain the objective per iteration\n",
    "objectiveHistory = trainingSummary.objectiveHistory\n",
    "\n",
    "print(\"objectiveHistory:\")\n",
    "for objective in objectiveHistory:\n",
    "    print(objective)\n",
    "\n",
    "# Obtain the receiver-operating characteristic as a dataframe and areaUnderROC.\n",
    "trainingSummary.roc.show()\n",
    "print(\"areaUnderROC: \" + str(trainingSummary.areaUnderROC))"
   ]
  },
  {
   "cell_type": "markdown",
   "metadata": {},
   "source": [
    "## 4. Visualization of results\n",
    "\n",
    "Model Evaluation"
   ]
  },
  {
   "cell_type": "code",
   "execution_count": 17,
   "metadata": {
    "scrolled": true
   },
   "outputs": [
    {
     "data": {
      "image/png": "[encoded data removed]",
      "text/plain": [
       "<Figure size 432x288 with 1 Axes>"
      ]
     },
     "metadata": {},
     "output_type": "display_data"
    }
   ],
   "source": [
    "#https://weiminwang.blog/2016/06/09/pyspark-tutorial-building-a-random-forest-binary-classifier-on-unbalanced-dataset/\n",
    "\n",
    "results = predictionsAndLabelsDF.select(['probability', 'label'])\n",
    " \n",
    "## prepare score-label set\n",
    "results_collect = results.collect()\n",
    "results_list = [(float(i[0][0]), 1.0-float(i[1])) for i in results_collect]\n",
    "\n",
    "fpr = dict()\n",
    "tpr = dict()\n",
    "roc_auc = dict()\n",
    " \n",
    "y_test = [i[1] for i in results_list]\n",
    "y_score = [i[0] for i in results_list]\n",
    " \n",
    "fpr, tpr, _ = roc_curve(y_test, y_score)\n",
    "roc_auc = auc(fpr, tpr)\n",
    " \n",
    "%matplotlib inline\n",
    "plt.figure()\n",
    "plt.plot(fpr, tpr, label='ROC curve (area = %0.2f)' % roc_auc)\n",
    "plt.plot([0, 1], [0, 1], 'k--')\n",
    "plt.xlim([0.0, 1.0])\n",
    "plt.ylim([0.0, 1.05])\n",
    "plt.xlabel('False Positive Rate')\n",
    "plt.ylabel('True Positive Rate')\n",
    "plt.title('Receiver operating characteristic')\n",
    "plt.legend(loc=\"lower right\")\n",
    "plt.show()"
   ]
  },
  {
   "cell_type": "markdown",
   "metadata": {},
   "source": [
    "## 4. Random Forest implementation + Visualization of results\n",
    "\n",
    "Model Evaluation"
   ]
  },
  {
   "cell_type": "code",
   "execution_count": 20,
   "metadata": {},
   "outputs": [
    {
     "name": "stdout",
     "output_type": "stream",
     "text": [
      "The ROC score is (@numTrees=200):  1.0\n",
      "RandomForestClassificationModel (uid=RandomForestClassifier_48a789b5f25a7098afd9) with 2 trees\n"
     ]
    }
   ],
   "source": [
    "rf = RandomForestClassifier(labelCol=\"label\", featuresCol=\"features\", numTrees=2)\n",
    "\n",
    "model = rf.fit(trainingDF)\n",
    "\n",
    "predictions = model.transform(testDF)\n",
    "\n",
    "results = predictions.select(['probability', 'label'])\n",
    " \n",
    "## prepare score-label set\n",
    "results_collect = results.collect()\n",
    "results_list = [(float(i[0][0]), 1.0-float(i[1])) for i in results_collect]\n",
    "scoreAndLabels = sc.parallelize(results_list)\n",
    " \n",
    "metrics = metric(scoreAndLabels)\n",
    "print(\"The ROC score is (@numTrees=200): \", metrics.areaUnderROC)\n",
    "\n",
    "print(model)"
   ]
  },
  {
   "cell_type": "code",
   "execution_count": 21,
   "metadata": {},
   "outputs": [
    {
     "data": {
      "image/png": "[encoded data removed]",
      "text/plain": [
       "<Figure size 432x288 with 1 Axes>"
      ]
     },
     "metadata": {},
     "output_type": "display_data"
    }
   ],
   "source": [
    "fpr = dict()\n",
    "tpr = dict()\n",
    "roc_auc = dict()\n",
    " \n",
    "y_test = [i[1] for i in results_list]\n",
    "y_score = [i[0] for i in results_list]\n",
    " \n",
    "fpr, tpr, _ = roc_curve(y_test, y_score)\n",
    "roc_auc = auc(fpr, tpr)\n",
    " \n",
    "%matplotlib inline\n",
    "plt.figure()\n",
    "plt.plot(fpr, tpr, label='ROC curve (area = %0.2f)' % roc_auc)\n",
    "plt.plot([0, 1], [0, 1], 'k--')\n",
    "plt.xlim([0.0, 1.0])\n",
    "plt.ylim([0.0, 1.05])\n",
    "plt.xlabel('False Positive Rate')\n",
    "plt.ylabel('True Positive Rate')\n",
    "plt.title('Receiver operating characteristic')\n",
    "plt.legend(loc=\"lower right\")\n",
    "plt.show()"
   ]
  }
 ],
 "metadata": {
  "kernelspec": {
   "display_name": "conda_python3",
   "language": "python",
   "name": "conda_python3"
  },
  "language_info": {
   "codemirror_mode": {
    "name": "ipython",
    "version": 3
   },
   "file_extension": ".py",
   "mimetype": "text/x-python",
   "name": "python",
   "nbconvert_exporter": "python",
   "pygments_lexer": "ipython3",
   "version": "3.6.5"
  }
 },
 "nbformat": 4,
 "nbformat_minor": 2
}
