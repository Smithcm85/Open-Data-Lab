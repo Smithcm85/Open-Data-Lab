{
 "cells": [
  {
   "cell_type": "markdown",
   "metadata": {},
   "source": [
    "Name: Will Gleave\n",
    "swg8jq"
   ]
  },
  {
   "cell_type": "code",
   "execution_count": 46,
   "metadata": {},
   "outputs": [],
   "source": [
    "#import libraries\n",
    "import pyspark\n",
    "from os import listdir\n",
    "from os.path import isfile, join\n",
    "import boto3\n",
    "import numpy as np\n",
    "import pandas as pd\n",
    "import matplotlib.pyplot as plt\n",
    "from sagemaker import get_execution_role\n",
    "from pyspark.ml.feature import VectorAssembler\n",
    "from pyspark.ml.regression import LinearRegression, LinearRegressionModel\n",
    "from pyspark.ml.linalg import Vectors, VectorUDT\n",
    "from pyspark.ml.regression import GBTRegressor\n",
    "from pyspark.ml.evaluation import RegressionEvaluator\n",
    "from pyspark.ml.regression import LinearRegression, LinearRegressionModel\n",
    "from pyspark.sql.types import LongType, StringType, StructField, StructType, BooleanType, ArrayType, IntegerType, DoubleType"
   ]
  },
  {
   "cell_type": "code",
   "execution_count": null,
   "metadata": {},
   "outputs": [],
   "source": [
    "#configure spark context\n",
    "conf = pyspark.SparkConf().setAppName('odl').setMaster('local')\n",
    "sc = pyspark.SparkContext(conf=conf)\n",
    "sqlc = pyspark.sql.SQLContext(sc)"
   ]
  },
  {
   "cell_type": "code",
   "execution_count": 13,
   "metadata": {},
   "outputs": [],
   "source": [
    "#specify file location\n",
    "role = get_execution_role()\n",
    "bucket='odl-spark19spds6003-001'\n",
    "data_key = 'swg8jq/FootballEurope.csv'\n",
    "data_location = 's3://{}/{}'.format(bucket, data_key)\n",
    "pddf = pd.read_csv(data_location, dtype = object) #reading as strings, spark having issues with columns"
   ]
  },
  {
   "cell_type": "code",
   "execution_count": 14,
   "metadata": {},
   "outputs": [],
   "source": [
    "#clean up data\n",
    "pddf = pddf.dropna()\n",
    "pddf.drop('Unnamed: 0', axis = 1, inplace = True)"
   ]
  },
  {
   "cell_type": "code",
   "execution_count": 15,
   "metadata": {},
   "outputs": [],
   "source": [
    "#spark df from pandas\n",
    "df = sqlc.createDataFrame(pddf)"
   ]
  },
  {
   "cell_type": "code",
   "execution_count": null,
   "metadata": {},
   "outputs": [],
   "source": [
    "#specify parquet path\n",
    "parquetPath = '/home/ec2-user/SageMaker/swg8jq/tmp-pqt2'\n",
    "df.write.parquet(parquetPath)"
   ]
  },
  {
   "cell_type": "code",
   "execution_count": 17,
   "metadata": {},
   "outputs": [],
   "source": [
    "# prep list of files to transfer\n",
    "files = [f for f in listdir(parquetPath) if isfile(join(parquetPath, f))]\n",
    "\n",
    "s3 = boto3.resource('s3')\n",
    "for f in files:\n",
    "    #print('copying {} to {}'.format(parquetPath+'/'+f,\"sample_data/\"+f))\n",
    "    s3.Bucket(bucket).upload_file(parquetPath+'/'+f, \"sample_data/pqt/\"+f)\n"
   ]
  },
  {
   "cell_type": "code",
   "execution_count": 18,
   "metadata": {},
   "outputs": [],
   "source": [
    "#write df to parquet\n",
    "df = sqlc.read.parquet(parquetPath)"
   ]
  },
  {
   "cell_type": "code",
   "execution_count": 19,
   "metadata": {},
   "outputs": [
    {
     "name": "stdout",
     "output_type": "stream",
     "text": [
      "root\n",
      " |-- id: string (nullable = true)\n",
      " |-- homeTacklesTotalHT: string (nullable = true)\n",
      " |-- homeShotsTotalHT: string (nullable = true)\n",
      " |-- awayDispossessedFT: string (nullable = true)\n",
      " |-- awayPassSuccessFT: string (nullable = true)\n",
      " |-- awayRatingsFT: string (nullable = true)\n",
      " |-- awayDribbleSuccessFT: string (nullable = true)\n",
      " |-- awayDribblesAttemptedHT: string (nullable = true)\n",
      " |-- awayTeamLineUp: string (nullable = true)\n",
      " |-- awayShotsBlockedHT: string (nullable = true)\n",
      " |-- awayShotsTotalHT: string (nullable = true)\n",
      " |-- homeDribbleSuccessHT: string (nullable = true)\n",
      " |-- homeFoulsCommitedFT: string (nullable = true)\n",
      " |-- homeAerialsTotalFT: string (nullable = true)\n",
      " |-- homeRatingsHT: string (nullable = true)\n",
      " |-- awayShotsOnTargetFT: string (nullable = true)\n",
      " |-- awayShotsBlockedFT: string (nullable = true)\n",
      " |-- homeInterceptionsHT: string (nullable = true)\n",
      " |-- awayPossessionHT: string (nullable = true)\n",
      " |-- homePassesKeyFT: string (nullable = true)\n",
      " |-- awayShotsOnTargetHT: string (nullable = true)\n",
      " |-- awayDribblesWonFT: string (nullable = true)\n",
      " |-- awayTackleSuccessHT: string (nullable = true)\n",
      " |-- homeCornersTotalFT: string (nullable = true)\n",
      " |-- homeAerialsTotalHT: string (nullable = true)\n",
      " |-- homeShotsBlockedFT: string (nullable = true)\n",
      " |-- awayCornersTotalHT: string (nullable = true)\n",
      " |-- homeCornersTotalHT: string (nullable = true)\n",
      " |-- homeDribbleSuccessFT: string (nullable = true)\n",
      " |-- homeTeamLineUp: string (nullable = true)\n",
      " |-- awayPassSuccessHT: string (nullable = true)\n",
      " |-- awayDribblesWonHT: string (nullable = true)\n",
      " |-- homeDispossessedHT: string (nullable = true)\n",
      " |-- awayAerialsTotalFT: string (nullable = true)\n",
      " |-- homeShotsBlockedHT: string (nullable = true)\n",
      " |-- awayPassesKeyFT: string (nullable = true)\n",
      " |-- homeTackleSuccessHT: string (nullable = true)\n",
      " |-- awayPassesKeyHT: string (nullable = true)\n",
      " |-- homeFormation: string (nullable = true)\n",
      " |-- awayInterceptionsHT: string (nullable = true)\n",
      " |-- awayDispossessedHT: string (nullable = true)\n",
      " |-- refereeName: string (nullable = true)\n",
      " |-- homeDribblesWonHT: string (nullable = true)\n",
      " |-- homePossessionFT: string (nullable = true)\n",
      " |-- awayAerialsTotalHT: string (nullable = true)\n",
      " |-- awayGoalHT: string (nullable = true)\n",
      " |-- awayManagerName: string (nullable = true)\n",
      " |-- awayInterceptionsFT: string (nullable = true)\n",
      " |-- homeDribbledPastFT: string (nullable = true)\n",
      " |-- homeGoalHT: string (nullable = true)\n",
      " |-- awayDribbleSuccessHT: string (nullable = true)\n",
      " |-- homeGoalFT: string (nullable = true)\n",
      " |-- awayTacklesTotalHT: string (nullable = true)\n",
      " |-- homeDribblesWonFT: string (nullable = true)\n",
      " |-- awayTackleSuccessFT: string (nullable = true)\n",
      " |-- awayTeam: string (nullable = true)\n",
      " |-- homeDispossessedFT: string (nullable = true)\n",
      " |-- awayOffsidesCaughtFT: string (nullable = true)\n",
      " |-- awayDribbledPastFT: string (nullable = true)\n",
      " |-- homeShotsOnTargetHT: string (nullable = true)\n",
      " |-- awayFormation: string (nullable = true)\n",
      " |-- awayOffsidesCaughtHT: string (nullable = true)\n",
      " |-- homeDribbledPastHT: string (nullable = true)\n",
      " |-- awayFoulsCommitedHT: string (nullable = true)\n",
      " |-- homeShotsTotalFT: string (nullable = true)\n",
      " |-- homePassSuccessFT: string (nullable = true)\n",
      " |-- homeFoulsCommitedHT: string (nullable = true)\n",
      " |-- awayCornersTotalFT: string (nullable = true)\n",
      " |-- homeTeam: string (nullable = true)\n",
      " |-- homeManagerName: string (nullable = true)\n",
      " |-- awayFoulsCommitedFT: string (nullable = true)\n",
      " |-- homeShotsOnTargetFT: string (nullable = true)\n",
      " |-- homeDribblesAttemptedHT: string (nullable = true)\n",
      " |-- awayRatingsHT: string (nullable = true)\n",
      " |-- homeOffsidesCaughtHT: string (nullable = true)\n",
      " |-- homeTacklesTotalFT: string (nullable = true)\n",
      " |-- awayDribbledPastHT: string (nullable = true)\n",
      " |-- awayGoalFT: string (nullable = true)\n",
      " |-- homePassesKeyHT: string (nullable = true)\n",
      " |-- homeOffsidesCaughtFT: string (nullable = true)\n",
      " |-- homePossessionHT: string (nullable = true)\n",
      " |-- venueName: string (nullable = true)\n",
      " |-- awayDribblesAttemptedFT: string (nullable = true)\n",
      " |-- homeInterceptionsFT: string (nullable = true)\n",
      " |-- homePassSuccessHT: string (nullable = true)\n",
      " |-- date: string (nullable = true)\n",
      " |-- awayTacklesTotalFT: string (nullable = true)\n",
      " |-- homeRatingsFT: string (nullable = true)\n",
      " |-- homeDribblesAttemptedFT: string (nullable = true)\n",
      " |-- homeTackleSuccessFT: string (nullable = true)\n",
      " |-- awayPossessionFT: string (nullable = true)\n",
      " |-- awayShotsTotalFT: string (nullable = true)\n",
      " |-- division: string (nullable = true)\n",
      "\n"
     ]
    }
   ],
   "source": [
    "#print schema\n",
    "df.printSchema()"
   ]
  },
  {
   "cell_type": "code",
   "execution_count": 20,
   "metadata": {},
   "outputs": [],
   "source": [
    "#only select specific columns\n",
    "df = df.select(\"homeGoalFT\",\"homeDribbleSuccessFT\", \"homePassesKeyFT\", \"homeCornersTotalFT\", \"homeShotsTotalFT\",\n",
    "              \"homeTacklesTotalFT\", \"homeAerialsTotalFT\", \"homeShotsOnTargetFT\", \"homeOffsidesCaughtFT\")"
   ]
  },
  {
   "cell_type": "code",
   "execution_count": 21,
   "metadata": {},
   "outputs": [
    {
     "name": "stdout",
     "output_type": "stream",
     "text": [
      "root\n",
      " |-- homeGoalFT: integer (nullable = true)\n",
      " |-- homeDribbleSuccessFT: double (nullable = true)\n",
      " |-- homePassesKeyFT: integer (nullable = true)\n",
      " |-- homeCornersTotalFT: integer (nullable = true)\n",
      " |-- homeShotsTotalFT: integer (nullable = true)\n",
      " |-- homeTacklesTotalFT: integer (nullable = true)\n",
      " |-- homeAerialsTotalFT: integer (nullable = true)\n",
      " |-- homeShotsOnTargetFT: integer (nullable = true)\n",
      " |-- homeOffsidesCaughtFT: integer (nullable = true)\n",
      "\n"
     ]
    }
   ],
   "source": [
    "#change datatypes\n",
    "\n",
    "floatval = [\"homeDribbleSuccessFT\",]\n",
    "\n",
    "intval = [\"homeGoalFT\",\"homePassesKeyFT\", \"homeCornersTotalFT\", \"homeShotsTotalFT\",\n",
    "              \"homeTacklesTotalFT\", \"homeAerialsTotalFT\", \"homeShotsOnTargetFT\", \"homeOffsidesCaughtFT\"]\n",
    "\n",
    "for col in intval:\n",
    "    df = df.withColumn(col, df[col].cast(IntegerType()))\n",
    "\n",
    "for col in floatval:\n",
    "    df = df.withColumn(col, df[col].cast(DoubleType()))    \n",
    "\n",
    "df.printSchema()"
   ]
  },
  {
   "cell_type": "code",
   "execution_count": 22,
   "metadata": {},
   "outputs": [
    {
     "name": "stdout",
     "output_type": "stream",
     "text": [
      "training set N = 6561, test set N = 1708\n"
     ]
    }
   ],
   "source": [
    "# create train/test sets\n",
    "seed = 23\n",
    "(testDF, trainingDF) = df.randomSplit((0.20, 0.80), seed=seed)\n",
    "print ('training set N = {}, test set N = {}'.format(trainingDF.count(),testDF.count()))"
   ]
  },
  {
   "cell_type": "code",
   "execution_count": 24,
   "metadata": {},
   "outputs": [],
   "source": [
    "#use vectorassembler to create vectors\n",
    "\n",
    "assembler = VectorAssembler(\n",
    "    inputCols=[\"homeDribbleSuccessFT\", \"homePassesKeyFT\", \"homeCornersTotalFT\", \"homeShotsTotalFT\",\n",
    "              \"homeTacklesTotalFT\", \"homeAerialsTotalFT\", \"homeShotsOnTargetFT\", \"homeOffsidesCaughtFT\"],\n",
    "    outputCol=\"features\")\n",
    "\n",
    "vectrainDF = assembler.transform(trainingDF)\n",
    "vectestDF = assembler.transform(testDF)"
   ]
  },
  {
   "cell_type": "code",
   "execution_count": 25,
   "metadata": {},
   "outputs": [],
   "source": [
    "# rename to make ML engine happy\n",
    "vectrainDF = vectrainDF.withColumnRenamed(\"homeGoalFT\", \"label\").withColumnRenamed(\"features\", \"features\")\n",
    "vectestDF = vectestDF.withColumnRenamed(\"homeGoalFT\", \"label\").withColumnRenamed(\"features\", \"features\")"
   ]
  },
  {
   "cell_type": "code",
   "execution_count": 26,
   "metadata": {},
   "outputs": [
    {
     "data": {
      "text/plain": [
       "[Row(label=0, homeDribbleSuccessFT=0.0, homePassesKeyFT=0, homeCornersTotalFT=0, homeShotsTotalFT=0, homeTacklesTotalFT=0, homeAerialsTotalFT=0, homeShotsOnTargetFT=0, homeOffsidesCaughtFT=0, features=SparseVector(8, {})),\n",
       " Row(label=0, homeDribbleSuccessFT=0.0, homePassesKeyFT=4, homeCornersTotalFT=1, homeShotsTotalFT=9, homeTacklesTotalFT=31, homeAerialsTotalFT=30, homeShotsOnTargetFT=0, homeOffsidesCaughtFT=4, features=DenseVector([0.0, 4.0, 1.0, 9.0, 31.0, 30.0, 0.0, 4.0])),\n",
       " Row(label=0, homeDribbleSuccessFT=0.0, homePassesKeyFT=13, homeCornersTotalFT=8, homeShotsTotalFT=18, homeTacklesTotalFT=20, homeAerialsTotalFT=20, homeShotsOnTargetFT=4, homeOffsidesCaughtFT=1, features=DenseVector([0.0, 13.0, 8.0, 18.0, 20.0, 20.0, 4.0, 1.0])),\n",
       " Row(label=0, homeDribbleSuccessFT=5.0, homePassesKeyFT=3, homeCornersTotalFT=8, homeShotsTotalFT=5, homeTacklesTotalFT=33, homeAerialsTotalFT=30, homeShotsOnTargetFT=0, homeOffsidesCaughtFT=1, features=DenseVector([5.0, 3.0, 8.0, 5.0, 33.0, 30.0, 0.0, 1.0])),\n",
       " Row(label=0, homeDribbleSuccessFT=10.0, homePassesKeyFT=6, homeCornersTotalFT=9, homeShotsTotalFT=9, homeTacklesTotalFT=30, homeAerialsTotalFT=32, homeShotsOnTargetFT=5, homeOffsidesCaughtFT=0, features=DenseVector([10.0, 6.0, 9.0, 9.0, 30.0, 32.0, 5.0, 0.0]))]"
      ]
     },
     "execution_count": 26,
     "metadata": {},
     "output_type": "execute_result"
    }
   ],
   "source": [
    "vectrainDF.take(5)"
   ]
  },
  {
   "cell_type": "code",
   "execution_count": 27,
   "metadata": {},
   "outputs": [],
   "source": [
    "#create gradient boosted tree regressor\n",
    "gbt = GBTRegressor(featuresCol = 'features', labelCol = 'label',maxIter=10)"
   ]
  },
  {
   "cell_type": "code",
   "execution_count": 28,
   "metadata": {},
   "outputs": [],
   "source": [
    "#fit model\n",
    "model = gbt.fit(vectrainDF)"
   ]
  },
  {
   "cell_type": "code",
   "execution_count": 29,
   "metadata": {},
   "outputs": [],
   "source": [
    "#transform to get predictions on test data\n",
    "predictions = model.transform(vectestDF)"
   ]
  },
  {
   "cell_type": "code",
   "execution_count": 107,
   "metadata": {},
   "outputs": [
    {
     "data": {
      "text/plain": [
       "[Row(label=0, homeDribbleSuccessFT=0.0, homePassesKeyFT=2, homeCornersTotalFT=6, homeShotsTotalFT=3, homeTacklesTotalFT=29, homeAerialsTotalFT=28, homeShotsOnTargetFT=1, homeOffsidesCaughtFT=2, features=DenseVector([0.0, 2.0, 6.0, 3.0, 29.0, 28.0, 1.0, 2.0]), prediction=0.3415661123723515),\n",
       " Row(label=0, homeDribbleSuccessFT=0.0, homePassesKeyFT=11, homeCornersTotalFT=6, homeShotsTotalFT=14, homeTacklesTotalFT=29, homeAerialsTotalFT=21, homeShotsOnTargetFT=2, homeOffsidesCaughtFT=1, features=DenseVector([0.0, 11.0, 6.0, 14.0, 29.0, 21.0, 2.0, 1.0]), prediction=0.5084320185371448),\n",
       " Row(label=0, homeDribbleSuccessFT=4.76, homePassesKeyFT=7, homeCornersTotalFT=6, homeShotsTotalFT=8, homeTacklesTotalFT=23, homeAerialsTotalFT=24, homeShotsOnTargetFT=1, homeOffsidesCaughtFT=0, features=DenseVector([4.76, 7.0, 6.0, 8.0, 23.0, 24.0, 1.0, 0.0]), prediction=0.2973612451082771),\n",
       " Row(label=0, homeDribbleSuccessFT=8.33, homePassesKeyFT=8, homeCornersTotalFT=6, homeShotsTotalFT=9, homeTacklesTotalFT=20, homeAerialsTotalFT=14, homeShotsOnTargetFT=5, homeOffsidesCaughtFT=1, features=DenseVector([8.33, 8.0, 6.0, 9.0, 20.0, 14.0, 5.0, 1.0]), prediction=1.6137140438609963),\n",
       " Row(label=0, homeDribbleSuccessFT=8.33, homePassesKeyFT=10, homeCornersTotalFT=4, homeShotsTotalFT=12, homeTacklesTotalFT=39, homeAerialsTotalFT=34, homeShotsOnTargetFT=3, homeOffsidesCaughtFT=1, features=DenseVector([8.33, 10.0, 4.0, 12.0, 39.0, 34.0, 3.0, 1.0]), prediction=1.1478434657884162)]"
      ]
     },
     "execution_count": 107,
     "metadata": {},
     "output_type": "execute_result"
    }
   ],
   "source": [
    "predictions.take(5)"
   ]
  },
  {
   "cell_type": "code",
   "execution_count": 30,
   "metadata": {},
   "outputs": [
    {
     "name": "stdout",
     "output_type": "stream",
     "text": [
      "Root Mean Squared Error (RMSE) on test data = 1.07145\n"
     ]
    }
   ],
   "source": [
    "#evaluate predictions\n",
    "evaluator = RegressionEvaluator(\n",
    "    labelCol=\"label\", predictionCol=\"prediction\", metricName=\"rmse\")\n",
    "rmse = evaluator.evaluate(predictions)\n",
    "print(\"Root Mean Squared Error (RMSE) on test data = %g\" % rmse)"
   ]
  },
  {
   "cell_type": "code",
   "execution_count": 32,
   "metadata": {},
   "outputs": [
    {
     "name": "stdout",
     "output_type": "stream",
     "text": [
      "Root Mean Squared Error (RMSE) on test data = 1.06188\n"
     ]
    }
   ],
   "source": [
    "#try linear regression model\n",
    "\n",
    "lr = LinearRegression()\n",
    "lrModel = lr.fit(vectrainDF)\n",
    "\n",
    "predictionsAndLabelsDF = lrModel.transform(vectestDF)\n",
    "\n",
    "rmse2 = evaluator.evaluate(predictionsAndLabelsDF)\n",
    "print(\"Root Mean Squared Error (RMSE) on test data = %g\" % rmse2)"
   ]
  },
  {
   "cell_type": "code",
   "execution_count": 53,
   "metadata": {},
   "outputs": [],
   "source": [
    "#df back to pandas to plot results\n",
    "pandaspred = predictions.toPandas()"
   ]
  },
  {
   "cell_type": "code",
   "execution_count": 54,
   "metadata": {},
   "outputs": [],
   "source": [
    "#make new column for prediction error\n",
    "pandaspred['error'] =  pandaspred['prediction'] - pandaspred['label']"
   ]
  },
  {
   "cell_type": "code",
   "execution_count": 55,
   "metadata": {},
   "outputs": [],
   "source": [
    "#make all error positive\n",
    "pandaspred['error'] = pandaspred.apply(lambda x: np.absolute(x['error']), axis=1)"
   ]
  },
  {
   "cell_type": "code",
   "execution_count": 71,
   "metadata": {},
   "outputs": [
    {
     "data": {
      "text/plain": [
       "Text(0,0.5,'Number of Games')"
      ]
     },
     "execution_count": 71,
     "metadata": {},
     "output_type": "execute_result"
    },
    {
     "data": {
      "image/png": "[encoded data removed]",
      "text/plain": [
       "<Figure size 432x288 with 1 Axes>"
      ]
     },
     "metadata": {},
     "output_type": "display_data"
    }
   ],
   "source": [
    "#plot histogram of error\n",
    "plt.hist(pandaspred['error'], bins = 13)\n",
    "plt.title('Prediction Error')\n",
    "plt.xlabel('Error (Goals Scored)')\n",
    "plt.ylabel('Number of Games')"
   ]
  },
  {
   "cell_type": "code",
   "execution_count": null,
   "metadata": {},
   "outputs": [],
   "source": []
  },
  {
   "cell_type": "code",
   "execution_count": null,
   "metadata": {},
   "outputs": [],
   "source": []
  }
 ],
 "metadata": {
  "kernelspec": {
   "display_name": "conda_python3",
   "language": "python",
   "name": "conda_python3"
  },
  "language_info": {
   "codemirror_mode": {
    "name": "ipython",
    "version": 3
   },
   "file_extension": ".py",
   "mimetype": "text/x-python",
   "name": "python",
   "nbconvert_exporter": "python",
   "pygments_lexer": "ipython3",
   "version": "3.6.5"
  }
 },
 "nbformat": 4,
 "nbformat_minor": 2
}
