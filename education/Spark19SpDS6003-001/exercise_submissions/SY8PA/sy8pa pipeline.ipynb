{
 "cells": [
  {
   "cell_type": "markdown",
   "metadata": {},
   "source": [
    "# Setting Up Context"
   ]
  },
  {
   "cell_type": "code",
   "execution_count": 1,
   "metadata": {},
   "outputs": [],
   "source": [
    "# Initialize the spark environment (takes ~ 1min)\n",
    "import pyspark\n",
    "conf = pyspark.SparkConf().setAppName('odl').setMaster('local')\n",
    "sc = pyspark.SparkContext(conf=conf)\n",
    "sqlc = pyspark.sql.SQLContext(sc)"
   ]
  },
  {
   "cell_type": "code",
   "execution_count": 2,
   "metadata": {},
   "outputs": [],
   "source": [
    "data_path = \"auto.csv\"\n",
    "df = sqlc.read.format(\"csv\").option(\"header\",\"true\").option(\"inferSchema\", \"true\").load(data_path)"
   ]
  },
  {
   "cell_type": "markdown",
   "metadata": {},
   "source": [
    "# Data Prep"
   ]
  },
  {
   "cell_type": "markdown",
   "metadata": {},
   "source": [
    "## Push Data Into Parquet"
   ]
  },
  {
   "cell_type": "code",
   "execution_count": 3,
   "metadata": {},
   "outputs": [],
   "source": [
    "parquet_path = 'test-parquet'\n",
    "df.write.mode(\"overwrite\").parquet(parquet_path)"
   ]
  },
  {
   "cell_type": "markdown",
   "metadata": {},
   "source": [
    "## Reading Parquet Data"
   ]
  },
  {
   "cell_type": "code",
   "execution_count": 4,
   "metadata": {},
   "outputs": [
    {
     "data": {
      "text/plain": [
       "DataFrame[mpg: double, cylinders: int, displacement: double, horsepower: int, weight: decimal(4,0), acceleration: double, year: int, origin: int, name: string]"
      ]
     },
     "metadata": {},
     "output_type": "display_data"
    }
   ],
   "source": [
    "pq_auto = sqlc.read.parquet(parquet_path)\n",
    "display(pq_auto)"
   ]
  },
  {
   "cell_type": "markdown",
   "metadata": {},
   "source": [
    "## Train Test Split"
   ]
  },
  {
   "cell_type": "code",
   "execution_count": 5,
   "metadata": {},
   "outputs": [],
   "source": [
    "df_test, df_train = df.randomSplit((0.20, 0.80), seed = 369)"
   ]
  },
  {
   "cell_type": "markdown",
   "metadata": {},
   "source": [
    "## Vectorization\n",
    "https://towardsdatascience.com/building-a-linear-regression-with-pyspark-and-mllib-d065c3ba246a"
   ]
  },
  {
   "cell_type": "code",
   "execution_count": 6,
   "metadata": {},
   "outputs": [],
   "source": [
    "from pyspark.ml.feature import VectorAssembler\n",
    "vectorAssembler = VectorAssembler(inputCols = ['cylinders', 'displacement', 'horsepower', 'weight', 'acceleration', 'year', 'origin'], outputCol = 'features')\n",
    "df_train = vectorAssembler.transform(df_train)\n",
    "df_test = vectorAssembler.transform(df_test)\n",
    "df_train = df_train.select(['features', 'mpg'])\n",
    "df_test = df_test.select(['features', 'mpg'])\n"
   ]
  },
  {
   "cell_type": "code",
   "execution_count": 7,
   "metadata": {},
   "outputs": [
    {
     "name": "stdout",
     "output_type": "stream",
     "text": [
      "+--------------------+----+\n",
      "|            features| mpg|\n",
      "+--------------------+----+\n",
      "|[8.0,350.0,180.0,...|11.0|\n",
      "|[8.0,400.0,150.0,...|11.0|\n",
      "|[8.0,350.0,180.0,...|12.0|\n",
      "+--------------------+----+\n",
      "only showing top 3 rows\n",
      "\n"
     ]
    }
   ],
   "source": [
    "df_test.show(3)"
   ]
  },
  {
   "cell_type": "markdown",
   "metadata": {},
   "source": [
    "# MLlib based analysis"
   ]
  },
  {
   "cell_type": "code",
   "execution_count": 8,
   "metadata": {},
   "outputs": [],
   "source": [
    "from pyspark.ml.regression import LinearRegression, LinearRegressionModel\n",
    "\n",
    "lr = LinearRegression(featuresCol = 'features', labelCol = 'mpg')\n",
    "lr_model = lr.fit(df_train)"
   ]
  },
  {
   "cell_type": "code",
   "execution_count": 9,
   "metadata": {},
   "outputs": [
    {
     "name": "stdout",
     "output_type": "stream",
     "text": [
      "+--------------------+----+------------------+\n",
      "|            features| mpg|        prediction|\n",
      "+--------------------+----+------------------+\n",
      "|[4.0,79.0,58.0,17...|39.1|36.726397493277524|\n",
      "|[4.0,89.0,60.0,19...|38.1| 34.95945870793514|\n",
      "|[6.0,262.0,85.0,3...|38.0|28.305390169177983|\n",
      "|[4.0,105.0,74.0,1...|36.0| 34.50934330098202|\n",
      "|[4.0,98.0,80.0,19...|35.7|30.881270717356514|\n",
      "|[4.0,81.0,60.0,17...|35.1|  36.5971106201552|\n",
      "|[4.0,105.0,63.0,2...|34.7|30.734623246980505|\n",
      "|[4.0,105.0,74.0,2...|33.0|32.189245611237375|\n",
      "|[4.0,97.0,67.0,20...|32.3|34.974554784227124|\n",
      "|[4.0,83.0,61.0,20...|32.0|30.162674311267253|\n",
      "|[4.0,79.0,67.0,19...|31.0|30.375186172644362|\n",
      "|[4.0,119.0,82.0,2...|31.0| 28.69656031092903|\n",
      "|[4.0,76.0,52.0,16...|31.0| 32.20293825945728|\n",
      "|[4.0,98.0,63.0,20...|30.5|29.028887158321574|\n",
      "|[4.0,79.0,70.0,20...|30.0|  25.8220382817698|\n",
      "|[4.0,89.0,62.0,18...|29.8|  33.7817184233167|\n",
      "|[4.0,97.0,71.0,18...|29.5| 30.56391155451157|\n",
      "|[4.0,97.0,78.0,19...|29.0| 30.75552378099102|\n",
      "|[4.0,116.0,90.0,2...|28.0|25.197469208901936|\n",
      "|[4.0,120.0,79.0,2...|28.0| 29.28783478455314|\n",
      "+--------------------+----+------------------+\n",
      "only showing top 20 rows\n",
      "\n"
     ]
    }
   ],
   "source": [
    "lr_predictions = lr_model.transform(df_test)\n",
    "lr_predictions.orderBy(lr_predictions.mpg.desc()).show()"
   ]
  },
  {
   "cell_type": "markdown",
   "metadata": {},
   "source": [
    "## Evaluating the Model"
   ]
  },
  {
   "cell_type": "code",
   "execution_count": 10,
   "metadata": {},
   "outputs": [
    {
     "data": {
      "text/plain": [
       "3.0451960649740046"
      ]
     },
     "execution_count": 10,
     "metadata": {},
     "output_type": "execute_result"
    }
   ],
   "source": [
    "from pyspark.ml.evaluation import RegressionEvaluator\n",
    "eval = RegressionEvaluator(labelCol = 'mpg')\n",
    "eval.setMetricName(\"rmse\").evaluate(lr_predictions)"
   ]
  },
  {
   "cell_type": "code",
   "execution_count": 11,
   "metadata": {},
   "outputs": [],
   "source": [
    "# Import numpy, pandas, and ggplot\n",
    "import numpy as np\n",
    "from pandas import *\n",
    "\n",
    "# Create Python DataFrame\n",
    "cylinders = df_test.rdd.map(lambda p: (p.features[0])).collect()\n",
    "displacement = df_test.rdd.map(lambda p: (p.features[1])).collect()\n",
    "horsepower = df_test.rdd.map(lambda p: p.features[2]).collect()\n",
    "mpg = df_test.rdd.map(lambda p: p.mpg).collect()\n",
    "pred = lr_predictions.rdd.map(lambda r: r.prediction).collect()\n",
    "\n",
    "# Create a Pandas DataFrame\n",
    "pddf = DataFrame({'horsepower' : horsepower, 'mpg' : mpg, 'pred' : pred})\n",
    "\n",
    "# Create scatter plot and two regression models (scaling exponential) using ggplot\n",
    "#p = ggplot(pddf, aes('horsepower','mpg')) + \\\n",
    "#  geom_point(color='blue') + \\\n",
    "#  geom_line(pydf, aes('horsepower','pred'), color='red') + \\\n",
    "#  scale_x_log10() + scale_y_log10()\n",
    "#display(p)"
   ]
  },
  {
   "cell_type": "markdown",
   "metadata": {},
   "source": [
    "# Creating Visualisations\n",
    "https://databricks.com/spark/getting-started-with-apache-spark/machine-learning"
   ]
  },
  {
   "cell_type": "code",
   "execution_count": 12,
   "metadata": {},
   "outputs": [
    {
     "data": {
      "text/html": [
       "<div>\n",
       "<style scoped>\n",
       "    .dataframe tbody tr th:only-of-type {\n",
       "        vertical-align: middle;\n",
       "    }\n",
       "\n",
       "    .dataframe tbody tr th {\n",
       "        vertical-align: top;\n",
       "    }\n",
       "\n",
       "    .dataframe thead th {\n",
       "        text-align: right;\n",
       "    }\n",
       "</style>\n",
       "<table border=\"1\" class=\"dataframe\">\n",
       "  <thead>\n",
       "    <tr style=\"text-align: right;\">\n",
       "      <th></th>\n",
       "      <th>mpg</th>\n",
       "      <th>pred</th>\n",
       "    </tr>\n",
       "    <tr>\n",
       "      <th>horsepower</th>\n",
       "      <th></th>\n",
       "      <th></th>\n",
       "    </tr>\n",
       "  </thead>\n",
       "  <tbody>\n",
       "    <tr>\n",
       "      <th>180.0</th>\n",
       "      <td>11.0</td>\n",
       "      <td>16.184086</td>\n",
       "    </tr>\n",
       "    <tr>\n",
       "      <th>150.0</th>\n",
       "      <td>11.0</td>\n",
       "      <td>8.840831</td>\n",
       "    </tr>\n",
       "    <tr>\n",
       "      <th>180.0</th>\n",
       "      <td>12.0</td>\n",
       "      <td>10.715799</td>\n",
       "    </tr>\n",
       "    <tr>\n",
       "      <th>129.0</th>\n",
       "      <td>13.0</td>\n",
       "      <td>20.877167</td>\n",
       "    </tr>\n",
       "    <tr>\n",
       "      <th>150.0</th>\n",
       "      <td>13.0</td>\n",
       "      <td>16.595941</td>\n",
       "    </tr>\n",
       "    <tr>\n",
       "      <th>170.0</th>\n",
       "      <td>13.0</td>\n",
       "      <td>10.039744</td>\n",
       "    </tr>\n",
       "    <tr>\n",
       "      <th>170.0</th>\n",
       "      <td>13.0</td>\n",
       "      <td>8.546201</td>\n",
       "    </tr>\n",
       "    <tr>\n",
       "      <th>160.0</th>\n",
       "      <td>14.0</td>\n",
       "      <td>13.969907</td>\n",
       "    </tr>\n",
       "    <tr>\n",
       "      <th>165.0</th>\n",
       "      <td>14.0</td>\n",
       "      <td>11.310998</td>\n",
       "    </tr>\n",
       "    <tr>\n",
       "      <th>148.0</th>\n",
       "      <td>14.0</td>\n",
       "      <td>11.668971</td>\n",
       "    </tr>\n",
       "    <tr>\n",
       "      <th>175.0</th>\n",
       "      <td>14.0</td>\n",
       "      <td>11.682162</td>\n",
       "    </tr>\n",
       "    <tr>\n",
       "      <th>215.0</th>\n",
       "      <td>14.0</td>\n",
       "      <td>10.488348</td>\n",
       "    </tr>\n",
       "    <tr>\n",
       "      <th>72.0</th>\n",
       "      <td>15.0</td>\n",
       "      <td>20.742777</td>\n",
       "    </tr>\n",
       "    <tr>\n",
       "      <th>150.0</th>\n",
       "      <td>15.0</td>\n",
       "      <td>14.393995</td>\n",
       "    </tr>\n",
       "    <tr>\n",
       "      <th>120.0</th>\n",
       "      <td>15.5</td>\n",
       "      <td>16.638089</td>\n",
       "    </tr>\n",
       "    <tr>\n",
       "      <th>110.0</th>\n",
       "      <td>16.0</td>\n",
       "      <td>17.926142</td>\n",
       "    </tr>\n",
       "    <tr>\n",
       "      <th>140.0</th>\n",
       "      <td>16.0</td>\n",
       "      <td>13.670647</td>\n",
       "    </tr>\n",
       "    <tr>\n",
       "      <th>180.0</th>\n",
       "      <td>16.5</td>\n",
       "      <td>13.700248</td>\n",
       "    </tr>\n",
       "    <tr>\n",
       "      <th>100.0</th>\n",
       "      <td>17.0</td>\n",
       "      <td>17.382554</td>\n",
       "    </tr>\n",
       "    <tr>\n",
       "      <th>150.0</th>\n",
       "      <td>17.0</td>\n",
       "      <td>14.946759</td>\n",
       "    </tr>\n",
       "    <tr>\n",
       "      <th>140.0</th>\n",
       "      <td>17.5</td>\n",
       "      <td>14.575245</td>\n",
       "    </tr>\n",
       "    <tr>\n",
       "      <th>145.0</th>\n",
       "      <td>17.5</td>\n",
       "      <td>17.466425</td>\n",
       "    </tr>\n",
       "    <tr>\n",
       "      <th>112.0</th>\n",
       "      <td>18.0</td>\n",
       "      <td>20.336310</td>\n",
       "    </tr>\n",
       "    <tr>\n",
       "      <th>95.0</th>\n",
       "      <td>18.0</td>\n",
       "      <td>17.324003</td>\n",
       "    </tr>\n",
       "    <tr>\n",
       "      <th>100.0</th>\n",
       "      <td>18.0</td>\n",
       "      <td>17.321446</td>\n",
       "    </tr>\n",
       "    <tr>\n",
       "      <th>105.0</th>\n",
       "      <td>18.0</td>\n",
       "      <td>19.481481</td>\n",
       "    </tr>\n",
       "    <tr>\n",
       "      <th>130.0</th>\n",
       "      <td>18.0</td>\n",
       "      <td>14.966090</td>\n",
       "    </tr>\n",
       "    <tr>\n",
       "      <th>112.0</th>\n",
       "      <td>19.0</td>\n",
       "      <td>21.657696</td>\n",
       "    </tr>\n",
       "    <tr>\n",
       "      <th>95.0</th>\n",
       "      <td>19.0</td>\n",
       "      <td>20.454639</td>\n",
       "    </tr>\n",
       "    <tr>\n",
       "      <th>100.0</th>\n",
       "      <td>19.0</td>\n",
       "      <td>19.626794</td>\n",
       "    </tr>\n",
       "    <tr>\n",
       "      <th>...</th>\n",
       "      <td>...</td>\n",
       "      <td>...</td>\n",
       "    </tr>\n",
       "    <tr>\n",
       "      <th>95.0</th>\n",
       "      <td>25.0</td>\n",
       "      <td>22.932476</td>\n",
       "    </tr>\n",
       "    <tr>\n",
       "      <th>46.0</th>\n",
       "      <td>26.0</td>\n",
       "      <td>28.983853</td>\n",
       "    </tr>\n",
       "    <tr>\n",
       "      <th>78.0</th>\n",
       "      <td>26.0</td>\n",
       "      <td>26.079282</td>\n",
       "    </tr>\n",
       "    <tr>\n",
       "      <th>79.0</th>\n",
       "      <td>26.0</td>\n",
       "      <td>26.802673</td>\n",
       "    </tr>\n",
       "    <tr>\n",
       "      <th>93.0</th>\n",
       "      <td>26.0</td>\n",
       "      <td>27.137044</td>\n",
       "    </tr>\n",
       "    <tr>\n",
       "      <th>80.0</th>\n",
       "      <td>26.0</td>\n",
       "      <td>24.261406</td>\n",
       "    </tr>\n",
       "    <tr>\n",
       "      <th>115.0</th>\n",
       "      <td>26.8</td>\n",
       "      <td>25.616335</td>\n",
       "    </tr>\n",
       "    <tr>\n",
       "      <th>90.0</th>\n",
       "      <td>27.0</td>\n",
       "      <td>27.355526</td>\n",
       "    </tr>\n",
       "    <tr>\n",
       "      <th>80.0</th>\n",
       "      <td>27.4</td>\n",
       "      <td>26.267814</td>\n",
       "    </tr>\n",
       "    <tr>\n",
       "      <th>90.0</th>\n",
       "      <td>28.0</td>\n",
       "      <td>25.197469</td>\n",
       "    </tr>\n",
       "    <tr>\n",
       "      <th>79.0</th>\n",
       "      <td>28.0</td>\n",
       "      <td>29.287835</td>\n",
       "    </tr>\n",
       "    <tr>\n",
       "      <th>90.0</th>\n",
       "      <td>28.0</td>\n",
       "      <td>23.384540</td>\n",
       "    </tr>\n",
       "    <tr>\n",
       "      <th>78.0</th>\n",
       "      <td>29.0</td>\n",
       "      <td>30.755524</td>\n",
       "    </tr>\n",
       "    <tr>\n",
       "      <th>71.0</th>\n",
       "      <td>29.5</td>\n",
       "      <td>30.563912</td>\n",
       "    </tr>\n",
       "    <tr>\n",
       "      <th>62.0</th>\n",
       "      <td>29.8</td>\n",
       "      <td>33.781718</td>\n",
       "    </tr>\n",
       "    <tr>\n",
       "      <th>70.0</th>\n",
       "      <td>30.0</td>\n",
       "      <td>25.822038</td>\n",
       "    </tr>\n",
       "    <tr>\n",
       "      <th>63.0</th>\n",
       "      <td>30.5</td>\n",
       "      <td>29.028887</td>\n",
       "    </tr>\n",
       "    <tr>\n",
       "      <th>52.0</th>\n",
       "      <td>31.0</td>\n",
       "      <td>32.202938</td>\n",
       "    </tr>\n",
       "    <tr>\n",
       "      <th>67.0</th>\n",
       "      <td>31.0</td>\n",
       "      <td>30.375186</td>\n",
       "    </tr>\n",
       "    <tr>\n",
       "      <th>82.0</th>\n",
       "      <td>31.0</td>\n",
       "      <td>28.696560</td>\n",
       "    </tr>\n",
       "    <tr>\n",
       "      <th>61.0</th>\n",
       "      <td>32.0</td>\n",
       "      <td>30.162674</td>\n",
       "    </tr>\n",
       "    <tr>\n",
       "      <th>67.0</th>\n",
       "      <td>32.3</td>\n",
       "      <td>34.974555</td>\n",
       "    </tr>\n",
       "    <tr>\n",
       "      <th>74.0</th>\n",
       "      <td>33.0</td>\n",
       "      <td>32.189246</td>\n",
       "    </tr>\n",
       "    <tr>\n",
       "      <th>63.0</th>\n",
       "      <td>34.7</td>\n",
       "      <td>30.734623</td>\n",
       "    </tr>\n",
       "    <tr>\n",
       "      <th>60.0</th>\n",
       "      <td>35.1</td>\n",
       "      <td>36.597111</td>\n",
       "    </tr>\n",
       "    <tr>\n",
       "      <th>80.0</th>\n",
       "      <td>35.7</td>\n",
       "      <td>30.881271</td>\n",
       "    </tr>\n",
       "    <tr>\n",
       "      <th>74.0</th>\n",
       "      <td>36.0</td>\n",
       "      <td>34.509343</td>\n",
       "    </tr>\n",
       "    <tr>\n",
       "      <th>85.0</th>\n",
       "      <td>38.0</td>\n",
       "      <td>28.305390</td>\n",
       "    </tr>\n",
       "    <tr>\n",
       "      <th>60.0</th>\n",
       "      <td>38.1</td>\n",
       "      <td>34.959459</td>\n",
       "    </tr>\n",
       "    <tr>\n",
       "      <th>58.0</th>\n",
       "      <td>39.1</td>\n",
       "      <td>36.726397</td>\n",
       "    </tr>\n",
       "  </tbody>\n",
       "</table>\n",
       "<p>73 rows × 2 columns</p>\n",
       "</div>"
      ],
      "text/plain": [
       "             mpg       pred\n",
       "horsepower                 \n",
       "180.0       11.0  16.184086\n",
       "150.0       11.0   8.840831\n",
       "180.0       12.0  10.715799\n",
       "129.0       13.0  20.877167\n",
       "150.0       13.0  16.595941\n",
       "170.0       13.0  10.039744\n",
       "170.0       13.0   8.546201\n",
       "160.0       14.0  13.969907\n",
       "165.0       14.0  11.310998\n",
       "148.0       14.0  11.668971\n",
       "175.0       14.0  11.682162\n",
       "215.0       14.0  10.488348\n",
       "72.0        15.0  20.742777\n",
       "150.0       15.0  14.393995\n",
       "120.0       15.5  16.638089\n",
       "110.0       16.0  17.926142\n",
       "140.0       16.0  13.670647\n",
       "180.0       16.5  13.700248\n",
       "100.0       17.0  17.382554\n",
       "150.0       17.0  14.946759\n",
       "140.0       17.5  14.575245\n",
       "145.0       17.5  17.466425\n",
       "112.0       18.0  20.336310\n",
       "95.0        18.0  17.324003\n",
       "100.0       18.0  17.321446\n",
       "105.0       18.0  19.481481\n",
       "130.0       18.0  14.966090\n",
       "112.0       19.0  21.657696\n",
       "95.0        19.0  20.454639\n",
       "100.0       19.0  19.626794\n",
       "...          ...        ...\n",
       "95.0        25.0  22.932476\n",
       "46.0        26.0  28.983853\n",
       "78.0        26.0  26.079282\n",
       "79.0        26.0  26.802673\n",
       "93.0        26.0  27.137044\n",
       "80.0        26.0  24.261406\n",
       "115.0       26.8  25.616335\n",
       "90.0        27.0  27.355526\n",
       "80.0        27.4  26.267814\n",
       "90.0        28.0  25.197469\n",
       "79.0        28.0  29.287835\n",
       "90.0        28.0  23.384540\n",
       "78.0        29.0  30.755524\n",
       "71.0        29.5  30.563912\n",
       "62.0        29.8  33.781718\n",
       "70.0        30.0  25.822038\n",
       "63.0        30.5  29.028887\n",
       "52.0        31.0  32.202938\n",
       "67.0        31.0  30.375186\n",
       "82.0        31.0  28.696560\n",
       "61.0        32.0  30.162674\n",
       "67.0        32.3  34.974555\n",
       "74.0        33.0  32.189246\n",
       "63.0        34.7  30.734623\n",
       "60.0        35.1  36.597111\n",
       "80.0        35.7  30.881271\n",
       "74.0        36.0  34.509343\n",
       "85.0        38.0  28.305390\n",
       "60.0        38.1  34.959459\n",
       "58.0        39.1  36.726397\n",
       "\n",
       "[73 rows x 2 columns]"
      ]
     },
     "execution_count": 12,
     "metadata": {},
     "output_type": "execute_result"
    }
   ],
   "source": [
    "pddf.set_index('horsepower')"
   ]
  },
  {
   "cell_type": "code",
   "execution_count": 14,
   "metadata": {},
   "outputs": [
    {
     "data": {
      "text/plain": [
       "Text(0,0.5,'mpg')"
      ]
     },
     "execution_count": 14,
     "metadata": {},
     "output_type": "execute_result"
    },
    {
     "data": {
      "image/png": "[encoded data removed]",
      "text/plain": [
       "<Figure size 1440x720 with 1 Axes>"
      ]
     },
     "metadata": {},
     "output_type": "display_data"
    }
   ],
   "source": [
    "import matplotlib.pyplot as plt\n",
    "\n",
    "\n",
    "plt.figure(figsize = [20, 10])\n",
    "plt.rcParams.update({'font.size' : 20})\n",
    "gt = plt.scatter(x = pddf['horsepower'], y = pddf['mpg'])\n",
    "pd = plt.scatter(x = pddf['horsepower'], y = pddf['pred'])\n",
    "plt.legend((gt, pd), ('ground truth', 'prediction'))\n",
    "plt.title(\"Performance of Model on Horsepower Variable\")\n",
    "plt.xlabel(\"horsepower\")\n",
    "plt.ylabel(\"mpg\")\n"
   ]
  }
 ],
 "metadata": {
  "kernelspec": {
   "display_name": "conda_python3",
   "language": "python",
   "name": "conda_python3"
  },
  "language_info": {
   "codemirror_mode": {
    "name": "ipython",
    "version": 3
   },
   "file_extension": ".py",
   "mimetype": "text/x-python",
   "name": "python",
   "nbconvert_exporter": "python",
   "pygments_lexer": "ipython3",
   "version": "3.6.5"
  }
 },
 "nbformat": 4,
 "nbformat_minor": 2
}
