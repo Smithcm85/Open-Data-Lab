{
 "cells": [
  {
   "cell_type": "markdown",
   "metadata": {},
   "source": [
    "# DS6003: Pipeline Assignment\n",
    "### Ab Boxley, asb4rf"
   ]
  },
  {
   "cell_type": "markdown",
   "metadata": {},
   "source": [
    "## 1. Create context"
   ]
  },
  {
   "cell_type": "code",
   "execution_count": 2,
   "metadata": {},
   "outputs": [],
   "source": [
    "#Load libraries\n",
    "import pyspark\n",
    "from os import listdir\n",
    "from os.path import isfile, join\n",
    "import boto3\n",
    "import pandas as pd\n",
    "from sagemaker import get_execution_role\n",
    "from pyspark.sql.types import LongType, StringType, StructField, StructType, BooleanType, ArrayType, IntegerType"
   ]
  },
  {
   "cell_type": "code",
   "execution_count": 3,
   "metadata": {},
   "outputs": [
    {
     "data": {
      "text/html": [
       "\n",
       "        <div>\n",
       "            <p><b>SparkContext</b></p>\n",
       "\n",
       "            <p><a href=\"http://172.16.95.41:4046\">Spark UI</a></p>\n",
       "\n",
       "            <dl>\n",
       "              <dt>Version</dt>\n",
       "                <dd><code>v2.2.1</code></dd>\n",
       "              <dt>Master</dt>\n",
       "                <dd><code>local</code></dd>\n",
       "              <dt>AppName</dt>\n",
       "                <dd><code>odl</code></dd>\n",
       "            </dl>\n",
       "        </div>\n",
       "        "
      ],
      "text/plain": [
       "<SparkContext master=local appName=odl>"
      ]
     },
     "execution_count": 3,
     "metadata": {},
     "output_type": "execute_result"
    }
   ],
   "source": [
    "#Create context\n",
    "conf = pyspark.SparkConf().setAppName('odl').setMaster('local')\n",
    "sc = pyspark.SparkContext(conf=conf)\n",
    "sqlc = pyspark.sql.SQLContext(sc)\n",
    "sc"
   ]
  },
  {
   "cell_type": "markdown",
   "metadata": {},
   "source": [
    "## 2. Data preparation"
   ]
  },
  {
   "cell_type": "code",
   "execution_count": 26,
   "metadata": {},
   "outputs": [
    {
     "data": {
      "text/plain": [
       "(14516, 24)"
      ]
     },
     "execution_count": 26,
     "metadata": {},
     "output_type": "execute_result"
    }
   ],
   "source": [
    "#Data: http://opendata.charlottesville.org/datasets/real-estate-residential-details/data\n",
    "role = get_execution_role()\n",
    "bucket='odl-spark19spds6003-001'\n",
    "data_key = 'asb4rf/cville_res_real_estate.csv'\n",
    "data_location = 's3://{}/{}'.format(bucket, data_key)\n",
    "#pd.read_csv(data_location) #Pandas can read directly from and S3 bucket\n",
    "    #But you need permissions - Works here because it's wired into SageMaker\n",
    "    \n",
    "#Create a sql context DF from a pandas DF\n",
    "    #Keep in mind the sqlc is lazy but the read_csv is evaluated and it will not\n",
    "    #work on big files\n",
    "pddf = pd.read_csv(data_location)\n",
    "pddf.shape"
   ]
  },
  {
   "cell_type": "code",
   "execution_count": 27,
   "metadata": {},
   "outputs": [
    {
     "data": {
      "text/html": [
       "<div>\n",
       "<style scoped>\n",
       "    .dataframe tbody tr th:only-of-type {\n",
       "        vertical-align: middle;\n",
       "    }\n",
       "\n",
       "    .dataframe tbody tr th {\n",
       "        vertical-align: top;\n",
       "    }\n",
       "\n",
       "    .dataframe thead th {\n",
       "        text-align: right;\n",
       "    }\n",
       "</style>\n",
       "<table border=\"1\" class=\"dataframe\">\n",
       "  <thead>\n",
       "    <tr style=\"text-align: right;\">\n",
       "      <th></th>\n",
       "      <th>count</th>\n",
       "      <th>unique</th>\n",
       "      <th>top</th>\n",
       "      <th>freq</th>\n",
       "      <th>mean</th>\n",
       "      <th>std</th>\n",
       "      <th>min</th>\n",
       "      <th>25%</th>\n",
       "      <th>50%</th>\n",
       "      <th>75%</th>\n",
       "      <th>max</th>\n",
       "    </tr>\n",
       "  </thead>\n",
       "  <tbody>\n",
       "    <tr>\n",
       "      <th>RecordID_Int</th>\n",
       "      <td>14516</td>\n",
       "      <td>NaN</td>\n",
       "      <td>NaN</td>\n",
       "      <td>NaN</td>\n",
       "      <td>7262.6</td>\n",
       "      <td>4192.46</td>\n",
       "      <td>1</td>\n",
       "      <td>3632.75</td>\n",
       "      <td>7262.5</td>\n",
       "      <td>10893.2</td>\n",
       "      <td>14522</td>\n",
       "    </tr>\n",
       "    <tr>\n",
       "      <th>ParcelNumber</th>\n",
       "      <td>14516</td>\n",
       "      <td>14174</td>\n",
       "      <td>570157008</td>\n",
       "      <td>10</td>\n",
       "      <td>NaN</td>\n",
       "      <td>NaN</td>\n",
       "      <td>NaN</td>\n",
       "      <td>NaN</td>\n",
       "      <td>NaN</td>\n",
       "      <td>NaN</td>\n",
       "      <td>NaN</td>\n",
       "    </tr>\n",
       "    <tr>\n",
       "      <th>StreetNumber</th>\n",
       "      <td>14478</td>\n",
       "      <td>2000</td>\n",
       "      <td>0</td>\n",
       "      <td>685</td>\n",
       "      <td>NaN</td>\n",
       "      <td>NaN</td>\n",
       "      <td>NaN</td>\n",
       "      <td>NaN</td>\n",
       "      <td>NaN</td>\n",
       "      <td>NaN</td>\n",
       "      <td>NaN</td>\n",
       "    </tr>\n",
       "    <tr>\n",
       "      <th>StreetName</th>\n",
       "      <td>14516</td>\n",
       "      <td>586</td>\n",
       "      <td>JEFFERSON PARK AVE</td>\n",
       "      <td>390</td>\n",
       "      <td>NaN</td>\n",
       "      <td>NaN</td>\n",
       "      <td>NaN</td>\n",
       "      <td>NaN</td>\n",
       "      <td>NaN</td>\n",
       "      <td>NaN</td>\n",
       "      <td>NaN</td>\n",
       "    </tr>\n",
       "    <tr>\n",
       "      <th>Unit</th>\n",
       "      <td>1545</td>\n",
       "      <td>584</td>\n",
       "      <td>A&amp;B</td>\n",
       "      <td>69</td>\n",
       "      <td>NaN</td>\n",
       "      <td>NaN</td>\n",
       "      <td>NaN</td>\n",
       "      <td>NaN</td>\n",
       "      <td>NaN</td>\n",
       "      <td>NaN</td>\n",
       "      <td>NaN</td>\n",
       "    </tr>\n",
       "    <tr>\n",
       "      <th>UseCode</th>\n",
       "      <td>14514</td>\n",
       "      <td>50</td>\n",
       "      <td>Single Family</td>\n",
       "      <td>8277</td>\n",
       "      <td>NaN</td>\n",
       "      <td>NaN</td>\n",
       "      <td>NaN</td>\n",
       "      <td>NaN</td>\n",
       "      <td>NaN</td>\n",
       "      <td>NaN</td>\n",
       "      <td>NaN</td>\n",
       "    </tr>\n",
       "    <tr>\n",
       "      <th>Style</th>\n",
       "      <td>13313</td>\n",
       "      <td>31</td>\n",
       "      <td>1 Story</td>\n",
       "      <td>5662</td>\n",
       "      <td>NaN</td>\n",
       "      <td>NaN</td>\n",
       "      <td>NaN</td>\n",
       "      <td>NaN</td>\n",
       "      <td>NaN</td>\n",
       "      <td>NaN</td>\n",
       "      <td>NaN</td>\n",
       "    </tr>\n",
       "    <tr>\n",
       "      <th>Grade</th>\n",
       "      <td>13311</td>\n",
       "      <td>20</td>\n",
       "      <td>C</td>\n",
       "      <td>5689</td>\n",
       "      <td>NaN</td>\n",
       "      <td>NaN</td>\n",
       "      <td>NaN</td>\n",
       "      <td>NaN</td>\n",
       "      <td>NaN</td>\n",
       "      <td>NaN</td>\n",
       "      <td>NaN</td>\n",
       "    </tr>\n",
       "    <tr>\n",
       "      <th>Roof</th>\n",
       "      <td>13240</td>\n",
       "      <td>12</td>\n",
       "      <td>Shingles</td>\n",
       "      <td>9246</td>\n",
       "      <td>NaN</td>\n",
       "      <td>NaN</td>\n",
       "      <td>NaN</td>\n",
       "      <td>NaN</td>\n",
       "      <td>NaN</td>\n",
       "      <td>NaN</td>\n",
       "      <td>NaN</td>\n",
       "    </tr>\n",
       "    <tr>\n",
       "      <th>Flooring</th>\n",
       "      <td>13312</td>\n",
       "      <td>15</td>\n",
       "      <td>Hardwood</td>\n",
       "      <td>9933</td>\n",
       "      <td>NaN</td>\n",
       "      <td>NaN</td>\n",
       "      <td>NaN</td>\n",
       "      <td>NaN</td>\n",
       "      <td>NaN</td>\n",
       "      <td>NaN</td>\n",
       "      <td>NaN</td>\n",
       "    </tr>\n",
       "    <tr>\n",
       "      <th>Heating</th>\n",
       "      <td>13311</td>\n",
       "      <td>14</td>\n",
       "      <td>Forced Air</td>\n",
       "      <td>6136</td>\n",
       "      <td>NaN</td>\n",
       "      <td>NaN</td>\n",
       "      <td>NaN</td>\n",
       "      <td>NaN</td>\n",
       "      <td>NaN</td>\n",
       "      <td>NaN</td>\n",
       "      <td>NaN</td>\n",
       "    </tr>\n",
       "    <tr>\n",
       "      <th>Fireplace</th>\n",
       "      <td>13309</td>\n",
       "      <td>12</td>\n",
       "      <td>0</td>\n",
       "      <td>6800</td>\n",
       "      <td>NaN</td>\n",
       "      <td>NaN</td>\n",
       "      <td>NaN</td>\n",
       "      <td>NaN</td>\n",
       "      <td>NaN</td>\n",
       "      <td>NaN</td>\n",
       "      <td>NaN</td>\n",
       "    </tr>\n",
       "    <tr>\n",
       "      <th>YearBuilt</th>\n",
       "      <td>13098</td>\n",
       "      <td>NaN</td>\n",
       "      <td>NaN</td>\n",
       "      <td>NaN</td>\n",
       "      <td>1956.45</td>\n",
       "      <td>104.369</td>\n",
       "      <td>0</td>\n",
       "      <td>1946</td>\n",
       "      <td>1960</td>\n",
       "      <td>1980</td>\n",
       "      <td>2018</td>\n",
       "    </tr>\n",
       "    <tr>\n",
       "      <th>TotalRooms</th>\n",
       "      <td>13311</td>\n",
       "      <td>25</td>\n",
       "      <td>6</td>\n",
       "      <td>2954</td>\n",
       "      <td>NaN</td>\n",
       "      <td>NaN</td>\n",
       "      <td>NaN</td>\n",
       "      <td>NaN</td>\n",
       "      <td>NaN</td>\n",
       "      <td>NaN</td>\n",
       "      <td>NaN</td>\n",
       "    </tr>\n",
       "    <tr>\n",
       "      <th>Bedrooms</th>\n",
       "      <td>13312</td>\n",
       "      <td>18</td>\n",
       "      <td>3</td>\n",
       "      <td>5740</td>\n",
       "      <td>NaN</td>\n",
       "      <td>NaN</td>\n",
       "      <td>NaN</td>\n",
       "      <td>NaN</td>\n",
       "      <td>NaN</td>\n",
       "      <td>NaN</td>\n",
       "      <td>NaN</td>\n",
       "    </tr>\n",
       "    <tr>\n",
       "      <th>HalfBathrooms</th>\n",
       "      <td>13311</td>\n",
       "      <td>6</td>\n",
       "      <td>0</td>\n",
       "      <td>8596</td>\n",
       "      <td>NaN</td>\n",
       "      <td>NaN</td>\n",
       "      <td>NaN</td>\n",
       "      <td>NaN</td>\n",
       "      <td>NaN</td>\n",
       "      <td>NaN</td>\n",
       "      <td>NaN</td>\n",
       "    </tr>\n",
       "    <tr>\n",
       "      <th>FullBathrooms</th>\n",
       "      <td>13312</td>\n",
       "      <td>12</td>\n",
       "      <td>2</td>\n",
       "      <td>5608</td>\n",
       "      <td>NaN</td>\n",
       "      <td>NaN</td>\n",
       "      <td>NaN</td>\n",
       "      <td>NaN</td>\n",
       "      <td>NaN</td>\n",
       "      <td>NaN</td>\n",
       "      <td>NaN</td>\n",
       "    </tr>\n",
       "    <tr>\n",
       "      <th>BasementGarage</th>\n",
       "      <td>11903</td>\n",
       "      <td>11</td>\n",
       "      <td>0</td>\n",
       "      <td>10668</td>\n",
       "      <td>NaN</td>\n",
       "      <td>NaN</td>\n",
       "      <td>NaN</td>\n",
       "      <td>NaN</td>\n",
       "      <td>NaN</td>\n",
       "      <td>NaN</td>\n",
       "      <td>NaN</td>\n",
       "    </tr>\n",
       "    <tr>\n",
       "      <th>Basement</th>\n",
       "      <td>12292</td>\n",
       "      <td>NaN</td>\n",
       "      <td>NaN</td>\n",
       "      <td>NaN</td>\n",
       "      <td>586.656</td>\n",
       "      <td>552.482</td>\n",
       "      <td>0</td>\n",
       "      <td>0</td>\n",
       "      <td>638</td>\n",
       "      <td>1012</td>\n",
       "      <td>5290</td>\n",
       "    </tr>\n",
       "    <tr>\n",
       "      <th>FinishedBasement</th>\n",
       "      <td>10713</td>\n",
       "      <td>NaN</td>\n",
       "      <td>NaN</td>\n",
       "      <td>NaN</td>\n",
       "      <td>297.632</td>\n",
       "      <td>405.592</td>\n",
       "      <td>0</td>\n",
       "      <td>0</td>\n",
       "      <td>0</td>\n",
       "      <td>596</td>\n",
       "      <td>3790</td>\n",
       "    </tr>\n",
       "    <tr>\n",
       "      <th>BasementType</th>\n",
       "      <td>13116</td>\n",
       "      <td>8</td>\n",
       "      <td>No Basement</td>\n",
       "      <td>5014</td>\n",
       "      <td>NaN</td>\n",
       "      <td>NaN</td>\n",
       "      <td>NaN</td>\n",
       "      <td>NaN</td>\n",
       "      <td>NaN</td>\n",
       "      <td>NaN</td>\n",
       "      <td>NaN</td>\n",
       "    </tr>\n",
       "    <tr>\n",
       "      <th>ExternalWalls</th>\n",
       "      <td>13311</td>\n",
       "      <td>28</td>\n",
       "      <td>Brick Veneer</td>\n",
       "      <td>4699</td>\n",
       "      <td>NaN</td>\n",
       "      <td>NaN</td>\n",
       "      <td>NaN</td>\n",
       "      <td>NaN</td>\n",
       "      <td>NaN</td>\n",
       "      <td>NaN</td>\n",
       "      <td>NaN</td>\n",
       "    </tr>\n",
       "    <tr>\n",
       "      <th>NumberOfStories</th>\n",
       "      <td>13312</td>\n",
       "      <td>38</td>\n",
       "      <td>1.00</td>\n",
       "      <td>6663</td>\n",
       "      <td>NaN</td>\n",
       "      <td>NaN</td>\n",
       "      <td>NaN</td>\n",
       "      <td>NaN</td>\n",
       "      <td>NaN</td>\n",
       "      <td>NaN</td>\n",
       "      <td>NaN</td>\n",
       "    </tr>\n",
       "    <tr>\n",
       "      <th>SquareFootageFinishedLiving</th>\n",
       "      <td>13090</td>\n",
       "      <td>NaN</td>\n",
       "      <td>NaN</td>\n",
       "      <td>NaN</td>\n",
       "      <td>1500.65</td>\n",
       "      <td>739.598</td>\n",
       "      <td>0</td>\n",
       "      <td>1028</td>\n",
       "      <td>1302</td>\n",
       "      <td>1816</td>\n",
       "      <td>10220</td>\n",
       "    </tr>\n",
       "  </tbody>\n",
       "</table>\n",
       "</div>"
      ],
      "text/plain": [
       "                             count unique                 top   freq     mean  \\\n",
       "RecordID_Int                 14516    NaN                 NaN    NaN   7262.6   \n",
       "ParcelNumber                 14516  14174           570157008     10      NaN   \n",
       "StreetNumber                 14478   2000                   0    685      NaN   \n",
       "StreetName                   14516    586  JEFFERSON PARK AVE    390      NaN   \n",
       "Unit                          1545    584                 A&B     69      NaN   \n",
       "UseCode                      14514     50       Single Family   8277      NaN   \n",
       "Style                        13313     31             1 Story   5662      NaN   \n",
       "Grade                        13311     20                   C   5689      NaN   \n",
       "Roof                         13240     12            Shingles   9246      NaN   \n",
       "Flooring                     13312     15            Hardwood   9933      NaN   \n",
       "Heating                      13311     14          Forced Air   6136      NaN   \n",
       "Fireplace                    13309     12                   0   6800      NaN   \n",
       "YearBuilt                    13098    NaN                 NaN    NaN  1956.45   \n",
       "TotalRooms                   13311     25                   6   2954      NaN   \n",
       "Bedrooms                     13312     18                   3   5740      NaN   \n",
       "HalfBathrooms                13311      6                   0   8596      NaN   \n",
       "FullBathrooms                13312     12                   2   5608      NaN   \n",
       "BasementGarage               11903     11                   0  10668      NaN   \n",
       "Basement                     12292    NaN                 NaN    NaN  586.656   \n",
       "FinishedBasement             10713    NaN                 NaN    NaN  297.632   \n",
       "BasementType                 13116      8         No Basement   5014      NaN   \n",
       "ExternalWalls                13311     28        Brick Veneer   4699      NaN   \n",
       "NumberOfStories              13312     38                1.00   6663      NaN   \n",
       "SquareFootageFinishedLiving  13090    NaN                 NaN    NaN  1500.65   \n",
       "\n",
       "                                 std  min      25%     50%      75%    max  \n",
       "RecordID_Int                 4192.46    1  3632.75  7262.5  10893.2  14522  \n",
       "ParcelNumber                     NaN  NaN      NaN     NaN      NaN    NaN  \n",
       "StreetNumber                     NaN  NaN      NaN     NaN      NaN    NaN  \n",
       "StreetName                       NaN  NaN      NaN     NaN      NaN    NaN  \n",
       "Unit                             NaN  NaN      NaN     NaN      NaN    NaN  \n",
       "UseCode                          NaN  NaN      NaN     NaN      NaN    NaN  \n",
       "Style                            NaN  NaN      NaN     NaN      NaN    NaN  \n",
       "Grade                            NaN  NaN      NaN     NaN      NaN    NaN  \n",
       "Roof                             NaN  NaN      NaN     NaN      NaN    NaN  \n",
       "Flooring                         NaN  NaN      NaN     NaN      NaN    NaN  \n",
       "Heating                          NaN  NaN      NaN     NaN      NaN    NaN  \n",
       "Fireplace                        NaN  NaN      NaN     NaN      NaN    NaN  \n",
       "YearBuilt                    104.369    0     1946    1960     1980   2018  \n",
       "TotalRooms                       NaN  NaN      NaN     NaN      NaN    NaN  \n",
       "Bedrooms                         NaN  NaN      NaN     NaN      NaN    NaN  \n",
       "HalfBathrooms                    NaN  NaN      NaN     NaN      NaN    NaN  \n",
       "FullBathrooms                    NaN  NaN      NaN     NaN      NaN    NaN  \n",
       "BasementGarage                   NaN  NaN      NaN     NaN      NaN    NaN  \n",
       "Basement                     552.482    0        0     638     1012   5290  \n",
       "FinishedBasement             405.592    0        0       0      596   3790  \n",
       "BasementType                     NaN  NaN      NaN     NaN      NaN    NaN  \n",
       "ExternalWalls                    NaN  NaN      NaN     NaN      NaN    NaN  \n",
       "NumberOfStories                  NaN  NaN      NaN     NaN      NaN    NaN  \n",
       "SquareFootageFinishedLiving  739.598    0     1028    1302     1816  10220  "
      ]
     },
     "execution_count": 27,
     "metadata": {},
     "output_type": "execute_result"
    }
   ],
   "source": [
    "pddf.describe(include=\"all\").transpose()"
   ]
  },
  {
   "cell_type": "code",
   "execution_count": 61,
   "metadata": {},
   "outputs": [
    {
     "data": {
      "text/plain": [
       "RecordID_Int                     int64\n",
       "ParcelNumber                    object\n",
       "StreetNumber                    object\n",
       "StreetName                      object\n",
       "Unit                            object\n",
       "UseCode                         object\n",
       "Style                           object\n",
       "Grade                           object\n",
       "Roof                            object\n",
       "Flooring                        object\n",
       "Heating                         object\n",
       "Fireplace                       object\n",
       "YearBuilt                      float64\n",
       "TotalRooms                      object\n",
       "Bedrooms                        object\n",
       "HalfBathrooms                   object\n",
       "FullBathrooms                   object\n",
       "BasementGarage                  object\n",
       "Basement                       float64\n",
       "FinishedBasement               float64\n",
       "BasementType                    object\n",
       "ExternalWalls                   object\n",
       "NumberOfStories                 object\n",
       "SquareFootageFinishedLiving    float64\n",
       "dtype: object"
      ]
     },
     "execution_count": 61,
     "metadata": {},
     "output_type": "execute_result"
    }
   ],
   "source": [
    "pddf.dtypes"
   ]
  },
  {
   "cell_type": "code",
   "execution_count": 28,
   "metadata": {},
   "outputs": [
    {
     "data": {
      "text/plain": [
       "(96, 24)"
      ]
     },
     "execution_count": 28,
     "metadata": {},
     "output_type": "execute_result"
    }
   ],
   "source": [
    "#Try dropping NAs\n",
    "pddf.dropna().shape"
   ]
  },
  {
   "cell_type": "code",
   "execution_count": 67,
   "metadata": {},
   "outputs": [
    {
     "data": {
      "text/plain": [
       "(9341, 4)"
      ]
     },
     "execution_count": 67,
     "metadata": {},
     "output_type": "execute_result"
    }
   ],
   "source": [
    "#Dropping NAs is too draconian, let's try limiting to the columns we'll use\n",
    "pddf_ = pddf.loc[:, [\"YearBuilt\",\"SquareFootageFinishedLiving\", \"Basement\", \"FinishedBasement\"]].dropna()\n",
    "#pddf = pddf.loc[:, [\"YearBuilt\",\"SquareFootageFinishedLiving\",\"NumberOfStories\"]].dropna()\n",
    "pddf_.shape"
   ]
  },
  {
   "cell_type": "code",
   "execution_count": 68,
   "metadata": {},
   "outputs": [],
   "source": [
    "#pddf[[\"a\", \"b\"]] =\n",
    "#pddf[[\"TotalRooms\", \"Bedrooms\"]].apply(pd.to_numeric).dtypes"
   ]
  },
  {
   "cell_type": "code",
   "execution_count": 69,
   "metadata": {},
   "outputs": [
    {
     "name": "stderr",
     "output_type": "stream",
     "text": [
      "/home/ec2-user/anaconda3/envs/python3/lib/python3.6/site-packages/ipykernel/__main__.py:2: UserWarning: Boolean Series key will be reindexed to match DataFrame index.\n",
      "  from ipykernel import kernelapp as app\n"
     ]
    },
    {
     "data": {
      "text/plain": [
       "(9320, 5)"
      ]
     },
     "execution_count": 69,
     "metadata": {},
     "output_type": "execute_result"
    }
   ],
   "source": [
    "#Remove year built before 1600\n",
    "pddf_ = pddf_[pddf['YearBuilt']>1600].reset_index()\n",
    "pddf_.shape"
   ]
  },
  {
   "cell_type": "code",
   "execution_count": 70,
   "metadata": {},
   "outputs": [
    {
     "name": "stdout",
     "output_type": "stream",
     "text": [
      "[Row(index=0, YearBuilt=1967.0, SquareFootageFinishedLiving=1518.0, Basement=1518.0, FinishedBasement=759.0), Row(index=1, YearBuilt=1966.0, SquareFootageFinishedLiving=1138.0, Basement=1163.0, FinishedBasement=540.0)]\n"
     ]
    }
   ],
   "source": [
    "#Covert to sql df (because pyarrow is not available to write to parquet)\n",
    "df = sqlc.createDataFrame(pddf_)\n",
    "print(df.take(2))"
   ]
  },
  {
   "cell_type": "code",
   "execution_count": 71,
   "metadata": {},
   "outputs": [],
   "source": [
    "#Export to parquet\n",
    "parquet_path = '/home/ec2-user/SageMaker/Open-Data-Lab/education/Spark19SpDS6003-001/asb4rf/asb4rf_pipeline_exercise/df_parquet'\n",
    "df.write.parquet(parquet_path, mode = \"overwrite\")"
   ]
  },
  {
   "cell_type": "code",
   "execution_count": 72,
   "metadata": {},
   "outputs": [
    {
     "data": {
      "text/plain": [
       "DataFrame[index: bigint, YearBuilt: double, SquareFootageFinishedLiving: double, Basement: double, FinishedBasement: double]"
      ]
     },
     "execution_count": 72,
     "metadata": {},
     "output_type": "execute_result"
    }
   ],
   "source": [
    "#Read back in parquet\n",
    "dat = sqlc.read.parquet(parquet_path)\n",
    "dat"
   ]
  },
  {
   "cell_type": "markdown",
   "metadata": {},
   "source": [
    "## 3. MLlib based analysis\n",
    "### Predicting home size"
   ]
  },
  {
   "cell_type": "code",
   "execution_count": 73,
   "metadata": {},
   "outputs": [
    {
     "name": "stdout",
     "output_type": "stream",
     "text": [
      "root\n",
      " |-- index: long (nullable = true)\n",
      " |-- YearBuilt: double (nullable = true)\n",
      " |-- SquareFootageFinishedLiving: double (nullable = true)\n",
      " |-- Basement: double (nullable = true)\n",
      " |-- FinishedBasement: double (nullable = true)\n",
      "\n"
     ]
    }
   ],
   "source": [
    "#Peep the fields\n",
    "dat.printSchema()"
   ]
  },
  {
   "cell_type": "code",
   "execution_count": 74,
   "metadata": {},
   "outputs": [
    {
     "name": "stdout",
     "output_type": "stream",
     "text": [
      "training set N = 7458, test set N = 1862\n"
     ]
    }
   ],
   "source": [
    "# create train/test sets\n",
    "seed = 99\n",
    "(testDF, trainingDF) = dat.randomSplit((0.20, 0.80), seed=seed)\n",
    "print ('training set N = {}, test set N = {}'.format(trainingDF.count(),testDF.count()))"
   ]
  },
  {
   "cell_type": "code",
   "execution_count": 75,
   "metadata": {},
   "outputs": [],
   "source": [
    "from pyspark.ml.linalg import Vectors, VectorUDT"
   ]
  },
  {
   "cell_type": "code",
   "execution_count": 76,
   "metadata": {},
   "outputs": [],
   "source": [
    "# make a user defined function (udf)\n",
    "sqlc.registerFunction(\"oneElementVec\", lambda d: Vectors.dense([d]), returnType=VectorUDT())\n",
    "\n",
    "# vectorize the data frames\n",
    "trainingDF = trainingDF.selectExpr(\"SquareFootageFinishedLiving\", \"oneElementVec(YearBuilt) as YearBuilt\")\n",
    "testDF = testDF.selectExpr(\"SquareFootageFinishedLiving\", \"oneElementVec(YearBuilt) as YearBuilt\")\n",
    "\n"
   ]
  },
  {
   "cell_type": "code",
   "execution_count": 77,
   "metadata": {},
   "outputs": [],
   "source": [
    "# rename to make ML engine happy\n",
    "trainingDF = trainingDF.withColumnRenamed(\"SquareFootageFinishedLiving\", \"label\")\\\n",
    "    .withColumnRenamed(\"YearBuilt\", \"features\")\n",
    "#    .withColumnRenamed([\"YearBuilt\", \"NumberOfStories\"], \"features\")\n",
    "testDF = testDF.withColumnRenamed(\"SquareFootageFinishedLiving\", \"label\")\\\n",
    "    .withColumnRenamed(\"YearBuilt\", \"features\")"
   ]
  },
  {
   "cell_type": "code",
   "execution_count": 78,
   "metadata": {},
   "outputs": [],
   "source": [
    "from pyspark.ml.regression import LinearRegression, LinearRegressionModel\n",
    "\n",
    "lr = LinearRegression()\n",
    "lrModel = lr.fit(trainingDF)"
   ]
  },
  {
   "cell_type": "code",
   "execution_count": 79,
   "metadata": {},
   "outputs": [
    {
     "data": {
      "text/plain": [
       "pyspark.ml.regression.LinearRegressionModel"
      ]
     },
     "execution_count": 79,
     "metadata": {},
     "output_type": "execute_result"
    }
   ],
   "source": [
    "type(lrModel)"
   ]
  },
  {
   "cell_type": "code",
   "execution_count": 80,
   "metadata": {},
   "outputs": [
    {
     "name": "stdout",
     "output_type": "stream",
     "text": [
      "[Row(label=5900.0, features=DenseVector([2018.0]), prediction=1197.1935590335797), Row(label=5870.0, features=DenseVector([1920.0]), prediction=1654.8915580902158), Row(label=5338.0, features=DenseVector([1912.0]), prediction=1692.2546600540227), Row(label=5159.0, features=DenseVector([1929.0]), prediction=1612.8580683809323), Row(label=4883.0, features=DenseVector([1921.0]), prediction=1650.2211703447392)]\n"
     ]
    }
   ],
   "source": [
    "predictionsAndLabelsDF = lrModel.transform(testDF)\n",
    "\n",
    "print(predictionsAndLabelsDF.orderBy(predictionsAndLabelsDF.label.desc()).take(5))"
   ]
  },
  {
   "cell_type": "code",
   "execution_count": 81,
   "metadata": {},
   "outputs": [
    {
     "name": "stdout",
     "output_type": "stream",
     "text": [
      "labelCol: label column name. (default: label)\n",
      "metricName: metric name in evaluation - one of:\n",
      "                       rmse - root mean squared error (default)\n",
      "                       mse - mean squared error\n",
      "                       r2 - r^2 metric\n",
      "                       mae - mean absolute error. (default: rmse)\n",
      "predictionCol: prediction column name. (default: prediction)\n"
     ]
    }
   ],
   "source": [
    "#MODEL EVALUATION\n",
    "from pyspark.ml.evaluation import RegressionEvaluator\n",
    "eval = RegressionEvaluator()\n",
    "print(eval.explainParams())"
   ]
  },
  {
   "cell_type": "code",
   "execution_count": 82,
   "metadata": {},
   "outputs": [
    {
     "data": {
      "text/plain": [
       "pyspark.ml.evaluation.RegressionEvaluator"
      ]
     },
     "execution_count": 82,
     "metadata": {},
     "output_type": "execute_result"
    }
   ],
   "source": [
    "type(eval)"
   ]
  },
  {
   "cell_type": "code",
   "execution_count": 83,
   "metadata": {},
   "outputs": [
    {
     "data": {
      "text/plain": [
       "663.6175552438172"
      ]
     },
     "execution_count": 83,
     "metadata": {},
     "output_type": "execute_result"
    }
   ],
   "source": [
    "eval.setMetricName(\"rmse\").evaluate(predictionsAndLabelsDF)"
   ]
  },
  {
   "cell_type": "code",
   "execution_count": 84,
   "metadata": {},
   "outputs": [
    {
     "data": {
      "text/plain": [
       "0.005613662064261171"
      ]
     },
     "execution_count": 84,
     "metadata": {},
     "output_type": "execute_result"
    }
   ],
   "source": [
    "eval.setMetricName(\"r2\").evaluate(predictionsAndLabelsDF)"
   ]
  },
  {
   "cell_type": "markdown",
   "metadata": {},
   "source": [
    "## 4. Visualization of results"
   ]
  },
  {
   "cell_type": "code",
   "execution_count": 47,
   "metadata": {},
   "outputs": [
    {
     "data": {
      "text/plain": [
       "<matplotlib.axes._subplots.AxesSubplot at 0x7f1de8056128>"
      ]
     },
     "execution_count": 47,
     "metadata": {},
     "output_type": "execute_result"
    },
    {
     "data": {
      "image/png": "[encoded data removed]",
      "text/plain": [
       "<Figure size 432x288 with 1 Axes>"
      ]
     },
     "metadata": {},
     "output_type": "display_data"
    }
   ],
   "source": [
    "#Not really results, but explains the terrible performance\n",
    "pddf_.plot.scatter(x='YearBuilt', y='SquareFootageFinishedLiving')"
   ]
  },
  {
   "cell_type": "code",
   "execution_count": 96,
   "metadata": {},
   "outputs": [
    {
     "data": {
      "text/plain": [
       "<matplotlib.axes._subplots.AxesSubplot at 0x7f1dd4df2a58>"
      ]
     },
     "execution_count": 96,
     "metadata": {},
     "output_type": "execute_result"
    },
    {
     "data": {
      "image/png": "[encoded data removed]",
      "text/plain": [
       "<Figure size 432x288 with 1 Axes>"
      ]
     },
     "metadata": {},
     "output_type": "display_data"
    }
   ],
   "source": [
    "#Not really results, but explains the terrible performance\n",
    "pddf_.plot.scatter(x='Basement', y='SquareFootageFinishedLiving')"
   ]
  },
  {
   "cell_type": "code",
   "execution_count": 97,
   "metadata": {},
   "outputs": [
    {
     "data": {
      "text/plain": [
       "<matplotlib.axes._subplots.AxesSubplot at 0x7f1dd4f659e8>"
      ]
     },
     "execution_count": 97,
     "metadata": {},
     "output_type": "execute_result"
    },
    {
     "data": {
      "image/png": "[encoded data removed]",
      "text/plain": [
       "<Figure size 432x288 with 1 Axes>"
      ]
     },
     "metadata": {},
     "output_type": "display_data"
    }
   ],
   "source": [
    "#Not really results, but explains the terrible performance\n",
    "pddf_.plot.scatter(x='FinishedBasement', y='SquareFootageFinishedLiving')"
   ]
  },
  {
   "cell_type": "markdown",
   "metadata": {},
   "source": [
    "## Epilogue: More vars"
   ]
  },
  {
   "cell_type": "code",
   "execution_count": 85,
   "metadata": {},
   "outputs": [
    {
     "name": "stdout",
     "output_type": "stream",
     "text": [
      "[Row(YearBuilt=1967.0, SquareFootageFinishedLiving=1518.0, Basement=1518.0, FinishedBasement=759.0), Row(YearBuilt=1966.0, SquareFootageFinishedLiving=1138.0, Basement=1163.0, FinishedBasement=540.0)]\n"
     ]
    }
   ],
   "source": [
    "#Covert to sql df\n",
    "pddf_s = pddf.loc[:, [\"YearBuilt\",\"SquareFootageFinishedLiving\", \"Basement\", \"FinishedBasement\"]].dropna()\n",
    "pddf_s.shape\n",
    "sdf_wide = sqlc.createDataFrame(pddf_s)\n",
    "print(sdf_wide.take(2))"
   ]
  },
  {
   "cell_type": "code",
   "execution_count": 92,
   "metadata": {},
   "outputs": [
    {
     "name": "stdout",
     "output_type": "stream",
     "text": [
      "+--------------------+---------------------------+\n",
      "|            features|SquareFootageFinishedLiving|\n",
      "+--------------------+---------------------------+\n",
      "|[1967.0,1518.0,75...|                     1518.0|\n",
      "|[1966.0,1163.0,54...|                     1138.0|\n",
      "|[1967.0,1160.0,72...|                     1133.0|\n",
      "+--------------------+---------------------------+\n",
      "only showing top 3 rows\n",
      "\n"
     ]
    }
   ],
   "source": [
    "from pyspark.ml.feature import VectorAssembler\n",
    "vectorAssembler = VectorAssembler(inputCols = [\"YearBuilt\", \"Basement\", \"FinishedBasement\"], outputCol = 'features')\n",
    "v_df = vectorAssembler.transform(sdf_wide)\n",
    "v_df = v_df.select(['features', \"SquareFootageFinishedLiving\"])\n",
    "v_df.show(3)"
   ]
  },
  {
   "cell_type": "code",
   "execution_count": 93,
   "metadata": {},
   "outputs": [],
   "source": [
    "splits = v_df.randomSplit([0.7, 0.3])\n",
    "train_df = splits[0]\n",
    "test_df = splits[1]"
   ]
  },
  {
   "cell_type": "code",
   "execution_count": 94,
   "metadata": {},
   "outputs": [
    {
     "name": "stdout",
     "output_type": "stream",
     "text": [
      "Coefficients: [0.11474342299878845,0.5113935343088267,-0.16341000580021925]\n",
      "Intercept: 961.8555268274384\n"
     ]
    }
   ],
   "source": [
    "from pyspark.ml.regression import LinearRegression\n",
    "lr = LinearRegression(featuresCol = 'features', labelCol='SquareFootageFinishedLiving', maxIter=10, regParam=0.3, elasticNetParam=0.8)\n",
    "lr_model = lr.fit(train_df)\n",
    "print(\"Coefficients: \" + str(lr_model.coefficients))\n",
    "print(\"Intercept: \" + str(lr_model.intercept))"
   ]
  },
  {
   "cell_type": "code",
   "execution_count": 95,
   "metadata": {},
   "outputs": [
    {
     "name": "stdout",
     "output_type": "stream",
     "text": [
      "RMSE: 669.835504\n",
      "r2: 0.113822\n"
     ]
    }
   ],
   "source": [
    "trainingSummary = lr_model.summary\n",
    "print(\"RMSE: %f\" % trainingSummary.rootMeanSquaredError)\n",
    "print(\"r2: %f\" % trainingSummary.r2)"
   ]
  }
 ],
 "metadata": {
  "kernelspec": {
   "display_name": "conda_python3",
   "language": "python",
   "name": "conda_python3"
  }
 },
 "nbformat": 4,
 "nbformat_minor": 2
}
