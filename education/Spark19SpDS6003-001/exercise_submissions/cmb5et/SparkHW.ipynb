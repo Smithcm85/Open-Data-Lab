{
 "cells": [
  {
   "cell_type": "code",
   "execution_count": 1,
   "metadata": {},
   "outputs": [],
   "source": [
    "# Catherine Beazley\n",
    "# Spark HW DS6003\n",
    "# 1-28-2019"
   ]
  },
  {
   "cell_type": "code",
   "execution_count": 2,
   "metadata": {},
   "outputs": [],
   "source": [
    "import pyspark\n",
    "from os import listdir\n",
    "from os.path import isfile, join\n",
    "import boto3\n",
    "import pandas as pd\n",
    "from sagemaker import get_execution_role\n",
    "from pyspark.sql.types import LongType, StringType, StructField, StructType, BooleanType, ArrayType, IntegerType"
   ]
  },
  {
   "cell_type": "code",
   "execution_count": 3,
   "metadata": {},
   "outputs": [],
   "source": [
    "# Initializing the spark environment \n",
    "conf = pyspark.SparkConf().setAppName('cmb5et').setMaster('local')\n",
    "sc = pyspark.SparkContext(conf=conf)\n",
    "sqlc = pyspark.sql.SQLContext(sc)"
   ]
  },
  {
   "cell_type": "code",
   "execution_count": 4,
   "metadata": {},
   "outputs": [],
   "source": [
    "# Connecting to S3 bucket and reading csv into Spark dataframe\n",
    "role = get_execution_role()\n",
    "bucket='odl-spark19spds6003-001'\n",
    "data_key = 'checkouts-by-title-head.csv'\n",
    "data_location = 's3://{}/{}'.format(bucket, data_key)"
   ]
  },
  {
   "cell_type": "code",
   "execution_count": 5,
   "metadata": {},
   "outputs": [],
   "source": [
    "pddf = pd.read_csv(data_location)"
   ]
  },
  {
   "cell_type": "code",
   "execution_count": 6,
   "metadata": {},
   "outputs": [],
   "source": [
    "# Removing Nas to get rid of the error from mixing datatypes\n",
    "pddf = pddf.dropna() "
   ]
  },
  {
   "cell_type": "code",
   "execution_count": 7,
   "metadata": {},
   "outputs": [],
   "source": [
    "# Creating the Spark Dataframe\n",
    "df = sqlc.createDataFrame(pddf)"
   ]
  },
  {
   "cell_type": "code",
   "execution_count": 8,
   "metadata": {},
   "outputs": [],
   "source": [
    "# Converting to and Reading from Parquet\n",
    "parquetPath = '/home/ec2-user/SageMaker/Open-Data-Lab/education/Spark19SpDS6003-001/cmb5et_test-parquet2'\n",
    "df.write.parquet(parquetPath)\n",
    "df = sqlc.read.parquet(parquetPath)"
   ]
  },
  {
   "cell_type": "code",
   "execution_count": 9,
   "metadata": {},
   "outputs": [
    {
     "data": {
      "text/plain": [
       "DataFrame[UsageClass: string, CheckoutType: string, MaterialType: string, CheckoutYear: bigint, CheckoutMonth: bigint, Checkouts: bigint, Title: string, Creator: string, Subjects: string, Publisher: string, PublicationYear: string]"
      ]
     },
     "metadata": {},
     "output_type": "display_data"
    }
   ],
   "source": [
    "display(df)"
   ]
  },
  {
   "cell_type": "code",
   "execution_count": 10,
   "metadata": {},
   "outputs": [],
   "source": [
    "# ML Assignment: Predicting Usage Class Using Logistic Regression: Do CheckoutYear, CheckoutMonth, \n",
    "# and Checkouts predict UsageClass, meaning whether the item is physical or digital? "
   ]
  },
  {
   "cell_type": "code",
   "execution_count": 11,
   "metadata": {},
   "outputs": [],
   "source": [
    "df = df.select('UsageClass', 'CheckoutYear', 'CheckoutMonth', 'Checkouts')"
   ]
  },
  {
   "cell_type": "code",
   "execution_count": 12,
   "metadata": {},
   "outputs": [
    {
     "name": "stdout",
     "output_type": "stream",
     "text": [
      "+----------+------------+-------------+---------+-----------------+\n",
      "|UsageClass|CheckoutYear|CheckoutMonth|Checkouts|         features|\n",
      "+----------+------------+-------------+---------+-----------------+\n",
      "|  Physical|        2005|            4|        3| [2005.0,4.0,3.0]|\n",
      "|  Physical|        2005|            4|        4| [2005.0,4.0,4.0]|\n",
      "|  Physical|        2005|            4|        1| [2005.0,4.0,1.0]|\n",
      "|  Physical|        2005|            4|        3| [2005.0,4.0,3.0]|\n",
      "|  Physical|        2005|            4|        1| [2005.0,4.0,1.0]|\n",
      "|  Physical|        2005|            4|        1| [2005.0,4.0,1.0]|\n",
      "|  Physical|        2005|            4|       16|[2005.0,4.0,16.0]|\n",
      "|  Physical|        2005|            4|        1| [2005.0,4.0,1.0]|\n",
      "|  Physical|        2005|            4|        3| [2005.0,4.0,3.0]|\n",
      "|  Physical|        2005|            4|        5| [2005.0,4.0,5.0]|\n",
      "|  Physical|        2005|            4|        1| [2005.0,4.0,1.0]|\n",
      "|  Physical|        2005|            4|        2| [2005.0,4.0,2.0]|\n",
      "|  Physical|        2005|            4|        6| [2005.0,4.0,6.0]|\n",
      "|  Physical|        2005|            4|        2| [2005.0,4.0,2.0]|\n",
      "|  Physical|        2005|            4|        3| [2005.0,4.0,3.0]|\n",
      "|  Physical|        2005|            4|        3| [2005.0,4.0,3.0]|\n",
      "|  Physical|        2005|            4|        3| [2005.0,4.0,3.0]|\n",
      "|  Physical|        2005|            4|        3| [2005.0,4.0,3.0]|\n",
      "|  Physical|        2005|            4|        1| [2005.0,4.0,1.0]|\n",
      "|  Physical|        2005|            4|        1| [2005.0,4.0,1.0]|\n",
      "+----------+------------+-------------+---------+-----------------+\n",
      "only showing top 20 rows\n",
      "\n"
     ]
    }
   ],
   "source": [
    "# Vectorizing by creating a dense vector of the features \n",
    "from pyspark.ml.feature import RFormula\n",
    "rf = RFormula(formula=\"~ CheckoutYear +  CheckoutMonth + Checkouts\")\n",
    "final_df_rf = rf.fit(df).transform(df)\n",
    "final_df_rf.show()"
   ]
  },
  {
   "cell_type": "code",
   "execution_count": 13,
   "metadata": {},
   "outputs": [
    {
     "name": "stdout",
     "output_type": "stream",
     "text": [
      "+----------+------------+-------------+---------+-----------------+----------------+\n",
      "|UsageClass|CheckoutYear|CheckoutMonth|Checkouts|         features|UsageClassBinary|\n",
      "+----------+------------+-------------+---------+-----------------+----------------+\n",
      "|  Physical|        2005|            4|        3| [2005.0,4.0,3.0]|             0.0|\n",
      "|  Physical|        2005|            4|        4| [2005.0,4.0,4.0]|             0.0|\n",
      "|  Physical|        2005|            4|        1| [2005.0,4.0,1.0]|             0.0|\n",
      "|  Physical|        2005|            4|        3| [2005.0,4.0,3.0]|             0.0|\n",
      "|  Physical|        2005|            4|        1| [2005.0,4.0,1.0]|             0.0|\n",
      "|  Physical|        2005|            4|        1| [2005.0,4.0,1.0]|             0.0|\n",
      "|  Physical|        2005|            4|       16|[2005.0,4.0,16.0]|             0.0|\n",
      "|  Physical|        2005|            4|        1| [2005.0,4.0,1.0]|             0.0|\n",
      "|  Physical|        2005|            4|        3| [2005.0,4.0,3.0]|             0.0|\n",
      "|  Physical|        2005|            4|        5| [2005.0,4.0,5.0]|             0.0|\n",
      "|  Physical|        2005|            4|        1| [2005.0,4.0,1.0]|             0.0|\n",
      "|  Physical|        2005|            4|        2| [2005.0,4.0,2.0]|             0.0|\n",
      "|  Physical|        2005|            4|        6| [2005.0,4.0,6.0]|             0.0|\n",
      "|  Physical|        2005|            4|        2| [2005.0,4.0,2.0]|             0.0|\n",
      "|  Physical|        2005|            4|        3| [2005.0,4.0,3.0]|             0.0|\n",
      "|  Physical|        2005|            4|        3| [2005.0,4.0,3.0]|             0.0|\n",
      "|  Physical|        2005|            4|        3| [2005.0,4.0,3.0]|             0.0|\n",
      "|  Physical|        2005|            4|        3| [2005.0,4.0,3.0]|             0.0|\n",
      "|  Physical|        2005|            4|        1| [2005.0,4.0,1.0]|             0.0|\n",
      "|  Physical|        2005|            4|        1| [2005.0,4.0,1.0]|             0.0|\n",
      "+----------+------------+-------------+---------+-----------------+----------------+\n",
      "only showing top 20 rows\n",
      "\n"
     ]
    }
   ],
   "source": [
    "# Converting the UsageClass columns to a categorical column with binary 0-1 values\n",
    "from pyspark.ml.feature import StringIndexer\n",
    "indexer = StringIndexer(inputCol=\"UsageClass\", outputCol=\"UsageClassBinary\")\n",
    "indexed = indexer.fit(final_df_rf).transform(final_df_rf)\n",
    "indexed.show()"
   ]
  },
  {
   "cell_type": "code",
   "execution_count": 14,
   "metadata": {},
   "outputs": [
    {
     "name": "stdout",
     "output_type": "stream",
     "text": [
      "+-----------------+----------------+\n",
      "|         features|UsageClassBinary|\n",
      "+-----------------+----------------+\n",
      "| [2005.0,4.0,3.0]|             0.0|\n",
      "| [2005.0,4.0,4.0]|             0.0|\n",
      "| [2005.0,4.0,1.0]|             0.0|\n",
      "| [2005.0,4.0,3.0]|             0.0|\n",
      "| [2005.0,4.0,1.0]|             0.0|\n",
      "| [2005.0,4.0,1.0]|             0.0|\n",
      "|[2005.0,4.0,16.0]|             0.0|\n",
      "| [2005.0,4.0,1.0]|             0.0|\n",
      "| [2005.0,4.0,3.0]|             0.0|\n",
      "| [2005.0,4.0,5.0]|             0.0|\n",
      "| [2005.0,4.0,1.0]|             0.0|\n",
      "| [2005.0,4.0,2.0]|             0.0|\n",
      "| [2005.0,4.0,6.0]|             0.0|\n",
      "| [2005.0,4.0,2.0]|             0.0|\n",
      "| [2005.0,4.0,3.0]|             0.0|\n",
      "| [2005.0,4.0,3.0]|             0.0|\n",
      "| [2005.0,4.0,3.0]|             0.0|\n",
      "| [2005.0,4.0,3.0]|             0.0|\n",
      "| [2005.0,4.0,1.0]|             0.0|\n",
      "| [2005.0,4.0,1.0]|             0.0|\n",
      "+-----------------+----------------+\n",
      "only showing top 20 rows\n",
      "\n"
     ]
    }
   ],
   "source": [
    "df = indexed.select('features', 'UsageClassBinary')\n",
    "df.show()"
   ]
  },
  {
   "cell_type": "code",
   "execution_count": 15,
   "metadata": {},
   "outputs": [],
   "source": [
    "from pyspark.ml.classification import LogisticRegression"
   ]
  },
  {
   "cell_type": "code",
   "execution_count": 16,
   "metadata": {},
   "outputs": [
    {
     "name": "stdout",
     "output_type": "stream",
     "text": [
      "training set N = 202404, test set N = 50984\n"
     ]
    }
   ],
   "source": [
    "# Splitting the data into train and test sets\n",
    "seed = 1996\n",
    "(testDF, trainingDF) = df.randomSplit((0.20, 0.80), seed=seed)\n",
    "print ('training set N = {}, test set N = {}'.format(trainingDF.count(),testDF.count()))"
   ]
  },
  {
   "cell_type": "code",
   "execution_count": 17,
   "metadata": {},
   "outputs": [],
   "source": [
    "# Renaming for the ML engine\n",
    "trainingDF = trainingDF.withColumnRenamed(\"UsageClassBinary\", \"label\").withColumnRenamed(\"features\", \"features\")\n",
    "testDF = testDF.withColumnRenamed(\"UsageClassBinary\", \"label\").withColumnRenamed(\"features\", \"features\")"
   ]
  },
  {
   "cell_type": "code",
   "execution_count": 18,
   "metadata": {},
   "outputs": [],
   "source": [
    "# Fitting a model to the training data\n",
    "lr = LogisticRegression(maxIter=10, regParam=0.3, elasticNetParam=0.8)\n",
    "lrModel = lr.fit(trainingDF)"
   ]
  },
  {
   "cell_type": "code",
   "execution_count": 19,
   "metadata": {},
   "outputs": [
    {
     "name": "stdout",
     "output_type": "stream",
     "text": [
      "[Row(features=DenseVector([2005.0, 9.0, 1.0]), label=1.0, rawPrediction=DenseVector([5.002, -5.002]), probability=DenseVector([0.9933, 0.0067]), prediction=0.0), Row(features=DenseVector([2005.0, 9.0, 1.0]), label=1.0, rawPrediction=DenseVector([5.002, -5.002]), probability=DenseVector([0.9933, 0.0067]), prediction=0.0), Row(features=DenseVector([2005.0, 9.0, 1.0]), label=1.0, rawPrediction=DenseVector([5.002, -5.002]), probability=DenseVector([0.9933, 0.0067]), prediction=0.0), Row(features=DenseVector([2005.0, 9.0, 1.0]), label=1.0, rawPrediction=DenseVector([5.002, -5.002]), probability=DenseVector([0.9933, 0.0067]), prediction=0.0), Row(features=DenseVector([2005.0, 9.0, 1.0]), label=1.0, rawPrediction=DenseVector([5.002, -5.002]), probability=DenseVector([0.9933, 0.0067]), prediction=0.0)]\n"
     ]
    }
   ],
   "source": [
    "# Transforming test set to get predictions\n",
    "predictionsAndLabelsDF = lrModel.transform(testDF)\n",
    "print(predictionsAndLabelsDF.orderBy(predictionsAndLabelsDF.label.desc()).take(5))"
   ]
  },
  {
   "cell_type": "code",
   "execution_count": 20,
   "metadata": {},
   "outputs": [
    {
     "name": "stdout",
     "output_type": "stream",
     "text": [
      "labelCol: label column name. (default: label)\n",
      "metricName: metric name in evaluation (areaUnderROC|areaUnderPR) (default: areaUnderROC)\n",
      "rawPredictionCol: raw prediction (a.k.a. confidence) column name. (default: rawPrediction)\n"
     ]
    }
   ],
   "source": [
    "# Evaluating the Model\n",
    "from pyspark.ml.evaluation import BinaryClassificationEvaluator\n",
    "eval = BinaryClassificationEvaluator()\n",
    "print(eval.explainParams())"
   ]
  },
  {
   "cell_type": "code",
   "execution_count": 21,
   "metadata": {},
   "outputs": [
    {
     "data": {
      "text/plain": [
       "0.5"
      ]
     },
     "execution_count": 21,
     "metadata": {},
     "output_type": "execute_result"
    }
   ],
   "source": [
    "eval.setMetricName(\"areaUnderROC\").evaluate(predictionsAndLabelsDF)"
   ]
  },
  {
   "cell_type": "code",
   "execution_count": 22,
   "metadata": {},
   "outputs": [],
   "source": [
    "import matplotlib.pyplot as plt"
   ]
  },
  {
   "cell_type": "code",
   "execution_count": 23,
   "metadata": {},
   "outputs": [
    {
     "data": {
      "image/png": "[encoded data removed]",
      "text/plain": [
       "<Figure size 432x288 with 1 Axes>"
      ]
     },
     "metadata": {},
     "output_type": "display_data"
    }
   ],
   "source": [
    "trainingSummary = lrModel.summary\n",
    "roc = trainingSummary.roc.toPandas()\n",
    "plt.plot(roc['FPR'],roc['TPR'])\n",
    "plt.ylabel('False Positive Rate')\n",
    "plt.xlabel('True Positive Rate')\n",
    "plt.title('ROC Curve')\n",
    "plt.show()"
   ]
  },
  {
   "cell_type": "code",
   "execution_count": 24,
   "metadata": {},
   "outputs": [
    {
     "data": {
      "text/plain": [
       "0.5033638004079711"
      ]
     },
     "execution_count": 24,
     "metadata": {},
     "output_type": "execute_result"
    }
   ],
   "source": [
    "eval.setMetricName(\"areaUnderPR\").evaluate(predictionsAndLabelsDF)"
   ]
  },
  {
   "cell_type": "code",
   "execution_count": 25,
   "metadata": {},
   "outputs": [
    {
     "data": {
      "image/png": "[encoded data removed]",
      "text/plain": [
       "<Figure size 432x288 with 1 Axes>"
      ]
     },
     "metadata": {},
     "output_type": "display_data"
    }
   ],
   "source": [
    "pr = trainingSummary.pr.toPandas()\n",
    "plt.plot(pr['recall'],pr['precision'])\n",
    "plt.ylabel('Precision')\n",
    "plt.xlabel('Recall')\n",
    "plt.title('PR Curve')\n",
    "plt.show()"
   ]
  }
 ],
 "metadata": {
  "kernelspec": {
   "display_name": "conda_python3",
   "language": "python",
   "name": "conda_python3"
  },
  "language_info": {
   "codemirror_mode": {
    "name": "ipython",
    "version": 3
   },
   "file_extension": ".py",
   "mimetype": "text/x-python",
   "name": "python",
   "nbconvert_exporter": "python",
   "pygments_lexer": "ipython3",
   "version": "3.6.5"
  }
 },
 "nbformat": 4,
 "nbformat_minor": 2
}
