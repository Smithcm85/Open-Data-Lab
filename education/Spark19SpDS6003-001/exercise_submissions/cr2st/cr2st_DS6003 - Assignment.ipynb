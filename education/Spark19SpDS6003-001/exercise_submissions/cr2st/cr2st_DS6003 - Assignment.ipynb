{
 "cells": [
  {
   "cell_type": "code",
   "execution_count": 1,
   "metadata": {},
   "outputs": [],
   "source": [
    "#importing necessary libraries\n",
    "import pyspark\n",
    "from os import listdir\n",
    "from os.path import isfile, join\n",
    "import boto3\n",
    "import pandas as pd\n",
    "from sagemaker import get_execution_role\n",
    "from pyspark.sql.types import LongType, StringType, StructField, StructType, BooleanType, ArrayType, IntegerType"
   ]
  },
  {
   "cell_type": "markdown",
   "metadata": {},
   "source": [
    "# initializing spark environment"
   ]
  },
  {
   "cell_type": "code",
   "execution_count": 2,
   "metadata": {},
   "outputs": [
    {
     "data": {
      "text/html": [
       "\n",
       "        <div>\n",
       "            <p><b>SparkContext</b></p>\n",
       "\n",
       "            <p><a href=\"http://172.16.95.41:4042\">Spark UI</a></p>\n",
       "\n",
       "            <dl>\n",
       "              <dt>Version</dt>\n",
       "                <dd><code>v2.2.1</code></dd>\n",
       "              <dt>Master</dt>\n",
       "                <dd><code>local</code></dd>\n",
       "              <dt>AppName</dt>\n",
       "                <dd><code>odl</code></dd>\n",
       "            </dl>\n",
       "        </div>\n",
       "        "
      ],
      "text/plain": [
       "<SparkContext master=local appName=odl>"
      ]
     },
     "execution_count": 2,
     "metadata": {},
     "output_type": "execute_result"
    }
   ],
   "source": [
    "conf = pyspark.SparkConf().setAppName('odl').setMaster('local')\n",
    "sc = pyspark.SparkContext(conf=conf)\n",
    "sqlc = pyspark.sql.SQLContext(sc)\n",
    "sc"
   ]
  },
  {
   "cell_type": "code",
   "execution_count": 3,
   "metadata": {},
   "outputs": [
    {
     "data": {
      "text/plain": [
       "<pyspark.sql.context.SQLContext at 0x7f48d08bbe48>"
      ]
     },
     "execution_count": 3,
     "metadata": {},
     "output_type": "execute_result"
    }
   ],
   "source": [
    "sqlc"
   ]
  },
  {
   "cell_type": "markdown",
   "metadata": {},
   "source": [
    "# connect to S3"
   ]
  },
  {
   "cell_type": "code",
   "execution_count": 4,
   "metadata": {},
   "outputs": [
    {
     "data": {
      "text/html": [
       "<div>\n",
       "<style scoped>\n",
       "    .dataframe tbody tr th:only-of-type {\n",
       "        vertical-align: middle;\n",
       "    }\n",
       "\n",
       "    .dataframe tbody tr th {\n",
       "        vertical-align: top;\n",
       "    }\n",
       "\n",
       "    .dataframe thead th {\n",
       "        text-align: right;\n",
       "    }\n",
       "</style>\n",
       "<table border=\"1\" class=\"dataframe\">\n",
       "  <thead>\n",
       "    <tr style=\"text-align: right;\">\n",
       "      <th></th>\n",
       "      <th>No</th>\n",
       "      <th>transaction date</th>\n",
       "      <th>age</th>\n",
       "      <th>distance to the nearest MRT station</th>\n",
       "      <th>convenience stores</th>\n",
       "      <th>X5 latitude</th>\n",
       "      <th>X6 longitude</th>\n",
       "      <th>price</th>\n",
       "    </tr>\n",
       "  </thead>\n",
       "  <tbody>\n",
       "    <tr>\n",
       "      <th>0</th>\n",
       "      <td>1</td>\n",
       "      <td>2012.917</td>\n",
       "      <td>32.0</td>\n",
       "      <td>84.87882</td>\n",
       "      <td>10</td>\n",
       "      <td>24.98298</td>\n",
       "      <td>121.54024</td>\n",
       "      <td>37.9</td>\n",
       "    </tr>\n",
       "    <tr>\n",
       "      <th>1</th>\n",
       "      <td>2</td>\n",
       "      <td>2012.917</td>\n",
       "      <td>19.5</td>\n",
       "      <td>306.59470</td>\n",
       "      <td>9</td>\n",
       "      <td>24.98034</td>\n",
       "      <td>121.53951</td>\n",
       "      <td>42.2</td>\n",
       "    </tr>\n",
       "    <tr>\n",
       "      <th>2</th>\n",
       "      <td>3</td>\n",
       "      <td>2013.583</td>\n",
       "      <td>13.3</td>\n",
       "      <td>561.98450</td>\n",
       "      <td>5</td>\n",
       "      <td>24.98746</td>\n",
       "      <td>121.54391</td>\n",
       "      <td>47.3</td>\n",
       "    </tr>\n",
       "    <tr>\n",
       "      <th>3</th>\n",
       "      <td>4</td>\n",
       "      <td>2013.500</td>\n",
       "      <td>13.3</td>\n",
       "      <td>561.98450</td>\n",
       "      <td>5</td>\n",
       "      <td>24.98746</td>\n",
       "      <td>121.54391</td>\n",
       "      <td>54.8</td>\n",
       "    </tr>\n",
       "    <tr>\n",
       "      <th>4</th>\n",
       "      <td>5</td>\n",
       "      <td>2012.833</td>\n",
       "      <td>5.0</td>\n",
       "      <td>390.56840</td>\n",
       "      <td>5</td>\n",
       "      <td>24.97937</td>\n",
       "      <td>121.54245</td>\n",
       "      <td>43.1</td>\n",
       "    </tr>\n",
       "    <tr>\n",
       "      <th>5</th>\n",
       "      <td>6</td>\n",
       "      <td>2012.667</td>\n",
       "      <td>7.1</td>\n",
       "      <td>2175.03000</td>\n",
       "      <td>3</td>\n",
       "      <td>24.96305</td>\n",
       "      <td>121.51254</td>\n",
       "      <td>32.1</td>\n",
       "    </tr>\n",
       "    <tr>\n",
       "      <th>6</th>\n",
       "      <td>7</td>\n",
       "      <td>2012.667</td>\n",
       "      <td>34.5</td>\n",
       "      <td>623.47310</td>\n",
       "      <td>7</td>\n",
       "      <td>24.97933</td>\n",
       "      <td>121.53642</td>\n",
       "      <td>40.3</td>\n",
       "    </tr>\n",
       "    <tr>\n",
       "      <th>7</th>\n",
       "      <td>8</td>\n",
       "      <td>2013.417</td>\n",
       "      <td>20.3</td>\n",
       "      <td>287.60250</td>\n",
       "      <td>6</td>\n",
       "      <td>24.98042</td>\n",
       "      <td>121.54228</td>\n",
       "      <td>46.7</td>\n",
       "    </tr>\n",
       "    <tr>\n",
       "      <th>8</th>\n",
       "      <td>9</td>\n",
       "      <td>2013.500</td>\n",
       "      <td>31.7</td>\n",
       "      <td>5512.03800</td>\n",
       "      <td>1</td>\n",
       "      <td>24.95095</td>\n",
       "      <td>121.48458</td>\n",
       "      <td>18.8</td>\n",
       "    </tr>\n",
       "    <tr>\n",
       "      <th>9</th>\n",
       "      <td>10</td>\n",
       "      <td>2013.417</td>\n",
       "      <td>17.9</td>\n",
       "      <td>1783.18000</td>\n",
       "      <td>3</td>\n",
       "      <td>24.96731</td>\n",
       "      <td>121.51486</td>\n",
       "      <td>22.1</td>\n",
       "    </tr>\n",
       "    <tr>\n",
       "      <th>10</th>\n",
       "      <td>11</td>\n",
       "      <td>2013.083</td>\n",
       "      <td>34.8</td>\n",
       "      <td>405.21340</td>\n",
       "      <td>1</td>\n",
       "      <td>24.97349</td>\n",
       "      <td>121.53372</td>\n",
       "      <td>41.4</td>\n",
       "    </tr>\n",
       "    <tr>\n",
       "      <th>11</th>\n",
       "      <td>12</td>\n",
       "      <td>2013.333</td>\n",
       "      <td>6.3</td>\n",
       "      <td>90.45606</td>\n",
       "      <td>9</td>\n",
       "      <td>24.97433</td>\n",
       "      <td>121.54310</td>\n",
       "      <td>58.1</td>\n",
       "    </tr>\n",
       "    <tr>\n",
       "      <th>12</th>\n",
       "      <td>13</td>\n",
       "      <td>2012.917</td>\n",
       "      <td>13.0</td>\n",
       "      <td>492.23130</td>\n",
       "      <td>5</td>\n",
       "      <td>24.96515</td>\n",
       "      <td>121.53737</td>\n",
       "      <td>39.3</td>\n",
       "    </tr>\n",
       "    <tr>\n",
       "      <th>13</th>\n",
       "      <td>14</td>\n",
       "      <td>2012.667</td>\n",
       "      <td>20.4</td>\n",
       "      <td>2469.64500</td>\n",
       "      <td>4</td>\n",
       "      <td>24.96108</td>\n",
       "      <td>121.51046</td>\n",
       "      <td>23.8</td>\n",
       "    </tr>\n",
       "    <tr>\n",
       "      <th>14</th>\n",
       "      <td>15</td>\n",
       "      <td>2013.500</td>\n",
       "      <td>13.2</td>\n",
       "      <td>1164.83800</td>\n",
       "      <td>4</td>\n",
       "      <td>24.99156</td>\n",
       "      <td>121.53406</td>\n",
       "      <td>34.3</td>\n",
       "    </tr>\n",
       "    <tr>\n",
       "      <th>15</th>\n",
       "      <td>16</td>\n",
       "      <td>2013.583</td>\n",
       "      <td>35.7</td>\n",
       "      <td>579.20830</td>\n",
       "      <td>2</td>\n",
       "      <td>24.98240</td>\n",
       "      <td>121.54619</td>\n",
       "      <td>50.5</td>\n",
       "    </tr>\n",
       "    <tr>\n",
       "      <th>16</th>\n",
       "      <td>17</td>\n",
       "      <td>2013.250</td>\n",
       "      <td>0.0</td>\n",
       "      <td>292.99780</td>\n",
       "      <td>6</td>\n",
       "      <td>24.97744</td>\n",
       "      <td>121.54458</td>\n",
       "      <td>70.1</td>\n",
       "    </tr>\n",
       "    <tr>\n",
       "      <th>17</th>\n",
       "      <td>18</td>\n",
       "      <td>2012.750</td>\n",
       "      <td>17.7</td>\n",
       "      <td>350.85150</td>\n",
       "      <td>1</td>\n",
       "      <td>24.97544</td>\n",
       "      <td>121.53119</td>\n",
       "      <td>37.4</td>\n",
       "    </tr>\n",
       "    <tr>\n",
       "      <th>18</th>\n",
       "      <td>19</td>\n",
       "      <td>2013.417</td>\n",
       "      <td>16.9</td>\n",
       "      <td>368.13630</td>\n",
       "      <td>8</td>\n",
       "      <td>24.96750</td>\n",
       "      <td>121.54451</td>\n",
       "      <td>42.3</td>\n",
       "    </tr>\n",
       "    <tr>\n",
       "      <th>19</th>\n",
       "      <td>20</td>\n",
       "      <td>2012.667</td>\n",
       "      <td>1.5</td>\n",
       "      <td>23.38284</td>\n",
       "      <td>7</td>\n",
       "      <td>24.96772</td>\n",
       "      <td>121.54102</td>\n",
       "      <td>47.7</td>\n",
       "    </tr>\n",
       "    <tr>\n",
       "      <th>20</th>\n",
       "      <td>21</td>\n",
       "      <td>2013.417</td>\n",
       "      <td>4.5</td>\n",
       "      <td>2275.87700</td>\n",
       "      <td>3</td>\n",
       "      <td>24.96314</td>\n",
       "      <td>121.51151</td>\n",
       "      <td>29.3</td>\n",
       "    </tr>\n",
       "    <tr>\n",
       "      <th>21</th>\n",
       "      <td>22</td>\n",
       "      <td>2013.417</td>\n",
       "      <td>10.5</td>\n",
       "      <td>279.17260</td>\n",
       "      <td>7</td>\n",
       "      <td>24.97528</td>\n",
       "      <td>121.54541</td>\n",
       "      <td>51.6</td>\n",
       "    </tr>\n",
       "    <tr>\n",
       "      <th>22</th>\n",
       "      <td>23</td>\n",
       "      <td>2012.917</td>\n",
       "      <td>14.7</td>\n",
       "      <td>1360.13900</td>\n",
       "      <td>1</td>\n",
       "      <td>24.95204</td>\n",
       "      <td>121.54842</td>\n",
       "      <td>24.6</td>\n",
       "    </tr>\n",
       "    <tr>\n",
       "      <th>23</th>\n",
       "      <td>24</td>\n",
       "      <td>2013.083</td>\n",
       "      <td>10.1</td>\n",
       "      <td>279.17260</td>\n",
       "      <td>7</td>\n",
       "      <td>24.97528</td>\n",
       "      <td>121.54541</td>\n",
       "      <td>47.9</td>\n",
       "    </tr>\n",
       "    <tr>\n",
       "      <th>24</th>\n",
       "      <td>25</td>\n",
       "      <td>2013.000</td>\n",
       "      <td>39.6</td>\n",
       "      <td>480.69770</td>\n",
       "      <td>4</td>\n",
       "      <td>24.97353</td>\n",
       "      <td>121.53885</td>\n",
       "      <td>38.8</td>\n",
       "    </tr>\n",
       "    <tr>\n",
       "      <th>25</th>\n",
       "      <td>26</td>\n",
       "      <td>2013.083</td>\n",
       "      <td>29.3</td>\n",
       "      <td>1487.86800</td>\n",
       "      <td>2</td>\n",
       "      <td>24.97542</td>\n",
       "      <td>121.51726</td>\n",
       "      <td>27.0</td>\n",
       "    </tr>\n",
       "    <tr>\n",
       "      <th>26</th>\n",
       "      <td>27</td>\n",
       "      <td>2012.667</td>\n",
       "      <td>3.1</td>\n",
       "      <td>383.86240</td>\n",
       "      <td>5</td>\n",
       "      <td>24.98085</td>\n",
       "      <td>121.54391</td>\n",
       "      <td>56.2</td>\n",
       "    </tr>\n",
       "    <tr>\n",
       "      <th>27</th>\n",
       "      <td>28</td>\n",
       "      <td>2013.250</td>\n",
       "      <td>10.4</td>\n",
       "      <td>276.44900</td>\n",
       "      <td>5</td>\n",
       "      <td>24.95593</td>\n",
       "      <td>121.53913</td>\n",
       "      <td>33.6</td>\n",
       "    </tr>\n",
       "    <tr>\n",
       "      <th>28</th>\n",
       "      <td>29</td>\n",
       "      <td>2013.500</td>\n",
       "      <td>19.2</td>\n",
       "      <td>557.47800</td>\n",
       "      <td>4</td>\n",
       "      <td>24.97419</td>\n",
       "      <td>121.53797</td>\n",
       "      <td>47.0</td>\n",
       "    </tr>\n",
       "    <tr>\n",
       "      <th>29</th>\n",
       "      <td>30</td>\n",
       "      <td>2013.083</td>\n",
       "      <td>7.1</td>\n",
       "      <td>451.24380</td>\n",
       "      <td>5</td>\n",
       "      <td>24.97563</td>\n",
       "      <td>121.54694</td>\n",
       "      <td>57.1</td>\n",
       "    </tr>\n",
       "    <tr>\n",
       "      <th>...</th>\n",
       "      <td>...</td>\n",
       "      <td>...</td>\n",
       "      <td>...</td>\n",
       "      <td>...</td>\n",
       "      <td>...</td>\n",
       "      <td>...</td>\n",
       "      <td>...</td>\n",
       "      <td>...</td>\n",
       "    </tr>\n",
       "    <tr>\n",
       "      <th>384</th>\n",
       "      <td>385</td>\n",
       "      <td>2012.750</td>\n",
       "      <td>16.1</td>\n",
       "      <td>4066.58700</td>\n",
       "      <td>0</td>\n",
       "      <td>24.94297</td>\n",
       "      <td>121.50342</td>\n",
       "      <td>12.9</td>\n",
       "    </tr>\n",
       "    <tr>\n",
       "      <th>385</th>\n",
       "      <td>386</td>\n",
       "      <td>2013.000</td>\n",
       "      <td>18.3</td>\n",
       "      <td>82.88643</td>\n",
       "      <td>10</td>\n",
       "      <td>24.98300</td>\n",
       "      <td>121.54026</td>\n",
       "      <td>46.6</td>\n",
       "    </tr>\n",
       "    <tr>\n",
       "      <th>386</th>\n",
       "      <td>387</td>\n",
       "      <td>2012.833</td>\n",
       "      <td>0.0</td>\n",
       "      <td>185.42960</td>\n",
       "      <td>0</td>\n",
       "      <td>24.97110</td>\n",
       "      <td>121.53170</td>\n",
       "      <td>55.3</td>\n",
       "    </tr>\n",
       "    <tr>\n",
       "      <th>387</th>\n",
       "      <td>388</td>\n",
       "      <td>2013.250</td>\n",
       "      <td>16.2</td>\n",
       "      <td>2103.55500</td>\n",
       "      <td>3</td>\n",
       "      <td>24.96042</td>\n",
       "      <td>121.51462</td>\n",
       "      <td>25.6</td>\n",
       "    </tr>\n",
       "    <tr>\n",
       "      <th>388</th>\n",
       "      <td>389</td>\n",
       "      <td>2013.500</td>\n",
       "      <td>10.4</td>\n",
       "      <td>2251.93800</td>\n",
       "      <td>4</td>\n",
       "      <td>24.95957</td>\n",
       "      <td>121.51353</td>\n",
       "      <td>27.3</td>\n",
       "    </tr>\n",
       "    <tr>\n",
       "      <th>389</th>\n",
       "      <td>390</td>\n",
       "      <td>2013.250</td>\n",
       "      <td>40.9</td>\n",
       "      <td>122.36190</td>\n",
       "      <td>8</td>\n",
       "      <td>24.96756</td>\n",
       "      <td>121.54230</td>\n",
       "      <td>67.7</td>\n",
       "    </tr>\n",
       "    <tr>\n",
       "      <th>390</th>\n",
       "      <td>391</td>\n",
       "      <td>2013.500</td>\n",
       "      <td>32.8</td>\n",
       "      <td>377.83020</td>\n",
       "      <td>9</td>\n",
       "      <td>24.97151</td>\n",
       "      <td>121.54350</td>\n",
       "      <td>38.6</td>\n",
       "    </tr>\n",
       "    <tr>\n",
       "      <th>391</th>\n",
       "      <td>392</td>\n",
       "      <td>2013.583</td>\n",
       "      <td>6.2</td>\n",
       "      <td>1939.74900</td>\n",
       "      <td>1</td>\n",
       "      <td>24.95155</td>\n",
       "      <td>121.55387</td>\n",
       "      <td>31.3</td>\n",
       "    </tr>\n",
       "    <tr>\n",
       "      <th>392</th>\n",
       "      <td>393</td>\n",
       "      <td>2013.083</td>\n",
       "      <td>42.7</td>\n",
       "      <td>443.80200</td>\n",
       "      <td>6</td>\n",
       "      <td>24.97927</td>\n",
       "      <td>121.53874</td>\n",
       "      <td>35.3</td>\n",
       "    </tr>\n",
       "    <tr>\n",
       "      <th>393</th>\n",
       "      <td>394</td>\n",
       "      <td>2013.000</td>\n",
       "      <td>16.9</td>\n",
       "      <td>967.40000</td>\n",
       "      <td>4</td>\n",
       "      <td>24.98872</td>\n",
       "      <td>121.53408</td>\n",
       "      <td>40.3</td>\n",
       "    </tr>\n",
       "    <tr>\n",
       "      <th>394</th>\n",
       "      <td>395</td>\n",
       "      <td>2013.500</td>\n",
       "      <td>32.6</td>\n",
       "      <td>4136.27100</td>\n",
       "      <td>1</td>\n",
       "      <td>24.95544</td>\n",
       "      <td>121.49630</td>\n",
       "      <td>24.7</td>\n",
       "    </tr>\n",
       "    <tr>\n",
       "      <th>395</th>\n",
       "      <td>396</td>\n",
       "      <td>2012.917</td>\n",
       "      <td>21.2</td>\n",
       "      <td>512.54870</td>\n",
       "      <td>4</td>\n",
       "      <td>24.97400</td>\n",
       "      <td>121.53842</td>\n",
       "      <td>42.5</td>\n",
       "    </tr>\n",
       "    <tr>\n",
       "      <th>396</th>\n",
       "      <td>397</td>\n",
       "      <td>2012.667</td>\n",
       "      <td>37.1</td>\n",
       "      <td>918.63570</td>\n",
       "      <td>1</td>\n",
       "      <td>24.97198</td>\n",
       "      <td>121.55063</td>\n",
       "      <td>31.9</td>\n",
       "    </tr>\n",
       "    <tr>\n",
       "      <th>397</th>\n",
       "      <td>398</td>\n",
       "      <td>2013.417</td>\n",
       "      <td>13.1</td>\n",
       "      <td>1164.83800</td>\n",
       "      <td>4</td>\n",
       "      <td>24.99156</td>\n",
       "      <td>121.53406</td>\n",
       "      <td>32.2</td>\n",
       "    </tr>\n",
       "    <tr>\n",
       "      <th>398</th>\n",
       "      <td>399</td>\n",
       "      <td>2013.417</td>\n",
       "      <td>14.7</td>\n",
       "      <td>1717.19300</td>\n",
       "      <td>2</td>\n",
       "      <td>24.96447</td>\n",
       "      <td>121.51649</td>\n",
       "      <td>23.0</td>\n",
       "    </tr>\n",
       "    <tr>\n",
       "      <th>399</th>\n",
       "      <td>400</td>\n",
       "      <td>2012.917</td>\n",
       "      <td>12.7</td>\n",
       "      <td>170.12890</td>\n",
       "      <td>1</td>\n",
       "      <td>24.97371</td>\n",
       "      <td>121.52984</td>\n",
       "      <td>37.3</td>\n",
       "    </tr>\n",
       "    <tr>\n",
       "      <th>400</th>\n",
       "      <td>401</td>\n",
       "      <td>2013.250</td>\n",
       "      <td>26.8</td>\n",
       "      <td>482.75810</td>\n",
       "      <td>5</td>\n",
       "      <td>24.97433</td>\n",
       "      <td>121.53863</td>\n",
       "      <td>35.5</td>\n",
       "    </tr>\n",
       "    <tr>\n",
       "      <th>401</th>\n",
       "      <td>402</td>\n",
       "      <td>2013.083</td>\n",
       "      <td>7.6</td>\n",
       "      <td>2175.03000</td>\n",
       "      <td>3</td>\n",
       "      <td>24.96305</td>\n",
       "      <td>121.51254</td>\n",
       "      <td>27.7</td>\n",
       "    </tr>\n",
       "    <tr>\n",
       "      <th>402</th>\n",
       "      <td>403</td>\n",
       "      <td>2012.833</td>\n",
       "      <td>12.7</td>\n",
       "      <td>187.48230</td>\n",
       "      <td>1</td>\n",
       "      <td>24.97388</td>\n",
       "      <td>121.52981</td>\n",
       "      <td>28.5</td>\n",
       "    </tr>\n",
       "    <tr>\n",
       "      <th>403</th>\n",
       "      <td>404</td>\n",
       "      <td>2012.667</td>\n",
       "      <td>30.9</td>\n",
       "      <td>161.94200</td>\n",
       "      <td>9</td>\n",
       "      <td>24.98353</td>\n",
       "      <td>121.53966</td>\n",
       "      <td>39.7</td>\n",
       "    </tr>\n",
       "    <tr>\n",
       "      <th>404</th>\n",
       "      <td>405</td>\n",
       "      <td>2013.333</td>\n",
       "      <td>16.4</td>\n",
       "      <td>289.32480</td>\n",
       "      <td>5</td>\n",
       "      <td>24.98203</td>\n",
       "      <td>121.54348</td>\n",
       "      <td>41.2</td>\n",
       "    </tr>\n",
       "    <tr>\n",
       "      <th>405</th>\n",
       "      <td>406</td>\n",
       "      <td>2012.667</td>\n",
       "      <td>23.0</td>\n",
       "      <td>130.99450</td>\n",
       "      <td>6</td>\n",
       "      <td>24.95663</td>\n",
       "      <td>121.53765</td>\n",
       "      <td>37.2</td>\n",
       "    </tr>\n",
       "    <tr>\n",
       "      <th>406</th>\n",
       "      <td>407</td>\n",
       "      <td>2013.167</td>\n",
       "      <td>1.9</td>\n",
       "      <td>372.13860</td>\n",
       "      <td>7</td>\n",
       "      <td>24.97293</td>\n",
       "      <td>121.54026</td>\n",
       "      <td>40.5</td>\n",
       "    </tr>\n",
       "    <tr>\n",
       "      <th>407</th>\n",
       "      <td>408</td>\n",
       "      <td>2013.000</td>\n",
       "      <td>5.2</td>\n",
       "      <td>2408.99300</td>\n",
       "      <td>0</td>\n",
       "      <td>24.95505</td>\n",
       "      <td>121.55964</td>\n",
       "      <td>22.3</td>\n",
       "    </tr>\n",
       "    <tr>\n",
       "      <th>408</th>\n",
       "      <td>409</td>\n",
       "      <td>2013.417</td>\n",
       "      <td>18.5</td>\n",
       "      <td>2175.74400</td>\n",
       "      <td>3</td>\n",
       "      <td>24.96330</td>\n",
       "      <td>121.51243</td>\n",
       "      <td>28.1</td>\n",
       "    </tr>\n",
       "    <tr>\n",
       "      <th>409</th>\n",
       "      <td>410</td>\n",
       "      <td>2013.000</td>\n",
       "      <td>13.7</td>\n",
       "      <td>4082.01500</td>\n",
       "      <td>0</td>\n",
       "      <td>24.94155</td>\n",
       "      <td>121.50381</td>\n",
       "      <td>15.4</td>\n",
       "    </tr>\n",
       "    <tr>\n",
       "      <th>410</th>\n",
       "      <td>411</td>\n",
       "      <td>2012.667</td>\n",
       "      <td>5.6</td>\n",
       "      <td>90.45606</td>\n",
       "      <td>9</td>\n",
       "      <td>24.97433</td>\n",
       "      <td>121.54310</td>\n",
       "      <td>50.0</td>\n",
       "    </tr>\n",
       "    <tr>\n",
       "      <th>411</th>\n",
       "      <td>412</td>\n",
       "      <td>2013.250</td>\n",
       "      <td>18.8</td>\n",
       "      <td>390.96960</td>\n",
       "      <td>7</td>\n",
       "      <td>24.97923</td>\n",
       "      <td>121.53986</td>\n",
       "      <td>40.6</td>\n",
       "    </tr>\n",
       "    <tr>\n",
       "      <th>412</th>\n",
       "      <td>413</td>\n",
       "      <td>2013.000</td>\n",
       "      <td>8.1</td>\n",
       "      <td>104.81010</td>\n",
       "      <td>5</td>\n",
       "      <td>24.96674</td>\n",
       "      <td>121.54067</td>\n",
       "      <td>52.5</td>\n",
       "    </tr>\n",
       "    <tr>\n",
       "      <th>413</th>\n",
       "      <td>414</td>\n",
       "      <td>2013.500</td>\n",
       "      <td>6.5</td>\n",
       "      <td>90.45606</td>\n",
       "      <td>9</td>\n",
       "      <td>24.97433</td>\n",
       "      <td>121.54310</td>\n",
       "      <td>63.9</td>\n",
       "    </tr>\n",
       "  </tbody>\n",
       "</table>\n",
       "<p>414 rows × 8 columns</p>\n",
       "</div>"
      ],
      "text/plain": [
       "      No  transaction date   age  distance to the nearest MRT station  \\\n",
       "0      1          2012.917  32.0                             84.87882   \n",
       "1      2          2012.917  19.5                            306.59470   \n",
       "2      3          2013.583  13.3                            561.98450   \n",
       "3      4          2013.500  13.3                            561.98450   \n",
       "4      5          2012.833   5.0                            390.56840   \n",
       "5      6          2012.667   7.1                           2175.03000   \n",
       "6      7          2012.667  34.5                            623.47310   \n",
       "7      8          2013.417  20.3                            287.60250   \n",
       "8      9          2013.500  31.7                           5512.03800   \n",
       "9     10          2013.417  17.9                           1783.18000   \n",
       "10    11          2013.083  34.8                            405.21340   \n",
       "11    12          2013.333   6.3                             90.45606   \n",
       "12    13          2012.917  13.0                            492.23130   \n",
       "13    14          2012.667  20.4                           2469.64500   \n",
       "14    15          2013.500  13.2                           1164.83800   \n",
       "15    16          2013.583  35.7                            579.20830   \n",
       "16    17          2013.250   0.0                            292.99780   \n",
       "17    18          2012.750  17.7                            350.85150   \n",
       "18    19          2013.417  16.9                            368.13630   \n",
       "19    20          2012.667   1.5                             23.38284   \n",
       "20    21          2013.417   4.5                           2275.87700   \n",
       "21    22          2013.417  10.5                            279.17260   \n",
       "22    23          2012.917  14.7                           1360.13900   \n",
       "23    24          2013.083  10.1                            279.17260   \n",
       "24    25          2013.000  39.6                            480.69770   \n",
       "25    26          2013.083  29.3                           1487.86800   \n",
       "26    27          2012.667   3.1                            383.86240   \n",
       "27    28          2013.250  10.4                            276.44900   \n",
       "28    29          2013.500  19.2                            557.47800   \n",
       "29    30          2013.083   7.1                            451.24380   \n",
       "..   ...               ...   ...                                  ...   \n",
       "384  385          2012.750  16.1                           4066.58700   \n",
       "385  386          2013.000  18.3                             82.88643   \n",
       "386  387          2012.833   0.0                            185.42960   \n",
       "387  388          2013.250  16.2                           2103.55500   \n",
       "388  389          2013.500  10.4                           2251.93800   \n",
       "389  390          2013.250  40.9                            122.36190   \n",
       "390  391          2013.500  32.8                            377.83020   \n",
       "391  392          2013.583   6.2                           1939.74900   \n",
       "392  393          2013.083  42.7                            443.80200   \n",
       "393  394          2013.000  16.9                            967.40000   \n",
       "394  395          2013.500  32.6                           4136.27100   \n",
       "395  396          2012.917  21.2                            512.54870   \n",
       "396  397          2012.667  37.1                            918.63570   \n",
       "397  398          2013.417  13.1                           1164.83800   \n",
       "398  399          2013.417  14.7                           1717.19300   \n",
       "399  400          2012.917  12.7                            170.12890   \n",
       "400  401          2013.250  26.8                            482.75810   \n",
       "401  402          2013.083   7.6                           2175.03000   \n",
       "402  403          2012.833  12.7                            187.48230   \n",
       "403  404          2012.667  30.9                            161.94200   \n",
       "404  405          2013.333  16.4                            289.32480   \n",
       "405  406          2012.667  23.0                            130.99450   \n",
       "406  407          2013.167   1.9                            372.13860   \n",
       "407  408          2013.000   5.2                           2408.99300   \n",
       "408  409          2013.417  18.5                           2175.74400   \n",
       "409  410          2013.000  13.7                           4082.01500   \n",
       "410  411          2012.667   5.6                             90.45606   \n",
       "411  412          2013.250  18.8                            390.96960   \n",
       "412  413          2013.000   8.1                            104.81010   \n",
       "413  414          2013.500   6.5                             90.45606   \n",
       "\n",
       "     convenience stores  X5 latitude  X6 longitude  price  \n",
       "0                    10     24.98298     121.54024   37.9  \n",
       "1                     9     24.98034     121.53951   42.2  \n",
       "2                     5     24.98746     121.54391   47.3  \n",
       "3                     5     24.98746     121.54391   54.8  \n",
       "4                     5     24.97937     121.54245   43.1  \n",
       "5                     3     24.96305     121.51254   32.1  \n",
       "6                     7     24.97933     121.53642   40.3  \n",
       "7                     6     24.98042     121.54228   46.7  \n",
       "8                     1     24.95095     121.48458   18.8  \n",
       "9                     3     24.96731     121.51486   22.1  \n",
       "10                    1     24.97349     121.53372   41.4  \n",
       "11                    9     24.97433     121.54310   58.1  \n",
       "12                    5     24.96515     121.53737   39.3  \n",
       "13                    4     24.96108     121.51046   23.8  \n",
       "14                    4     24.99156     121.53406   34.3  \n",
       "15                    2     24.98240     121.54619   50.5  \n",
       "16                    6     24.97744     121.54458   70.1  \n",
       "17                    1     24.97544     121.53119   37.4  \n",
       "18                    8     24.96750     121.54451   42.3  \n",
       "19                    7     24.96772     121.54102   47.7  \n",
       "20                    3     24.96314     121.51151   29.3  \n",
       "21                    7     24.97528     121.54541   51.6  \n",
       "22                    1     24.95204     121.54842   24.6  \n",
       "23                    7     24.97528     121.54541   47.9  \n",
       "24                    4     24.97353     121.53885   38.8  \n",
       "25                    2     24.97542     121.51726   27.0  \n",
       "26                    5     24.98085     121.54391   56.2  \n",
       "27                    5     24.95593     121.53913   33.6  \n",
       "28                    4     24.97419     121.53797   47.0  \n",
       "29                    5     24.97563     121.54694   57.1  \n",
       "..                  ...          ...           ...    ...  \n",
       "384                   0     24.94297     121.50342   12.9  \n",
       "385                  10     24.98300     121.54026   46.6  \n",
       "386                   0     24.97110     121.53170   55.3  \n",
       "387                   3     24.96042     121.51462   25.6  \n",
       "388                   4     24.95957     121.51353   27.3  \n",
       "389                   8     24.96756     121.54230   67.7  \n",
       "390                   9     24.97151     121.54350   38.6  \n",
       "391                   1     24.95155     121.55387   31.3  \n",
       "392                   6     24.97927     121.53874   35.3  \n",
       "393                   4     24.98872     121.53408   40.3  \n",
       "394                   1     24.95544     121.49630   24.7  \n",
       "395                   4     24.97400     121.53842   42.5  \n",
       "396                   1     24.97198     121.55063   31.9  \n",
       "397                   4     24.99156     121.53406   32.2  \n",
       "398                   2     24.96447     121.51649   23.0  \n",
       "399                   1     24.97371     121.52984   37.3  \n",
       "400                   5     24.97433     121.53863   35.5  \n",
       "401                   3     24.96305     121.51254   27.7  \n",
       "402                   1     24.97388     121.52981   28.5  \n",
       "403                   9     24.98353     121.53966   39.7  \n",
       "404                   5     24.98203     121.54348   41.2  \n",
       "405                   6     24.95663     121.53765   37.2  \n",
       "406                   7     24.97293     121.54026   40.5  \n",
       "407                   0     24.95505     121.55964   22.3  \n",
       "408                   3     24.96330     121.51243   28.1  \n",
       "409                   0     24.94155     121.50381   15.4  \n",
       "410                   9     24.97433     121.54310   50.0  \n",
       "411                   7     24.97923     121.53986   40.6  \n",
       "412                   5     24.96674     121.54067   52.5  \n",
       "413                   9     24.97433     121.54310   63.9  \n",
       "\n",
       "[414 rows x 8 columns]"
      ]
     },
     "execution_count": 4,
     "metadata": {},
     "output_type": "execute_result"
    }
   ],
   "source": [
    "#read into spark dataframe from csv in S3\n",
    "role = get_execution_role()\n",
    "bucket='odl-spark19spds6003-001'\n",
    "data_key = 'cr2st/house.csv'\n",
    "data_location = 's3://{}/{}'.format(bucket, data_key)\n",
    "pd.read_csv(data_location)"
   ]
  },
  {
   "cell_type": "code",
   "execution_count": 5,
   "metadata": {},
   "outputs": [],
   "source": [
    "df = sqlc.createDataFrame(pd.read_csv(data_location))"
   ]
  },
  {
   "cell_type": "code",
   "execution_count": 6,
   "metadata": {},
   "outputs": [
    {
     "data": {
      "text/plain": [
       "DataFrame[No: bigint, transaction date: double, age: double, distance to the nearest MRT station: double, convenience stores: bigint, X5 latitude: double, X6 longitude: double, price: double]"
      ]
     },
     "execution_count": 6,
     "metadata": {},
     "output_type": "execute_result"
    }
   ],
   "source": [
    "df"
   ]
  },
  {
   "cell_type": "code",
   "execution_count": 7,
   "metadata": {},
   "outputs": [
    {
     "ename": "AnalysisException",
     "evalue": "'path file:/home/ec2-user/SageMaker/tmp-pqt already exists.;'",
     "output_type": "error",
     "traceback": [
      "\u001b[0;31m---------------------------------------------------------------------------\u001b[0m",
      "\u001b[0;31mPy4JJavaError\u001b[0m                             Traceback (most recent call last)",
      "\u001b[0;32m~/anaconda3/envs/python3/lib/python3.6/site-packages/pyspark/sql/utils.py\u001b[0m in \u001b[0;36mdeco\u001b[0;34m(*a, **kw)\u001b[0m\n\u001b[1;32m     62\u001b[0m         \u001b[0;32mtry\u001b[0m\u001b[0;34m:\u001b[0m\u001b[0;34m\u001b[0m\u001b[0m\n\u001b[0;32m---> 63\u001b[0;31m             \u001b[0;32mreturn\u001b[0m \u001b[0mf\u001b[0m\u001b[0;34m(\u001b[0m\u001b[0;34m*\u001b[0m\u001b[0ma\u001b[0m\u001b[0;34m,\u001b[0m \u001b[0;34m**\u001b[0m\u001b[0mkw\u001b[0m\u001b[0;34m)\u001b[0m\u001b[0;34m\u001b[0m\u001b[0m\n\u001b[0m\u001b[1;32m     64\u001b[0m         \u001b[0;32mexcept\u001b[0m \u001b[0mpy4j\u001b[0m\u001b[0;34m.\u001b[0m\u001b[0mprotocol\u001b[0m\u001b[0;34m.\u001b[0m\u001b[0mPy4JJavaError\u001b[0m \u001b[0;32mas\u001b[0m \u001b[0me\u001b[0m\u001b[0;34m:\u001b[0m\u001b[0;34m\u001b[0m\u001b[0m\n",
      "\u001b[0;32m~/anaconda3/envs/python3/lib/python3.6/site-packages/py4j/protocol.py\u001b[0m in \u001b[0;36mget_return_value\u001b[0;34m(answer, gateway_client, target_id, name)\u001b[0m\n\u001b[1;32m    318\u001b[0m                     \u001b[0;34m\"An error occurred while calling {0}{1}{2}.\\n\"\u001b[0m\u001b[0;34m.\u001b[0m\u001b[0;34m\u001b[0m\u001b[0m\n\u001b[0;32m--> 319\u001b[0;31m                     format(target_id, \".\", name), value)\n\u001b[0m\u001b[1;32m    320\u001b[0m             \u001b[0;32melse\u001b[0m\u001b[0;34m:\u001b[0m\u001b[0;34m\u001b[0m\u001b[0m\n",
      "\u001b[0;31mPy4JJavaError\u001b[0m: An error occurred while calling o38.parquet.\n: org.apache.spark.sql.AnalysisException: path file:/home/ec2-user/SageMaker/tmp-pqt already exists.;\n\tat org.apache.spark.sql.execution.datasources.InsertIntoHadoopFsRelationCommand.run(InsertIntoHadoopFsRelationCommand.scala:106)\n\tat org.apache.spark.sql.execution.command.ExecutedCommandExec.sideEffectResult$lzycompute(commands.scala:58)\n\tat org.apache.spark.sql.execution.command.ExecutedCommandExec.sideEffectResult(commands.scala:56)\n\tat org.apache.spark.sql.execution.command.ExecutedCommandExec.doExecute(commands.scala:74)\n\tat org.apache.spark.sql.execution.SparkPlan$$anonfun$execute$1.apply(SparkPlan.scala:117)\n\tat org.apache.spark.sql.execution.SparkPlan$$anonfun$execute$1.apply(SparkPlan.scala:117)\n\tat org.apache.spark.sql.execution.SparkPlan$$anonfun$executeQuery$1.apply(SparkPlan.scala:138)\n\tat org.apache.spark.rdd.RDDOperationScope$.withScope(RDDOperationScope.scala:151)\n\tat org.apache.spark.sql.execution.SparkPlan.executeQuery(SparkPlan.scala:135)\n\tat org.apache.spark.sql.execution.SparkPlan.execute(SparkPlan.scala:116)\n\tat org.apache.spark.sql.execution.QueryExecution.toRdd$lzycompute(QueryExecution.scala:92)\n\tat org.apache.spark.sql.execution.QueryExecution.toRdd(QueryExecution.scala:92)\n\tat org.apache.spark.sql.execution.datasources.DataSource.writeInFileFormat(DataSource.scala:435)\n\tat org.apache.spark.sql.execution.datasources.DataSource.write(DataSource.scala:471)\n\tat org.apache.spark.sql.execution.datasources.SaveIntoDataSourceCommand.run(SaveIntoDataSourceCommand.scala:50)\n\tat org.apache.spark.sql.execution.command.ExecutedCommandExec.sideEffectResult$lzycompute(commands.scala:58)\n\tat org.apache.spark.sql.execution.command.ExecutedCommandExec.sideEffectResult(commands.scala:56)\n\tat org.apache.spark.sql.execution.command.ExecutedCommandExec.doExecute(commands.scala:74)\n\tat org.apache.spark.sql.execution.SparkPlan$$anonfun$execute$1.apply(SparkPlan.scala:117)\n\tat org.apache.spark.sql.execution.SparkPlan$$anonfun$execute$1.apply(SparkPlan.scala:117)\n\tat org.apache.spark.sql.execution.SparkPlan$$anonfun$executeQuery$1.apply(SparkPlan.scala:138)\n\tat org.apache.spark.rdd.RDDOperationScope$.withScope(RDDOperationScope.scala:151)\n\tat org.apache.spark.sql.execution.SparkPlan.executeQuery(SparkPlan.scala:135)\n\tat org.apache.spark.sql.execution.SparkPlan.execute(SparkPlan.scala:116)\n\tat org.apache.spark.sql.execution.QueryExecution.toRdd$lzycompute(QueryExecution.scala:92)\n\tat org.apache.spark.sql.execution.QueryExecution.toRdd(QueryExecution.scala:92)\n\tat org.apache.spark.sql.DataFrameWriter.runCommand(DataFrameWriter.scala:609)\n\tat org.apache.spark.sql.DataFrameWriter.save(DataFrameWriter.scala:233)\n\tat org.apache.spark.sql.DataFrameWriter.save(DataFrameWriter.scala:217)\n\tat org.apache.spark.sql.DataFrameWriter.parquet(DataFrameWriter.scala:508)\n\tat sun.reflect.NativeMethodAccessorImpl.invoke0(Native Method)\n\tat sun.reflect.NativeMethodAccessorImpl.invoke(NativeMethodAccessorImpl.java:62)\n\tat sun.reflect.DelegatingMethodAccessorImpl.invoke(DelegatingMethodAccessorImpl.java:43)\n\tat java.lang.reflect.Method.invoke(Method.java:498)\n\tat py4j.reflection.MethodInvoker.invoke(MethodInvoker.java:244)\n\tat py4j.reflection.ReflectionEngine.invoke(ReflectionEngine.java:357)\n\tat py4j.Gateway.invoke(Gateway.java:280)\n\tat py4j.commands.AbstractCommand.invokeMethod(AbstractCommand.java:132)\n\tat py4j.commands.CallCommand.execute(CallCommand.java:79)\n\tat py4j.GatewayConnection.run(GatewayConnection.java:214)\n\tat java.lang.Thread.run(Thread.java:745)\n",
      "\nDuring handling of the above exception, another exception occurred:\n",
      "\u001b[0;31mAnalysisException\u001b[0m                         Traceback (most recent call last)",
      "\u001b[0;32m<ipython-input-7-35ea477a031f>\u001b[0m in \u001b[0;36m<module>\u001b[0;34m()\u001b[0m\n\u001b[1;32m      1\u001b[0m \u001b[0;31m#write parquet to S3\u001b[0m\u001b[0;34m\u001b[0m\u001b[0;34m\u001b[0m\u001b[0m\n\u001b[1;32m      2\u001b[0m \u001b[0mparquetPath\u001b[0m \u001b[0;34m=\u001b[0m \u001b[0;34m'/home/ec2-user/SageMaker/tmp-pqt'\u001b[0m\u001b[0;34m\u001b[0m\u001b[0m\n\u001b[0;32m----> 3\u001b[0;31m \u001b[0mdf\u001b[0m\u001b[0;34m.\u001b[0m\u001b[0mwrite\u001b[0m\u001b[0;34m.\u001b[0m\u001b[0mparquet\u001b[0m\u001b[0;34m(\u001b[0m\u001b[0mparquetPath\u001b[0m\u001b[0;34m)\u001b[0m\u001b[0;34m\u001b[0m\u001b[0m\n\u001b[0m",
      "\u001b[0;32m~/anaconda3/envs/python3/lib/python3.6/site-packages/pyspark/sql/readwriter.py\u001b[0m in \u001b[0;36mparquet\u001b[0;34m(self, path, mode, partitionBy, compression)\u001b[0m\n\u001b[1;32m    689\u001b[0m             \u001b[0mself\u001b[0m\u001b[0;34m.\u001b[0m\u001b[0mpartitionBy\u001b[0m\u001b[0;34m(\u001b[0m\u001b[0mpartitionBy\u001b[0m\u001b[0;34m)\u001b[0m\u001b[0;34m\u001b[0m\u001b[0m\n\u001b[1;32m    690\u001b[0m         \u001b[0mself\u001b[0m\u001b[0;34m.\u001b[0m\u001b[0m_set_opts\u001b[0m\u001b[0;34m(\u001b[0m\u001b[0mcompression\u001b[0m\u001b[0;34m=\u001b[0m\u001b[0mcompression\u001b[0m\u001b[0;34m)\u001b[0m\u001b[0;34m\u001b[0m\u001b[0m\n\u001b[0;32m--> 691\u001b[0;31m         \u001b[0mself\u001b[0m\u001b[0;34m.\u001b[0m\u001b[0m_jwrite\u001b[0m\u001b[0;34m.\u001b[0m\u001b[0mparquet\u001b[0m\u001b[0;34m(\u001b[0m\u001b[0mpath\u001b[0m\u001b[0;34m)\u001b[0m\u001b[0;34m\u001b[0m\u001b[0m\n\u001b[0m\u001b[1;32m    692\u001b[0m \u001b[0;34m\u001b[0m\u001b[0m\n\u001b[1;32m    693\u001b[0m     \u001b[0;34m@\u001b[0m\u001b[0msince\u001b[0m\u001b[0;34m(\u001b[0m\u001b[0;36m1.6\u001b[0m\u001b[0;34m)\u001b[0m\u001b[0;34m\u001b[0m\u001b[0m\n",
      "\u001b[0;32m~/anaconda3/envs/python3/lib/python3.6/site-packages/py4j/java_gateway.py\u001b[0m in \u001b[0;36m__call__\u001b[0;34m(self, *args)\u001b[0m\n\u001b[1;32m   1131\u001b[0m         \u001b[0manswer\u001b[0m \u001b[0;34m=\u001b[0m \u001b[0mself\u001b[0m\u001b[0;34m.\u001b[0m\u001b[0mgateway_client\u001b[0m\u001b[0;34m.\u001b[0m\u001b[0msend_command\u001b[0m\u001b[0;34m(\u001b[0m\u001b[0mcommand\u001b[0m\u001b[0;34m)\u001b[0m\u001b[0;34m\u001b[0m\u001b[0m\n\u001b[1;32m   1132\u001b[0m         return_value = get_return_value(\n\u001b[0;32m-> 1133\u001b[0;31m             answer, self.gateway_client, self.target_id, self.name)\n\u001b[0m\u001b[1;32m   1134\u001b[0m \u001b[0;34m\u001b[0m\u001b[0m\n\u001b[1;32m   1135\u001b[0m         \u001b[0;32mfor\u001b[0m \u001b[0mtemp_arg\u001b[0m \u001b[0;32min\u001b[0m \u001b[0mtemp_args\u001b[0m\u001b[0;34m:\u001b[0m\u001b[0;34m\u001b[0m\u001b[0m\n",
      "\u001b[0;32m~/anaconda3/envs/python3/lib/python3.6/site-packages/pyspark/sql/utils.py\u001b[0m in \u001b[0;36mdeco\u001b[0;34m(*a, **kw)\u001b[0m\n\u001b[1;32m     67\u001b[0m                                              e.java_exception.getStackTrace()))\n\u001b[1;32m     68\u001b[0m             \u001b[0;32mif\u001b[0m \u001b[0ms\u001b[0m\u001b[0;34m.\u001b[0m\u001b[0mstartswith\u001b[0m\u001b[0;34m(\u001b[0m\u001b[0;34m'org.apache.spark.sql.AnalysisException: '\u001b[0m\u001b[0;34m)\u001b[0m\u001b[0;34m:\u001b[0m\u001b[0;34m\u001b[0m\u001b[0m\n\u001b[0;32m---> 69\u001b[0;31m                 \u001b[0;32mraise\u001b[0m \u001b[0mAnalysisException\u001b[0m\u001b[0;34m(\u001b[0m\u001b[0ms\u001b[0m\u001b[0;34m.\u001b[0m\u001b[0msplit\u001b[0m\u001b[0;34m(\u001b[0m\u001b[0;34m': '\u001b[0m\u001b[0;34m,\u001b[0m \u001b[0;36m1\u001b[0m\u001b[0;34m)\u001b[0m\u001b[0;34m[\u001b[0m\u001b[0;36m1\u001b[0m\u001b[0;34m]\u001b[0m\u001b[0;34m,\u001b[0m \u001b[0mstackTrace\u001b[0m\u001b[0;34m)\u001b[0m\u001b[0;34m\u001b[0m\u001b[0m\n\u001b[0m\u001b[1;32m     70\u001b[0m             \u001b[0;32mif\u001b[0m \u001b[0ms\u001b[0m\u001b[0;34m.\u001b[0m\u001b[0mstartswith\u001b[0m\u001b[0;34m(\u001b[0m\u001b[0;34m'org.apache.spark.sql.catalyst.analysis'\u001b[0m\u001b[0;34m)\u001b[0m\u001b[0;34m:\u001b[0m\u001b[0;34m\u001b[0m\u001b[0m\n\u001b[1;32m     71\u001b[0m                 \u001b[0;32mraise\u001b[0m \u001b[0mAnalysisException\u001b[0m\u001b[0;34m(\u001b[0m\u001b[0ms\u001b[0m\u001b[0;34m.\u001b[0m\u001b[0msplit\u001b[0m\u001b[0;34m(\u001b[0m\u001b[0;34m': '\u001b[0m\u001b[0;34m,\u001b[0m \u001b[0;36m1\u001b[0m\u001b[0;34m)\u001b[0m\u001b[0;34m[\u001b[0m\u001b[0;36m1\u001b[0m\u001b[0;34m]\u001b[0m\u001b[0;34m,\u001b[0m \u001b[0mstackTrace\u001b[0m\u001b[0;34m)\u001b[0m\u001b[0;34m\u001b[0m\u001b[0m\n",
      "\u001b[0;31mAnalysisException\u001b[0m: 'path file:/home/ec2-user/SageMaker/tmp-pqt already exists.;'"
     ]
    }
   ],
   "source": [
    "#write parquet to S3\n",
    "parquetPath = '/home/ec2-user/SageMaker/tmp-pqt'\n",
    "df.write.parquet(parquetPath)"
   ]
  },
  {
   "cell_type": "code",
   "execution_count": 8,
   "metadata": {},
   "outputs": [],
   "source": [
    "# prep list of files to transfer\n",
    "files = [f for f in listdir(parquetPath) if isfile(join(parquetPath, f))]\n",
    "\n",
    "s3 = boto3.resource('s3')\n",
    "for f in files:\n",
    "    #print('copying {} to {}'.format(parquetPath+'/'+f,\"sample_data/\"+f))\n",
    "    s3.Bucket(bucket).upload_file(parquetPath+'/'+f, \"cr2st/pqt/\"+f)\n"
   ]
  },
  {
   "cell_type": "code",
   "execution_count": 9,
   "metadata": {},
   "outputs": [
    {
     "data": {
      "text/plain": [
       "DataFrame[alpha: bigint, beta: bigint, gamma: bigint]"
      ]
     },
     "execution_count": 9,
     "metadata": {},
     "output_type": "execute_result"
    }
   ],
   "source": [
    "#write to spark dataframe from parquet\n",
    "df = sqlc.read.parquet(parquetPath)\n",
    "df"
   ]
  },
  {
   "cell_type": "markdown",
   "metadata": {},
   "source": [
    "# Using MLlib"
   ]
  },
  {
   "cell_type": "code",
   "execution_count": 66,
   "metadata": {},
   "outputs": [],
   "source": [
    "# setup a sample dataframe\n",
    "bucket='odl-spark19spds6003-001'\n",
    "data_key = 'cr2st/house.csv'\n",
    "data_location = 's3://{}/{}'.format(bucket, data_key)\n",
    "pddf = pd.read_csv(data_location)"
   ]
  },
  {
   "cell_type": "code",
   "execution_count": 67,
   "metadata": {},
   "outputs": [],
   "source": [
    "df = sqlc.createDataFrame(pddf)"
   ]
  },
  {
   "cell_type": "code",
   "execution_count": 68,
   "metadata": {},
   "outputs": [
    {
     "data": {
      "text/plain": [
       "DataFrame[No: bigint, transaction date: double, age: double, distance to the nearest MRT station: double, convenience stores: bigint, X5 latitude: double, X6 longitude: double, price: double]"
      ]
     },
     "metadata": {},
     "output_type": "display_data"
    }
   ],
   "source": [
    "display(df)"
   ]
  },
  {
   "cell_type": "code",
   "execution_count": 70,
   "metadata": {},
   "outputs": [],
   "source": [
    "from pyspark.sql.types import DoubleType\n",
    "\n",
    "df = df.withColumn(\"age\", df[\"age\"].cast(\"long\"))\n",
    "df = df.withColumn(\"distance\", df[\"distance to the nearest MRT station\"].cast(\"long\"))\n",
    "df = df.withColumn(\"convenience stores\", df[\"convenience stores\"].cast(\"long\"))\n",
    "#df = df.withColumn(\"latitude\", df[\"latitude\"].cast(\"long\"))\n",
    "#df = df.withColumn(\"longitude\", df[\"longitude\"].cast(\"long\"))\n",
    "df = df.withColumn(\"price\", df[\"price\"].cast(\"long\"))"
   ]
  },
  {
   "cell_type": "code",
   "execution_count": 71,
   "metadata": {},
   "outputs": [
    {
     "name": "stdout",
     "output_type": "stream",
     "text": [
      "root\n",
      " |-- No: long (nullable = true)\n",
      " |-- transaction date: double (nullable = true)\n",
      " |-- age: long (nullable = true)\n",
      " |-- distance to the nearest MRT station: double (nullable = true)\n",
      " |-- convenience stores: long (nullable = true)\n",
      " |-- X5 latitude: double (nullable = true)\n",
      " |-- X6 longitude: double (nullable = true)\n",
      " |-- price: long (nullable = true)\n",
      " |-- distance: long (nullable = true)\n",
      "\n"
     ]
    }
   ],
   "source": [
    "#view schema\n",
    "df.printSchema()"
   ]
  },
  {
   "cell_type": "code",
   "execution_count": 47,
   "metadata": {},
   "outputs": [
    {
     "data": {
      "text/plain": [
       "[Row(No=1, transaction date=2012.9170000000001, age=32, distance to the nearest MRT station=84.87881999999999, convenience stores=10, X5 latitude=24.982979999999998, X6 longitude=121.54024, price=37, distance=84),\n",
       " Row(No=2, transaction date=2012.9170000000001, age=19, distance to the nearest MRT station=306.5947, convenience stores=9, X5 latitude=24.980339999999998, X6 longitude=121.53951, price=42, distance=306),\n",
       " Row(No=3, transaction date=2013.5829999999999, age=13, distance to the nearest MRT station=561.9845, convenience stores=5, X5 latitude=24.987460000000002, X6 longitude=121.54391000000001, price=47, distance=561)]"
      ]
     },
     "execution_count": 47,
     "metadata": {},
     "output_type": "execute_result"
    }
   ],
   "source": [
    "#View top 3 rows\n",
    "df.take(3)"
   ]
  },
  {
   "cell_type": "code",
   "execution_count": 48,
   "metadata": {},
   "outputs": [
    {
     "name": "stdout",
     "output_type": "stream",
     "text": [
      "Pearson's r(house age,house price of unit area) = -0.20893310047579913\n",
      "Pearson's r(dist from MRT,house price of unit area) = -0.6729099921008548\n",
      "Pearson's r(number of convenience stores, house price of unit area) = 0.5710771532363268\n"
     ]
    }
   ],
   "source": [
    "#correlation analysis to see which features affect each other\n",
    "print(\"Pearson's r(house age,house price of unit area) = {}\".format(df.corr('age', 'price')))\n",
    "print(\"Pearson's r(dist from MRT,house price of unit area) = {}\".format(df.corr('distance to the nearest MRT station', 'price')))\n",
    "print(\"Pearson's r(number of convenience stores, house price of unit area) = {}\".format(df.corr('convenience stores', 'price')))\n",
    "#print(\"Pearson's r(latitude,house price of unit area) = {}\".format(df.corr('X5 latitude', 'Y house price of unit area')))\n",
    "#print(\"Pearson's r(longitude,house price of unit area) = {}\".format(df.corr('X6 longitude', 'Y house price of unit area')))"
   ]
  },
  {
   "cell_type": "code",
   "execution_count": 49,
   "metadata": {},
   "outputs": [],
   "source": [
    "#selecting two variables for analysis\n",
    "df = df.select(\"distance\",\"price\")"
   ]
  },
  {
   "cell_type": "code",
   "execution_count": 50,
   "metadata": {},
   "outputs": [
    {
     "name": "stdout",
     "output_type": "stream",
     "text": [
      "training set N = 331, test set N = 83\n"
     ]
    }
   ],
   "source": [
    "#create a training and testing datasets\n",
    "seed = 42\n",
    "(testDF, trainingDF) = df.randomSplit((0.20, 0.80), seed=seed)\n",
    "print ('training set N = {}, test set N = {}'.format(trainingDF.count(),testDF.count()))"
   ]
  },
  {
   "cell_type": "code",
   "execution_count": 51,
   "metadata": {},
   "outputs": [],
   "source": [
    "from pyspark.ml.linalg import Vectors, VectorUDT"
   ]
  },
  {
   "cell_type": "code",
   "execution_count": 52,
   "metadata": {},
   "outputs": [
    {
     "name": "stdout",
     "output_type": "stream",
     "text": [
      "DataFrame[price: bigint, distance: vector]\n"
     ]
    }
   ],
   "source": [
    "# make a user defined function (udf)\n",
    "sqlc.registerFunction(\"oneElementVec\", lambda d: Vectors.dense([d]), returnType=VectorUDT())\n",
    "\n",
    "# vectorize the data frames\n",
    "trainingDF = trainingDF.selectExpr(\"price\", \"oneElementVec(distance) as distance\")\n",
    "testDF = testDF.selectExpr(\"price\", \"oneElementVec(distance) as distance\")\n",
    "\n",
    "print(testDF.orderBy(testDF.price.desc()).limit(5))"
   ]
  },
  {
   "cell_type": "code",
   "execution_count": 53,
   "metadata": {},
   "outputs": [],
   "source": [
    "# rename to make ML engine happy\n",
    "trainingDF = trainingDF.withColumnRenamed(\"price\", \"label\").withColumnRenamed(\"distance\", \"features\")\n",
    "testDF = testDF.withColumnRenamed(\"price\", \"label\").withColumnRenamed(\"distance\", \"features\")"
   ]
  },
  {
   "cell_type": "markdown",
   "metadata": {},
   "source": [
    "LINEAR REGRESSION"
   ]
  },
  {
   "cell_type": "code",
   "execution_count": 54,
   "metadata": {},
   "outputs": [],
   "source": [
    "#starting linear regression\n",
    "from pyspark.ml.regression import LinearRegression, LinearRegressionModel\n",
    "\n",
    "lr = LinearRegression()\n",
    "lrModel = lr.fit(trainingDF)"
   ]
  },
  {
   "cell_type": "code",
   "execution_count": 55,
   "metadata": {},
   "outputs": [
    {
     "data": {
      "text/plain": [
       "pyspark.ml.regression.LinearRegressionModel"
      ]
     },
     "execution_count": 55,
     "metadata": {},
     "output_type": "execute_result"
    }
   ],
   "source": [
    "type(lrModel)"
   ]
  },
  {
   "cell_type": "code",
   "execution_count": 56,
   "metadata": {},
   "outputs": [
    {
     "name": "stdout",
     "output_type": "stream",
     "text": [
      "[Row(label=73, features=DenseVector([292.0]), prediction=42.695986256169085), Row(label=71, features=DenseVector([292.0]), prediction=42.695986256169085), Row(label=70, features=DenseVector([292.0]), prediction=42.695986256169085), Row(label=63, features=DenseVector([281.0]), prediction=42.772721713223724), Row(label=62, features=DenseVector([56.0]), prediction=44.34231060752312)]\n"
     ]
    }
   ],
   "source": [
    "#transforming test set to get predictions\n",
    "#appending column 'prediction' tp dataframe\n",
    "predictionsAndLabelsDF = lrModel.transform(testDF)\n",
    "\n",
    "print(predictionsAndLabelsDF.orderBy(predictionsAndLabelsDF.label.desc()).take(5))"
   ]
  },
  {
   "cell_type": "markdown",
   "metadata": {},
   "source": [
    "MODEL EVALUATION"
   ]
  },
  {
   "cell_type": "code",
   "execution_count": 57,
   "metadata": {},
   "outputs": [
    {
     "name": "stdout",
     "output_type": "stream",
     "text": [
      "labelCol: label column name. (default: label)\n",
      "metricName: metric name in evaluation - one of:\n",
      "                       rmse - root mean squared error (default)\n",
      "                       mse - mean squared error\n",
      "                       r2 - r^2 metric\n",
      "                       mae - mean absolute error. (default: rmse)\n",
      "predictionCol: prediction column name. (default: prediction)\n"
     ]
    }
   ],
   "source": [
    "#model evaluation\n",
    "from pyspark.ml.evaluation import RegressionEvaluator\n",
    "eval = RegressionEvaluator()\n",
    "print(eval.explainParams())"
   ]
  },
  {
   "cell_type": "code",
   "execution_count": 58,
   "metadata": {},
   "outputs": [
    {
     "data": {
      "text/plain": [
       "pyspark.ml.evaluation.RegressionEvaluator"
      ]
     },
     "execution_count": 58,
     "metadata": {},
     "output_type": "execute_result"
    }
   ],
   "source": [
    "type(eval)"
   ]
  },
  {
   "cell_type": "code",
   "execution_count": 59,
   "metadata": {},
   "outputs": [
    {
     "data": {
      "text/plain": [
       "10.009236410874461"
      ]
     },
     "execution_count": 59,
     "metadata": {},
     "output_type": "execute_result"
    }
   ],
   "source": [
    "eval.setMetricName(\"rmse\").evaluate(predictionsAndLabelsDF)"
   ]
  },
  {
   "cell_type": "code",
   "execution_count": 60,
   "metadata": {},
   "outputs": [
    {
     "data": {
      "text/plain": [
       "0.45680120418226455"
      ]
     },
     "execution_count": 60,
     "metadata": {},
     "output_type": "execute_result"
    }
   ],
   "source": [
    "eval.setMetricName(\"r2\").evaluate(predictionsAndLabelsDF)"
   ]
  },
  {
   "cell_type": "markdown",
   "metadata": {},
   "source": [
    "# VISUALIZATIONS"
   ]
  },
  {
   "cell_type": "code",
   "execution_count": 79,
   "metadata": {},
   "outputs": [],
   "source": [
    "from pyspark.sql import Row\n",
    "from pyspark.sql.functions import avg\n",
    "import seaborn as sns"
   ]
  },
  {
   "cell_type": "code",
   "execution_count": 80,
   "metadata": {},
   "outputs": [
    {
     "name": "stdout",
     "output_type": "stream",
     "text": [
      "root\n",
      " |-- No: long (nullable = true)\n",
      " |-- transaction date: double (nullable = true)\n",
      " |-- age: long (nullable = true)\n",
      " |-- distance to the nearest MRT station: double (nullable = true)\n",
      " |-- convenience stores: long (nullable = true)\n",
      " |-- X5 latitude: double (nullable = true)\n",
      " |-- X6 longitude: double (nullable = true)\n",
      " |-- price: long (nullable = true)\n",
      " |-- distance: long (nullable = true)\n",
      "\n"
     ]
    }
   ],
   "source": [
    "df.printSchema()"
   ]
  },
  {
   "cell_type": "code",
   "execution_count": 85,
   "metadata": {},
   "outputs": [
    {
     "data": {
      "text/plain": [
       "<matplotlib.axes._subplots.AxesSubplot at 0x7f48a1077e10>"
      ]
     },
     "execution_count": 85,
     "metadata": {},
     "output_type": "execute_result"
    },
    {
     "data": {
      "image/png": "[encoded data removed]",
      "text/plain": [
       "<Figure size 432x288 with 1 Axes>"
      ]
     },
     "metadata": {},
     "output_type": "display_data"
    }
   ],
   "source": [
    "data = df.toPandas()\n",
    "sns.barplot(x=\"convenience stores\", y=\"price\", data=data)"
   ]
  },
  {
   "cell_type": "code",
   "execution_count": 94,
   "metadata": {},
   "outputs": [
    {
     "data": {
      "text/plain": [
       "<seaborn.axisgrid.FacetGrid at 0x7f489702abe0>"
      ]
     },
     "execution_count": 94,
     "metadata": {},
     "output_type": "execute_result"
    },
    {
     "data": {
      "image/png": "[encoded data removed]",
      "text/plain": [
       "<Figure size 360x360 with 1 Axes>"
      ]
     },
     "metadata": {},
     "output_type": "display_data"
    }
   ],
   "source": [
    "sns.lmplot(x=\"age\", y=\"price\", data=data)"
   ]
  },
  {
   "cell_type": "code",
   "execution_count": 95,
   "metadata": {},
   "outputs": [
    {
     "data": {
      "text/plain": [
       "<seaborn.axisgrid.FacetGrid at 0x7f4897006da0>"
      ]
     },
     "execution_count": 95,
     "metadata": {},
     "output_type": "execute_result"
    },
    {
     "data": {
      "image/png": "[encoded data removed]",
      "text/plain": [
       "<Figure size 360x360 with 1 Axes>"
      ]
     },
     "metadata": {},
     "output_type": "display_data"
    }
   ],
   "source": [
    "sns.lmplot(x=\"distance\", y=\"price\", data=data)"
   ]
  }
 ],
 "metadata": {
  "kernelspec": {
   "display_name": "conda_python3",
   "language": "python",
   "name": "conda_python3"
  },
  "language_info": {
   "codemirror_mode": {
    "name": "ipython",
    "version": 3
   },
   "file_extension": ".py",
   "mimetype": "text/x-python",
   "name": "python",
   "nbconvert_exporter": "python",
   "pygments_lexer": "ipython3",
   "version": "3.6.5"
  }
 },
 "nbformat": 4,
 "nbformat_minor": 2
}
