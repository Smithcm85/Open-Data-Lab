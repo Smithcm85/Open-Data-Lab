{
 "cells": [
  {
   "cell_type": "markdown",
   "metadata": {},
   "source": [
    "### Henry Tessier\n",
    "### Spark Assignment\n",
    "### NCAA Basketball Data"
   ]
  },
  {
   "cell_type": "code",
   "execution_count": 54,
   "metadata": {},
   "outputs": [],
   "source": [
    "import pyspark\n",
    "from pyspark.ml.linalg import Vectors, VectorUDT \n",
    "import pandas as pd"
   ]
  },
  {
   "cell_type": "code",
   "execution_count": 2,
   "metadata": {},
   "outputs": [],
   "source": [
    "conf = pyspark.SparkConf().setAppName('ncaa').setMaster('local')\n",
    "sc = pyspark.SparkContext(conf=conf)\n",
    "sqlc = pyspark.sql.SQLContext(sc)"
   ]
  },
  {
   "cell_type": "code",
   "execution_count": 3,
   "metadata": {},
   "outputs": [
    {
     "data": {
      "text/html": [
       "\n",
       "        <div>\n",
       "            <p><b>SparkContext</b></p>\n",
       "\n",
       "            <p><a href=\"http://172.16.95.41:4046\">Spark UI</a></p>\n",
       "\n",
       "            <dl>\n",
       "              <dt>Version</dt>\n",
       "                <dd><code>v2.2.1</code></dd>\n",
       "              <dt>Master</dt>\n",
       "                <dd><code>local</code></dd>\n",
       "              <dt>AppName</dt>\n",
       "                <dd><code>ncaa</code></dd>\n",
       "            </dl>\n",
       "        </div>\n",
       "        "
      ],
      "text/plain": [
       "<SparkContext master=local appName=ncaa>"
      ]
     },
     "execution_count": 3,
     "metadata": {},
     "output_type": "execute_result"
    }
   ],
   "source": [
    "sc"
   ]
  },
  {
   "cell_type": "code",
   "execution_count": 4,
   "metadata": {},
   "outputs": [],
   "source": [
    "datapath = '2018NCAAData.csv'"
   ]
  },
  {
   "cell_type": "code",
   "execution_count": 5,
   "metadata": {},
   "outputs": [],
   "source": [
    "ncaa = sqlc.read.format(\"csv\").option(\"header\",\"true\").option(\"inferSchema\", \"true\").load(datapath)"
   ]
  },
  {
   "cell_type": "code",
   "execution_count": 6,
   "metadata": {
    "scrolled": true
   },
   "outputs": [
    {
     "name": "stdout",
     "output_type": "stream",
     "text": [
      "root\n",
      " |-- Team: string (nullable = true)\n",
      " |-- Rank: integer (nullable = true)\n",
      " |-- Actual_Seed: integer (nullable = true)\n",
      " |-- Wins: integer (nullable = true)\n",
      " |-- Losses: integer (nullable = true)\n",
      " |-- AdjEM: double (nullable = true)\n",
      " |-- SOS_Pyth: double (nullable = true)\n",
      " |-- Conference: string (nullable = true)\n",
      "\n"
     ]
    }
   ],
   "source": [
    "ncaa.printSchema()"
   ]
  },
  {
   "cell_type": "markdown",
   "metadata": {},
   "source": [
    "### Convert to Parquet"
   ]
  },
  {
   "cell_type": "code",
   "execution_count": 7,
   "metadata": {},
   "outputs": [],
   "source": [
    "parquetPath = '/home/ec2-user/SageMaker/Open-Data-Lab/education/hmt6ra'\n",
    "#ncaa.write.parquet(parquetPath)"
   ]
  },
  {
   "cell_type": "code",
   "execution_count": 8,
   "metadata": {},
   "outputs": [
    {
     "data": {
      "text/plain": [
       "DataFrame[Team: string, Rank: int, Actual_Seed: int, Wins: int, Losses: int, AdjEM: double, SOS_Pyth: double, Conference: string]"
      ]
     },
     "metadata": {},
     "output_type": "display_data"
    }
   ],
   "source": [
    "data = sqlc.read.parquet(parquetPath)\n",
    "display(data)"
   ]
  },
  {
   "cell_type": "code",
   "execution_count": 9,
   "metadata": {
    "scrolled": true
   },
   "outputs": [
    {
     "name": "stdout",
     "output_type": "stream",
     "text": [
      "+--------------+----+-----------+----+------+-----+--------+----------+\n",
      "|          Team|Rank|Actual_Seed|Wins|Losses|AdjEM|SOS_Pyth|Conference|\n",
      "+--------------+----+-----------+----+------+-----+--------+----------+\n",
      "|      Virginia|   1|          1|  31|     2|32.15|    9.99|       ACC|\n",
      "|     Villanova|   2|          1|  30|     4|31.41|   10.23|        BE|\n",
      "|          Duke|   3|          2|  26|     7|29.13|    10.9|       ACC|\n",
      "|        Purdue|   4|          2|  28|     6|26.67|    8.55|       B10|\n",
      "|North_Carolina|   5|          2|  25|    10|25.03|   14.05|       ACC|\n",
      "|   Michigan_St|   6|          3|  29|     4|26.35|     6.5|       B10|\n",
      "|        Kansas|   7|          1|  27|     7|23.24|   11.49|       B12|\n",
      "|    Cincinnati|   8|          2|  30|     4| 27.0|    3.18|      Amer|\n",
      "|        Xavier|   9|          1|  28|     5|21.69|    9.62|        BE|\n",
      "|     Tennessee|  10|          3|  25|     8|22.15|   11.62|       SEC|\n",
      "|      Michigan|  11|          3|  28|     7|23.19|    8.78|       B10|\n",
      "| West_Virginia|  12|          5|  24|    10|21.77|   10.48|       B12|\n",
      "|    Texas_Tech|  13|          3|  24|     9|21.94|    9.26|       B12|\n",
      "|      Kentucky|  14|          5|  24|    10|20.41|   11.17|       SEC|\n",
      "|       Gonzaga|  15|          4|  30|     4|24.74|    0.95|       WCC|\n",
      "|       Ohio_St|  16|          5|  24|     8|21.11|    8.16|       B10|\n",
      "|        Auburn|  17|          4|  25|     7|20.63|    7.53|       SEC|\n",
      "|       Clemson|  18|          5|  23|     9|20.27|    9.76|       ACC|\n",
      "|       Arizona|  19|          4|  27|     7|19.37|    6.33|       P12|\n",
      "|    Wichita_St|  20|          4|  25|     7|20.07|    5.55|      Amer|\n",
      "+--------------+----+-----------+----+------+-----+--------+----------+\n",
      "only showing top 20 rows\n",
      "\n"
     ]
    }
   ],
   "source": [
    "data.show()"
   ]
  },
  {
   "cell_type": "markdown",
   "metadata": {},
   "source": [
    "### Create new column (Win Percentage)"
   ]
  },
  {
   "cell_type": "code",
   "execution_count": 10,
   "metadata": {},
   "outputs": [],
   "source": [
    "data = data.withColumn('WinPct', data.Wins / (data.Wins + data.Losses))"
   ]
  },
  {
   "cell_type": "code",
   "execution_count": 11,
   "metadata": {},
   "outputs": [
    {
     "name": "stdout",
     "output_type": "stream",
     "text": [
      "+--------------+----+-----------+----+------+-----+--------+----------+------------------+\n",
      "|          Team|Rank|Actual_Seed|Wins|Losses|AdjEM|SOS_Pyth|Conference|            WinPct|\n",
      "+--------------+----+-----------+----+------+-----+--------+----------+------------------+\n",
      "|      Virginia|   1|          1|  31|     2|32.15|    9.99|       ACC|0.9393939393939394|\n",
      "|     Villanova|   2|          1|  30|     4|31.41|   10.23|        BE|0.8823529411764706|\n",
      "|          Duke|   3|          2|  26|     7|29.13|    10.9|       ACC|0.7878787878787878|\n",
      "|        Purdue|   4|          2|  28|     6|26.67|    8.55|       B10|0.8235294117647058|\n",
      "|North_Carolina|   5|          2|  25|    10|25.03|   14.05|       ACC|0.7142857142857143|\n",
      "|   Michigan_St|   6|          3|  29|     4|26.35|     6.5|       B10|0.8787878787878788|\n",
      "|        Kansas|   7|          1|  27|     7|23.24|   11.49|       B12|0.7941176470588235|\n",
      "|    Cincinnati|   8|          2|  30|     4| 27.0|    3.18|      Amer|0.8823529411764706|\n",
      "|        Xavier|   9|          1|  28|     5|21.69|    9.62|        BE|0.8484848484848485|\n",
      "|     Tennessee|  10|          3|  25|     8|22.15|   11.62|       SEC|0.7575757575757576|\n",
      "|      Michigan|  11|          3|  28|     7|23.19|    8.78|       B10|               0.8|\n",
      "| West_Virginia|  12|          5|  24|    10|21.77|   10.48|       B12|0.7058823529411765|\n",
      "|    Texas_Tech|  13|          3|  24|     9|21.94|    9.26|       B12|0.7272727272727273|\n",
      "|      Kentucky|  14|          5|  24|    10|20.41|   11.17|       SEC|0.7058823529411765|\n",
      "|       Gonzaga|  15|          4|  30|     4|24.74|    0.95|       WCC|0.8823529411764706|\n",
      "|       Ohio_St|  16|          5|  24|     8|21.11|    8.16|       B10|              0.75|\n",
      "|        Auburn|  17|          4|  25|     7|20.63|    7.53|       SEC|           0.78125|\n",
      "|       Clemson|  18|          5|  23|     9|20.27|    9.76|       ACC|           0.71875|\n",
      "|       Arizona|  19|          4|  27|     7|19.37|    6.33|       P12|0.7941176470588235|\n",
      "|    Wichita_St|  20|          4|  25|     7|20.07|    5.55|      Amer|           0.78125|\n",
      "+--------------+----+-----------+----+------+-----+--------+----------+------------------+\n",
      "only showing top 20 rows\n",
      "\n"
     ]
    }
   ],
   "source": [
    "data.show()"
   ]
  },
  {
   "cell_type": "code",
   "execution_count": 12,
   "metadata": {},
   "outputs": [
    {
     "name": "stdout",
     "output_type": "stream",
     "text": [
      "Pearson's r(Strength of Schedule, Win Percent) = 0.2657849446230867\n",
      "\n",
      "Pearson's r(Adjusted Efficiency, Win Percent) = 0.8270958381984828\n"
     ]
    }
   ],
   "source": [
    "print(\"Pearson's r(Strength of Schedule, Win Percent) = {}\".format(data.corr(\"SOS_Pyth\", \"WinPct\")))\n",
    "print(\"\")\n",
    "print(\"Pearson's r(Adjusted Efficiency, Win Percent) = {}\".format(data.corr(\"AdjEM\", \"WinPct\")))"
   ]
  },
  {
   "cell_type": "code",
   "execution_count": 13,
   "metadata": {},
   "outputs": [],
   "source": [
    "data = data.select(\"WinPct\", \"SOS_Pyth\", \"AdjEM\", \"Rank\")"
   ]
  },
  {
   "cell_type": "markdown",
   "metadata": {},
   "source": [
    "### Train and Test Split"
   ]
  },
  {
   "cell_type": "code",
   "execution_count": 14,
   "metadata": {
    "scrolled": true
   },
   "outputs": [
    {
     "name": "stdout",
     "output_type": "stream",
     "text": [
      "training set N = 285, test set N = 66\n"
     ]
    }
   ],
   "source": [
    "seed = 62\n",
    "(testDF, trainingDF) = data.randomSplit((0.20, 0.80), seed=seed)\n",
    "print ('training set N = {}, test set N = {}'.format(trainingDF.count(),testDF.count()))"
   ]
  },
  {
   "cell_type": "code",
   "execution_count": 16,
   "metadata": {},
   "outputs": [],
   "source": [
    "from pyspark.ml.feature import VectorAssembler"
   ]
  },
  {
   "cell_type": "code",
   "execution_count": 17,
   "metadata": {},
   "outputs": [],
   "source": [
    "assembler = VectorAssembler(\n",
    "    inputCols=[\"SOS_Pyth\", \"AdjEM\", \"Rank\"],\n",
    "    outputCol=\"features\")"
   ]
  },
  {
   "cell_type": "code",
   "execution_count": 41,
   "metadata": {},
   "outputs": [],
   "source": [
    "vecTrain = assembler.transform(trainingDF)\n",
    "vecTest = assembler.transform(testDF)"
   ]
  },
  {
   "cell_type": "code",
   "execution_count": 44,
   "metadata": {},
   "outputs": [],
   "source": [
    "trainingDF = vecTrain.selectExpr(\"WinPct as label\", \"features\")\n",
    "testDF = vecTest.selectExpr(\"WinPct as label\", \"features\")"
   ]
  },
  {
   "cell_type": "markdown",
   "metadata": {},
   "source": [
    "### Linear Regression to predict Win Percentage"
   ]
  },
  {
   "cell_type": "code",
   "execution_count": 47,
   "metadata": {},
   "outputs": [],
   "source": [
    "from pyspark.ml.regression import LinearRegression, LinearRegressionModel"
   ]
  },
  {
   "cell_type": "code",
   "execution_count": 48,
   "metadata": {},
   "outputs": [],
   "source": [
    "lr = LinearRegression()\n",
    "lrModel = lr.fit(trainingDF)"
   ]
  },
  {
   "cell_type": "code",
   "execution_count": 49,
   "metadata": {},
   "outputs": [],
   "source": [
    "predictions = lrModel.transform(testDF)"
   ]
  },
  {
   "cell_type": "code",
   "execution_count": 51,
   "metadata": {
    "scrolled": true
   },
   "outputs": [
    {
     "name": "stdout",
     "output_type": "stream",
     "text": [
      "labelCol: label column name. (default: label)\n",
      "metricName: metric name in evaluation - one of:\n",
      "                       rmse - root mean squared error (default)\n",
      "                       mse - mean squared error\n",
      "                       r2 - r^2 metric\n",
      "                       mae - mean absolute error. (default: rmse)\n",
      "predictionCol: prediction column name. (default: prediction)\n"
     ]
    }
   ],
   "source": [
    "from pyspark.ml.evaluation import RegressionEvaluator\n",
    "eval = RegressionEvaluator()"
   ]
  },
  {
   "cell_type": "markdown",
   "metadata": {},
   "source": [
    "### View R^2, Coefficients, and Intercept"
   ]
  },
  {
   "cell_type": "code",
   "execution_count": 52,
   "metadata": {},
   "outputs": [
    {
     "data": {
      "text/plain": [
       "0.9061519304154868"
      ]
     },
     "execution_count": 52,
     "metadata": {},
     "output_type": "execute_result"
    }
   ],
   "source": [
    "eval.setMetricName(\"r2\").evaluate(predictions)"
   ]
  },
  {
   "cell_type": "code",
   "execution_count": 58,
   "metadata": {},
   "outputs": [
    {
     "name": "stdout",
     "output_type": "stream",
     "text": [
      "coefficients: [-0.02235865657937017,0.011511843550962755,-0.0010042426100046833]\n",
      "intercept: 0.690567775337331\n"
     ]
    }
   ],
   "source": [
    "print(\"coefficients: \" + str(lrModel.coefficients))\n",
    "print(\"intercept: \" + str(lrModel.intercept))"
   ]
  },
  {
   "cell_type": "code",
   "execution_count": 63,
   "metadata": {},
   "outputs": [],
   "source": [
    "results = predictions.toPandas()"
   ]
  },
  {
   "cell_type": "code",
   "execution_count": 64,
   "metadata": {},
   "outputs": [
    {
     "data": {
      "text/html": [
       "<div>\n",
       "<style scoped>\n",
       "    .dataframe tbody tr th:only-of-type {\n",
       "        vertical-align: middle;\n",
       "    }\n",
       "\n",
       "    .dataframe tbody tr th {\n",
       "        vertical-align: top;\n",
       "    }\n",
       "\n",
       "    .dataframe thead th {\n",
       "        text-align: right;\n",
       "    }\n",
       "</style>\n",
       "<table border=\"1\" class=\"dataframe\">\n",
       "  <thead>\n",
       "    <tr style=\"text-align: right;\">\n",
       "      <th></th>\n",
       "      <th>label</th>\n",
       "      <th>features</th>\n",
       "      <th>prediction</th>\n",
       "    </tr>\n",
       "  </thead>\n",
       "  <tbody>\n",
       "    <tr>\n",
       "      <th>0</th>\n",
       "      <td>0.096774</td>\n",
       "      <td>[-8.07, -28.57, 351.0]</td>\n",
       "      <td>0.189620</td>\n",
       "    </tr>\n",
       "    <tr>\n",
       "      <th>1</th>\n",
       "      <td>0.125000</td>\n",
       "      <td>[-7.36, -24.4, 348.0]</td>\n",
       "      <td>0.224762</td>\n",
       "    </tr>\n",
       "    <tr>\n",
       "      <th>2</th>\n",
       "      <td>0.193548</td>\n",
       "      <td>[-3.32, -17.65, 334.0]</td>\n",
       "      <td>0.226197</td>\n",
       "    </tr>\n",
       "    <tr>\n",
       "      <th>3</th>\n",
       "      <td>0.218750</td>\n",
       "      <td>[-7.21, -26.96, 349.0]</td>\n",
       "      <td>0.190934</td>\n",
       "    </tr>\n",
       "    <tr>\n",
       "      <th>4</th>\n",
       "      <td>0.250000</td>\n",
       "      <td>[-1.94, -15.08, 322.0]</td>\n",
       "      <td>0.236979</td>\n",
       "    </tr>\n",
       "  </tbody>\n",
       "</table>\n",
       "</div>"
      ],
      "text/plain": [
       "      label                features  prediction\n",
       "0  0.096774  [-8.07, -28.57, 351.0]    0.189620\n",
       "1  0.125000   [-7.36, -24.4, 348.0]    0.224762\n",
       "2  0.193548  [-3.32, -17.65, 334.0]    0.226197\n",
       "3  0.218750  [-7.21, -26.96, 349.0]    0.190934\n",
       "4  0.250000  [-1.94, -15.08, 322.0]    0.236979"
      ]
     },
     "execution_count": 64,
     "metadata": {},
     "output_type": "execute_result"
    }
   ],
   "source": [
    "results.head()"
   ]
  },
  {
   "cell_type": "code",
   "execution_count": 65,
   "metadata": {},
   "outputs": [],
   "source": [
    "results['resid'] = results.label - results.prediction"
   ]
  },
  {
   "cell_type": "markdown",
   "metadata": {},
   "source": [
    "### View Residuals"
   ]
  },
  {
   "cell_type": "code",
   "execution_count": 101,
   "metadata": {},
   "outputs": [],
   "source": [
    "import matplotlib.pyplot as plt\n",
    "import matplotlib as mpl\n",
    "from matplotlib import cm"
   ]
  },
  {
   "cell_type": "code",
   "execution_count": 73,
   "metadata": {},
   "outputs": [
    {
     "data": {
      "text/plain": [
       "<matplotlib.collections.LineCollection at 0x7fbbb893f898>"
      ]
     },
     "execution_count": 73,
     "metadata": {},
     "output_type": "execute_result"
    },
    {
     "data": {
      "image/png": "[encoded data removed]",
      "text/plain": [
       "<Figure size 432x288 with 1 Axes>"
      ]
     },
     "metadata": {},
     "output_type": "display_data"
    }
   ],
   "source": [
    "plt.scatter(results.label,results.resid)\n",
    "plt.hlines(0, 0, 1)"
   ]
  },
  {
   "cell_type": "markdown",
   "metadata": {},
   "source": [
    "### SQL Query to get Conference Ratings"
   ]
  },
  {
   "cell_type": "code",
   "execution_count": 74,
   "metadata": {},
   "outputs": [],
   "source": [
    "ncaa.registerTempTable(\"ncaa\")"
   ]
  },
  {
   "cell_type": "code",
   "execution_count": 77,
   "metadata": {},
   "outputs": [
    {
     "name": "stdout",
     "output_type": "stream",
     "text": [
      "+--------------+----+-----------+----+------+-----+--------+----------+\n",
      "|          Team|Rank|Actual_Seed|Wins|Losses|AdjEM|SOS_Pyth|Conference|\n",
      "+--------------+----+-----------+----+------+-----+--------+----------+\n",
      "|      Virginia|   1|          1|  31|     2|32.15|    9.99|       ACC|\n",
      "|     Villanova|   2|          1|  30|     4|31.41|   10.23|        BE|\n",
      "|          Duke|   3|          2|  26|     7|29.13|    10.9|       ACC|\n",
      "|        Purdue|   4|          2|  28|     6|26.67|    8.55|       B10|\n",
      "|North_Carolina|   5|          2|  25|    10|25.03|   14.05|       ACC|\n",
      "|   Michigan_St|   6|          3|  29|     4|26.35|     6.5|       B10|\n",
      "|        Kansas|   7|          1|  27|     7|23.24|   11.49|       B12|\n",
      "|    Cincinnati|   8|          2|  30|     4| 27.0|    3.18|      Amer|\n",
      "|        Xavier|   9|          1|  28|     5|21.69|    9.62|        BE|\n",
      "|     Tennessee|  10|          3|  25|     8|22.15|   11.62|       SEC|\n",
      "|      Michigan|  11|          3|  28|     7|23.19|    8.78|       B10|\n",
      "| West_Virginia|  12|          5|  24|    10|21.77|   10.48|       B12|\n",
      "|    Texas_Tech|  13|          3|  24|     9|21.94|    9.26|       B12|\n",
      "|      Kentucky|  14|          5|  24|    10|20.41|   11.17|       SEC|\n",
      "|       Gonzaga|  15|          4|  30|     4|24.74|    0.95|       WCC|\n",
      "|       Ohio_St|  16|          5|  24|     8|21.11|    8.16|       B10|\n",
      "|        Auburn|  17|          4|  25|     7|20.63|    7.53|       SEC|\n",
      "|       Clemson|  18|          5|  23|     9|20.27|    9.76|       ACC|\n",
      "|       Arizona|  19|          4|  27|     7|19.37|    6.33|       P12|\n",
      "|    Wichita_St|  20|          4|  25|     7|20.07|    5.55|      Amer|\n",
      "+--------------+----+-----------+----+------+-----+--------+----------+\n",
      "only showing top 20 rows\n",
      "\n"
     ]
    }
   ],
   "source": [
    "ncaa.show()"
   ]
  },
  {
   "cell_type": "code",
   "execution_count": 90,
   "metadata": {},
   "outputs": [],
   "source": [
    "Conf = sqlc.sql(\"\"\" SELECT Conference, Round(Mean(AdjEM),2) as Rating FROM ncaa Group By Conference Order By Rating DESC \"\"\")"
   ]
  },
  {
   "cell_type": "code",
   "execution_count": 92,
   "metadata": {},
   "outputs": [],
   "source": [
    "OrdConf = Conf.toPandas()"
   ]
  },
  {
   "cell_type": "code",
   "execution_count": 115,
   "metadata": {
    "scrolled": true
   },
   "outputs": [
    {
     "data": {
      "text/plain": [
       "<BarContainer object of 32 artists>"
      ]
     },
     "execution_count": 115,
     "metadata": {},
     "output_type": "execute_result"
    },
    {
     "data": {
      "image/png": "[encoded data removed]",
      "text/plain": [
       "<Figure size 432x288 with 1 Axes>"
      ]
     },
     "metadata": {},
     "output_type": "display_data"
    }
   ],
   "source": [
    "plt.xticks(rotation=90)\n",
    "plt.ylabel('Average AdjEM')\n",
    "plt.bar(OrdConf.Conference, OrdConf.Rating)"
   ]
  }
 ],
 "metadata": {
  "kernelspec": {
   "display_name": "conda_python3",
   "language": "python",
   "name": "conda_python3"
  },
  "language_info": {
   "codemirror_mode": {
    "name": "ipython",
    "version": 3
   },
   "file_extension": ".py",
   "mimetype": "text/x-python",
   "name": "python",
   "nbconvert_exporter": "python",
   "pygments_lexer": "ipython3",
   "version": "3.6.5"
  }
 },
 "nbformat": 4,
 "nbformat_minor": 2
}
