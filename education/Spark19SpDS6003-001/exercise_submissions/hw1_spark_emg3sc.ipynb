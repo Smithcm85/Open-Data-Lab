{
 "cells": [
  {
   "cell_type": "markdown",
   "metadata": {},
   "source": [
    "Elena Gillis\n",
    "Assignment 1 - Pyspark\n",
    "January 30, 2019"
   ]
  },
  {
   "cell_type": "code",
   "execution_count": 2,
   "metadata": {},
   "outputs": [],
   "source": [
    "import pandas as pd\n",
    "import pyspark\n",
    "\n",
    "from os import listdir\n",
    "from os.path import isfile, join\n",
    "import boto3\n",
    "from sagemaker import get_execution_role\n",
    "from pyspark.sql.types import LongType, StringType, StructField, StructType, BooleanType, ArrayType, IntegerType"
   ]
  },
  {
   "cell_type": "code",
   "execution_count": 3,
   "metadata": {},
   "outputs": [],
   "source": [
    "# Create context:\n",
    "# Initialize the spark environment (takes ~ 1min)\n",
    "conf = pyspark.SparkConf().setAppName('odl').setMaster('local')\n",
    "sc = pyspark.SparkContext(conf=conf)\n",
    "sqlc = pyspark.sql.SQLContext(sc)"
   ]
  },
  {
   "cell_type": "code",
   "execution_count": 157,
   "metadata": {},
   "outputs": [],
   "source": [
    "# Import data from S3\n",
    "role = get_execution_role()\n",
    "bucket='odl-spark19spds6003-001'\n",
    "data_key = 'emg3sc/realestate.csv'\n",
    "data_location = 's3://{}/{}'.format(bucket, data_key)\n",
    "pd.read_csv(data_location)\n",
    "\n",
    "# Create a dataframe\n",
    "df = sqlc.createDataFrame(pd.read_csv(data_location))"
   ]
  },
  {
   "cell_type": "code",
   "execution_count": 154,
   "metadata": {},
   "outputs": [],
   "source": [
    "# Convert to parquet\n",
    "parquetPath = '/home/ec2-user/SageMaker/emg3sc-pqt4'\n",
    "df.write.parquet(parquetPath)"
   ]
  },
  {
   "cell_type": "code",
   "execution_count": 155,
   "metadata": {},
   "outputs": [
    {
     "data": {
      "text/plain": [
       "DataFrame[date: double, age: double, dist: double, store: bigint, lat: double, long: double, price: double]"
      ]
     },
     "execution_count": 155,
     "metadata": {},
     "output_type": "execute_result"
    }
   ],
   "source": [
    "# Write to Spark df from parquet\n",
    "df = sqlc.read.parquet(parquetPath)\n",
    "df"
   ]
  },
  {
   "cell_type": "code",
   "execution_count": 156,
   "metadata": {},
   "outputs": [
    {
     "name": "stdout",
     "output_type": "stream",
     "text": [
      "root\n",
      " |-- date: double (nullable = true)\n",
      " |-- age: double (nullable = true)\n",
      " |-- dist: double (nullable = true)\n",
      " |-- store: long (nullable = true)\n",
      " |-- lat: double (nullable = true)\n",
      " |-- long: double (nullable = true)\n",
      " |-- price: double (nullable = true)\n",
      "\n"
     ]
    }
   ],
   "source": [
    "# Print the schema of the dataframe\n",
    "df.printSchema()"
   ]
  },
  {
   "cell_type": "code",
   "execution_count": 87,
   "metadata": {},
   "outputs": [
    {
     "data": {
      "text/plain": [
       "[Row(date=2012.917, age=32.0, dist=84.87882, store=10, lat=24.98298, long=121.54024, price=37.9),\n",
       " Row(date=2012.917, age=19.5, dist=306.5947, store=9, lat=24.98034, long=121.53951, price=42.2),\n",
       " Row(date=2013.583, age=13.3, dist=561.9845, store=5, lat=24.98746, long=121.54391, price=47.3),\n",
       " Row(date=2013.5, age=13.3, dist=561.9845, store=5, lat=24.98746, long=121.54391, price=54.8),\n",
       " Row(date=2012.833, age=5.0, dist=390.5684, store=5, lat=24.97937, long=121.54245, price=43.1)]"
      ]
     },
     "execution_count": 87,
     "metadata": {},
     "output_type": "execute_result"
    }
   ],
   "source": [
    "# Display five ramdom rows\n",
    "df.take(5)"
   ]
  },
  {
   "cell_type": "code",
   "execution_count": 88,
   "metadata": {},
   "outputs": [
    {
     "name": "stdout",
     "output_type": "stream",
     "text": [
      "Pearson's r(price, age) = -0.21056704627721673\n",
      "Pearson's r(price, dist) = -0.6736128553689182\n",
      "Pearson's r(price, store) = 0.5710049111111479\n",
      "Pearson's r(price, date) = 0.0874906064025099\n",
      "Pearson's r(price, lat) = 0.5463066525036067\n",
      "Pearson's r(price, long) = 0.5232865070288145\n"
     ]
    }
   ],
   "source": [
    "# Identify correlations\n",
    "print(\"Pearson's r(price, age) = {}\".format(df.corr(\"price\", \"age\")))\n",
    "print(\"Pearson's r(price, dist) = {}\".format(df.corr(\"price\", \"dist\")))\n",
    "print(\"Pearson's r(price, store) = {}\".format(df.corr(\"price\", \"store\")))\n",
    "print(\"Pearson's r(price, date) = {}\".format(df.corr(\"price\", \"date\")))\n",
    "print(\"Pearson's r(price, lat) = {}\".format(df.corr(\"price\", \"lat\")))\n",
    "print(\"Pearson's r(price, long) = {}\".format(df.corr(\"price\", \"long\")))"
   ]
  },
  {
   "cell_type": "code",
   "execution_count": 89,
   "metadata": {},
   "outputs": [
    {
     "name": "stdout",
     "output_type": "stream",
     "text": [
      "+------------------------------------------------+-----+\n",
      "|features                                        |price|\n",
      "+------------------------------------------------+-----+\n",
      "|[2012.917,32.0,84.87882,10.0,24.98298,121.54024]|37.9 |\n",
      "|[2012.917,19.5,306.5947,9.0,24.98034,121.53951] |42.2 |\n",
      "|[2013.583,13.3,561.9845,5.0,24.98746,121.54391] |47.3 |\n",
      "|[2013.5,13.3,561.9845,5.0,24.98746,121.54391]   |54.8 |\n",
      "|[2012.833,5.0,390.5684,5.0,24.97937,121.54245]  |43.1 |\n",
      "|[2012.667,7.1,2175.03,3.0,24.96305,121.51254]   |32.1 |\n",
      "|[2012.667,34.5,623.4731,7.0,24.97933,121.53642] |40.3 |\n",
      "|[2013.417,20.3,287.6025,6.0,24.98042,121.54228] |46.7 |\n",
      "|[2013.5,31.7,5512.038,1.0,24.95095,121.48458]   |18.8 |\n",
      "|[2013.417,17.9,1783.18,3.0,24.96731,121.51486]  |22.1 |\n",
      "|[2013.083,34.8,405.2134,1.0,24.97349,121.53372] |41.4 |\n",
      "|[2013.333,6.3,90.45606,9.0,24.97433,121.5431]   |58.1 |\n",
      "|[2012.917,13.0,492.2313,5.0,24.96515,121.53737] |39.3 |\n",
      "|[2012.667,20.4,2469.645,4.0,24.96108,121.51046] |23.8 |\n",
      "|[2013.5,13.2,1164.838,4.0,24.99156,121.53406]   |34.3 |\n",
      "|[2013.583,35.7,579.2083,2.0,24.9824,121.54619]  |50.5 |\n",
      "|[2013.25,0.0,292.9978,6.0,24.97744,121.54458]   |70.1 |\n",
      "|[2012.75,17.7,350.8515,1.0,24.97544,121.53119]  |37.4 |\n",
      "|[2013.417,16.9,368.1363,8.0,24.9675,121.54451]  |42.3 |\n",
      "|[2012.667,1.5,23.38284,7.0,24.96772,121.54102]  |47.7 |\n",
      "+------------------------------------------------+-----+\n",
      "only showing top 20 rows\n",
      "\n"
     ]
    }
   ],
   "source": [
    "# Assemble features\n",
    "from pyspark.ml.feature import VectorAssembler\n",
    "\n",
    "assembler = VectorAssembler(\n",
    "    inputCols=[\"date\", \"age\", \"dist\", \"store\", \"lat\", \"long\"],\n",
    "    outputCol=\"features\")\n",
    "\n",
    "output = assembler.transform(df)\n",
    "output.select(\"features\", \"price\").show(truncate=False)"
   ]
  },
  {
   "cell_type": "code",
   "execution_count": 90,
   "metadata": {},
   "outputs": [],
   "source": [
    "# Select area and temp for analysis\n",
    "df1 = output.select(\"price\",\"features\")"
   ]
  },
  {
   "cell_type": "code",
   "execution_count": 91,
   "metadata": {},
   "outputs": [
    {
     "name": "stdout",
     "output_type": "stream",
     "text": [
      "training set N = 331, test set N = 83\n"
     ]
    }
   ],
   "source": [
    "# create train/test sets\n",
    "seed = 42\n",
    "(testDF, trainingDF) = df1.randomSplit((0.20, 0.80), seed=seed)\n",
    "print ('training set N = {}, test set N = {}'.format(trainingDF.count(),testDF.count()))"
   ]
  },
  {
   "cell_type": "code",
   "execution_count": 92,
   "metadata": {},
   "outputs": [
    {
     "name": "stdout",
     "output_type": "stream",
     "text": [
      "DataFrame[price: double, features: vector]\n"
     ]
    }
   ],
   "source": [
    "# Vectorization\n",
    "from pyspark.ml.linalg import Vectors, VectorUDT\n",
    "\n",
    "# make a user defined function (udf) to convert multiple features to a dense vector\n",
    "sqlc.registerFunction(\"oneElementVec\", lambda d: Vectors.dense(d), returnType=VectorUDT())\n",
    "\n",
    "# vectorize the data frames\n",
    "trainingDF = trainingDF.selectExpr(\"price\", \"oneElementVec(features) as features\")\n",
    "testDF = testDF.selectExpr(\"price\", \"oneElementVec(features) as features\")\n",
    "\n",
    "print(testDF.orderBy(testDF.price.desc()).limit(5))"
   ]
  },
  {
   "cell_type": "code",
   "execution_count": 93,
   "metadata": {},
   "outputs": [],
   "source": [
    "# rename variables for ML\n",
    "trainingDF = trainingDF.withColumnRenamed(\"price\", \"label\")\n",
    "testDF = testDF.withColumnRenamed(\"price\", \"label\")"
   ]
  },
  {
   "cell_type": "code",
   "execution_count": 98,
   "metadata": {},
   "outputs": [],
   "source": [
    "from pyspark.ml.regression import RandomForestRegressor\n",
    "\n",
    "# Train a Random Forest model\n",
    "rf = RandomForestRegressor()\n",
    "rfModel = rf.fit(trainingDF)\n",
    "\n",
    "# transform test set to make predictions (predict on test set)\n",
    "predictionsAndLabelsDF = rfModel.transform(testDF)"
   ]
  },
  {
   "cell_type": "code",
   "execution_count": 99,
   "metadata": {},
   "outputs": [
    {
     "name": "stdout",
     "output_type": "stream",
     "text": [
      "Root Mean Squared Error (RMSE) on test data = 6.21435\n",
      "R-squared = 0.74881\n"
     ]
    }
   ],
   "source": [
    "# evaluate model\n",
    "from pyspark.ml.evaluation import RegressionEvaluator\n",
    "\n",
    "eval = RegressionEvaluator()\n",
    "\n",
    "# Root mean squared error\n",
    "rmse = eval.setMetricName(\"rmse\").evaluate(predictionsAndLabelsDF)\n",
    "print(\"Root Mean Squared Error (RMSE) on test data = %g\" % rmse)\n",
    "\n",
    "# r-squared\n",
    "r2 = eval.setMetricName(\"r2\").evaluate(predictionsAndLabelsDF)\n",
    "print(\"R-squared = %g\" % r2)"
   ]
  },
  {
   "cell_type": "code",
   "execution_count": 110,
   "metadata": {},
   "outputs": [
    {
     "data": {
      "text/plain": [
       "pyspark.sql.dataframe.DataFrame"
      ]
     },
     "execution_count": 110,
     "metadata": {},
     "output_type": "execute_result"
    }
   ],
   "source": [
    "type(predictionsAndLabelsDF)"
   ]
  },
  {
   "cell_type": "code",
   "execution_count": 113,
   "metadata": {},
   "outputs": [
    {
     "data": {
      "text/html": [
       "<div>\n",
       "<style scoped>\n",
       "    .dataframe tbody tr th:only-of-type {\n",
       "        vertical-align: middle;\n",
       "    }\n",
       "\n",
       "    .dataframe tbody tr th {\n",
       "        vertical-align: top;\n",
       "    }\n",
       "\n",
       "    .dataframe thead th {\n",
       "        text-align: right;\n",
       "    }\n",
       "</style>\n",
       "<table border=\"1\" class=\"dataframe\">\n",
       "  <thead>\n",
       "    <tr style=\"text-align: right;\">\n",
       "      <th></th>\n",
       "      <th>label</th>\n",
       "      <th>features</th>\n",
       "      <th>prediction</th>\n",
       "    </tr>\n",
       "  </thead>\n",
       "  <tbody>\n",
       "    <tr>\n",
       "      <th>0</th>\n",
       "      <td>12.9</td>\n",
       "      <td>[2012.75, 16.1, 4066.587, 0.0, 24.94297, 121.5...</td>\n",
       "      <td>17.592194</td>\n",
       "    </tr>\n",
       "    <tr>\n",
       "      <th>1</th>\n",
       "      <td>13.0</td>\n",
       "      <td>[2013.0, 13.6, 4197.349, 0.0, 24.93885, 121.50...</td>\n",
       "      <td>17.701947</td>\n",
       "    </tr>\n",
       "    <tr>\n",
       "      <th>2</th>\n",
       "      <td>13.7</td>\n",
       "      <td>[2012.833, 31.7, 1160.632, 0.0, 24.94968, 121....</td>\n",
       "      <td>21.079032</td>\n",
       "    </tr>\n",
       "    <tr>\n",
       "      <th>3</th>\n",
       "      <td>13.8</td>\n",
       "      <td>[2012.917, 31.7, 1159.454, 0.0, 24.9496, 121.5...</td>\n",
       "      <td>21.079032</td>\n",
       "    </tr>\n",
       "    <tr>\n",
       "      <th>4</th>\n",
       "      <td>15.6</td>\n",
       "      <td>[2013.333, 25.6, 4519.69, 0.0, 24.94826, 121.4...</td>\n",
       "      <td>17.010406</td>\n",
       "    </tr>\n",
       "  </tbody>\n",
       "</table>\n",
       "</div>"
      ],
      "text/plain": [
       "   label                                           features  prediction\n",
       "0   12.9  [2012.75, 16.1, 4066.587, 0.0, 24.94297, 121.5...   17.592194\n",
       "1   13.0  [2013.0, 13.6, 4197.349, 0.0, 24.93885, 121.50...   17.701947\n",
       "2   13.7  [2012.833, 31.7, 1160.632, 0.0, 24.94968, 121....   21.079032\n",
       "3   13.8  [2012.917, 31.7, 1159.454, 0.0, 24.9496, 121.5...   21.079032\n",
       "4   15.6  [2013.333, 25.6, 4519.69, 0.0, 24.94826, 121.4...   17.010406"
      ]
     },
     "execution_count": 113,
     "metadata": {},
     "output_type": "execute_result"
    }
   ],
   "source": [
    "pdf = predictionsAndLabelsDF.toPandas()\n",
    "pdf.head()"
   ]
  },
  {
   "cell_type": "code",
   "execution_count": 150,
   "metadata": {},
   "outputs": [
    {
     "data": {
      "image/png": "[encoded data removed]",
      "text/plain": [
       "<Figure size 432x288 with 1 Axes>"
      ]
     },
     "metadata": {},
     "output_type": "display_data"
    }
   ],
   "source": [
    "import matplotlib.pyplot as plt\n",
    "import numpy as np\n",
    "from numpy.polynomial.polynomial import polyfit\n",
    "import matplotlib.lines as mlines\n",
    "\n",
    "true = pdf['label']\n",
    "prediction = pdf['prediction']\n",
    "\n",
    "fig, ax = plt.subplots()\n",
    "plt.scatter(true, prediction, c=\"g\", alpha=0.5)\n",
    "plt.xlabel('True Value')\n",
    "plt.ylabel('RF Predictions')\n",
    "plt.title('True vs predicted values')\n",
    "\n",
    "# Fit a line with with polyfit\n",
    "b, m = polyfit(true, prediction, 1)\n",
    "plt.plot(true, prediction, '.')\n",
    "plt.plot(true, b + m * true, '-')\n",
    "\n",
    "# Add a line for true values\n",
    "line = mlines.Line2D([0, 1], [0, 1], c='g')\n",
    "transform = ax.transAxes\n",
    "line.set_transform(transform)\n",
    "ax.add_line(line)\n",
    "\n",
    "# Create a custom legend\n",
    "from matplotlib.lines import Line2D\n",
    "custom_lines = [Line2D([0], [0], color='green', lw=2),\n",
    "                Line2D([0], [0], color='orange', lw=2)]\n",
    "ax.legend(custom_lines, ['True','Predicted'])\n",
    "plt.show()"
   ]
  }
 ],
 "metadata": {
  "kernelspec": {
   "display_name": "conda_python3",
   "language": "python",
   "name": "conda_python3"
  },
  "language_info": {
   "codemirror_mode": {
    "name": "ipython",
    "version": 3
   },
   "file_extension": ".py",
   "mimetype": "text/x-python",
   "name": "python",
   "nbconvert_exporter": "python",
   "pygments_lexer": "ipython3",
   "version": "3.6.5"
  }
 },
 "nbformat": 4,
 "nbformat_minor": 2
}
