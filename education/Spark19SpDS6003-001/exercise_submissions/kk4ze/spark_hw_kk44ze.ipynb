{
 "cells": [
  {
   "cell_type": "markdown",
   "metadata": {},
   "source": [
    "# Karan Kant (kk4ze)\n",
    "# Coding Exercise \n",
    "# SAT Scores"
   ]
  },
  {
   "cell_type": "code",
   "execution_count": 1,
   "metadata": {},
   "outputs": [],
   "source": [
    "import pyspark\n",
    "from os import listdir\n",
    "from os.path import isfile, join\n",
    "import boto3\n",
    "import pandas as pd\n",
    "from sagemaker import get_execution_role\n",
    "from pyspark.sql.types import LongType, StringType, StructField, StructType, BooleanType, ArrayType, IntegerType"
   ]
  },
  {
   "cell_type": "markdown",
   "metadata": {},
   "source": [
    "# Initialize the spark environment (takes ~ 1min)"
   ]
  },
  {
   "cell_type": "code",
   "execution_count": 2,
   "metadata": {
    "scrolled": true
   },
   "outputs": [
    {
     "data": {
      "text/html": [
       "\n",
       "        <div>\n",
       "            <p><b>SparkContext</b></p>\n",
       "\n",
       "            <p><a href=\"http://172.16.95.41:4040\">Spark UI</a></p>\n",
       "\n",
       "            <dl>\n",
       "              <dt>Version</dt>\n",
       "                <dd><code>v2.2.1</code></dd>\n",
       "              <dt>Master</dt>\n",
       "                <dd><code>local</code></dd>\n",
       "              <dt>AppName</dt>\n",
       "                <dd><code>odl</code></dd>\n",
       "            </dl>\n",
       "        </div>\n",
       "        "
      ],
      "text/plain": [
       "<SparkContext master=local appName=odl>"
      ]
     },
     "execution_count": 2,
     "metadata": {},
     "output_type": "execute_result"
    }
   ],
   "source": [
    "conf = pyspark.SparkConf().setAppName('odl').setMaster('local')\n",
    "sc = pyspark.SparkContext(conf=conf)\n",
    "sqlc = pyspark.sql.SQLContext(sc)\n",
    "sc"
   ]
  },
  {
   "cell_type": "code",
   "execution_count": 3,
   "metadata": {},
   "outputs": [
    {
     "data": {
      "text/plain": [
       "<pyspark.sql.context.SQLContext at 0x7f306e0b3dd8>"
      ]
     },
     "execution_count": 3,
     "metadata": {},
     "output_type": "execute_result"
    }
   ],
   "source": [
    "sqlc"
   ]
  },
  {
   "cell_type": "code",
   "execution_count": 4,
   "metadata": {},
   "outputs": [],
   "source": [
    "dataPath = \"StudentsPerformance.csv\"\n",
    "df = sqlc.read.format(\"csv\")\\\n",
    "  .option(\"header\",\"true\")\\\n",
    "  .option(\"inferSchema\", \"true\")\\\n",
    "  .load(dataPath)\n"
   ]
  },
  {
   "cell_type": "code",
   "execution_count": 5,
   "metadata": {},
   "outputs": [
    {
     "name": "stdout",
     "output_type": "stream",
     "text": [
      "root\n",
      " |-- gender: string (nullable = true)\n",
      " |-- race/ethnicity: string (nullable = true)\n",
      " |-- parental level of education: string (nullable = true)\n",
      " |-- lunch: string (nullable = true)\n",
      " |-- test preparation course: string (nullable = true)\n",
      " |-- math score: integer (nullable = true)\n",
      " |-- reading score: integer (nullable = true)\n",
      " |-- writing score: integer (nullable = true)\n",
      "\n"
     ]
    }
   ],
   "source": [
    "df.printSchema()"
   ]
  },
  {
   "cell_type": "code",
   "execution_count": 6,
   "metadata": {},
   "outputs": [
    {
     "data": {
      "text/plain": [
       "[Row(gender='female', race/ethnicity='group B', parental level of education=\"bachelor's degree\", lunch='standard', test preparation course='none', math score=72, reading score=72, writing score=74),\n",
       " Row(gender='female', race/ethnicity='group C', parental level of education='some college', lunch='standard', test preparation course='completed', math score=69, reading score=90, writing score=88),\n",
       " Row(gender='female', race/ethnicity='group B', parental level of education=\"master's degree\", lunch='standard', test preparation course='none', math score=90, reading score=95, writing score=93),\n",
       " Row(gender='male', race/ethnicity='group A', parental level of education=\"associate's degree\", lunch='free/reduced', test preparation course='none', math score=47, reading score=57, writing score=44),\n",
       " Row(gender='male', race/ethnicity='group C', parental level of education='some college', lunch='standard', test preparation course='none', math score=76, reading score=78, writing score=75),\n",
       " Row(gender='female', race/ethnicity='group B', parental level of education=\"associate's degree\", lunch='standard', test preparation course='none', math score=71, reading score=83, writing score=78),\n",
       " Row(gender='female', race/ethnicity='group B', parental level of education='some college', lunch='standard', test preparation course='completed', math score=88, reading score=95, writing score=92),\n",
       " Row(gender='male', race/ethnicity='group B', parental level of education='some college', lunch='free/reduced', test preparation course='none', math score=40, reading score=43, writing score=39),\n",
       " Row(gender='male', race/ethnicity='group D', parental level of education='high school', lunch='free/reduced', test preparation course='completed', math score=64, reading score=64, writing score=67),\n",
       " Row(gender='female', race/ethnicity='group B', parental level of education='high school', lunch='free/reduced', test preparation course='none', math score=38, reading score=60, writing score=50)]"
      ]
     },
     "execution_count": 6,
     "metadata": {},
     "output_type": "execute_result"
    }
   ],
   "source": [
    "df.head(10)"
   ]
  },
  {
   "cell_type": "code",
   "execution_count": 7,
   "metadata": {},
   "outputs": [],
   "source": [
    "# role = get_execution_role()\n",
    "# bucket='odl-spark19spds6003-001'\n",
    "# data_key = 'planecrash.csv'\n",
    "# data_location = 's3://{}/{}'.format(bucket, data_key) #read the bucket \n",
    "# pd.read_csv(data_location)"
   ]
  },
  {
   "cell_type": "code",
   "execution_count": 8,
   "metadata": {},
   "outputs": [],
   "source": [
    "df = sqlc.createDataFrame(pd.read_csv('StudentsPerformance.csv')) #this will not work on big files"
   ]
  },
  {
   "cell_type": "code",
   "execution_count": 9,
   "metadata": {},
   "outputs": [
    {
     "data": {
      "text/plain": [
       "DataFrame[gender: string, race/ethnicity: string, parental level of education: string, lunch: string, test preparation course: string, math score: bigint, reading score: bigint, writing score: bigint]"
      ]
     },
     "execution_count": 9,
     "metadata": {},
     "output_type": "execute_result"
    }
   ],
   "source": [
    "df"
   ]
  },
  {
   "cell_type": "code",
   "execution_count": 10,
   "metadata": {},
   "outputs": [],
   "source": [
    "df=df.withColumnRenamed(\"parental level of education\",\"parentedu\")\n",
    "df=df.withColumnRenamed(\"test preparation score\",\"testprepscore\")\n",
    "df=df.withColumnRenamed(\"math score\",\"math\")\n",
    "df=df.withColumnRenamed(\"reading score\",\"reading\")\n",
    "df=df.withColumnRenamed(\"writing score\",\"writing\")"
   ]
  },
  {
   "cell_type": "code",
   "execution_count": 11,
   "metadata": {},
   "outputs": [],
   "source": [
    "df=df.withColumnRenamed(\"test preparation course\",\"testsprepcourse\")"
   ]
  },
  {
   "cell_type": "code",
   "execution_count": 12,
   "metadata": {},
   "outputs": [
    {
     "name": "stdout",
     "output_type": "stream",
     "text": [
      "root\n",
      " |-- gender: string (nullable = true)\n",
      " |-- race/ethnicity: string (nullable = true)\n",
      " |-- parentedu: string (nullable = true)\n",
      " |-- lunch: string (nullable = true)\n",
      " |-- testsprepcourse: string (nullable = true)\n",
      " |-- math: long (nullable = true)\n",
      " |-- reading: long (nullable = true)\n",
      " |-- writing: long (nullable = true)\n",
      "\n"
     ]
    }
   ],
   "source": [
    "df.printSchema()"
   ]
  },
  {
   "cell_type": "markdown",
   "metadata": {},
   "source": [
    "### Save parquet"
   ]
  },
  {
   "cell_type": "code",
   "execution_count": 13,
   "metadata": {},
   "outputs": [],
   "source": [
    "parquetPath = '/home/ec2-user/SageMaker/Open-Data-Lab/education/kk4ze3/test-parquet'"
   ]
  },
  {
   "cell_type": "code",
   "execution_count": 14,
   "metadata": {},
   "outputs": [
    {
     "data": {
      "text/plain": [
       "DataFrame[gender: string, race/ethnicity: string, parentedu: string, lunch: string, testsprepcourse: string, math: bigint, reading: bigint, writing: bigint]"
      ]
     },
     "metadata": {},
     "output_type": "display_data"
    }
   ],
   "source": [
    "data = sqlc.read.parquet(parquetPath)\n",
    "display(data)"
   ]
  },
  {
   "cell_type": "markdown",
   "metadata": {},
   "source": [
    "## Using MLlib\n",
    "\n",
    "### Convention\n",
    "* df = spark dataframe\n",
    "* pddf = pandas dataframe\n",
    "\n",
    "### Outline\n",
    "1. make demo data frame\n",
    "2. exploratory tools\n",
    "3. feature engineering\n",
    "4. train/test\n",
    "5. vectorize (spark special sauce)\n",
    "6. train\n",
    "7. predict\n",
    "8. eval\n",
    "\n",
    "### Make a demo data frame"
   ]
  },
  {
   "cell_type": "markdown",
   "metadata": {},
   "source": [
    "## MLlib Basics\n",
    "* exploratory tools\n"
   ]
  },
  {
   "cell_type": "code",
   "execution_count": 16,
   "metadata": {},
   "outputs": [
    {
     "data": {
      "text/plain": [
       "DataFrame[gender: string, race/ethnicity: string, parentedu: string, lunch: string, testsprepcourse: string, math: bigint, reading: bigint, writing: bigint]"
      ]
     },
     "metadata": {},
     "output_type": "display_data"
    }
   ],
   "source": [
    "display(df)"
   ]
  },
  {
   "cell_type": "code",
   "execution_count": 17,
   "metadata": {},
   "outputs": [
    {
     "name": "stdout",
     "output_type": "stream",
     "text": [
      "root\n",
      " |-- gender: string (nullable = true)\n",
      " |-- race/ethnicity: string (nullable = true)\n",
      " |-- parentedu: string (nullable = true)\n",
      " |-- lunch: string (nullable = true)\n",
      " |-- testsprepcourse: string (nullable = true)\n",
      " |-- math: long (nullable = true)\n",
      " |-- reading: long (nullable = true)\n",
      " |-- writing: long (nullable = true)\n",
      "\n"
     ]
    }
   ],
   "source": [
    "df.printSchema()"
   ]
  },
  {
   "cell_type": "code",
   "execution_count": 18,
   "metadata": {
    "scrolled": false
   },
   "outputs": [
    {
     "data": {
      "text/plain": [
       "[Row(gender='female', race/ethnicity='group B', parentedu=\"bachelor's degree\", lunch='standard', testsprepcourse='none', math=72, reading=72, writing=74),\n",
       " Row(gender='female', race/ethnicity='group C', parentedu='some college', lunch='standard', testsprepcourse='completed', math=69, reading=90, writing=88),\n",
       " Row(gender='female', race/ethnicity='group B', parentedu=\"master's degree\", lunch='standard', testsprepcourse='none', math=90, reading=95, writing=93),\n",
       " Row(gender='male', race/ethnicity='group A', parentedu=\"associate's degree\", lunch='free/reduced', testsprepcourse='none', math=47, reading=57, writing=44),\n",
       " Row(gender='male', race/ethnicity='group C', parentedu='some college', lunch='standard', testsprepcourse='none', math=76, reading=78, writing=75)]"
      ]
     },
     "execution_count": 18,
     "metadata": {},
     "output_type": "execute_result"
    }
   ],
   "source": [
    "df.take(5)"
   ]
  },
  {
   "cell_type": "code",
   "execution_count": 19,
   "metadata": {},
   "outputs": [
    {
     "data": {
      "text/plain": [
       "DataFrame[gender: string, race/ethnicity: string, parentedu: string, lunch: string, testsprepcourse: string, math: bigint, reading: bigint, writing: bigint]"
      ]
     },
     "execution_count": 19,
     "metadata": {},
     "output_type": "execute_result"
    }
   ],
   "source": [
    "df"
   ]
  },
  {
   "cell_type": "code",
   "execution_count": 20,
   "metadata": {},
   "outputs": [
    {
     "name": "stdout",
     "output_type": "stream",
     "text": [
      "Pearson's r(writing,reading) = 0.954598077146248\n"
     ]
    }
   ],
   "source": [
    "print(\"Pearson's r(writing,reading) = {}\".format(df.corr(\"writing\", \"reading\"))) #pearson's correlation coefficient. Compute correlation between hits and R\n",
    "# print(\"Pearson's r(HR,SO) = {}\".format(df.corr(\"HR\", \"SO\")))#compute correlation between home runs and strike outs\n",
    "# print(\"Pearson's r(yearID,HR) = {}\".format(df.corr(\"yearID\", \"HR\")))"
   ]
  },
  {
   "cell_type": "markdown",
   "metadata": {},
   "source": [
    "### Select two features for analysis\n",
    "* writing = feature\n",
    "* reading = label"
   ]
  },
  {
   "cell_type": "code",
   "execution_count": 21,
   "metadata": {},
   "outputs": [],
   "source": [
    "df = df.select(\"writing\",\"reading\")"
   ]
  },
  {
   "cell_type": "markdown",
   "metadata": {},
   "source": [
    "## Finally, ML time\n",
    "1. split data into train/test\n",
    "2. **SPARK SPECIAL SAUCE** -  pysparki.ml.linalg - vectorization\n",
    "3. Train --> Predict --> Evaluate\n",
    "\n",
    "### Make Training and Test sets"
   ]
  },
  {
   "cell_type": "code",
   "execution_count": 22,
   "metadata": {},
   "outputs": [
    {
     "name": "stdout",
     "output_type": "stream",
     "text": [
      "training set N = 812, test set N = 188\n"
     ]
    }
   ],
   "source": [
    "# create train/test sets\n",
    "seed = 42\n",
    "(testDF, trainingDF) = df.randomSplit((0.20, 0.80), seed=seed)\n",
    "print ('training set N = {}, test set N = {}'.format(trainingDF.count(),testDF.count()))"
   ]
  },
  {
   "cell_type": "markdown",
   "metadata": {},
   "source": [
    "# VECTORIZATION - spark special sauce"
   ]
  },
  {
   "cell_type": "code",
   "execution_count": 23,
   "metadata": {},
   "outputs": [],
   "source": [
    "from pyspark.ml.linalg import Vectors, VectorUDT # nb: bad form, done for pedagogy"
   ]
  },
  {
   "cell_type": "markdown",
   "metadata": {},
   "source": [
    "https://jaceklaskowski.gitbooks.io/mastering-spark-sql/spark-sql-udfs.html\n",
    "* User-Defined Functions (aka UDF) is a feature of Spark SQL to define new Column-based functions that extend the vocabulary of Spark SQL’s DSL for transforming Datasets."
   ]
  },
  {
   "cell_type": "code",
   "execution_count": 24,
   "metadata": {},
   "outputs": [
    {
     "name": "stdout",
     "output_type": "stream",
     "text": [
      "DataFrame[reading: bigint, writing: vector]\n"
     ]
    }
   ],
   "source": [
    "# make a user defined function (udf)\n",
    "sqlc.registerFunction(\"oneElementVec\", lambda d: Vectors.dense([d]), returnType=VectorUDT())\n",
    "#convert to vector to take advantage of spark optimization\n",
    "# vectorize the data frames\n",
    "trainingDF = trainingDF.selectExpr(\"reading\", \"oneElementVec(writing) as writing\")\n",
    "testDF = testDF.selectExpr(\"reading\", \"oneElementVec(writing) as writing\")\n",
    "\n",
    "print(testDF.orderBy(testDF.reading.desc()).limit(5))"
   ]
  },
  {
   "cell_type": "code",
   "execution_count": 25,
   "metadata": {},
   "outputs": [],
   "source": [
    "# rename to make ML engine happy\n",
    "trainingDF = trainingDF.withColumnRenamed(\"reading\", \"label\").withColumnRenamed(\"writing\", \"features\")\n",
    "testDF = testDF.withColumnRenamed(\"reading\", \"label\").withColumnRenamed(\"writing\", \"features\")"
   ]
  },
  {
   "cell_type": "code",
   "execution_count": 26,
   "metadata": {},
   "outputs": [
    {
     "data": {
      "text/plain": [
       "DataFrame[label: bigint, features: vector]"
      ]
     },
     "execution_count": 26,
     "metadata": {},
     "output_type": "execute_result"
    }
   ],
   "source": [
    "trainingDF"
   ]
  },
  {
   "cell_type": "markdown",
   "metadata": {},
   "source": [
    "## ML time for real\n",
    "1. Train\n",
    "2. Predict\n",
    "3. Evaluate"
   ]
  },
  {
   "cell_type": "code",
   "execution_count": 27,
   "metadata": {},
   "outputs": [],
   "source": [
    "from pyspark.ml.regression import LinearRegression, LinearRegressionModel  #create and fit regression model\n",
    "\n",
    "lr = LinearRegression()\n",
    "lrModel = lr.fit(trainingDF)"
   ]
  },
  {
   "cell_type": "code",
   "execution_count": 28,
   "metadata": {},
   "outputs": [
    {
     "data": {
      "text/plain": [
       "pyspark.ml.regression.LinearRegressionModel"
      ]
     },
     "execution_count": 28,
     "metadata": {},
     "output_type": "execute_result"
    }
   ],
   "source": [
    "type(lrModel)"
   ]
  },
  {
   "cell_type": "markdown",
   "metadata": {},
   "source": [
    "We are now going to transform our test set to get predictions. It will append a prediction column to testDF in the new dataframe predictionsAndLabelsDF."
   ]
  },
  {
   "cell_type": "code",
   "execution_count": 29,
   "metadata": {},
   "outputs": [
    {
     "name": "stdout",
     "output_type": "stream",
     "text": [
      "[Row(label=99, features=DenseVector([100.0]), prediction=98.634566730309), Row(label=95, features=DenseVector([94.0]), prediction=93.11072034046134), Row(label=93, features=DenseVector([93.0]), prediction=92.19007927548674), Row(label=93, features=DenseVector([93.0]), prediction=92.19007927548674), Row(label=92, features=DenseVector([86.0]), prediction=85.74559182066447)]\n"
     ]
    }
   ],
   "source": [
    "predictionsAndLabelsDF = lrModel.transform(testDF)\n",
    "\n",
    "print(predictionsAndLabelsDF.orderBy(predictionsAndLabelsDF.label.desc()).take(5))"
   ]
  },
  {
   "cell_type": "markdown",
   "metadata": {},
   "source": [
    "## Model Evaluation"
   ]
  },
  {
   "cell_type": "code",
   "execution_count": 30,
   "metadata": {},
   "outputs": [
    {
     "name": "stdout",
     "output_type": "stream",
     "text": [
      "labelCol: label column name. (default: label)\n",
      "metricName: metric name in evaluation - one of:\n",
      "                       rmse - root mean squared error (default)\n",
      "                       mse - mean squared error\n",
      "                       r2 - r^2 metric\n",
      "                       mae - mean absolute error. (default: rmse)\n",
      "predictionCol: prediction column name. (default: prediction)\n"
     ]
    }
   ],
   "source": [
    "from pyspark.ml.evaluation import RegressionEvaluator\n",
    "eval = RegressionEvaluator()\n",
    "print(eval.explainParams())"
   ]
  },
  {
   "cell_type": "code",
   "execution_count": 31,
   "metadata": {},
   "outputs": [
    {
     "data": {
      "text/plain": [
       "pyspark.ml.evaluation.RegressionEvaluator"
      ]
     },
     "execution_count": 31,
     "metadata": {},
     "output_type": "execute_result"
    }
   ],
   "source": [
    "type(eval)"
   ]
  },
  {
   "cell_type": "code",
   "execution_count": 32,
   "metadata": {},
   "outputs": [
    {
     "data": {
      "text/plain": [
       "4.523759514634758"
      ]
     },
     "execution_count": 32,
     "metadata": {},
     "output_type": "execute_result"
    }
   ],
   "source": [
    "eval.setMetricName(\"rmse\").evaluate(predictionsAndLabelsDF)"
   ]
  },
  {
   "cell_type": "code",
   "execution_count": 33,
   "metadata": {},
   "outputs": [
    {
     "data": {
      "text/plain": [
       "0.8992520856629305"
      ]
     },
     "execution_count": 33,
     "metadata": {},
     "output_type": "execute_result"
    }
   ],
   "source": [
    "eval.setMetricName(\"r2\").evaluate(predictionsAndLabelsDF)"
   ]
  },
  {
   "cell_type": "code",
   "execution_count": 38,
   "metadata": {},
   "outputs": [],
   "source": [
    "import matplotlib.pyplot as plt"
   ]
  },
  {
   "cell_type": "code",
   "execution_count": 37,
   "metadata": {
    "scrolled": true
   },
   "outputs": [
    {
     "name": "stdout",
     "output_type": "stream",
     "text": [
      "+-----+--------+------------------+\n",
      "|label|features|        prediction|\n",
      "+-----+--------+------------------+\n",
      "|   29|  [27.0]| 31.42776898716249|\n",
      "|   38|  [27.0]| 31.42776898716249|\n",
      "|   34|  [32.0]| 36.03097431203554|\n",
      "|   38|  [32.0]| 36.03097431203554|\n",
      "|   31|  [36.0]|39.713538571933974|\n",
      "|   34|  [36.0]|39.713538571933974|\n",
      "|   34|  [36.0]|39.713538571933974|\n",
      "|   31|  [38.0]|41.554820701883195|\n",
      "|   42|  [41.0]|44.316743896807026|\n",
      "|   43|  [41.0]|44.316743896807026|\n",
      "|   41|  [42.0]|45.237384961781636|\n",
      "|   44|  [42.0]|45.237384961781636|\n",
      "|   46|  [42.0]|45.237384961781636|\n",
      "|   48|  [42.0]|45.237384961781636|\n",
      "|   52|  [42.0]|45.237384961781636|\n",
      "|   50|  [43.0]| 46.15802602675625|\n",
      "|   51|  [43.0]| 46.15802602675625|\n",
      "|   52|  [45.0]| 47.99930815670546|\n",
      "|   52|  [46.0]| 48.91994922168007|\n",
      "|   49|  [47.0]| 49.84059028665468|\n",
      "+-----+--------+------------------+\n",
      "only showing top 20 rows\n",
      "\n"
     ]
    }
   ],
   "source": [
    "predictionsAndLabelsDF.show()"
   ]
  },
  {
   "cell_type": "code",
   "execution_count": 41,
   "metadata": {},
   "outputs": [
    {
     "data": {
      "image/png": "[encoded data removed]",
      "text/plain": [
       "<Figure size 576x576 with 1 Axes>"
      ]
     },
     "metadata": {},
     "output_type": "display_data"
    }
   ],
   "source": [
    "data = df.toPandas() # convert to pandas df for visualization\n",
    "data = (data['reading'],data['writing'])\n",
    "# Create plot\n",
    "fig = plt.figure(figsize = (8,8))\n",
    "ax = fig.add_subplot(1,1,1) \n",
    "plt.scatter(data[0], data[1], alpha=0.2)\n",
    "plt.title(\"Reading vs Writing score\")\n",
    "plt.ylabel(\"Reading\")\n",
    "plt.xlabel(\"Writing\")\n",
    "plt.grid(True)\n",
    "plt.show()"
   ]
  },
  {
   "cell_type": "code",
   "execution_count": null,
   "metadata": {},
   "outputs": [],
   "source": []
  }
 ],
 "metadata": {
  "kernelspec": {
   "display_name": "conda_python3",
   "language": "python",
   "name": "conda_python3"
  },
  "language_info": {
   "codemirror_mode": {
    "name": "ipython",
    "version": 3
   },
   "file_extension": ".py",
   "mimetype": "text/x-python",
   "name": "python",
   "nbconvert_exporter": "python",
   "pygments_lexer": "ipython3",
   "version": "3.6.5"
  }
 },
 "nbformat": 4,
 "nbformat_minor": 2
}
