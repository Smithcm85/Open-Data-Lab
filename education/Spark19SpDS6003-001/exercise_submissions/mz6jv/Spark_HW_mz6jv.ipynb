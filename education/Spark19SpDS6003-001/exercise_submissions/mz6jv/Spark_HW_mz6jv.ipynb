{
 "cells": [
  {
   "cell_type": "markdown",
   "metadata": {},
   "source": [
    "## DS 6003 - Spark Assignment\n",
    "### Name: Mengyao Zhang (mz6jv)"
   ]
  },
  {
   "cell_type": "code",
   "execution_count": 1,
   "metadata": {},
   "outputs": [],
   "source": [
    "#libraries\n",
    "import os\n",
    "from os import listdir\n",
    "from os.path import isfile, join\n",
    "import boto3\n",
    "\n",
    "import pyspark\n",
    "from pyspark import SparkContext, SparkConf\n",
    "from pyspark.sql import SparkSession\n",
    "from pyspark.sql.types import LongType, StringType, StructField, StructType, BooleanType, ArrayType, IntegerType\n",
    "from pyspark.sql import functions as fc\n",
    "\n",
    "from pyspark.ml.linalg import Vectors, VectorUDT\n",
    "from pyspark.ml.regression import LinearRegression, LinearRegressionModel\n",
    "from pyspark.ml.evaluation import RegressionEvaluator\n",
    "from pyspark.ml.feature import VectorAssembler\n",
    "\n",
    "import sagemaker\n",
    "from sagemaker import get_execution_role\n",
    "import sagemaker_pyspark\n",
    "\n",
    "import pandas as pd\n",
    "import numpy as np\n",
    "import matplotlib.pyplot as plt"
   ]
  },
  {
   "cell_type": "markdown",
   "metadata": {},
   "source": [
    "### 1. Context creation"
   ]
  },
  {
   "cell_type": "code",
   "execution_count": 2,
   "metadata": {},
   "outputs": [],
   "source": [
    "role = get_execution_role()\n",
    "\n",
    "# Configure Spark to use the SageMaker Spark dependency jars\n",
    "jars = sagemaker_pyspark.classpath_jars()\n",
    "\n",
    "classpath = \":\".join(sagemaker_pyspark.classpath_jars())\n",
    "\n",
    "# Configure and create spark context\n",
    "spark = SparkSession.builder.config(\"spark.driver.extraClassPath\", classpath)\\\n",
    "    .master(\"local[*]\").getOrCreate()\n"
   ]
  },
  {
   "cell_type": "code",
   "execution_count": 3,
   "metadata": {},
   "outputs": [
    {
     "data": {
      "text/html": [
       "\n",
       "            <div>\n",
       "                <p><b>SparkSession - in-memory</b></p>\n",
       "                \n",
       "        <div>\n",
       "            <p><b>SparkContext</b></p>\n",
       "\n",
       "            <p><a href=\"http://172.16.95.41:4055\">Spark UI</a></p>\n",
       "\n",
       "            <dl>\n",
       "              <dt>Version</dt>\n",
       "                <dd><code>v2.2.1</code></dd>\n",
       "              <dt>Master</dt>\n",
       "                <dd><code>local[*]</code></dd>\n",
       "              <dt>AppName</dt>\n",
       "                <dd><code>pyspark-shell</code></dd>\n",
       "            </dl>\n",
       "        </div>\n",
       "        \n",
       "            </div>\n",
       "        "
      ],
      "text/plain": [
       "<pyspark.sql.session.SparkSession at 0x7fa88ad94080>"
      ]
     },
     "execution_count": 3,
     "metadata": {},
     "output_type": "execute_result"
    }
   ],
   "source": [
    "spark # check "
   ]
  },
  {
   "cell_type": "code",
   "execution_count": 4,
   "metadata": {},
   "outputs": [],
   "source": [
    "# create pyspark SQL context\n",
    "sqlc = pyspark.sql.SQLContext(spark)"
   ]
  },
  {
   "cell_type": "code",
   "execution_count": 5,
   "metadata": {},
   "outputs": [
    {
     "data": {
      "text/plain": [
       "<pyspark.sql.context.SQLContext at 0x7fa88ad947f0>"
      ]
     },
     "execution_count": 5,
     "metadata": {},
     "output_type": "execute_result"
    }
   ],
   "source": [
    "sqlc"
   ]
  },
  {
   "cell_type": "markdown",
   "metadata": {},
   "source": [
    "### 2. Prepare data"
   ]
  },
  {
   "cell_type": "markdown",
   "metadata": {},
   "source": [
    "#### Read in data"
   ]
  },
  {
   "cell_type": "code",
   "execution_count": 6,
   "metadata": {},
   "outputs": [],
   "source": [
    "# set s3 path\n",
    "bucket='odl-spark19spds6003-001'\n",
    "data_key = 'mz6jv/HousePrices.csv'\n",
    "\n",
    "data_location = 's3a://{}/{}'.format(bucket, data_key)\n",
    "\n",
    "# read csv file from s3\n",
    "df = sqlc.read.format('csv')\\\n",
    "    .option(\"header\",\"true\")\\\n",
    "    .option(\"inferSchema\", \"true\")\\\n",
    "    .load(data_location)"
   ]
  },
  {
   "cell_type": "code",
   "execution_count": 7,
   "metadata": {},
   "outputs": [
    {
     "data": {
      "text/plain": [
       "DataFrame[Area: int, Garage: int, FirePlace: int, Baths: int, White Marble: int, Black Marble: int, Indian Marble: int, Floors: int, City: int, Solar: int, Electric: int, Fiber: int, Glass Doors: int, Swiming Pool: int, Garden: int, Prices: int]"
      ]
     },
     "execution_count": 7,
     "metadata": {},
     "output_type": "execute_result"
    }
   ],
   "source": [
    "df"
   ]
  },
  {
   "cell_type": "code",
   "execution_count": 8,
   "metadata": {},
   "outputs": [
    {
     "name": "stdout",
     "output_type": "stream",
     "text": [
      "root\n",
      " |-- Area: integer (nullable = true)\n",
      " |-- Garage: integer (nullable = true)\n",
      " |-- FirePlace: integer (nullable = true)\n",
      " |-- Baths: integer (nullable = true)\n",
      " |-- White Marble: integer (nullable = true)\n",
      " |-- Black Marble: integer (nullable = true)\n",
      " |-- Indian Marble: integer (nullable = true)\n",
      " |-- Floors: integer (nullable = true)\n",
      " |-- City: integer (nullable = true)\n",
      " |-- Solar: integer (nullable = true)\n",
      " |-- Electric: integer (nullable = true)\n",
      " |-- Fiber: integer (nullable = true)\n",
      " |-- Glass Doors: integer (nullable = true)\n",
      " |-- Swiming Pool: integer (nullable = true)\n",
      " |-- Garden: integer (nullable = true)\n",
      " |-- Prices: integer (nullable = true)\n",
      "\n"
     ]
    }
   ],
   "source": [
    "df.printSchema() # check schema"
   ]
  },
  {
   "cell_type": "code",
   "execution_count": 9,
   "metadata": {},
   "outputs": [],
   "source": [
    "# rename column names with white space\n",
    "df = df.withColumnRenamed(\"White Marble\", \"WhiteMarble\")\\\n",
    "       .withColumnRenamed(\"Black Marble\", \"BlackMarble\")\\\n",
    "       .withColumnRenamed(\"Indian Marble\", \"IndianMarble\")\\\n",
    "       .withColumnRenamed(\"Glass Doors\", \"GlassDoors\")\\\n",
    "       .withColumnRenamed(\"Swiming Pool\", \"SwimmingPool\")\n",
    "        "
   ]
  },
  {
   "cell_type": "code",
   "execution_count": 10,
   "metadata": {},
   "outputs": [
    {
     "name": "stdout",
     "output_type": "stream",
     "text": [
      "root\n",
      " |-- Area: integer (nullable = true)\n",
      " |-- Garage: integer (nullable = true)\n",
      " |-- FirePlace: integer (nullable = true)\n",
      " |-- Baths: integer (nullable = true)\n",
      " |-- WhiteMarble: integer (nullable = true)\n",
      " |-- BlackMarble: integer (nullable = true)\n",
      " |-- IndianMarble: integer (nullable = true)\n",
      " |-- Floors: integer (nullable = true)\n",
      " |-- City: integer (nullable = true)\n",
      " |-- Solar: integer (nullable = true)\n",
      " |-- Electric: integer (nullable = true)\n",
      " |-- Fiber: integer (nullable = true)\n",
      " |-- GlassDoors: integer (nullable = true)\n",
      " |-- SwimmingPool: integer (nullable = true)\n",
      " |-- Garden: integer (nullable = true)\n",
      " |-- Prices: integer (nullable = true)\n",
      "\n"
     ]
    }
   ],
   "source": [
    "df.printSchema() # check names"
   ]
  },
  {
   "cell_type": "code",
   "execution_count": 11,
   "metadata": {},
   "outputs": [
    {
     "data": {
      "text/plain": [
       "[Row(Area=164, Garage=2, FirePlace=0, Baths=2, WhiteMarble=0, BlackMarble=1, IndianMarble=0, Floors=0, City=3, Solar=1, Electric=1, Fiber=1, GlassDoors=1, SwimmingPool=0, Garden=0, Prices=43800),\n",
       " Row(Area=84, Garage=2, FirePlace=0, Baths=4, WhiteMarble=0, BlackMarble=0, IndianMarble=1, Floors=1, City=2, Solar=0, Electric=0, Fiber=0, GlassDoors=1, SwimmingPool=1, Garden=1, Prices=37550),\n",
       " Row(Area=190, Garage=2, FirePlace=4, Baths=4, WhiteMarble=1, BlackMarble=0, IndianMarble=0, Floors=0, City=2, Solar=0, Electric=0, Fiber=1, GlassDoors=0, SwimmingPool=0, Garden=0, Prices=49500),\n",
       " Row(Area=75, Garage=2, FirePlace=4, Baths=4, WhiteMarble=0, BlackMarble=0, IndianMarble=1, Floors=1, City=1, Solar=1, Electric=1, Fiber=1, GlassDoors=1, SwimmingPool=1, Garden=1, Prices=50075),\n",
       " Row(Area=148, Garage=1, FirePlace=4, Baths=2, WhiteMarble=1, BlackMarble=0, IndianMarble=0, Floors=1, City=2, Solar=1, Electric=0, Fiber=0, GlassDoors=1, SwimmingPool=1, Garden=1, Prices=52400)]"
      ]
     },
     "execution_count": 11,
     "metadata": {},
     "output_type": "execute_result"
    }
   ],
   "source": [
    "df.take(5) # see 5 obs"
   ]
  },
  {
   "cell_type": "markdown",
   "metadata": {},
   "source": [
    "#### Write parquet to S3"
   ]
  },
  {
   "cell_type": "code",
   "execution_count": 16,
   "metadata": {},
   "outputs": [],
   "source": [
    "# write parquet to local \n",
    "parquetPath = './tmpPqt'\n",
    "df.write.parquet(parquetPath)"
   ]
  },
  {
   "cell_type": "code",
   "execution_count": 21,
   "metadata": {},
   "outputs": [],
   "source": [
    "# write parquet to s3\n",
    "# prep list of files to transfer\n",
    "files = [f for f in listdir(parquetPath) if isfile(join(parquetPath, f))]\n",
    "\n",
    "s3 = boto3.resource('s3')\n",
    "\n",
    "for f in files:\n",
    "    s3.Bucket(bucket).upload_file(parquetPath+'/'+f, \"mz6jv/pqt/\"+f)"
   ]
  },
  {
   "cell_type": "code",
   "execution_count": 22,
   "metadata": {},
   "outputs": [
    {
     "data": {
      "text/plain": [
       "['part-00003-51b803ca-88bd-486d-a4c0-804bdd3eb8eb-c000.snappy.parquet',\n",
       " '.part-00004-51b803ca-88bd-486d-a4c0-804bdd3eb8eb-c000.snappy.parquet.crc',\n",
       " '.part-00000-51b803ca-88bd-486d-a4c0-804bdd3eb8eb-c000.snappy.parquet.crc',\n",
       " '.part-00002-51b803ca-88bd-486d-a4c0-804bdd3eb8eb-c000.snappy.parquet.crc',\n",
       " 'part-00002-51b803ca-88bd-486d-a4c0-804bdd3eb8eb-c000.snappy.parquet',\n",
       " 'part-00004-51b803ca-88bd-486d-a4c0-804bdd3eb8eb-c000.snappy.parquet',\n",
       " '.part-00001-51b803ca-88bd-486d-a4c0-804bdd3eb8eb-c000.snappy.parquet.crc',\n",
       " '._SUCCESS.crc',\n",
       " 'part-00000-51b803ca-88bd-486d-a4c0-804bdd3eb8eb-c000.snappy.parquet',\n",
       " 'part-00001-51b803ca-88bd-486d-a4c0-804bdd3eb8eb-c000.snappy.parquet',\n",
       " '_SUCCESS',\n",
       " '.part-00003-51b803ca-88bd-486d-a4c0-804bdd3eb8eb-c000.snappy.parquet.crc']"
      ]
     },
     "execution_count": 22,
     "metadata": {},
     "output_type": "execute_result"
    }
   ],
   "source": [
    "files"
   ]
  },
  {
   "cell_type": "markdown",
   "metadata": {},
   "source": [
    "#### Read parquet files from s3"
   ]
  },
  {
   "cell_type": "code",
   "execution_count": 44,
   "metadata": {},
   "outputs": [],
   "source": [
    "# read parquet files from s3\n",
    "pqt_key = 'mz6jv/pqt/*'\n",
    "pqt_location = 's3a://{}/{}'.format(bucket, pqt_key)\n",
    "\n",
    "df2 = sqlc.read.parquet(pqt_location)"
   ]
  },
  {
   "cell_type": "code",
   "execution_count": 45,
   "metadata": {},
   "outputs": [
    {
     "name": "stdout",
     "output_type": "stream",
     "text": [
      "root\n",
      " |-- Area: integer (nullable = true)\n",
      " |-- Garage: integer (nullable = true)\n",
      " |-- FirePlace: integer (nullable = true)\n",
      " |-- Baths: integer (nullable = true)\n",
      " |-- WhiteMarble: integer (nullable = true)\n",
      " |-- BlackMarble: integer (nullable = true)\n",
      " |-- IndianMarble: integer (nullable = true)\n",
      " |-- Floors: integer (nullable = true)\n",
      " |-- City: integer (nullable = true)\n",
      " |-- Solar: integer (nullable = true)\n",
      " |-- Electric: integer (nullable = true)\n",
      " |-- Fiber: integer (nullable = true)\n",
      " |-- GlassDoors: integer (nullable = true)\n",
      " |-- SwimmingPool: integer (nullable = true)\n",
      " |-- Garden: integer (nullable = true)\n",
      " |-- Prices: integer (nullable = true)\n",
      "\n"
     ]
    }
   ],
   "source": [
    "df2.printSchema() # check schema"
   ]
  },
  {
   "cell_type": "code",
   "execution_count": 46,
   "metadata": {},
   "outputs": [
    {
     "data": {
      "text/plain": [
       "[Row(Area=30, Garage=2, FirePlace=1, Baths=4, WhiteMarble=0, BlackMarble=0, IndianMarble=1, Floors=0, City=3, Solar=1, Electric=0, Fiber=1, GlassDoors=0, SwimmingPool=0, Garden=1, Prices=33000),\n",
       " Row(Area=31, Garage=1, FirePlace=4, Baths=4, WhiteMarble=0, BlackMarble=1, IndianMarble=0, Floors=0, City=3, Solar=1, Electric=0, Fiber=1, GlassDoors=0, SwimmingPool=1, Garden=1, Prices=38775),\n",
       " Row(Area=4, Garage=1, FirePlace=4, Baths=3, WhiteMarble=0, BlackMarble=0, IndianMarble=1, Floors=0, City=1, Solar=1, Electric=1, Fiber=0, GlassDoors=0, SwimmingPool=1, Garden=0, Prices=14350),\n",
       " Row(Area=21, Garage=3, FirePlace=0, Baths=3, WhiteMarble=0, BlackMarble=1, IndianMarble=0, Floors=0, City=1, Solar=0, Electric=1, Fiber=0, GlassDoors=1, SwimmingPool=0, Garden=0, Prices=23975),\n",
       " Row(Area=216, Garage=3, FirePlace=0, Baths=1, WhiteMarble=1, BlackMarble=0, IndianMarble=0, Floors=1, City=2, Solar=0, Electric=1, Fiber=1, GlassDoors=1, SwimmingPool=0, Garden=1, Prices=65600)]"
      ]
     },
     "execution_count": 46,
     "metadata": {},
     "output_type": "execute_result"
    }
   ],
   "source": [
    "df2.take(5) # see the first 5 obs"
   ]
  },
  {
   "cell_type": "markdown",
   "metadata": {},
   "source": [
    "### 3. Analysis using MLlib"
   ]
  },
  {
   "cell_type": "markdown",
   "metadata": {},
   "source": [
    "#### Try only use 1 feature and 1 label\n",
    " * Area ---- feature\n",
    " * Prices ---- label"
   ]
  },
  {
   "cell_type": "code",
   "execution_count": 15,
   "metadata": {},
   "outputs": [],
   "source": [
    "#df2 = df2.withColumn('LogPrice', fc.log(df2.Prices)) # decided not to log transform price since distribution of price is normal"
   ]
  },
  {
   "cell_type": "markdown",
   "metadata": {},
   "source": [
    "#### Split into train and test"
   ]
  },
  {
   "cell_type": "code",
   "execution_count": 47,
   "metadata": {},
   "outputs": [
    {
     "name": "stdout",
     "output_type": "stream",
     "text": [
      "training set N = 400002, test set N = 99998\n"
     ]
    }
   ],
   "source": [
    "# create train (80%) and test (20%) sets\n",
    "(testDF, trainDF) = df2.randomSplit((0.20, 0.80), seed=123)\n",
    "print ('training set N = {}, test set N = {}'.format(trainDF.count(),testDF.count()))"
   ]
  },
  {
   "cell_type": "code",
   "execution_count": 48,
   "metadata": {},
   "outputs": [
    {
     "name": "stdout",
     "output_type": "stream",
     "text": [
      "root\n",
      " |-- Area: integer (nullable = true)\n",
      " |-- Garage: integer (nullable = true)\n",
      " |-- FirePlace: integer (nullable = true)\n",
      " |-- Baths: integer (nullable = true)\n",
      " |-- WhiteMarble: integer (nullable = true)\n",
      " |-- BlackMarble: integer (nullable = true)\n",
      " |-- IndianMarble: integer (nullable = true)\n",
      " |-- Floors: integer (nullable = true)\n",
      " |-- City: integer (nullable = true)\n",
      " |-- Solar: integer (nullable = true)\n",
      " |-- Electric: integer (nullable = true)\n",
      " |-- Fiber: integer (nullable = true)\n",
      " |-- GlassDoors: integer (nullable = true)\n",
      " |-- SwimmingPool: integer (nullable = true)\n",
      " |-- Garden: integer (nullable = true)\n",
      " |-- Prices: integer (nullable = true)\n",
      "\n"
     ]
    }
   ],
   "source": [
    "trainDF.printSchema()"
   ]
  },
  {
   "cell_type": "markdown",
   "metadata": {},
   "source": [
    "#### Vectorization"
   ]
  },
  {
   "cell_type": "code",
   "execution_count": 49,
   "metadata": {},
   "outputs": [],
   "source": [
    "# define UDF\n",
    "sqlc.registerFunction(\"oneElementVec\", lambda d: Vectors.dense([d]), returnType=VectorUDT())"
   ]
  },
  {
   "cell_type": "code",
   "execution_count": 50,
   "metadata": {},
   "outputs": [],
   "source": [
    "# vectorize the data frames\n",
    "trainDF = trainDF.selectExpr(\"Prices\", \"oneElementVec(Area) as Area\")\n",
    "testDF = testDF.selectExpr(\"Prices\", \"oneElementVec(Area) as Area\")"
   ]
  },
  {
   "cell_type": "code",
   "execution_count": 51,
   "metadata": {},
   "outputs": [
    {
     "name": "stdout",
     "output_type": "stream",
     "text": [
      "DataFrame[Prices: int, Area: vector]\n"
     ]
    }
   ],
   "source": [
    "print(testDF.orderBy(testDF.Area.desc()).limit(5)) # check if Area changed to vector"
   ]
  },
  {
   "cell_type": "code",
   "execution_count": 52,
   "metadata": {},
   "outputs": [],
   "source": [
    "# rename to label and features\n",
    "trainDF = trainDF.withColumnRenamed(\"Prices\", \"label\").withColumnRenamed(\"Area\", \"features\")\n",
    "testDF = testDF.withColumnRenamed(\"Prices\", \"label\").withColumnRenamed(\"Area\", \"features\")"
   ]
  },
  {
   "cell_type": "code",
   "execution_count": 53,
   "metadata": {},
   "outputs": [
    {
     "name": "stdout",
     "output_type": "stream",
     "text": [
      "root\n",
      " |-- label: integer (nullable = true)\n",
      " |-- features: vector (nullable = true)\n",
      "\n"
     ]
    }
   ],
   "source": [
    "trainDF.printSchema()"
   ]
  },
  {
   "cell_type": "markdown",
   "metadata": {},
   "source": [
    "#### Train linear regression on trainDF"
   ]
  },
  {
   "cell_type": "code",
   "execution_count": 20,
   "metadata": {},
   "outputs": [],
   "source": [
    "# instantiate lr\n",
    "lr = LinearRegression()"
   ]
  },
  {
   "cell_type": "code",
   "execution_count": 54,
   "metadata": {},
   "outputs": [],
   "source": [
    "# fit model on trainDF\n",
    "lrModel = lr.fit(trainDF)"
   ]
  },
  {
   "cell_type": "code",
   "execution_count": 55,
   "metadata": {},
   "outputs": [],
   "source": [
    "# make predictions using test data\n",
    "predDF = lrModel.transform(testDF)"
   ]
  },
  {
   "cell_type": "code",
   "execution_count": 56,
   "metadata": {},
   "outputs": [
    {
     "name": "stdout",
     "output_type": "stream",
     "text": [
      "[Row(label=76975, features=DenseVector([231.0]), prediction=44703.46230982261), Row(label=76825, features=DenseVector([245.0]), prediction=45054.16809987209), Row(label=76450, features=DenseVector([240.0]), prediction=44928.91603199727), Row(label=76125, features=DenseVector([227.0]), prediction=44603.260655522754), Row(label=76000, features=DenseVector([222.0]), prediction=44478.008587647935)]\n"
     ]
    }
   ],
   "source": [
    "print(predDF.orderBy(predDF.label.desc()).take(5))"
   ]
  },
  {
   "cell_type": "markdown",
   "metadata": {},
   "source": [
    "#### Evaluation"
   ]
  },
  {
   "cell_type": "code",
   "execution_count": 21,
   "metadata": {},
   "outputs": [],
   "source": [
    "# instantiate evaluator\n",
    "evl = RegressionEvaluator()"
   ]
  },
  {
   "cell_type": "code",
   "execution_count": 58,
   "metadata": {},
   "outputs": [
    {
     "data": {
      "text/plain": [
       "11979.816279263829"
      ]
     },
     "execution_count": 58,
     "metadata": {},
     "output_type": "execute_result"
    }
   ],
   "source": [
    "evl.setMetricName(\"rmse\").evaluate(predDF)"
   ]
  },
  {
   "cell_type": "code",
   "execution_count": 59,
   "metadata": {},
   "outputs": [
    {
     "data": {
      "text/plain": [
       "0.02084011847542"
      ]
     },
     "execution_count": 59,
     "metadata": {},
     "output_type": "execute_result"
    }
   ],
   "source": [
    "# check r2 - too low\n",
    "evl.setMetricName(\"r2\").evaluate(predDF)"
   ]
  },
  {
   "cell_type": "markdown",
   "metadata": {},
   "source": [
    "#### Try using another feature since r2 is too low using Area\n",
    "* Floors"
   ]
  },
  {
   "cell_type": "code",
   "execution_count": 60,
   "metadata": {},
   "outputs": [
    {
     "data": {
      "text/plain": [
       "0.38272635623975215"
      ]
     },
     "execution_count": 60,
     "metadata": {},
     "output_type": "execute_result"
    }
   ],
   "source": [
    "# create train (80%) and test (20%) sets\n",
    "(testDF_2, trainDF_2) = df2.randomSplit((0.20, 0.80), seed=123)\n",
    "\n",
    "\n",
    "# vectorize the data frames\n",
    "trainDF_2 = trainDF_2.selectExpr(\"Prices\", \"oneElementVec(Floors) as Floors\")\n",
    "testDF_2 = testDF_2.selectExpr(\"Prices\", \"oneElementVec(Floors) as Floors\")\n",
    "\n",
    "# rename to label and features\n",
    "trainDF_2 = trainDF_2.withColumnRenamed(\"Prices\", \"label\").withColumnRenamed(\"Floors\", \"features\")\n",
    "testDF_2 = testDF_2.withColumnRenamed(\"Prices\", \"label\").withColumnRenamed(\"Floors\", \"features\")\n",
    "\n",
    "# fit model on trainDF_2\n",
    "lrModel_2 = lr.fit(trainDF_2)\n",
    "\n",
    "# make predictions using test data\n",
    "predDF_2 = lrModel_2.transform(testDF_2)\n",
    "\n",
    "# check r2 - better using Floors as a feature\n",
    "evl.setMetricName(\"r2\").evaluate(predDF_2)"
   ]
  },
  {
   "cell_type": "code",
   "execution_count": 61,
   "metadata": {},
   "outputs": [
    {
     "data": {
      "text/plain": [
       "9511.789251407434"
      ]
     },
     "execution_count": 61,
     "metadata": {},
     "output_type": "execute_result"
    }
   ],
   "source": [
    "evl.setMetricName(\"rmse\").evaluate(predDF_2) # decreases"
   ]
  },
  {
   "cell_type": "code",
   "execution_count": 62,
   "metadata": {},
   "outputs": [
    {
     "name": "stdout",
     "output_type": "stream",
     "text": [
      "Coefficients: [15009.363916952172]\n",
      "Intercept: 34561.03996706833\n"
     ]
    }
   ],
   "source": [
    "print(\"Coefficients: \" + str(lrModel_2.coefficients))\n",
    "print(\"Intercept: \" + str(lrModel_2.intercept))"
   ]
  },
  {
   "cell_type": "markdown",
   "metadata": {},
   "source": [
    "#### Use all features"
   ]
  },
  {
   "cell_type": "code",
   "execution_count": 40,
   "metadata": {},
   "outputs": [
    {
     "name": "stdout",
     "output_type": "stream",
     "text": [
      "+--------------------+------+\n",
      "|            features|Prices|\n",
      "+--------------------+------+\n",
      "|[30.0,2.0,1.0,4.0...| 33000|\n",
      "|[31.0,1.0,4.0,4.0...| 38775|\n",
      "|[4.0,1.0,4.0,3.0,...| 14350|\n",
      "+--------------------+------+\n",
      "only showing top 3 rows\n",
      "\n"
     ]
    }
   ],
   "source": [
    "from pyspark.ml.feature import VectorAssembler\n",
    "\n",
    "# vectorize the df\n",
    "feature_names = df2.schema.names[0:15]\n",
    "vectorAssembler = VectorAssembler(inputCols = feature_names, outputCol = 'features')\n",
    "new_df = vectorAssembler.transform(df2)\n",
    "new_df = new_df.select(['features', 'Prices'])\n",
    "new_df.show(3)"
   ]
  },
  {
   "cell_type": "code",
   "execution_count": 41,
   "metadata": {},
   "outputs": [],
   "source": [
    "# create train (80%) and test (20%) sets\n",
    "(testDF_3, trainDF_3) = new_df.randomSplit((0.20, 0.80), seed=123)\n",
    "\n",
    "\n",
    "# rename to label and features\n",
    "trainDF_3 = trainDF_3.withColumnRenamed(\"Prices\", \"label\")\n",
    "testDF_3 = testDF_3.withColumnRenamed(\"Prices\", \"label\")\n"
   ]
  },
  {
   "cell_type": "code",
   "execution_count": 42,
   "metadata": {},
   "outputs": [
    {
     "name": "stdout",
     "output_type": "stream",
     "text": [
      "root\n",
      " |-- features: vector (nullable = true)\n",
      " |-- label: integer (nullable = true)\n",
      "\n"
     ]
    }
   ],
   "source": [
    "trainDF_3.printSchema()"
   ]
  },
  {
   "cell_type": "code",
   "execution_count": 43,
   "metadata": {},
   "outputs": [
    {
     "data": {
      "text/plain": [
       "0.9999999999999999"
      ]
     },
     "execution_count": 43,
     "metadata": {},
     "output_type": "execute_result"
    }
   ],
   "source": [
    "# fit model on trainDF_3\n",
    "lrModel_3 = lr.fit(trainDF_3)\n",
    "\n",
    "# make predictions using test data\n",
    "predDF_3 = lrModel_3.transform(testDF_3)\n",
    "\n",
    "# check r2 - big improvement due to inclusion of all features\n",
    "evl.setMetricName(\"r2\").evaluate(predDF_3)"
   ]
  },
  {
   "cell_type": "code",
   "execution_count": 63,
   "metadata": {},
   "outputs": [
    {
     "data": {
      "text/plain": [
       "9.050031158791406e-05"
      ]
     },
     "execution_count": 63,
     "metadata": {},
     "output_type": "execute_result"
    }
   ],
   "source": [
    "evl.setMetricName(\"rmse\").evaluate(predDF_3) # also big decrease in mse"
   ]
  },
  {
   "cell_type": "code",
   "execution_count": 64,
   "metadata": {},
   "outputs": [
    {
     "name": "stdout",
     "output_type": "stream",
     "text": [
      "Coefficients: [25.000000263192636,1499.9999891774705,750.0000024140363,1249.9999934416865,7674.177342645919,-1325.8227051568406,-6325.8226813289575,15000.00014011295,3500.0000337000965,250.0000117514229,1250.0000273529024,11750.00005369976,4450.0000123114005,-1.8995146102308393e-05,4.643274589027361e-05]\n",
      "Intercept: 7325.822480912044\n"
     ]
    }
   ],
   "source": [
    "print(\"Coefficients: \" + str(lrModel_3.coefficients))\n",
    "print(\"Intercept: \" + str(lrModel_3.intercept))"
   ]
  },
  {
   "cell_type": "markdown",
   "metadata": {},
   "source": [
    "### 4. Visualization"
   ]
  },
  {
   "cell_type": "code",
   "execution_count": 65,
   "metadata": {},
   "outputs": [],
   "source": [
    "# Register spark df as a temp table \n",
    "df2.registerTempTable(\"house_price_table\")"
   ]
  },
  {
   "cell_type": "markdown",
   "metadata": {},
   "source": [
    "#### Histogram for Area"
   ]
  },
  {
   "cell_type": "code",
   "execution_count": 66,
   "metadata": {},
   "outputs": [
    {
     "data": {
      "image/png": "[encoded data removed]",
      "text/plain": [
       "<Figure size 432x288 with 1 Axes>"
      ]
     },
     "metadata": {},
     "output_type": "display_data"
    }
   ],
   "source": [
    "test = sqlc.sql(\"select Area from house_price_table\")\n",
    "pddf1 = test.toPandas()\n",
    "\n",
    "plt.hist(pddf1.Area)\n",
    "plt.xlabel('Area')\n",
    "plt.ylabel('Count')\n",
    "plt.title('Histogram')\n",
    "plt.show()"
   ]
  },
  {
   "cell_type": "markdown",
   "metadata": {},
   "source": [
    "#### Histogram for Floors"
   ]
  },
  {
   "cell_type": "code",
   "execution_count": 67,
   "metadata": {},
   "outputs": [
    {
     "data": {
      "image/png": "[encoded data removed]",
      "text/plain": [
       "<Figure size 432x288 with 1 Axes>"
      ]
     },
     "metadata": {},
     "output_type": "display_data"
    }
   ],
   "source": [
    "test = sqlc.sql(\"select Floors from house_price_table\")\n",
    "pddf1 = test.toPandas()\n",
    "\n",
    "plt.hist(pddf1.Floors)\n",
    "plt.xlabel('Floors')\n",
    "plt.ylabel('Count')\n",
    "plt.title('Histogram')\n",
    "plt.show()"
   ]
  },
  {
   "cell_type": "markdown",
   "metadata": {},
   "source": [
    "#### Histogram for Price"
   ]
  },
  {
   "cell_type": "code",
   "execution_count": 109,
   "metadata": {},
   "outputs": [
    {
     "data": {
      "image/png": "[encoded data removed]",
      "text/plain": [
       "<Figure size 432x288 with 1 Axes>"
      ]
     },
     "metadata": {},
     "output_type": "display_data"
    }
   ],
   "source": [
    "test = sqlc.sql(\"select Prices from house_price_table\")\n",
    "pddf1 = test.toPandas()\n",
    "\n",
    "plt.hist(pddf1.Prices)\n",
    "plt.xlabel('Price')\n",
    "plt.ylabel('Count')\n",
    "plt.title('Histogram')\n",
    "plt.show()"
   ]
  },
  {
   "cell_type": "markdown",
   "metadata": {},
   "source": [
    "#### Correlation matrix"
   ]
  },
  {
   "cell_type": "code",
   "execution_count": 68,
   "metadata": {},
   "outputs": [
    {
     "data": {
      "image/png": "[encoded data removed]",
      "text/plain": [
       "<Figure size 720x720 with 2 Axes>"
      ]
     },
     "metadata": {},
     "output_type": "display_data"
    },
    {
     "data": {
      "text/plain": [
       "<Figure size 432x288 with 0 Axes>"
      ]
     },
     "metadata": {},
     "output_type": "display_data"
    }
   ],
   "source": [
    "# calculate correlation between variables\n",
    "corr = df2.toPandas().corr()\n",
    "\n",
    "# plot heatmap for correlation\n",
    "plt.figure(num=None, figsize=(10, 10))\n",
    "corrMat = plt.matshow(corr, fignum = 1)\n",
    "plt.xticks(range(len(corr.columns)), corr.columns, rotation=90)\n",
    "plt.yticks(range(len(corr.columns)), corr.columns)\n",
    "plt.gca().xaxis.tick_bottom()\n",
    "plt.colorbar(corrMat)\n",
    "plt.title('Correlation Matrix', fontsize=15)\n",
    "plt.show()\n",
    "plt.savefig(\"corrMatrix.jpg\")\n",
    "# cite: https://www.kaggle.com/kerneler/starter-housepricing-f33c5910-8"
   ]
  },
  {
   "cell_type": "code",
   "execution_count": 69,
   "metadata": {},
   "outputs": [
    {
     "data": {
      "text/plain": [
       "<matplotlib.axes._subplots.AxesSubplot at 0x7fa875c36da0>"
      ]
     },
     "execution_count": 69,
     "metadata": {},
     "output_type": "execute_result"
    },
    {
     "data": {
      "image/png": "[encoded data removed]",
      "text/plain": [
       "<Figure size 432x288 with 1 Axes>"
      ]
     },
     "metadata": {},
     "output_type": "display_data"
    }
   ],
   "source": [
    "# the following uses seaborn to visualize the linear relationship between Floors and Prices. \n",
    "import seaborn as sns\n",
    "sns.regplot(x=\"Floors\", y=\"Prices\", data=df2.toPandas())"
   ]
  },
  {
   "cell_type": "code",
   "execution_count": null,
   "metadata": {},
   "outputs": [],
   "source": []
  }
 ],
 "metadata": {
  "kernelspec": {
   "display_name": "conda_python3",
   "language": "python",
   "name": "conda_python3"
  },
  "language_info": {
   "codemirror_mode": {
    "name": "ipython",
    "version": 3
   },
   "file_extension": ".py",
   "mimetype": "text/x-python",
   "name": "python",
   "nbconvert_exporter": "python",
   "pygments_lexer": "ipython3",
   "version": "3.6.5"
  }
 },
 "nbformat": 4,
 "nbformat_minor": 2
}
