{
 "cells": [
  {
   "cell_type": "code",
   "execution_count": 1,
   "metadata": {},
   "outputs": [],
   "source": [
    "#import packages \n",
    "import pyspark\n",
    "from os import listdir\n",
    "from os.path import isfile, join\n",
    "import boto3\n",
    "import pandas as pd\n",
    "from sagemaker import get_execution_role\n",
    "from pyspark.sql.types import LongType, StringType, StructField, StructType, BooleanType, ArrayType, IntegerType"
   ]
  },
  {
   "cell_type": "code",
   "execution_count": 2,
   "metadata": {},
   "outputs": [
    {
     "data": {
      "text/html": [
       "\n",
       "        <div>\n",
       "            <p><b>SparkContext</b></p>\n",
       "\n",
       "            <p><a href=\"http://172.16.95.41:4045\">Spark UI</a></p>\n",
       "\n",
       "            <dl>\n",
       "              <dt>Version</dt>\n",
       "                <dd><code>v2.2.1</code></dd>\n",
       "              <dt>Master</dt>\n",
       "                <dd><code>local</code></dd>\n",
       "              <dt>AppName</dt>\n",
       "                <dd><code>odl</code></dd>\n",
       "            </dl>\n",
       "        </div>\n",
       "        "
      ],
      "text/plain": [
       "<SparkContext master=local appName=odl>"
      ]
     },
     "execution_count": 2,
     "metadata": {},
     "output_type": "execute_result"
    }
   ],
   "source": [
    "#Initialzie \n",
    "conf = pyspark.SparkConf().setAppName('odl').setMaster('local')\n",
    "sc = pyspark.SparkContext(conf=conf)\n",
    "sqlc = pyspark.sql.SQLContext(sc)\n",
    "sc"
   ]
  },
  {
   "cell_type": "code",
   "execution_count": 3,
   "metadata": {},
   "outputs": [
    {
     "data": {
      "text/plain": [
       "<pyspark.sql.context.SQLContext at 0x7f7baaa51e48>"
      ]
     },
     "execution_count": 3,
     "metadata": {},
     "output_type": "execute_result"
    }
   ],
   "source": [
    "sqlc\n"
   ]
  },
  {
   "cell_type": "code",
   "execution_count": 4,
   "metadata": {},
   "outputs": [],
   "source": [
    "#Read into spark dataframe from csv in s3\n",
    "role = get_execution_role()\n",
    "bucket='odl-spark19spds6003-001'\n",
    "data_key = 'nh4mq/crash_test_afterdummy.csv'\n",
    "data_location = 's3://{}/{}'.format(bucket, data_key)\n"
   ]
  },
  {
   "cell_type": "code",
   "execution_count": 5,
   "metadata": {},
   "outputs": [
    {
     "data": {
      "text/html": [
       "<div>\n",
       "<style scoped>\n",
       "    .dataframe tbody tr th:only-of-type {\n",
       "        vertical-align: middle;\n",
       "    }\n",
       "\n",
       "    .dataframe tbody tr th {\n",
       "        vertical-align: top;\n",
       "    }\n",
       "\n",
       "    .dataframe thead th {\n",
       "        text-align: right;\n",
       "    }\n",
       "</style>\n",
       "<table border=\"1\" class=\"dataframe\">\n",
       "  <thead>\n",
       "    <tr style=\"text-align: right;\">\n",
       "      <th></th>\n",
       "      <th>Unnamed: 0</th>\n",
       "      <th>Latitude</th>\n",
       "      <th>Longitude</th>\n",
       "      <th>VehicleYear</th>\n",
       "      <th>VehicleSpeedBeforeCrash</th>\n",
       "      <th>VehicleSpeedLimit</th>\n",
       "      <th>VehicleMaximumSafeSpeed</th>\n",
       "      <th>AgeAtCrash</th>\n",
       "      <th>CountOffense</th>\n",
       "      <th>Week</th>\n",
       "      <th>...</th>\n",
       "      <th>DriverDrinkingID_NoDrinking</th>\n",
       "      <th>DriverDrinkingID_Drinking</th>\n",
       "      <th>DriversActionID_Unknown</th>\n",
       "      <th>DriversActionID_NoImproperAction</th>\n",
       "      <th>TypeOfDriverDistractionID_Unknown</th>\n",
       "      <th>TypeOfDriverDistractionID_NoDistraction</th>\n",
       "      <th>DriverDrugUseID_2.0</th>\n",
       "      <th>DriverDrugUseID_3.0</th>\n",
       "      <th>DriverDrugUseID_4.0</th>\n",
       "      <th>DriverSeatbeltUsage</th>\n",
       "    </tr>\n",
       "  </thead>\n",
       "  <tbody>\n",
       "    <tr>\n",
       "      <th>0</th>\n",
       "      <td>0</td>\n",
       "      <td>36.84859</td>\n",
       "      <td>-76.20993</td>\n",
       "      <td>2004</td>\n",
       "      <td>10.0</td>\n",
       "      <td>30.0</td>\n",
       "      <td>30.0</td>\n",
       "      <td>21.0</td>\n",
       "      <td>0</td>\n",
       "      <td>4</td>\n",
       "      <td>...</td>\n",
       "      <td>1</td>\n",
       "      <td>0</td>\n",
       "      <td>0</td>\n",
       "      <td>0</td>\n",
       "      <td>1</td>\n",
       "      <td>0</td>\n",
       "      <td>0</td>\n",
       "      <td>1</td>\n",
       "      <td>0</td>\n",
       "      <td>0.0</td>\n",
       "    </tr>\n",
       "    <tr>\n",
       "      <th>1</th>\n",
       "      <td>1</td>\n",
       "      <td>38.67771</td>\n",
       "      <td>-77.23463</td>\n",
       "      <td>2012</td>\n",
       "      <td>0.0</td>\n",
       "      <td>55.0</td>\n",
       "      <td>0.0</td>\n",
       "      <td>19.0</td>\n",
       "      <td>0</td>\n",
       "      <td>11</td>\n",
       "      <td>...</td>\n",
       "      <td>1</td>\n",
       "      <td>0</td>\n",
       "      <td>0</td>\n",
       "      <td>1</td>\n",
       "      <td>0</td>\n",
       "      <td>1</td>\n",
       "      <td>0</td>\n",
       "      <td>1</td>\n",
       "      <td>0</td>\n",
       "      <td>0.0</td>\n",
       "    </tr>\n",
       "    <tr>\n",
       "      <th>2</th>\n",
       "      <td>2</td>\n",
       "      <td>36.78789</td>\n",
       "      <td>-76.42436</td>\n",
       "      <td>2006</td>\n",
       "      <td>0.0</td>\n",
       "      <td>60.0</td>\n",
       "      <td>0.0</td>\n",
       "      <td>65.0</td>\n",
       "      <td>0</td>\n",
       "      <td>51</td>\n",
       "      <td>...</td>\n",
       "      <td>1</td>\n",
       "      <td>0</td>\n",
       "      <td>0</td>\n",
       "      <td>1</td>\n",
       "      <td>0</td>\n",
       "      <td>1</td>\n",
       "      <td>0</td>\n",
       "      <td>1</td>\n",
       "      <td>0</td>\n",
       "      <td>0.0</td>\n",
       "    </tr>\n",
       "    <tr>\n",
       "      <th>3</th>\n",
       "      <td>3</td>\n",
       "      <td>38.12925</td>\n",
       "      <td>-78.89123</td>\n",
       "      <td>2013</td>\n",
       "      <td>10.0</td>\n",
       "      <td>35.0</td>\n",
       "      <td>0.0</td>\n",
       "      <td>39.0</td>\n",
       "      <td>0</td>\n",
       "      <td>3</td>\n",
       "      <td>...</td>\n",
       "      <td>1</td>\n",
       "      <td>0</td>\n",
       "      <td>0</td>\n",
       "      <td>0</td>\n",
       "      <td>0</td>\n",
       "      <td>1</td>\n",
       "      <td>0</td>\n",
       "      <td>1</td>\n",
       "      <td>0</td>\n",
       "      <td>0.0</td>\n",
       "    </tr>\n",
       "    <tr>\n",
       "      <th>4</th>\n",
       "      <td>4</td>\n",
       "      <td>37.55637</td>\n",
       "      <td>-77.44213</td>\n",
       "      <td>2006</td>\n",
       "      <td>25.0</td>\n",
       "      <td>35.0</td>\n",
       "      <td>35.0</td>\n",
       "      <td>49.0</td>\n",
       "      <td>0</td>\n",
       "      <td>10</td>\n",
       "      <td>...</td>\n",
       "      <td>1</td>\n",
       "      <td>0</td>\n",
       "      <td>0</td>\n",
       "      <td>0</td>\n",
       "      <td>0</td>\n",
       "      <td>1</td>\n",
       "      <td>0</td>\n",
       "      <td>1</td>\n",
       "      <td>0</td>\n",
       "      <td>0.0</td>\n",
       "    </tr>\n",
       "  </tbody>\n",
       "</table>\n",
       "<p>5 rows × 72 columns</p>\n",
       "</div>"
      ],
      "text/plain": [
       "   Unnamed: 0  Latitude  Longitude  VehicleYear  VehicleSpeedBeforeCrash  \\\n",
       "0           0  36.84859  -76.20993         2004                     10.0   \n",
       "1           1  38.67771  -77.23463         2012                      0.0   \n",
       "2           2  36.78789  -76.42436         2006                      0.0   \n",
       "3           3  38.12925  -78.89123         2013                     10.0   \n",
       "4           4  37.55637  -77.44213         2006                     25.0   \n",
       "\n",
       "   VehicleSpeedLimit  VehicleMaximumSafeSpeed  AgeAtCrash  CountOffense  Week  \\\n",
       "0               30.0                     30.0        21.0             0     4   \n",
       "1               55.0                      0.0        19.0             0    11   \n",
       "2               60.0                      0.0        65.0             0    51   \n",
       "3               35.0                      0.0        39.0             0     3   \n",
       "4               35.0                     35.0        49.0             0    10   \n",
       "\n",
       "          ...           DriverDrinkingID_NoDrinking  \\\n",
       "0         ...                                     1   \n",
       "1         ...                                     1   \n",
       "2         ...                                     1   \n",
       "3         ...                                     1   \n",
       "4         ...                                     1   \n",
       "\n",
       "   DriverDrinkingID_Drinking  DriversActionID_Unknown  \\\n",
       "0                          0                        0   \n",
       "1                          0                        0   \n",
       "2                          0                        0   \n",
       "3                          0                        0   \n",
       "4                          0                        0   \n",
       "\n",
       "   DriversActionID_NoImproperAction  TypeOfDriverDistractionID_Unknown  \\\n",
       "0                                 0                                  1   \n",
       "1                                 1                                  0   \n",
       "2                                 1                                  0   \n",
       "3                                 0                                  0   \n",
       "4                                 0                                  0   \n",
       "\n",
       "   TypeOfDriverDistractionID_NoDistraction  DriverDrugUseID_2.0  \\\n",
       "0                                        0                    0   \n",
       "1                                        1                    0   \n",
       "2                                        1                    0   \n",
       "3                                        1                    0   \n",
       "4                                        1                    0   \n",
       "\n",
       "   DriverDrugUseID_3.0  DriverDrugUseID_4.0  DriverSeatbeltUsage  \n",
       "0                    1                    0                  0.0  \n",
       "1                    1                    0                  0.0  \n",
       "2                    1                    0                  0.0  \n",
       "3                    1                    0                  0.0  \n",
       "4                    1                    0                  0.0  \n",
       "\n",
       "[5 rows x 72 columns]"
      ]
     },
     "execution_count": 5,
     "metadata": {},
     "output_type": "execute_result"
    }
   ],
   "source": [
    "pd.read_csv(data_location).head()"
   ]
  },
  {
   "cell_type": "code",
   "execution_count": 6,
   "metadata": {},
   "outputs": [],
   "source": [
    "df=sqlc.createDataFrame(pd.read_csv(data_location))"
   ]
  },
  {
   "cell_type": "code",
   "execution_count": 7,
   "metadata": {},
   "outputs": [
    {
     "data": {
      "text/plain": [
       "DataFrame[Unnamed: 0: bigint, Latitude: double, Longitude: double, VehicleYear: bigint, VehicleSpeedBeforeCrash: double, VehicleSpeedLimit: double, VehicleMaximumSafeSpeed: double, AgeAtCrash: double, CountOffense: bigint, Week: bigint, Month: bigint, Year: bigint, TestTimeStamp: double, TestHour: bigint, TestMinutes: bigint, CrashDayOfWeekId_2: bigint, CrashDayOfWeekId_3: bigint, CrashDayOfWeekId_4: bigint, CrashDayOfWeekId_5: bigint, CrashDayOfWeekId_6: bigint, CrashDayOfWeekId_7: bigint, RoadwaySurfaceTypeID_Unknown: bigint, RoadwaySurfaceTypeID_Bad: bigint, RoadwayDefectID_Defects: bigint, LightConditionID_Darkness: bigint, LightConditionID_Day: bigint, LightConditionID_DarknessUnknownLighting: bigint, LightConditionID_Unknown: bigint, RoadwayDescriptionID_OnewayUndivided: bigint, RoadwayDescriptionID_TwowayDivided: bigint, RoadwayDescriptionID_TwowayUndivided: bigint, WeatherConditionID_AdverseCondtions: bigint, WeatherConditionID_NoAdverseCondtion: bigint, RoadwayAlignmentID_Other: bigint, RoadwayAlignmentID_Hillcrest: bigint, RoadwayAlignmentID_Dip: bigint, RoadwayAlignmentID_Curve: bigint, RoadwayAlignmentID_Grade: bigint, SchoolZoneID_No: bigint, IntersectionTypeID_Intersection: bigint, TrafficControlTypeID_TrafficControls: bigint, TrafficControlTypeID_NoTrafficControl: bigint, RoadwaySurfaceConditionID_Dry: bigint, TrafficControlMechanicalDeviceID_Have&Working: bigint, TrafficControlMechanicalDeviceID_HavenotWorking: bigint, WorkZoneRelatedID_2: bigint, VehicleConditionId_NoDefects: bigint, VehicleConditionId_Defects: bigint, VehicleBodyTypeId_Emergency: bigint, VehicleBodyTypeId_PickupTruck: bigint, VehicleBodyTypeId_PassengerCar: bigint, VehicleBodyTypeId_Bus: bigint, VehicleBodyTypeId_NotVehicle: bigint, VehicleBodyTypeId_Others: bigint, VehicleBodyTypeId_Unknown: bigint, VehicleBodyTypeId_Truck: bigint, SpecialFunctionMotorVehicleId_Unknown: bigint, SpecialFunctionMotorVehicleId_NoSpecialFunction: bigint, GenderID_1.0: bigint, GenderID_2.0: bigint, ConditionOfDriverID_NoDefects: bigint, ConditionOfDriverID_Defects: bigint, DriverDrinkingID_NoDrinking: bigint, DriverDrinkingID_Drinking: bigint, DriversActionID_Unknown: bigint, DriversActionID_NoImproperAction: bigint, TypeOfDriverDistractionID_Unknown: bigint, TypeOfDriverDistractionID_NoDistraction: bigint, DriverDrugUseID_2.0: bigint, DriverDrugUseID_3.0: bigint, DriverDrugUseID_4.0: bigint, DriverSeatbeltUsage: double]"
      ]
     },
     "execution_count": 7,
     "metadata": {},
     "output_type": "execute_result"
    }
   ],
   "source": [
    "df"
   ]
  },
  {
   "cell_type": "code",
   "execution_count": 8,
   "metadata": {},
   "outputs": [],
   "source": [
    "drop_list = [\"Unnamed: 0\", \"TestTimeStamp\"]\n",
    "df=df.drop(*drop_list)"
   ]
  },
  {
   "cell_type": "code",
   "execution_count": 10,
   "metadata": {},
   "outputs": [],
   "source": [
    "df = df.withColumnRenamed(\"GenderID_1.0\", \"GenderID1\").withColumnRenamed(\"GenderID_2.0\", \"GenderID2\").withColumnRenamed(\"DriverDrugUseID_2.0\", \"DriverDrugUseID2\").withColumnRenamed(\"DriverDrugUseID_3.0\", \"DriverDrugUseID3\").withColumnRenamed(\"DriverDrugUseID_4.0\", \"DriverDrugUseID4\")\n",
    "    "
   ]
  },
  {
   "cell_type": "code",
   "execution_count": 12,
   "metadata": {
    "scrolled": true
   },
   "outputs": [
    {
     "data": {
      "text/plain": [
       "DataFrame[Latitude: double, Longitude: double, VehicleYear: bigint, VehicleSpeedBeforeCrash: double, VehicleSpeedLimit: double, VehicleMaximumSafeSpeed: double, AgeAtCrash: double, CountOffense: bigint, Week: bigint, Month: bigint, Year: bigint, TestHour: bigint, TestMinutes: bigint, CrashDayOfWeekId_2: bigint, CrashDayOfWeekId_3: bigint, CrashDayOfWeekId_4: bigint, CrashDayOfWeekId_5: bigint, CrashDayOfWeekId_6: bigint, CrashDayOfWeekId_7: bigint, RoadwaySurfaceTypeID_Unknown: bigint, RoadwaySurfaceTypeID_Bad: bigint, RoadwayDefectID_Defects: bigint, LightConditionID_Darkness: bigint, LightConditionID_Day: bigint, LightConditionID_DarknessUnknownLighting: bigint, LightConditionID_Unknown: bigint, RoadwayDescriptionID_OnewayUndivided: bigint, RoadwayDescriptionID_TwowayDivided: bigint, RoadwayDescriptionID_TwowayUndivided: bigint, WeatherConditionID_AdverseCondtions: bigint, WeatherConditionID_NoAdverseCondtion: bigint, RoadwayAlignmentID_Other: bigint, RoadwayAlignmentID_Hillcrest: bigint, RoadwayAlignmentID_Dip: bigint, RoadwayAlignmentID_Curve: bigint, RoadwayAlignmentID_Grade: bigint, SchoolZoneID_No: bigint, IntersectionTypeID_Intersection: bigint, TrafficControlTypeID_TrafficControls: bigint, TrafficControlTypeID_NoTrafficControl: bigint, RoadwaySurfaceConditionID_Dry: bigint, TrafficControlMechanicalDeviceID_Have&Working: bigint, TrafficControlMechanicalDeviceID_HavenotWorking: bigint, WorkZoneRelatedID_2: bigint, VehicleConditionId_NoDefects: bigint, VehicleConditionId_Defects: bigint, VehicleBodyTypeId_Emergency: bigint, VehicleBodyTypeId_PickupTruck: bigint, VehicleBodyTypeId_PassengerCar: bigint, VehicleBodyTypeId_Bus: bigint, VehicleBodyTypeId_NotVehicle: bigint, VehicleBodyTypeId_Others: bigint, VehicleBodyTypeId_Unknown: bigint, VehicleBodyTypeId_Truck: bigint, SpecialFunctionMotorVehicleId_Unknown: bigint, SpecialFunctionMotorVehicleId_NoSpecialFunction: bigint, GenderID1: bigint, GenderID2: bigint, ConditionOfDriverID_NoDefects: bigint, ConditionOfDriverID_Defects: bigint, DriverDrinkingID_NoDrinking: bigint, DriverDrinkingID_Drinking: bigint, DriversActionID_Unknown: bigint, DriversActionID_NoImproperAction: bigint, TypeOfDriverDistractionID_Unknown: bigint, TypeOfDriverDistractionID_NoDistraction: bigint, DriverDrugUseID2: bigint, DriverDrugUseID3: bigint, DriverDrugUseID4: bigint, DriverSeatbeltUsage: double]"
      ]
     },
     "execution_count": 12,
     "metadata": {},
     "output_type": "execute_result"
    }
   ],
   "source": [
    "df"
   ]
  },
  {
   "cell_type": "markdown",
   "metadata": {},
   "source": [
    "### Write parquet to s3"
   ]
  },
  {
   "cell_type": "code",
   "execution_count": null,
   "metadata": {},
   "outputs": [],
   "source": [
    "parquetPath = '/home/ec2-user/SageMaker/nh4mq-pqt'\n",
    "df.write.parquet(parquetPath)\n",
    "# prep list of files to transfer\n",
    "files = [f for f in listdir(parquetPath) if isfile(join(parquetPath, f))]\n",
    "\n",
    "s3 = boto3.resource('s3')\n",
    "for f in files:\n",
    "    #print('copying {} to {}'.format(parquetPath+'/'+f,\"sample_data/\"+f))\n",
    "    s3.Bucket(bucket).upload_file(parquetPath+'/'+f, \"nh4mq/pqt/\"+f)"
   ]
  },
  {
   "cell_type": "code",
   "execution_count": null,
   "metadata": {},
   "outputs": [],
   "source": [
    "df = sqlc.read.parquet(parquetPath)\n",
    "#Successfully run it before. Can't run one more time due to path. "
   ]
  },
  {
   "cell_type": "markdown",
   "metadata": {},
   "source": [
    "### Make a demo dataframe"
   ]
  },
  {
   "cell_type": "code",
   "execution_count": 13,
   "metadata": {},
   "outputs": [
    {
     "name": "stdout",
     "output_type": "stream",
     "text": [
      "root\n",
      " |-- Latitude: double (nullable = true)\n",
      " |-- Longitude: double (nullable = true)\n",
      " |-- VehicleYear: long (nullable = true)\n",
      " |-- VehicleSpeedBeforeCrash: double (nullable = true)\n",
      " |-- VehicleSpeedLimit: double (nullable = true)\n",
      " |-- VehicleMaximumSafeSpeed: double (nullable = true)\n",
      " |-- AgeAtCrash: double (nullable = true)\n",
      " |-- CountOffense: long (nullable = true)\n",
      " |-- Week: long (nullable = true)\n",
      " |-- Month: long (nullable = true)\n",
      " |-- Year: long (nullable = true)\n",
      " |-- TestHour: long (nullable = true)\n",
      " |-- TestMinutes: long (nullable = true)\n",
      " |-- CrashDayOfWeekId_2: long (nullable = true)\n",
      " |-- CrashDayOfWeekId_3: long (nullable = true)\n",
      " |-- CrashDayOfWeekId_4: long (nullable = true)\n",
      " |-- CrashDayOfWeekId_5: long (nullable = true)\n",
      " |-- CrashDayOfWeekId_6: long (nullable = true)\n",
      " |-- CrashDayOfWeekId_7: long (nullable = true)\n",
      " |-- RoadwaySurfaceTypeID_Unknown: long (nullable = true)\n",
      " |-- RoadwaySurfaceTypeID_Bad: long (nullable = true)\n",
      " |-- RoadwayDefectID_Defects: long (nullable = true)\n",
      " |-- LightConditionID_Darkness: long (nullable = true)\n",
      " |-- LightConditionID_Day: long (nullable = true)\n",
      " |-- LightConditionID_DarknessUnknownLighting: long (nullable = true)\n",
      " |-- LightConditionID_Unknown: long (nullable = true)\n",
      " |-- RoadwayDescriptionID_OnewayUndivided: long (nullable = true)\n",
      " |-- RoadwayDescriptionID_TwowayDivided: long (nullable = true)\n",
      " |-- RoadwayDescriptionID_TwowayUndivided: long (nullable = true)\n",
      " |-- WeatherConditionID_AdverseCondtions: long (nullable = true)\n",
      " |-- WeatherConditionID_NoAdverseCondtion: long (nullable = true)\n",
      " |-- RoadwayAlignmentID_Other: long (nullable = true)\n",
      " |-- RoadwayAlignmentID_Hillcrest: long (nullable = true)\n",
      " |-- RoadwayAlignmentID_Dip: long (nullable = true)\n",
      " |-- RoadwayAlignmentID_Curve: long (nullable = true)\n",
      " |-- RoadwayAlignmentID_Grade: long (nullable = true)\n",
      " |-- SchoolZoneID_No: long (nullable = true)\n",
      " |-- IntersectionTypeID_Intersection: long (nullable = true)\n",
      " |-- TrafficControlTypeID_TrafficControls: long (nullable = true)\n",
      " |-- TrafficControlTypeID_NoTrafficControl: long (nullable = true)\n",
      " |-- RoadwaySurfaceConditionID_Dry: long (nullable = true)\n",
      " |-- TrafficControlMechanicalDeviceID_Have&Working: long (nullable = true)\n",
      " |-- TrafficControlMechanicalDeviceID_HavenotWorking: long (nullable = true)\n",
      " |-- WorkZoneRelatedID_2: long (nullable = true)\n",
      " |-- VehicleConditionId_NoDefects: long (nullable = true)\n",
      " |-- VehicleConditionId_Defects: long (nullable = true)\n",
      " |-- VehicleBodyTypeId_Emergency: long (nullable = true)\n",
      " |-- VehicleBodyTypeId_PickupTruck: long (nullable = true)\n",
      " |-- VehicleBodyTypeId_PassengerCar: long (nullable = true)\n",
      " |-- VehicleBodyTypeId_Bus: long (nullable = true)\n",
      " |-- VehicleBodyTypeId_NotVehicle: long (nullable = true)\n",
      " |-- VehicleBodyTypeId_Others: long (nullable = true)\n",
      " |-- VehicleBodyTypeId_Unknown: long (nullable = true)\n",
      " |-- VehicleBodyTypeId_Truck: long (nullable = true)\n",
      " |-- SpecialFunctionMotorVehicleId_Unknown: long (nullable = true)\n",
      " |-- SpecialFunctionMotorVehicleId_NoSpecialFunction: long (nullable = true)\n",
      " |-- GenderID1: long (nullable = true)\n",
      " |-- GenderID2: long (nullable = true)\n",
      " |-- ConditionOfDriverID_NoDefects: long (nullable = true)\n",
      " |-- ConditionOfDriverID_Defects: long (nullable = true)\n",
      " |-- DriverDrinkingID_NoDrinking: long (nullable = true)\n",
      " |-- DriverDrinkingID_Drinking: long (nullable = true)\n",
      " |-- DriversActionID_Unknown: long (nullable = true)\n",
      " |-- DriversActionID_NoImproperAction: long (nullable = true)\n",
      " |-- TypeOfDriverDistractionID_Unknown: long (nullable = true)\n",
      " |-- TypeOfDriverDistractionID_NoDistraction: long (nullable = true)\n",
      " |-- DriverDrugUseID2: long (nullable = true)\n",
      " |-- DriverDrugUseID3: long (nullable = true)\n",
      " |-- DriverDrugUseID4: long (nullable = true)\n",
      " |-- DriverSeatbeltUsage: double (nullable = true)\n",
      "\n"
     ]
    }
   ],
   "source": [
    "df.printSchema()"
   ]
  },
  {
   "cell_type": "code",
   "execution_count": 14,
   "metadata": {},
   "outputs": [],
   "source": [
    "from pyspark.ml import Pipeline\n",
    "from pyspark.ml.feature import VectorAssembler\n",
    "from pyspark.ml.linalg import Vectors, VectorUDT"
   ]
  },
  {
   "cell_type": "code",
   "execution_count": 15,
   "metadata": {},
   "outputs": [],
   "source": [
    "columns=df.columns\n",
    "columns.remove(\"DriverSeatbeltUsage\")\n",
    "assembler = VectorAssembler(inputCols=columns,outputCol=\"features\")"
   ]
  },
  {
   "cell_type": "code",
   "execution_count": 17,
   "metadata": {},
   "outputs": [],
   "source": [
    "trainingDF=assembler.transform(df)"
   ]
  },
  {
   "cell_type": "code",
   "execution_count": null,
   "metadata": {},
   "outputs": [],
   "source": [
    "trainingDF = trainingDF.withColumnRenamed(\"DriverSeatbeltUsage\", \"label\")"
   ]
  },
  {
   "cell_type": "code",
   "execution_count": 25,
   "metadata": {},
   "outputs": [],
   "source": [
    "trainingDF=trainingDF.select([\"label\",\"features\"])"
   ]
  },
  {
   "cell_type": "code",
   "execution_count": 30,
   "metadata": {},
   "outputs": [
    {
     "name": "stdout",
     "output_type": "stream",
     "text": [
      "40388\n",
      "17369\n"
     ]
    }
   ],
   "source": [
    "(trainingData, testData) = trainingDF.randomSplit([0.7, 0.3], seed=100)\n",
    "print(trainingData.count())\n",
    "print(testData.count())"
   ]
  },
  {
   "cell_type": "code",
   "execution_count": 19,
   "metadata": {},
   "outputs": [],
   "source": [
    "from pyspark.ml.classification import LogisticRegression"
   ]
  },
  {
   "cell_type": "code",
   "execution_count": 38,
   "metadata": {},
   "outputs": [],
   "source": [
    "# Create initial LogisticRegression model\n",
    "lr = LogisticRegression(labelCol=\"label\", featuresCol=\"features\", maxIter=10)\n",
    "\n",
    "# Train model with Training Data\n",
    "lrModel = lr.fit(trainingData)"
   ]
  },
  {
   "cell_type": "code",
   "execution_count": 39,
   "metadata": {},
   "outputs": [],
   "source": [
    "# Make predictions on test data using the transform() method.\n",
    "# LogisticRegression.transform() will only use the 'features' column.\n",
    "predictions_lr = lrModel.transform(testData)\n"
   ]
  },
  {
   "cell_type": "code",
   "execution_count": 40,
   "metadata": {},
   "outputs": [],
   "source": [
    "from pyspark.ml.classification import RandomForestClassifier\n",
    "\n",
    "# Create an initial RandomForest model.\n",
    "rf = RandomForestClassifier(labelCol=\"label\", featuresCol=\"features\")\n",
    "\n",
    "# Train model with Training Data\n",
    "rfModel = rf.fit(trainingData)"
   ]
  },
  {
   "cell_type": "code",
   "execution_count": 41,
   "metadata": {},
   "outputs": [],
   "source": [
    "# Make predictions on test data using the Transformer.transform() method.\n",
    "predictions_rf = rfModel.transform(testData)"
   ]
  },
  {
   "cell_type": "code",
   "execution_count": 42,
   "metadata": {},
   "outputs": [
    {
     "name": "stdout",
     "output_type": "stream",
     "text": [
      "0.7977774039278601 0.8053983341482011\n"
     ]
    }
   ],
   "source": [
    "from pyspark.ml.evaluation import BinaryClassificationEvaluator\n",
    "\n",
    "# Evaluate model\n",
    "evaluator = BinaryClassificationEvaluator(rawPredictionCol=\"rawPrediction\")\n"
   ]
  },
  {
   "cell_type": "code",
   "execution_count": 44,
   "metadata": {},
   "outputs": [
    {
     "name": "stdout",
     "output_type": "stream",
     "text": [
      "Test: Area Under ROC: 0.7977774039278601\n",
      "Test: Area Under ROC: 0.8053983341482011\n"
     ]
    }
   ],
   "source": [
    "print(\"Test: Area Under ROC: \" + str(evaluator.evaluate(predictions_lr, {evaluator.metricName: \"areaUnderROC\"})))\n",
    "print(\"Test: Area Under ROC: \" + str(evaluator.evaluate(predictions_rf, {evaluator.metricName: \"areaUnderROC\"})))"
   ]
  },
  {
   "cell_type": "code",
   "execution_count": 47,
   "metadata": {},
   "outputs": [
    {
     "data": {
      "image/png": "[encoded data removed]",
      "text/plain": [
       "<Figure size 360x360 with 1 Axes>"
      ]
     },
     "metadata": {},
     "output_type": "display_data"
    }
   ],
   "source": [
    "#Make ROC plots \n",
    "import matplotlib.pyplot as plt\n",
    "%matplotlib inline \n",
    "plt.figure(figsize=(5,5))\n",
    "plt.plot([0, 1], [0, 1], 'r--')\n",
    "plt.plot(lrModel.summary.roc.select('FPR').collect(),\n",
    "         lrModel.summary.roc.select('TPR').collect())\n",
    "\n",
    "plt.xlabel('FPR')\n",
    "plt.ylabel('TPR')\n",
    "plt.show()"
   ]
  }
 ],
 "metadata": {
  "kernelspec": {
   "display_name": "conda_python3",
   "language": "python",
   "name": "conda_python3"
  },
  "language_info": {
   "codemirror_mode": {
    "name": "ipython",
    "version": 3
   },
   "file_extension": ".py",
   "mimetype": "text/x-python",
   "name": "python",
   "nbconvert_exporter": "python",
   "pygments_lexer": "ipython3",
   "version": "3.6.5"
  }
 },
 "nbformat": 4,
 "nbformat_minor": 2
}
