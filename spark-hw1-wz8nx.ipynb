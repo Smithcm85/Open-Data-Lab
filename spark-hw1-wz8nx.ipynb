{
 "cells": [
  {
   "cell_type": "code",
   "execution_count": 1,
   "metadata": {},
   "outputs": [],
   "source": [
    "import pyspark\n",
    "conf = pyspark.SparkConf().setAppName('odl').setMaster('local')\n",
    "sc = pyspark.SparkContext(conf=conf)\n",
    "sqlc = pyspark.sql.SQLContext(sc)"
   ]
  },
  {
   "cell_type": "code",
   "execution_count": 2,
   "metadata": {},
   "outputs": [],
   "source": [
    "import pyspark\n",
    "from os import listdir\n",
    "from os.path import isfile, join\n",
    "import boto3\n",
    "import pandas as pd\n",
    "from sagemaker import get_execution_role\n",
    "from pyspark.sql.types import LongType, StringType, StructField, StructType, BooleanType, ArrayType, IntegerType"
   ]
  },
  {
   "cell_type": "code",
   "execution_count": 3,
   "metadata": {},
   "outputs": [
    {
     "data": {
      "text/plain": [
       "<pyspark.sql.context.SQLContext at 0x7f1890236080>"
      ]
     },
     "execution_count": 3,
     "metadata": {},
     "output_type": "execute_result"
    }
   ],
   "source": [
    "sqlc"
   ]
  },
  {
   "cell_type": "code",
   "execution_count": 4,
   "metadata": {},
   "outputs": [
    {
     "data": {
      "text/html": [
       "<div>\n",
       "<style scoped>\n",
       "    .dataframe tbody tr th:only-of-type {\n",
       "        vertical-align: middle;\n",
       "    }\n",
       "\n",
       "    .dataframe tbody tr th {\n",
       "        vertical-align: top;\n",
       "    }\n",
       "\n",
       "    .dataframe thead th {\n",
       "        text-align: right;\n",
       "    }\n",
       "</style>\n",
       "<table border=\"1\" class=\"dataframe\">\n",
       "  <thead>\n",
       "    <tr style=\"text-align: right;\">\n",
       "      <th></th>\n",
       "      <th>storenum</th>\n",
       "      <th>secs</th>\n",
       "      <th>dayofweek</th>\n",
       "      <th>meal</th>\n",
       "      <th>drinkonly</th>\n",
       "      <th>cost</th>\n",
       "      <th>satisfaction</th>\n",
       "    </tr>\n",
       "  </thead>\n",
       "  <tbody>\n",
       "    <tr>\n",
       "      <th>0</th>\n",
       "      <td>76</td>\n",
       "      <td>119</td>\n",
       "      <td>Tues</td>\n",
       "      <td>Dinner</td>\n",
       "      <td>No</td>\n",
       "      <td>773</td>\n",
       "      <td>8</td>\n",
       "    </tr>\n",
       "    <tr>\n",
       "      <th>1</th>\n",
       "      <td>127</td>\n",
       "      <td>135</td>\n",
       "      <td>Mon</td>\n",
       "      <td>Dinner</td>\n",
       "      <td>Yes</td>\n",
       "      <td>149</td>\n",
       "      <td>6</td>\n",
       "    </tr>\n",
       "    <tr>\n",
       "      <th>2</th>\n",
       "      <td>777</td>\n",
       "      <td>105</td>\n",
       "      <td>Thur</td>\n",
       "      <td>Lunch</td>\n",
       "      <td>No</td>\n",
       "      <td>416</td>\n",
       "      <td>8</td>\n",
       "    </tr>\n",
       "    <tr>\n",
       "      <th>3</th>\n",
       "      <td>445</td>\n",
       "      <td>144</td>\n",
       "      <td>Mon</td>\n",
       "      <td>Lunch</td>\n",
       "      <td>Yes</td>\n",
       "      <td>191</td>\n",
       "      <td>7</td>\n",
       "    </tr>\n",
       "    <tr>\n",
       "      <th>4</th>\n",
       "      <td>493</td>\n",
       "      <td>82</td>\n",
       "      <td>Thur</td>\n",
       "      <td>Breakfast</td>\n",
       "      <td>No</td>\n",
       "      <td>242</td>\n",
       "      <td>6</td>\n",
       "    </tr>\n",
       "    <tr>\n",
       "      <th>5</th>\n",
       "      <td>822</td>\n",
       "      <td>268</td>\n",
       "      <td>Tues</td>\n",
       "      <td>Dinner</td>\n",
       "      <td>Yes</td>\n",
       "      <td>161</td>\n",
       "      <td>6</td>\n",
       "    </tr>\n",
       "    <tr>\n",
       "      <th>6</th>\n",
       "      <td>640</td>\n",
       "      <td>151</td>\n",
       "      <td>Mon</td>\n",
       "      <td>Lunch</td>\n",
       "      <td>No</td>\n",
       "      <td>261</td>\n",
       "      <td>5</td>\n",
       "    </tr>\n",
       "    <tr>\n",
       "      <th>7</th>\n",
       "      <td>365</td>\n",
       "      <td>60</td>\n",
       "      <td>Fri</td>\n",
       "      <td>Lunch</td>\n",
       "      <td>No</td>\n",
       "      <td>265</td>\n",
       "      <td>7</td>\n",
       "    </tr>\n",
       "    <tr>\n",
       "      <th>8</th>\n",
       "      <td>661</td>\n",
       "      <td>175</td>\n",
       "      <td>Wed</td>\n",
       "      <td>Dinner</td>\n",
       "      <td>No</td>\n",
       "      <td>747</td>\n",
       "      <td>6</td>\n",
       "    </tr>\n",
       "    <tr>\n",
       "      <th>9</th>\n",
       "      <td>607</td>\n",
       "      <td>151</td>\n",
       "      <td>Mon</td>\n",
       "      <td>Lunch</td>\n",
       "      <td>No</td>\n",
       "      <td>430</td>\n",
       "      <td>5</td>\n",
       "    </tr>\n",
       "    <tr>\n",
       "      <th>10</th>\n",
       "      <td>496</td>\n",
       "      <td>125</td>\n",
       "      <td>Tues</td>\n",
       "      <td>Dinner</td>\n",
       "      <td>No</td>\n",
       "      <td>728</td>\n",
       "      <td>9</td>\n",
       "    </tr>\n",
       "    <tr>\n",
       "      <th>11</th>\n",
       "      <td>597</td>\n",
       "      <td>368</td>\n",
       "      <td>Mon</td>\n",
       "      <td>Dinner</td>\n",
       "      <td>No</td>\n",
       "      <td>640</td>\n",
       "      <td>7</td>\n",
       "    </tr>\n",
       "    <tr>\n",
       "      <th>12</th>\n",
       "      <td>530</td>\n",
       "      <td>440</td>\n",
       "      <td>Fri</td>\n",
       "      <td>Dinner</td>\n",
       "      <td>No</td>\n",
       "      <td>781</td>\n",
       "      <td>6</td>\n",
       "    </tr>\n",
       "    <tr>\n",
       "      <th>13</th>\n",
       "      <td>639</td>\n",
       "      <td>119</td>\n",
       "      <td>Tues</td>\n",
       "      <td>Dinner</td>\n",
       "      <td>Yes</td>\n",
       "      <td>163</td>\n",
       "      <td>5</td>\n",
       "    </tr>\n",
       "    <tr>\n",
       "      <th>14</th>\n",
       "      <td>830</td>\n",
       "      <td>163</td>\n",
       "      <td>Fri</td>\n",
       "      <td>Lunch</td>\n",
       "      <td>No</td>\n",
       "      <td>314</td>\n",
       "      <td>7</td>\n",
       "    </tr>\n",
       "    <tr>\n",
       "      <th>15</th>\n",
       "      <td>777</td>\n",
       "      <td>205</td>\n",
       "      <td>Fri</td>\n",
       "      <td>Lunch</td>\n",
       "      <td>No</td>\n",
       "      <td>334</td>\n",
       "      <td>7</td>\n",
       "    </tr>\n",
       "    <tr>\n",
       "      <th>16</th>\n",
       "      <td>891</td>\n",
       "      <td>160</td>\n",
       "      <td>Thur</td>\n",
       "      <td>Dinner</td>\n",
       "      <td>No</td>\n",
       "      <td>730</td>\n",
       "      <td>5</td>\n",
       "    </tr>\n",
       "    <tr>\n",
       "      <th>17</th>\n",
       "      <td>664</td>\n",
       "      <td>337</td>\n",
       "      <td>Thur</td>\n",
       "      <td>Breakfast</td>\n",
       "      <td>No</td>\n",
       "      <td>381</td>\n",
       "      <td>5</td>\n",
       "    </tr>\n",
       "    <tr>\n",
       "      <th>18</th>\n",
       "      <td>287</td>\n",
       "      <td>135</td>\n",
       "      <td>Tues</td>\n",
       "      <td>Breakfast</td>\n",
       "      <td>Yes</td>\n",
       "      <td>135</td>\n",
       "      <td>7</td>\n",
       "    </tr>\n",
       "    <tr>\n",
       "      <th>19</th>\n",
       "      <td>6</td>\n",
       "      <td>129</td>\n",
       "      <td>Mon</td>\n",
       "      <td>Dinner</td>\n",
       "      <td>No</td>\n",
       "      <td>734</td>\n",
       "      <td>6</td>\n",
       "    </tr>\n",
       "    <tr>\n",
       "      <th>20</th>\n",
       "      <td>304</td>\n",
       "      <td>220</td>\n",
       "      <td>Thur</td>\n",
       "      <td>Lunch</td>\n",
       "      <td>Yes</td>\n",
       "      <td>155</td>\n",
       "      <td>5</td>\n",
       "    </tr>\n",
       "    <tr>\n",
       "      <th>21</th>\n",
       "      <td>544</td>\n",
       "      <td>129</td>\n",
       "      <td>Mon</td>\n",
       "      <td>Breakfast</td>\n",
       "      <td>No</td>\n",
       "      <td>404</td>\n",
       "      <td>8</td>\n",
       "    </tr>\n",
       "    <tr>\n",
       "      <th>22</th>\n",
       "      <td>239</td>\n",
       "      <td>227</td>\n",
       "      <td>Wed</td>\n",
       "      <td>Lunch</td>\n",
       "      <td>No</td>\n",
       "      <td>228</td>\n",
       "      <td>4</td>\n",
       "    </tr>\n",
       "    <tr>\n",
       "      <th>23</th>\n",
       "      <td>704</td>\n",
       "      <td>231</td>\n",
       "      <td>Mon</td>\n",
       "      <td>Lunch</td>\n",
       "      <td>No</td>\n",
       "      <td>477</td>\n",
       "      <td>6</td>\n",
       "    </tr>\n",
       "    <tr>\n",
       "      <th>24</th>\n",
       "      <td>284</td>\n",
       "      <td>107</td>\n",
       "      <td>Tues</td>\n",
       "      <td>Lunch</td>\n",
       "      <td>No</td>\n",
       "      <td>312</td>\n",
       "      <td>5</td>\n",
       "    </tr>\n",
       "    <tr>\n",
       "      <th>25</th>\n",
       "      <td>210</td>\n",
       "      <td>170</td>\n",
       "      <td>Mon</td>\n",
       "      <td>Lunch</td>\n",
       "      <td>No</td>\n",
       "      <td>301</td>\n",
       "      <td>5</td>\n",
       "    </tr>\n",
       "    <tr>\n",
       "      <th>26</th>\n",
       "      <td>13</td>\n",
       "      <td>171</td>\n",
       "      <td>Fri</td>\n",
       "      <td>Breakfast</td>\n",
       "      <td>No</td>\n",
       "      <td>495</td>\n",
       "      <td>7</td>\n",
       "    </tr>\n",
       "    <tr>\n",
       "      <th>27</th>\n",
       "      <td>513</td>\n",
       "      <td>35</td>\n",
       "      <td>Fri</td>\n",
       "      <td>Lunch</td>\n",
       "      <td>No</td>\n",
       "      <td>591</td>\n",
       "      <td>8</td>\n",
       "    </tr>\n",
       "    <tr>\n",
       "      <th>28</th>\n",
       "      <td>192</td>\n",
       "      <td>192</td>\n",
       "      <td>Tues</td>\n",
       "      <td>Lunch</td>\n",
       "      <td>No</td>\n",
       "      <td>437</td>\n",
       "      <td>7</td>\n",
       "    </tr>\n",
       "    <tr>\n",
       "      <th>29</th>\n",
       "      <td>616</td>\n",
       "      <td>379</td>\n",
       "      <td>Tues</td>\n",
       "      <td>Breakfast</td>\n",
       "      <td>No</td>\n",
       "      <td>393</td>\n",
       "      <td>4</td>\n",
       "    </tr>\n",
       "    <tr>\n",
       "      <th>...</th>\n",
       "      <td>...</td>\n",
       "      <td>...</td>\n",
       "      <td>...</td>\n",
       "      <td>...</td>\n",
       "      <td>...</td>\n",
       "      <td>...</td>\n",
       "      <td>...</td>\n",
       "    </tr>\n",
       "    <tr>\n",
       "      <th>89762</th>\n",
       "      <td>333</td>\n",
       "      <td>88</td>\n",
       "      <td>Fri</td>\n",
       "      <td>Lunch</td>\n",
       "      <td>No</td>\n",
       "      <td>490</td>\n",
       "      <td>8</td>\n",
       "    </tr>\n",
       "    <tr>\n",
       "      <th>89763</th>\n",
       "      <td>725</td>\n",
       "      <td>224</td>\n",
       "      <td>Thur</td>\n",
       "      <td>Dinner</td>\n",
       "      <td>No</td>\n",
       "      <td>825</td>\n",
       "      <td>5</td>\n",
       "    </tr>\n",
       "    <tr>\n",
       "      <th>89764</th>\n",
       "      <td>475</td>\n",
       "      <td>159</td>\n",
       "      <td>Mon</td>\n",
       "      <td>Breakfast</td>\n",
       "      <td>Yes</td>\n",
       "      <td>140</td>\n",
       "      <td>6</td>\n",
       "    </tr>\n",
       "    <tr>\n",
       "      <th>89765</th>\n",
       "      <td>309</td>\n",
       "      <td>145</td>\n",
       "      <td>Mon</td>\n",
       "      <td>Breakfast</td>\n",
       "      <td>Yes</td>\n",
       "      <td>121</td>\n",
       "      <td>5</td>\n",
       "    </tr>\n",
       "    <tr>\n",
       "      <th>89766</th>\n",
       "      <td>509</td>\n",
       "      <td>204</td>\n",
       "      <td>Wed</td>\n",
       "      <td>Dinner</td>\n",
       "      <td>No</td>\n",
       "      <td>387</td>\n",
       "      <td>4</td>\n",
       "    </tr>\n",
       "    <tr>\n",
       "      <th>89767</th>\n",
       "      <td>625</td>\n",
       "      <td>55</td>\n",
       "      <td>Mon</td>\n",
       "      <td>Lunch</td>\n",
       "      <td>No</td>\n",
       "      <td>235</td>\n",
       "      <td>8</td>\n",
       "    </tr>\n",
       "    <tr>\n",
       "      <th>89768</th>\n",
       "      <td>366</td>\n",
       "      <td>572</td>\n",
       "      <td>Fri</td>\n",
       "      <td>Breakfast</td>\n",
       "      <td>Yes</td>\n",
       "      <td>97</td>\n",
       "      <td>6</td>\n",
       "    </tr>\n",
       "    <tr>\n",
       "      <th>89769</th>\n",
       "      <td>672</td>\n",
       "      <td>237</td>\n",
       "      <td>Mon</td>\n",
       "      <td>Lunch</td>\n",
       "      <td>No</td>\n",
       "      <td>288</td>\n",
       "      <td>5</td>\n",
       "    </tr>\n",
       "    <tr>\n",
       "      <th>89770</th>\n",
       "      <td>742</td>\n",
       "      <td>231</td>\n",
       "      <td>Tues</td>\n",
       "      <td>Lunch</td>\n",
       "      <td>No</td>\n",
       "      <td>400</td>\n",
       "      <td>6</td>\n",
       "    </tr>\n",
       "    <tr>\n",
       "      <th>89771</th>\n",
       "      <td>117</td>\n",
       "      <td>251</td>\n",
       "      <td>Mon</td>\n",
       "      <td>Lunch</td>\n",
       "      <td>No</td>\n",
       "      <td>356</td>\n",
       "      <td>5</td>\n",
       "    </tr>\n",
       "    <tr>\n",
       "      <th>89772</th>\n",
       "      <td>638</td>\n",
       "      <td>260</td>\n",
       "      <td>Mon</td>\n",
       "      <td>Lunch</td>\n",
       "      <td>Yes</td>\n",
       "      <td>104</td>\n",
       "      <td>4</td>\n",
       "    </tr>\n",
       "    <tr>\n",
       "      <th>89773</th>\n",
       "      <td>418</td>\n",
       "      <td>321</td>\n",
       "      <td>Fri</td>\n",
       "      <td>Dinner</td>\n",
       "      <td>No</td>\n",
       "      <td>461</td>\n",
       "      <td>8</td>\n",
       "    </tr>\n",
       "    <tr>\n",
       "      <th>89774</th>\n",
       "      <td>519</td>\n",
       "      <td>455</td>\n",
       "      <td>Mon</td>\n",
       "      <td>Breakfast</td>\n",
       "      <td>No</td>\n",
       "      <td>464</td>\n",
       "      <td>7</td>\n",
       "    </tr>\n",
       "    <tr>\n",
       "      <th>89775</th>\n",
       "      <td>55</td>\n",
       "      <td>115</td>\n",
       "      <td>Mon</td>\n",
       "      <td>Dinner</td>\n",
       "      <td>No</td>\n",
       "      <td>522</td>\n",
       "      <td>5</td>\n",
       "    </tr>\n",
       "    <tr>\n",
       "      <th>89776</th>\n",
       "      <td>344</td>\n",
       "      <td>145</td>\n",
       "      <td>Fri</td>\n",
       "      <td>Dinner</td>\n",
       "      <td>No</td>\n",
       "      <td>641</td>\n",
       "      <td>9</td>\n",
       "    </tr>\n",
       "    <tr>\n",
       "      <th>89777</th>\n",
       "      <td>708</td>\n",
       "      <td>461</td>\n",
       "      <td>Tues</td>\n",
       "      <td>Dinner</td>\n",
       "      <td>No</td>\n",
       "      <td>624</td>\n",
       "      <td>7</td>\n",
       "    </tr>\n",
       "    <tr>\n",
       "      <th>89778</th>\n",
       "      <td>746</td>\n",
       "      <td>80</td>\n",
       "      <td>Wed</td>\n",
       "      <td>Breakfast</td>\n",
       "      <td>No</td>\n",
       "      <td>399</td>\n",
       "      <td>10</td>\n",
       "    </tr>\n",
       "    <tr>\n",
       "      <th>89779</th>\n",
       "      <td>547</td>\n",
       "      <td>483</td>\n",
       "      <td>Wed</td>\n",
       "      <td>Lunch</td>\n",
       "      <td>No</td>\n",
       "      <td>456</td>\n",
       "      <td>4</td>\n",
       "    </tr>\n",
       "    <tr>\n",
       "      <th>89780</th>\n",
       "      <td>285</td>\n",
       "      <td>100</td>\n",
       "      <td>Mon</td>\n",
       "      <td>Dinner</td>\n",
       "      <td>No</td>\n",
       "      <td>525</td>\n",
       "      <td>6</td>\n",
       "    </tr>\n",
       "    <tr>\n",
       "      <th>89781</th>\n",
       "      <td>795</td>\n",
       "      <td>130</td>\n",
       "      <td>Mon</td>\n",
       "      <td>Breakfast</td>\n",
       "      <td>No</td>\n",
       "      <td>454</td>\n",
       "      <td>7</td>\n",
       "    </tr>\n",
       "    <tr>\n",
       "      <th>89782</th>\n",
       "      <td>768</td>\n",
       "      <td>393</td>\n",
       "      <td>Tues</td>\n",
       "      <td>Lunch</td>\n",
       "      <td>No</td>\n",
       "      <td>547</td>\n",
       "      <td>3</td>\n",
       "    </tr>\n",
       "    <tr>\n",
       "      <th>89783</th>\n",
       "      <td>395</td>\n",
       "      <td>470</td>\n",
       "      <td>Fri</td>\n",
       "      <td>Breakfast</td>\n",
       "      <td>No</td>\n",
       "      <td>411</td>\n",
       "      <td>5</td>\n",
       "    </tr>\n",
       "    <tr>\n",
       "      <th>89784</th>\n",
       "      <td>10</td>\n",
       "      <td>100</td>\n",
       "      <td>Mon</td>\n",
       "      <td>Breakfast</td>\n",
       "      <td>Yes</td>\n",
       "      <td>153</td>\n",
       "      <td>8</td>\n",
       "    </tr>\n",
       "    <tr>\n",
       "      <th>89785</th>\n",
       "      <td>9</td>\n",
       "      <td>238</td>\n",
       "      <td>Tues</td>\n",
       "      <td>Dinner</td>\n",
       "      <td>No</td>\n",
       "      <td>662</td>\n",
       "      <td>7</td>\n",
       "    </tr>\n",
       "    <tr>\n",
       "      <th>89786</th>\n",
       "      <td>128</td>\n",
       "      <td>133</td>\n",
       "      <td>Fri</td>\n",
       "      <td>Lunch</td>\n",
       "      <td>No</td>\n",
       "      <td>328</td>\n",
       "      <td>6</td>\n",
       "    </tr>\n",
       "    <tr>\n",
       "      <th>89787</th>\n",
       "      <td>865</td>\n",
       "      <td>130</td>\n",
       "      <td>Mon</td>\n",
       "      <td>Dinner</td>\n",
       "      <td>No</td>\n",
       "      <td>682</td>\n",
       "      <td>8</td>\n",
       "    </tr>\n",
       "    <tr>\n",
       "      <th>89788</th>\n",
       "      <td>420</td>\n",
       "      <td>71</td>\n",
       "      <td>Tues</td>\n",
       "      <td>Lunch</td>\n",
       "      <td>No</td>\n",
       "      <td>497</td>\n",
       "      <td>6</td>\n",
       "    </tr>\n",
       "    <tr>\n",
       "      <th>89789</th>\n",
       "      <td>827</td>\n",
       "      <td>35</td>\n",
       "      <td>Mon</td>\n",
       "      <td>Lunch</td>\n",
       "      <td>Yes</td>\n",
       "      <td>157</td>\n",
       "      <td>6</td>\n",
       "    </tr>\n",
       "    <tr>\n",
       "      <th>89790</th>\n",
       "      <td>554</td>\n",
       "      <td>165</td>\n",
       "      <td>Fri</td>\n",
       "      <td>Lunch</td>\n",
       "      <td>No</td>\n",
       "      <td>310</td>\n",
       "      <td>6</td>\n",
       "    </tr>\n",
       "    <tr>\n",
       "      <th>89791</th>\n",
       "      <td>876</td>\n",
       "      <td>46</td>\n",
       "      <td>Tues</td>\n",
       "      <td>Lunch</td>\n",
       "      <td>No</td>\n",
       "      <td>586</td>\n",
       "      <td>8</td>\n",
       "    </tr>\n",
       "  </tbody>\n",
       "</table>\n",
       "<p>89792 rows × 7 columns</p>\n",
       "</div>"
      ],
      "text/plain": [
       "       storenum  secs dayofweek       meal drinkonly  cost  satisfaction\n",
       "0            76   119      Tues     Dinner        No   773             8\n",
       "1           127   135       Mon     Dinner       Yes   149             6\n",
       "2           777   105      Thur      Lunch        No   416             8\n",
       "3           445   144       Mon      Lunch       Yes   191             7\n",
       "4           493    82      Thur  Breakfast        No   242             6\n",
       "5           822   268      Tues     Dinner       Yes   161             6\n",
       "6           640   151       Mon      Lunch        No   261             5\n",
       "7           365    60       Fri      Lunch        No   265             7\n",
       "8           661   175       Wed     Dinner        No   747             6\n",
       "9           607   151       Mon      Lunch        No   430             5\n",
       "10          496   125      Tues     Dinner        No   728             9\n",
       "11          597   368       Mon     Dinner        No   640             7\n",
       "12          530   440       Fri     Dinner        No   781             6\n",
       "13          639   119      Tues     Dinner       Yes   163             5\n",
       "14          830   163       Fri      Lunch        No   314             7\n",
       "15          777   205       Fri      Lunch        No   334             7\n",
       "16          891   160      Thur     Dinner        No   730             5\n",
       "17          664   337      Thur  Breakfast        No   381             5\n",
       "18          287   135      Tues  Breakfast       Yes   135             7\n",
       "19            6   129       Mon     Dinner        No   734             6\n",
       "20          304   220      Thur      Lunch       Yes   155             5\n",
       "21          544   129       Mon  Breakfast        No   404             8\n",
       "22          239   227       Wed      Lunch        No   228             4\n",
       "23          704   231       Mon      Lunch        No   477             6\n",
       "24          284   107      Tues      Lunch        No   312             5\n",
       "25          210   170       Mon      Lunch        No   301             5\n",
       "26           13   171       Fri  Breakfast        No   495             7\n",
       "27          513    35       Fri      Lunch        No   591             8\n",
       "28          192   192      Tues      Lunch        No   437             7\n",
       "29          616   379      Tues  Breakfast        No   393             4\n",
       "...         ...   ...       ...        ...       ...   ...           ...\n",
       "89762       333    88       Fri      Lunch        No   490             8\n",
       "89763       725   224      Thur     Dinner        No   825             5\n",
       "89764       475   159       Mon  Breakfast       Yes   140             6\n",
       "89765       309   145       Mon  Breakfast       Yes   121             5\n",
       "89766       509   204       Wed     Dinner        No   387             4\n",
       "89767       625    55       Mon      Lunch        No   235             8\n",
       "89768       366   572       Fri  Breakfast       Yes    97             6\n",
       "89769       672   237       Mon      Lunch        No   288             5\n",
       "89770       742   231      Tues      Lunch        No   400             6\n",
       "89771       117   251       Mon      Lunch        No   356             5\n",
       "89772       638   260       Mon      Lunch       Yes   104             4\n",
       "89773       418   321       Fri     Dinner        No   461             8\n",
       "89774       519   455       Mon  Breakfast        No   464             7\n",
       "89775        55   115       Mon     Dinner        No   522             5\n",
       "89776       344   145       Fri     Dinner        No   641             9\n",
       "89777       708   461      Tues     Dinner        No   624             7\n",
       "89778       746    80       Wed  Breakfast        No   399            10\n",
       "89779       547   483       Wed      Lunch        No   456             4\n",
       "89780       285   100       Mon     Dinner        No   525             6\n",
       "89781       795   130       Mon  Breakfast        No   454             7\n",
       "89782       768   393      Tues      Lunch        No   547             3\n",
       "89783       395   470       Fri  Breakfast        No   411             5\n",
       "89784        10   100       Mon  Breakfast       Yes   153             8\n",
       "89785         9   238      Tues     Dinner        No   662             7\n",
       "89786       128   133       Fri      Lunch        No   328             6\n",
       "89787       865   130       Mon     Dinner        No   682             8\n",
       "89788       420    71      Tues      Lunch        No   497             6\n",
       "89789       827    35       Mon      Lunch       Yes   157             6\n",
       "89790       554   165       Fri      Lunch        No   310             6\n",
       "89791       876    46      Tues      Lunch        No   586             8\n",
       "\n",
       "[89792 rows x 7 columns]"
      ]
     },
     "execution_count": 4,
     "metadata": {},
     "output_type": "execute_result"
    }
   ],
   "source": [
    "role = get_execution_role()\n",
    "bucket='odl-spark19spds6003-001'\n",
    "data_key = 'wz8nx/fastfood.csv'\n",
    "data_location = 's3://{}/{}'.format(bucket, data_key)\n",
    "pd.read_csv(data_location)"
   ]
  },
  {
   "cell_type": "code",
   "execution_count": 5,
   "metadata": {},
   "outputs": [],
   "source": [
    "df = sqlc.createDataFrame(pd.read_csv(data_location))"
   ]
  },
  {
   "cell_type": "code",
   "execution_count": 6,
   "metadata": {},
   "outputs": [
    {
     "data": {
      "text/plain": [
       "DataFrame[storenum: bigint, secs: bigint, dayofweek: string, meal: string, drinkonly: string, cost: bigint, satisfaction: bigint]"
      ]
     },
     "execution_count": 6,
     "metadata": {},
     "output_type": "execute_result"
    }
   ],
   "source": [
    "df"
   ]
  },
  {
   "cell_type": "code",
   "execution_count": 8,
   "metadata": {},
   "outputs": [],
   "source": [
    "parquetPath = '/home/ec2-user/SageMaker/wz8nx-pqt'\n",
    "df.write.parquet(parquetPath)"
   ]
  },
  {
   "cell_type": "code",
   "execution_count": 9,
   "metadata": {},
   "outputs": [],
   "source": [
    "# prep list of files to transfer\n",
    "files = [f for f in listdir(parquetPath) if isfile(join(parquetPath, f))]\n",
    "\n",
    "s3 = boto3.resource('s3')\n",
    "for f in files:\n",
    "    s3.Bucket(bucket).upload_file(parquetPath+'/'+f, \"wz8nx/wz8nx-pqt/\"+f)"
   ]
  },
  {
   "cell_type": "code",
   "execution_count": 10,
   "metadata": {},
   "outputs": [],
   "source": [
    "df = sqlc.read.parquet(parquetPath)"
   ]
  },
  {
   "cell_type": "code",
   "execution_count": 11,
   "metadata": {},
   "outputs": [
    {
     "data": {
      "text/plain": [
       "DataFrame[storenum: bigint, secs: bigint, dayofweek: string, meal: string, drinkonly: string, cost: bigint, satisfaction: bigint]"
      ]
     },
     "execution_count": 11,
     "metadata": {},
     "output_type": "execute_result"
    }
   ],
   "source": [
    "df"
   ]
  },
  {
   "cell_type": "code",
   "execution_count": 12,
   "metadata": {},
   "outputs": [],
   "source": [
    "# setup dataframe\n",
    "bucket = 'odl-spark19spds6003-001'\n",
    "data_key = 'wz8nx/fastfood.csv'\n",
    "data_location = 's3://{}/{}'.format(bucket, data_key)\n",
    "pddf = pd.read_csv(data_location)"
   ]
  },
  {
   "cell_type": "code",
   "execution_count": 13,
   "metadata": {},
   "outputs": [],
   "source": [
    "pddf = pddf.dropna()"
   ]
  },
  {
   "cell_type": "code",
   "execution_count": 14,
   "metadata": {},
   "outputs": [],
   "source": [
    "df = sqlc.createDataFrame(pddf)"
   ]
  },
  {
   "cell_type": "code",
   "execution_count": 15,
   "metadata": {},
   "outputs": [
    {
     "data": {
      "text/plain": [
       "DataFrame[storenum: bigint, secs: bigint, dayofweek: string, meal: string, drinkonly: string, cost: bigint, satisfaction: bigint]"
      ]
     },
     "metadata": {},
     "output_type": "display_data"
    }
   ],
   "source": [
    "display(df)"
   ]
  },
  {
   "cell_type": "code",
   "execution_count": 16,
   "metadata": {},
   "outputs": [
    {
     "name": "stdout",
     "output_type": "stream",
     "text": [
      "root\n",
      " |-- storenum: long (nullable = true)\n",
      " |-- secs: long (nullable = true)\n",
      " |-- dayofweek: string (nullable = true)\n",
      " |-- meal: string (nullable = true)\n",
      " |-- drinkonly: string (nullable = true)\n",
      " |-- cost: long (nullable = true)\n",
      " |-- satisfaction: long (nullable = true)\n",
      "\n"
     ]
    }
   ],
   "source": [
    "df.printSchema()"
   ]
  },
  {
   "cell_type": "code",
   "execution_count": 17,
   "metadata": {},
   "outputs": [
    {
     "data": {
      "text/plain": [
       "[Row(storenum=76, secs=119, dayofweek='Tues', meal='Dinner', drinkonly='No', cost=773, satisfaction=8),\n",
       " Row(storenum=127, secs=135, dayofweek='Mon', meal='Dinner', drinkonly='Yes', cost=149, satisfaction=6),\n",
       " Row(storenum=777, secs=105, dayofweek='Thur', meal='Lunch', drinkonly='No', cost=416, satisfaction=8),\n",
       " Row(storenum=445, secs=144, dayofweek='Mon', meal='Lunch', drinkonly='Yes', cost=191, satisfaction=7),\n",
       " Row(storenum=493, secs=82, dayofweek='Thur', meal='Breakfast', drinkonly='No', cost=242, satisfaction=6)]"
      ]
     },
     "execution_count": 17,
     "metadata": {},
     "output_type": "execute_result"
    }
   ],
   "source": [
    "df.take(5)"
   ]
  },
  {
   "cell_type": "code",
   "execution_count": 18,
   "metadata": {},
   "outputs": [
    {
     "name": "stdout",
     "output_type": "stream",
     "text": [
      "Pearson's r(cost,satisfaction) = 0.23782059836118996\n",
      "Pearson's r(secs,satisfaction) = -0.5014401859166516\n",
      "Pearson's r(storenum,satisfaction) = 0.0018368387413620413\n"
     ]
    }
   ],
   "source": [
    "print(\"Pearson's r(cost,satisfaction) = {}\".format(df.corr(\"cost\", \"satisfaction\")))\n",
    "print(\"Pearson's r(secs,satisfaction) = {}\".format(df.corr(\"secs\", \"satisfaction\")))\n",
    "print(\"Pearson's r(storenum,satisfaction) = {}\".format(df.corr(\"storenum\", \"satisfaction\")))"
   ]
  },
  {
   "cell_type": "code",
   "execution_count": 19,
   "metadata": {},
   "outputs": [],
   "source": [
    "from pyspark.sql.functions import log\n",
    "from pyspark.sql.functions import col"
   ]
  },
  {
   "cell_type": "code",
   "execution_count": 20,
   "metadata": {},
   "outputs": [
    {
     "name": "stdout",
     "output_type": "stream",
     "text": [
      "root\n",
      " |-- storenum: long (nullable = true)\n",
      " |-- secs: long (nullable = true)\n",
      " |-- dayofweek: string (nullable = true)\n",
      " |-- meal: string (nullable = true)\n",
      " |-- drinkonly: string (nullable = true)\n",
      " |-- cost: long (nullable = true)\n",
      " |-- satisfaction: long (nullable = true)\n",
      " |-- logC: double (nullable = true)\n",
      "\n"
     ]
    }
   ],
   "source": [
    "df = df.withColumn('logC', log(\"cost\"))\n",
    "df.printSchema()"
   ]
  },
  {
   "cell_type": "code",
   "execution_count": 21,
   "metadata": {},
   "outputs": [
    {
     "data": {
      "text/plain": [
       "DataFrame[storenum: bigint, secs: bigint, dayofweek: string, meal: string, drinkonly: string, satisfaction: bigint, logC: double]"
      ]
     },
     "execution_count": 21,
     "metadata": {},
     "output_type": "execute_result"
    }
   ],
   "source": [
    "df.drop(\"cost\")"
   ]
  },
  {
   "cell_type": "code",
   "execution_count": 22,
   "metadata": {},
   "outputs": [
    {
     "name": "stdout",
     "output_type": "stream",
     "text": [
      "training set N = 71815, test set N = 17977\n"
     ]
    }
   ],
   "source": [
    "# create train/test sets\n",
    "seed = 42\n",
    "(testDF, trainingDF) = df.randomSplit((0.20, 0.80), seed=seed)\n",
    "print ('training set N = {}, test set N = {}'.format(trainingDF.count(),testDF.count()))"
   ]
  },
  {
   "cell_type": "code",
   "execution_count": 23,
   "metadata": {},
   "outputs": [],
   "source": [
    "from pyspark.ml.linalg import Vectors, VectorUDT"
   ]
  },
  {
   "cell_type": "code",
   "execution_count": 24,
   "metadata": {},
   "outputs": [
    {
     "name": "stdout",
     "output_type": "stream",
     "text": [
      "DataFrame[logC: double, satisfaction: vector]\n"
     ]
    }
   ],
   "source": [
    "# make a user defined function (udf)\n",
    "sqlc.registerFunction(\"oneElementVec\", lambda d: Vectors.dense([d]), returnType=VectorUDT())\n",
    "\n",
    "# vectorize the data frames\n",
    "trainingDF = trainingDF.selectExpr(\"logC\", \"oneElementVec(satisfaction) as satisfaction\")\n",
    "testDF = testDF.selectExpr(\"logC\", \"oneElementVec(satisfaction) as satisfaction\")\n",
    "\n",
    "print(testDF.orderBy(testDF.logC.desc()).limit(5))"
   ]
  },
  {
   "cell_type": "code",
   "execution_count": 25,
   "metadata": {},
   "outputs": [],
   "source": [
    "# rename to make ML engine happy\n",
    "trainingDF = trainingDF.withColumnRenamed(\"logC\", \"label\").withColumnRenamed(\"satisfaction\", \"features\")\n",
    "testDF = testDF.withColumnRenamed(\"logC\", \"label\").withColumnRenamed(\"satisfaction\", \"features\")"
   ]
  },
  {
   "cell_type": "code",
   "execution_count": 26,
   "metadata": {},
   "outputs": [],
   "source": [
    "from pyspark.ml.regression import LinearRegression, LinearRegressionModel\n",
    "\n",
    "lr = LinearRegression()\n",
    "lrModel = lr.fit(trainingDF)"
   ]
  },
  {
   "cell_type": "code",
   "execution_count": 27,
   "metadata": {},
   "outputs": [
    {
     "data": {
      "text/plain": [
       "pyspark.ml.regression.LinearRegressionModel"
      ]
     },
     "execution_count": 27,
     "metadata": {},
     "output_type": "execute_result"
    }
   ],
   "source": [
    "type(lrModel)"
   ]
  },
  {
   "cell_type": "code",
   "execution_count": 28,
   "metadata": {},
   "outputs": [
    {
     "name": "stdout",
     "output_type": "stream",
     "text": [
      "[Row(label=6.720220155135295, features=DenseVector([5.0]), prediction=5.8090196662484415), Row(label=6.720220155135295, features=DenseVector([9.0]), prediction=6.130465643386769), Row(label=6.720220155135295, features=DenseVector([8.0]), prediction=6.050104149102188), Row(label=6.720220155135295, features=DenseVector([6.0]), prediction=5.8893811605330235), Row(label=6.720220155135295, features=DenseVector([7.0]), prediction=5.969742654817606)]\n"
     ]
    }
   ],
   "source": [
    "predictionsAndLabelsDF = lrModel.transform(testDF)\n",
    "\n",
    "print(predictionsAndLabelsDF.orderBy(predictionsAndLabelsDF.label.desc()).take(5))"
   ]
  },
  {
   "cell_type": "code",
   "execution_count": 29,
   "metadata": {},
   "outputs": [
    {
     "name": "stdout",
     "output_type": "stream",
     "text": [
      "labelCol: label column name. (default: label)\n",
      "metricName: metric name in evaluation - one of:\n",
      "                       rmse - root mean squared error (default)\n",
      "                       mse - mean squared error\n",
      "                       r2 - r^2 metric\n",
      "                       mae - mean absolute error. (default: rmse)\n",
      "predictionCol: prediction column name. (default: prediction)\n"
     ]
    }
   ],
   "source": [
    "from pyspark.ml.evaluation import RegressionEvaluator\n",
    "eval = RegressionEvaluator()\n",
    "print(eval.explainParams())"
   ]
  },
  {
   "cell_type": "code",
   "execution_count": 30,
   "metadata": {},
   "outputs": [
    {
     "data": {
      "text/plain": [
       "pyspark.ml.evaluation.RegressionEvaluator"
      ]
     },
     "execution_count": 30,
     "metadata": {},
     "output_type": "execute_result"
    }
   ],
   "source": [
    "type(eval)"
   ]
  },
  {
   "cell_type": "code",
   "execution_count": 31,
   "metadata": {},
   "outputs": [
    {
     "data": {
      "text/plain": [
       "0.5061632997230543"
      ]
     },
     "execution_count": 31,
     "metadata": {},
     "output_type": "execute_result"
    }
   ],
   "source": [
    "eval.setMetricName(\"rmse\").evaluate(predictionsAndLabelsDF)"
   ]
  },
  {
   "cell_type": "code",
   "execution_count": 32,
   "metadata": {},
   "outputs": [
    {
     "data": {
      "text/plain": [
       "0.05069701369066526"
      ]
     },
     "execution_count": 32,
     "metadata": {},
     "output_type": "execute_result"
    }
   ],
   "source": [
    "eval.setMetricName(\"r2\").evaluate(predictionsAndLabelsDF)"
   ]
  },
  {
   "cell_type": "code",
   "execution_count": 33,
   "metadata": {},
   "outputs": [],
   "source": [
    "import plotly.plotly as py\n",
    "import plotly.graph_objs as go\n",
    "import pandas as pd\n",
    "import requests\n",
    "import matplotlib.pyplot as plt"
   ]
  },
  {
   "cell_type": "code",
   "execution_count": 34,
   "metadata": {},
   "outputs": [],
   "source": [
    "x = df.toPandas()['logC']\n",
    "y = df.toPandas()['satisfaction']"
   ]
  },
  {
   "cell_type": "code",
   "execution_count": 35,
   "metadata": {},
   "outputs": [
    {
     "data": {
      "text/plain": [
       "Text(0.5,1,'Distribution of Satisfaction')"
      ]
     },
     "execution_count": 35,
     "metadata": {},
     "output_type": "execute_result"
    },
    {
     "data": {
      "image/png": "[encoded data removed]",
      "text/plain": [
       "<Figure size 720x432 with 1 Axes>"
      ]
     },
     "metadata": {},
     "output_type": "display_data"
    }
   ],
   "source": [
    "import seaborn as sns\n",
    "plt.figure(figsize=(10,6))\n",
    "rewviews = sns.kdeplot(y, color=\"Red\", shade = True)\n",
    "rewviews.set_xlabel(\"Satisfaction\")\n",
    "rewviews.set_ylabel(\"Frequency\")\n",
    "plt.title('Distribution of Satisfaction',size = 20)"
   ]
  },
  {
   "cell_type": "code",
   "execution_count": 36,
   "metadata": {},
   "outputs": [
    {
     "data": {
      "text/plain": [
       "Text(0.5,1,'Distribution of Log of Cost')"
      ]
     },
     "execution_count": 36,
     "metadata": {},
     "output_type": "execute_result"
    },
    {
     "data": {
      "image/png": "[encoded data removed]",
      "text/plain": [
       "<Figure size 720x432 with 1 Axes>"
      ]
     },
     "metadata": {},
     "output_type": "display_data"
    }
   ],
   "source": [
    "plt.figure(figsize=(10,6))\n",
    "rewviews = sns.kdeplot(x, color=\"green\", shade = True)\n",
    "rewviews.set_xlabel(\"Log of Cost\")\n",
    "rewviews.set_ylabel(\"Frequency\")\n",
    "plt.title('Distribution of Log of Cost',size = 20)"
   ]
  },
  {
   "cell_type": "code",
   "execution_count": 62,
   "metadata": {},
   "outputs": [],
   "source": [
    "z = pd.DataFrame(x,y)\n",
    "z = z.reset_index()\n",
    "z.columns = ['logC','satisfaction']"
   ]
  },
  {
   "cell_type": "code",
   "execution_count": 63,
   "metadata": {},
   "outputs": [],
   "source": [
    "import numpy as np\n",
    "result = z.groupby([\"satisfaction\"])['logC'].aggregate(np.mean).reset_index()"
   ]
  },
  {
   "cell_type": "code",
   "execution_count": 65,
   "metadata": {},
   "outputs": [
    {
     "data": {
      "text/plain": [
       "Text(0.5,1,'Log of Cost vs Satisfaction')"
      ]
     },
     "execution_count": 65,
     "metadata": {},
     "output_type": "execute_result"
    },
    {
     "data": {
      "image/png": "[encoded data removed]",
      "text/plain": [
       "<Figure size 720x432 with 1 Axes>"
      ]
     },
     "metadata": {},
     "output_type": "display_data"
    }
   ],
   "source": [
    "plt.figure(figsize = (10,6))\n",
    "sns.regplot(x=\"logC\", y=\"satisfaction\", color = 'Orange',data = z);\n",
    "plt.title('Log of Cost vs Satisfaction',size = 20)"
   ]
  },
  {
   "cell_type": "code",
   "execution_count": null,
   "metadata": {},
   "outputs": [],
   "source": []
  }
 ],
 "metadata": {
  "kernelspec": {
   "display_name": "conda_python3",
   "language": "python",
   "name": "conda_python3"
  },
  "language_info": {
   "codemirror_mode": {
    "name": "ipython",
    "version": 3
   },
   "file_extension": ".py",
   "mimetype": "text/x-python",
   "name": "python",
   "nbconvert_exporter": "python",
   "pygments_lexer": "ipython3",
   "version": "3.6.5"
  }
 },
 "nbformat": 4,
 "nbformat_minor": 2
}
